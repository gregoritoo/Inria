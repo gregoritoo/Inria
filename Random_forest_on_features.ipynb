{
 "cells": [
  {
   "cell_type": "code",
   "execution_count": 37,
   "metadata": {},
   "outputs": [],
   "source": [
    "#load libraries\n",
    "import numpy as np \n",
    "import pandas as pd \n",
    "import os \n",
    "from sklearn.ensemble import RandomForestClassifier\n",
    "from sklearn.model_selection import train_test_split\n",
    "from sklearn.tree import export_graphviz\n",
    "import matplotlib.pyplot as plt \n",
    "from sklearn.metrics import confusion_matrix\n",
    "import seaborn as sn\n",
    "from sklearn.model_selection import GridSearchCV\n",
    "\n"
   ]
  },
  {
   "cell_type": "markdown",
   "metadata": {},
   "source": [
    "Tout d'abord nous créeons un dictionnaire qui contient le nom (ou numéro, ici c'est équivalent) des séries temporelles avec pour clef le numéro de la classe à laquelle elles appartiennent"
   ]
  },
  {
   "cell_type": "code",
   "execution_count": 18,
   "metadata": {},
   "outputs": [],
   "source": [
    "elements = os.listdir(\"../classes\")\n",
    "Mat = {}\n",
    "for element in elements :\n",
    "    if element[0] != \"m\" :\n",
    "        new_mat = []\n",
    "        dirs = os.listdir(\"../classes/\"+element)\n",
    "        for dir in dirs:\n",
    "            if dir[-3 :] == \"png\" and dir[0]!=\"m\":\n",
    "                new_mat.append(int(dir.replace(\".png\",\"\")))\n",
    "        Mat[int(element.replace(\"class_\",\"\"))] = new_mat"
   ]
  },
  {
   "cell_type": "code",
   "execution_count": 19,
   "metadata": {},
   "outputs": [
    {
     "name": "stdout",
     "output_type": "stream",
     "text": [
      "[ 0. 12. 12. 12.]\n"
     ]
    }
   ],
   "source": [
    "#on crée la colonne cible (celle qui contient les classes à prédire)\n",
    "y=np.zeros((1,len(df)))\n",
    "for i in range(len(df)):\n",
    "    for key in Mat: \n",
    "        if(i in Mat[key]): \n",
    "            y[0,i]=key\n",
    "#on affiche les 4 premières valeurs\n",
    "print(y[0,:4])"
   ]
  },
  {
   "cell_type": "code",
   "execution_count": 20,
   "metadata": {},
   "outputs": [],
   "source": [
    "# on test que toute les classes que l'on attend soient présent dans le vecteurs résultats"
   ]
  },
  {
   "cell_type": "code",
   "execution_count": 21,
   "metadata": {},
   "outputs": [
    {
     "name": "stdout",
     "output_type": "stream",
     "text": [
      "Test succesful\n"
     ]
    }
   ],
   "source": [
    "for i in range(19):\n",
    "    try :\n",
    "        assert i in y\n",
    "    except Exception as e :\n",
    "        print(\"Error, i is not in y\")\n",
    "print(\"Test succesful\")"
   ]
  },
  {
   "cell_type": "code",
   "execution_count": 22,
   "metadata": {},
   "outputs": [],
   "source": [
    "#on télécharge le tableau de features précédemment crée\n",
    "df=pd.read_csv(\"features.csv\",index_col=0)"
   ]
  },
  {
   "cell_type": "code",
   "execution_count": 23,
   "metadata": {
    "scrolled": true
   },
   "outputs": [
    {
     "name": "stdout",
     "output_type": "stream",
     "text": [
      "         x__length     x__mean  x__maximum  x__minimum  x__abs_energy  \\\n",
      "count   796.000000  796.000000  796.000000  796.000000     796.000000   \n",
      "mean    682.790201    5.365067    5.619167    4.946878   19699.215620   \n",
      "std     730.748619    1.423111    1.395894    1.473739   22053.232004   \n",
      "min      29.000000    0.318046    0.424157    0.257953      10.468442   \n",
      "25%     153.750000    5.430233    5.793165    4.886084    4401.351410   \n",
      "50%     355.000000    5.829756    6.147063    5.413310    9746.059781   \n",
      "75%     943.000000    6.095680    6.232665    5.778159   26583.729020   \n",
      "max    2826.000000    6.231967    6.295188    6.231472  109752.441906   \n",
      "\n",
      "       x__count_below_mean  \\\n",
      "count           796.000000   \n",
      "mean            310.791457   \n",
      "std             361.444313   \n",
      "min               1.000000   \n",
      "25%              56.000000   \n",
      "50%             149.000000   \n",
      "75%             408.000000   \n",
      "max            1652.000000   \n",
      "\n",
      "       x__augmented_dickey_fuller__attr_\"pvalue\"__autolag_\"AIC\"  \\\n",
      "count                                       7.960000e+02          \n",
      "mean                                        1.265844e-01          \n",
      "std                                         2.659956e-01          \n",
      "min                                         0.000000e+00          \n",
      "25%                                         2.870368e-13          \n",
      "50%                                         2.287283e-04          \n",
      "75%                                         6.993131e-02          \n",
      "max                                         1.000000e+00          \n",
      "\n",
      "       x__number_cwt_peaks__n_15  x__number_peaks__n_30  \\\n",
      "count                 796.000000             796.000000   \n",
      "mean                   24.099246               9.937186   \n",
      "std                    28.806253              11.180894   \n",
      "min                     1.000000               0.000000   \n",
      "25%                     3.000000               1.000000   \n",
      "50%                     8.000000               5.000000   \n",
      "75%                    33.000000              15.000000   \n",
      "max                   161.000000              50.000000   \n",
      "\n",
      "       x__range_count__max_9000000000.0__min_6000000000.0  x__sample_entropy  \\\n",
      "count                                              796.0          796.000000   \n",
      "mean                                                 0.0                 inf   \n",
      "std                                                  0.0                 NaN   \n",
      "min                                                  0.0            0.014863   \n",
      "25%                                                  0.0            0.384739   \n",
      "50%                                                  0.0            0.754981   \n",
      "75%                                                  0.0            1.293197   \n",
      "max                                                  0.0                 inf   \n",
      "\n",
      "       x__first_location_of_minimum  x__first_location_of_maximum  \\\n",
      "count                    796.000000                    796.000000   \n",
      "mean                       0.403243                      0.465461   \n",
      "std                        0.343975                      0.333972   \n",
      "min                        0.000000                      0.000000   \n",
      "25%                        0.049505                      0.150838   \n",
      "50%                        0.351007                      0.444299   \n",
      "75%                        0.702749                      0.793842   \n",
      "max                        0.999045                      0.997950   \n",
      "\n",
      "       x__mean_second_derivative_central   x__median  x__standard_deviation  \\\n",
      "count                         796.000000  796.000000             796.000000   \n",
      "mean                           -0.000537    5.375765               0.162887   \n",
      "std                             0.005172    1.440808               0.254920   \n",
      "min                            -0.051124    0.309660               0.000230   \n",
      "25%                            -0.000114    5.460304               0.024659   \n",
      "50%                            -0.000006    5.842771               0.088071   \n",
      "75%                             0.000026    6.167948               0.247220   \n",
      "max                             0.030224    6.232085               2.494808   \n",
      "\n",
      "       x__sum_values   x__variance  \n",
      "count     796.000000  7.960000e+02  \n",
      "mean     3482.044485  9.143455e-02  \n",
      "std      3859.595017  4.401882e-01  \n",
      "min        26.656430  5.283842e-08  \n",
      "25%       822.448612  6.080820e-04  \n",
      "50%      1731.918815  7.756587e-03  \n",
      "75%      4888.207913  6.111764e-02  \n",
      "max     17611.371312  6.224068e+00  \n"
     ]
    }
   ],
   "source": [
    "#on peut regarder à quoi il ressemble \n",
    "print(df.describe())"
   ]
  },
  {
   "cell_type": "code",
   "execution_count": 61,
   "metadata": {},
   "outputs": [],
   "source": [
    "#on remplace les valeurs infinie par des NAN et on remplace les NAN par les valeurs médianes\n",
    "df= df.replace([np.inf, -np.inf], np.nan)\n",
    "df.fillna(df.median(), inplace=True)\n"
   ]
  },
  {
   "cell_type": "code",
   "execution_count": 34,
   "metadata": {},
   "outputs": [
    {
     "name": "stdout",
     "output_type": "stream",
     "text": [
      "0.0\n",
      "1.0\n",
      "2.0\n",
      "3.0\n",
      "4.0\n",
      "5.0\n",
      "6.0\n",
      "7.000000000000001\n",
      "8.0\n",
      "9.0\n",
      "10.0\n",
      "11.0\n",
      "12.0\n",
      "13.0\n",
      "14.000000000000002\n",
      "15.0\n",
      "16.0\n",
      "17.0\n",
      "18.0\n",
      "19.0\n",
      "20.0\n",
      "21.0\n",
      "22.0\n",
      "23.0\n",
      "24.0\n",
      "25.0\n",
      "26.0\n",
      "27.0\n",
      "28.000000000000004\n",
      "28.999999999999996\n",
      "30.0\n",
      "31.0\n",
      "32.0\n",
      "33.0\n",
      "34.0\n",
      "35.0\n",
      "36.0\n",
      "37.0\n",
      "38.0\n",
      "39.0\n",
      "40.0\n",
      "41.0\n",
      "42.0\n",
      "43.0\n",
      "44.0\n",
      "45.0\n",
      "46.0\n",
      "47.0\n",
      "48.0\n",
      "49.0\n",
      "50.0\n",
      "51.0\n",
      "52.0\n",
      "53.0\n",
      "54.0\n",
      "55.00000000000001\n",
      "56.00000000000001\n",
      "56.99999999999999\n",
      "57.99999999999999\n",
      "59.0\n",
      "60.0\n",
      "61.0\n",
      "62.0\n",
      "63.0\n",
      "64.0\n",
      "65.0\n",
      "66.0\n",
      "67.0\n",
      "68.0\n",
      "69.0\n",
      "70.0\n",
      "71.0\n",
      "72.0\n",
      "73.0\n",
      "74.0\n",
      "75.0\n",
      "76.0\n",
      "77.0\n",
      "78.0\n",
      "79.0\n",
      "80.0\n",
      "81.0\n",
      "82.0\n",
      "83.0\n",
      "84.0\n",
      "85.0\n",
      "86.0\n",
      "87.0\n",
      "88.0\n",
      "89.0\n",
      "90.0\n",
      "91.0\n",
      "92.0\n",
      "93.0\n",
      "94.0\n",
      "95.0\n",
      "96.0\n",
      "97.0\n",
      "98.0\n",
      "99.0\n",
      "Min. model accuracy 53.97489539748954\n",
      "Max. model accuracy 68.20083682008368\n"
     ]
    },
    {
     "data": {
      "image/png": "[encoded data removed]",
      "text/plain": [
       "<Figure size 432x288 with 1 Axes>"
      ]
     },
     "metadata": {
      "needs_background": "light"
     },
     "output_type": "display_data"
    }
   ],
   "source": [
    "# on split les données en données de test et données d'entrainement \n",
    "import sys\n",
    "\n",
    "model_accuracies = []\n",
    "nb_forest = 100\n",
    "for i in range(nb_forest):\n",
    "    print(i/nb_forest*100)\n",
    "    sys.stdout.flush()\n",
    "    X_train, X_test, y_train, y_test = train_test_split(df, y.reshape(-1,1), test_size=0.30)\n",
    "    clf = RandomForestClassifier(min_samples_split=10, random_state=0)\n",
    "    clf.fit(X_train, y_train.reshape(-1,))\n",
    "    score = clf.score(X_test,y_test)\n",
    "    model_accuracies.append(score)\n",
    "    \n",
    "print(\"Min. model accuracy\",min(model_accuracies)*100)\n",
    "print(\"Max. model accuracy\",max(model_accuracies)*100)\n",
    "plt.hist(model_accuracies) \n",
    "plt.show()"
   ]
  },
  {
   "cell_type": "code",
   "execution_count": 35,
   "metadata": {},
   "outputs": [],
   "source": [
    "#create cross validation object\n",
    "cross_validation = StratifiedKFold(n_splits=10)"
   ]
  },
  {
   "cell_type": "code",
   "execution_count": 56,
   "metadata": {},
   "outputs": [
    {
     "name": "stderr",
     "output_type": "stream",
     "text": [
      "/home/gregoryscafarto/.local/lib/python3.8/site-packages/sklearn/model_selection/_split.py:670: UserWarning: The least populated class in y has only 2 members, which is less than n_splits=10.\n",
      "  warnings.warn((\"The least populated class in y has only %d\"\n"
     ]
    },
    {
     "name": "stdout",
     "output_type": "stream",
     "text": [
      "Best score: 0.5790506329113925\n",
      "Best parameters: {'criterion': 'gini', 'max_features': 1, 'min_samples_split': 10, 'n_estimators': 100}\n"
     ]
    }
   ],
   "source": [
    "#Grid Search\n",
    "parameter_grid = {'n_estimators': [10, 25, 50, 100],\n",
    "                  'criterion': ['gini', 'entropy'],\n",
    "                  'min_samples_split': [2,5,10,8],\n",
    "                  'max_features': [1, 2, 3, 4,5]}\n",
    "\n",
    "cross_validation = StratifiedKFold(n_splits=10)\n",
    "\n",
    "grid_search = GridSearchCV(clf,\n",
    "                           param_grid=parameter_grid,\n",
    "                           cv=cross_validation)\n",
    "\n",
    "grid_search.fit(df, y.reshape(-1,))\n",
    "print('Best score: {}'.format(grid_search.best_score_))\n",
    "print('Best parameters: {}'.format(grid_search.best_params_))\n",
    "\n",
    "best = grid_search.best_estimator_"
   ]
  },
  {
   "cell_type": "code",
   "execution_count": 51,
   "metadata": {},
   "outputs": [
    {
     "data": {
      "image/png": "[encoded data removed]",
      "text/plain": [
       "<Figure size 432x288 with 2 Axes>"
      ]
     },
     "metadata": {
      "needs_background": "light"
     },
     "output_type": "display_data"
    }
   ],
   "source": [
    "grid_visualization = grid_search.cv_results_['mean_test_score']\n",
    "grid_visualization.shape = (5, 8)\n",
    "sn.heatmap(grid_visualization, cmap='Blues', annot=True)\n",
    "plt.xticks(np.arange(4) + 0.5, grid_search.param_grid['min_samples_split'])\n",
    "plt.yticks(np.arange(5) + 0.5, grid_search.param_grid['max_features'])\n",
    "plt.xlabel('max_features')\n",
    "plt.ylabel('min_samples_split') ;"
   ]
  },
  {
   "cell_type": "code",
   "execution_count": 57,
   "metadata": {},
   "outputs": [
    {
     "data": {
      "image/png": "[encoded data removed]",
      "text/plain": [
       "<Figure size 432x288 with 1 Axes>"
      ]
     },
     "metadata": {
      "needs_background": "light"
     },
     "output_type": "display_data"
    }
   ],
   "source": [
    "#analyse des features les plus importantes \n",
    "importances = clf.feature_importances_\n",
    "\n",
    "std = np.std([tree.feature_importances_ for tree in clf.estimators_],\n",
    "             axis=0)\n",
    "indices = np.argsort(importances)[::-1]\n",
    "plt.figure()\n",
    "plt.title(\"Feature importances\")\n",
    "plt.bar(range(X_train.shape[1]), importances[indices],\n",
    "        color=\"r\", yerr=std[indices], align=\"center\")\n",
    "plt.xticks(range(X_train.shape[1]), indices)\n",
    "plt.xlim([-1, X_train.shape[1]])\n",
    "plt.show()"
   ]
  },
  {
   "cell_type": "code",
   "execution_count": 58,
   "metadata": {},
   "outputs": [
    {
     "name": "stdout",
     "output_type": "stream",
     "text": [
      "Index(['x__number_cwt_peaks__n_15', 'x__length', 'x__sum_values',\n",
      "       'x__abs_energy', 'x__variance', 'x__count_below_mean',\n",
      "       'x__standard_deviation', 'x__minimum',\n",
      "       'x__augmented_dickey_fuller__attr_\"pvalue\"__autolag_\"AIC\"',\n",
      "       'x__mean_second_derivative_central', 'x__number_peaks__n_30',\n",
      "       'x__maximum', 'x__median', 'x__mean', 'x__sample_entropy',\n",
      "       'x__first_location_of_minimum', 'x__first_location_of_maximum',\n",
      "       'x__range_count__max_9000000000.0__min_6000000000.0'],\n",
      "      dtype='object')\n"
     ]
    }
   ],
   "source": [
    "#on afiiche les features dans l'ordre d'importance \n",
    "print(X_train.columns[indices])"
   ]
  },
  {
   "cell_type": "code",
   "execution_count": 60,
   "metadata": {},
   "outputs": [
    {
     "data": {
      "image/png": "[encoded data removed]",
      "text/plain": [
       "<Figure size 720x504 with 2 Axes>"
      ]
     },
     "metadata": {
      "needs_background": "light"
     },
     "output_type": "display_data"
    }
   ],
   "source": [
    "# matrice de confusion pour analyser ce qui a été mal classé\n",
    "mt = confusion_matrix(y_test, best.predict(X_test))\n",
    "plt.figure(figsize = (10,7))\n",
    "sn.heatmap(mt, annot=True)\n",
    "plt.show()"
   ]
  },
  {
   "cell_type": "code",
   "execution_count": null,
   "metadata": {},
   "outputs": [],
   "source": []
  }
 ],
 "metadata": {
  "kernelspec": {
   "display_name": "Python 3",
   "language": "python",
   "name": "python3"
  },
  "language_info": {
   "codemirror_mode": {
    "name": "ipython",
    "version": 3
   },
   "file_extension": ".py",
   "mimetype": "text/x-python",
   "name": "python",
   "nbconvert_exporter": "python",
   "pygments_lexer": "ipython3",
   "version": "3.8.6"
  }
 },
 "nbformat": 4,
 "nbformat_minor": 4
}
