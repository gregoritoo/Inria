{
 "cells": [
  {
   "cell_type": "code",
   "execution_count": 1,
   "metadata": {},
   "outputs": [],
   "source": [
    "# on importe les différentes librairies \n",
    "import numpy as np \n",
    "import tsfresh as ts \n",
    "import pandas as pd \n",
    "from tsfresh import select_features\n",
    "import os \n",
    "from matrixprofile import *\n",
    "import matplotlib.pyplot as plt \n",
    "import shutil"
   ]
  },
  {
   "cell_type": "code",
   "execution_count": 5,
   "metadata": {},
   "outputs": [],
   "source": [
    "# on construie le dictionnaire avec clefs=classes et values = le numéro des images appartenant à cette classe \n",
    "elements = os.listdir(\"../classes\")\n",
    "Mat = {}\n",
    "for element in elements :\n",
    "    new_mat = []\n",
    "    dirs = os.listdir(\"../classes/\"+element)\n",
    "    for dir in dirs :\n",
    "        if dir[-3 :] == \"png\" :\n",
    "            try :\n",
    "                new_mat.append(int(dir.replace(\".png\",\"\")))\n",
    "            except Exception as e :\n",
    "                pass \n",
    "    Mat[int(element.replace(\"class_\",\"\"))] = new_mat\n"
   ]
  },
  {
   "cell_type": "code",
   "execution_count": 31,
   "metadata": {},
   "outputs": [
    {
     "name": "stdout",
     "output_type": "stream",
     "text": [
      "Test succesfull\n"
     ]
    }
   ],
   "source": [
    "# on teste qu'il n'y a pas de classe supérieur à 18 ou inférieur à 0 ni d'élément non entier à l'intérieur du dictionnaire\n",
    "keys = [element for element in Mat.keys()]\n",
    "values = [element for element in Mat.values()][0]\n",
    "try :\n",
    "    assert np.max(keys) < 19\n",
    "    assert np.min(keys) > 0\n",
    "    assert all(isinstance(x, int) for x in values)== True\n",
    "except Exception as e :\n",
    "    print(\"Test failed\")\n",
    "    raise e \n",
    "print(\"Test succesfull\")"
   ]
  },
  {
   "cell_type": "code",
   "execution_count": 32,
   "metadata": {},
   "outputs": [],
   "source": [
    "# on construit la fonction qui permet de tracer les dfférents pattern sur le signal (disponible sur le github associé au papier matrix profile)\n",
    "def plot_motifs(mtfs, labels, ax):\n",
    "\n",
    "    colori = 0\n",
    "    colors = 'rgbcm'\n",
    "    for ms,l in zip(mtfs,labels):\n",
    "        c =colors[colori % len(colors)]\n",
    "        starts = list(ms)\n",
    "        ends = [min(s + m,len(x)-1) for s in starts]\n",
    "        ax.plot(starts, x[starts],  c +'o',  label=l)\n",
    "        ax.plot(ends, x[ends],  c +'o', markerfacecolor='none')\n",
    "        for nn in ms:\n",
    "            ax.plot(range(nn,nn+m),x[nn:nn+m], c , linewidth=2)\n",
    "        colori += 1\n",
    "\n",
    "    ax.plot(x, 'k', linewidth=1, label=\"data\")\n",
    "    ax.legend()"
   ]
  },
  {
   "cell_type": "code",
   "execution_count": null,
   "metadata": {},
   "outputs": [],
   "source": [
    "# on superpose les trois signaux à savoir le signal / la matrice profile /les différents pattern obtenus sur le signal\n",
    "\n",
    "for i in range(1,797):\n",
    "    try :\n",
    "        x = np.array(pd.read_csv(str(i)+\".csv\")[\"x\"])\n",
    "        m=50\n",
    "        mp = matrixProfile.stomp(x,m)\n",
    "        mtfs ,motif_d  = motifs.motifs(x, mp, max_motifs=10)\n",
    "        fig, (ax1, ax2,ax3) = plt.subplots(3,1,sharex=True,figsize=(20,10))\n",
    "        ax1.plot(x)\n",
    "        ax1.title.set_text(\"Signal réel\")\n",
    "        ax2.plot(mp[0])\n",
    "        ax2.title.set_text(\"matrix profile\")\n",
    "        plot_motifs(mtfs, [f\"{md:.3f}\" for md in motif_d], ax3)\n",
    "        ax3.title.set_text('Motifs')\n",
    "        plt.savefig(\"matrix_profile_\"+str(i)+\"png.png\", bbox_inches='tight')\n",
    "    except Exception as e :\n",
    "        print(\"Error with \",str(i))"
   ]
  }
 ],
 "metadata": {
  "kernelspec": {
   "display_name": "Python 3",
   "language": "python",
   "name": "python3"
  },
  "language_info": {
   "codemirror_mode": {
    "name": "ipython",
    "version": 3
   },
   "file_extension": ".py",
   "mimetype": "text/x-python",
   "name": "python",
   "nbconvert_exporter": "python",
   "pygments_lexer": "ipython3",
   "version": "3.8.6"
  }
 },
 "nbformat": 4,
 "nbformat_minor": 4
}
