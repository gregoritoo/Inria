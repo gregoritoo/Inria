{
 "cells": [
  {
   "cell_type": "code",
   "execution_count": 1,
   "metadata": {},
   "outputs": [],
   "source": [
    "import numpy as np\n",
    "from GPy_ABCD import *\n",
    "from GPy_ABCD import Models\n",
    "import pandas as pd \n"
   ]
  },
  {
   "cell_type": "code",
   "execution_count": null,
   "metadata": {},
   "outputs": [],
   "source": [
    "Y_train = np.array(pd.read_csv(\"770.csv\")[\"x\"][:]).reshape(-1,1)\n",
    "X_train = np.linspace(0,len(Y_train)-1,len(Y_train)).reshape(-1,1)\n",
    "plt.plot(Y_train)\n",
    "\n",
    "best_mods, all_mods, all_exprs, expanded, not_expanded = Models.modelSearch.explore_model_space(X_train, Y_train)\n",
    "preds = best_mods[0].predict(Y_train)\n",
    "m = best_mods[0]\n",
    "m.model.plot()\n",
    "plt.show()\n",
    "print(m.kernel_expression)\n",
    "print(m.model.kern)\n",
    "print(f'Log-Lik: {m.model.log_likelihood()}')\n",
    "print(m.interpret())"
   ]
  },
  {
   "cell_type": "markdown",
   "metadata": {},
   "source": [
    "Analyse de séries temporelles périodique\n",
    "================================"
   ]
  },
  {
   "cell_type": "markdown",
   "metadata": {},
   "source": [
    "<img src=\"images/testgpy_periodic.png\">"
   ]
  },
  {
   "cell_type": "markdown",
   "metadata": {},
   "source": [
    "<img src=\"images/res_periodicgpy.png\">"
   ]
  },
  {
   "cell_type": "markdown",
   "metadata": {},
   "source": [
    "Analyse de séries temporelles quasi constante\n",
    "========================================"
   ]
  },
  {
   "cell_type": "code",
   "execution_count": null,
   "metadata": {},
   "outputs": [],
   "source": [
    "Y_train = np.ones((140,1)) + 0.01*np.random.normal(size=(140,1))\n",
    "X_train = np.linspace(0,len(Y_train)-1,len(Y_train)).reshape(-1,1)\n",
    "\n",
    "best_mods, all_mods, all_exprs, expanded, not_expanded = Models.modelSearch.explore_model_space(X_train, Y_train)\n",
    "preds = best_mods[0].predict(Y_train)\n",
    "m = best_mods[0]\n",
    "m.model.plot()\n",
    "plt.show()\n",
    "\n",
    "print(m.kernel_expression)\n",
    "print(m.model.kern)\n",
    "print(f'Log-Lik: {m.model.log_likelihood()}')\n",
    "print(m.interpret())\n"
   ]
  },
  {
   "cell_type": "markdown",
   "metadata": {},
   "source": [
    "<img src=\"images/constant_testgpy.png\">"
   ]
  },
  {
   "cell_type": "markdown",
   "metadata": {},
   "source": [
    "<img src=\"images/res_constantgpy.png\">"
   ]
  },
  {
   "cell_type": "markdown",
   "metadata": {},
   "source": [
    "Analyse séries temporelles avec rupture de comportement\n",
    "================================================="
   ]
  },
  {
   "cell_type": "code",
   "execution_count": null,
   "metadata": {},
   "outputs": [],
   "source": [
    "t0 = time.time()\n",
    "Y_train1 = np.ones((70,1)) + 0.01*np.random.normal(size=(70,1))\n",
    "Y_train2 = 5*np.ones((70,1)) + 1*np.random.normal(size=(70,1))\n",
    "Y_train = np.concatenate([Y_train1,Y_train2],axis=0)\n",
    "X_train = np.linspace(0,len(Y_train)-1,len(Y_train)).reshape(-1,1)\n",
    "\n",
    "best_mods, all_mods, all_exprs, expanded, not_expanded = Models.modelSearch.explore_model_space(X_train, Y_train)\n",
    "preds = best_mods[0].predict(Y_train)\n",
    "m = best_mods[0]\n",
    "m.model.plot()\n",
    "plt.show()\n",
    "\n",
    "print(m.kernel_expression)\n",
    "print(m.model.kern)\n",
    "print(f'Log-Lik: {m.model.log_likelihood()}')\n",
    "print(m.interpret())\n",
    "\n",
    "print('time took: {} seconds'.format(time.time()-t0))"
   ]
  },
  {
   "cell_type": "markdown",
   "metadata": {},
   "source": [
    "<img src=\"images/changepoint_testgpy.png\">"
   ]
  },
  {
   "cell_type": "markdown",
   "metadata": {},
   "source": [
    "<img src=\"images/change.png\">"
   ]
  },
  {
   "cell_type": "code",
   "execution_count": null,
   "metadata": {},
   "outputs": [],
   "source": []
  }
 ],
 "metadata": {
  "kernelspec": {
   "display_name": "Python 3",
   "language": "python",
   "name": "python3"
  },
  "language_info": {
   "codemirror_mode": {
    "name": "ipython",
    "version": 3
   },
   "file_extension": ".py",
   "mimetype": "text/x-python",
   "name": "python",
   "nbconvert_exporter": "python",
   "pygments_lexer": "ipython3",
   "version": "3.8.6"
  }
 },
 "nbformat": 4,
 "nbformat_minor": 4
}
