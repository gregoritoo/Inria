{
 "cells": [
  {
   "cell_type": "code",
   "execution_count": null,
   "metadata": {},
   "outputs": [],
   "source": [
    "# importation des librairies\n",
    "import numpy as np \n",
    "import tsfresh as ts \n",
    "import pandas as pd \n",
    "from tsfresh import select_features\n",
    "import os \n",
    "from tsfresh.utilities.dataframe_functions import impute\n",
    "from tsfresh.feature_extraction import ComprehensiveFCParameters\n",
    "from matrixprofile import *\n",
    "import matplotlib.pyplot as plt \n",
    "import shutil"
   ]
  },
  {
   "cell_type": "markdown",
   "metadata": {},
   "source": [
    "On va créer des features à partir des séries temporelles. Pour cela on utilise la librairie tsfresh avec comme features :\n",
    "- la longueur de la série temporelle\n",
    "- la moyenne\n",
    "- la médiane\n",
    "- le max\n",
    "- le min\n",
    "- l'energie du signal en valeur absolu\n",
    "- le nombre de points en dessous de la moyenne\n",
    "- Est ce que le signal est stationnaire (binaire)\n",
    "- Le nombre de pics dans le signal sur une fenêtre de 15 points en utilisant les wavelets pour débruiter \n",
    "- Le nombre de pics sur une fenêtre de 30 points\n",
    "- Le nombre de points compris entre 6*10e8 et 9*10e8\n",
    "- L'entropy du signal (https://en.wikipedia.org/wiki/Sample_entropy)\n",
    "- La localisation du premier max\n",
    "- La localisation du premier min\n",
    "- La moyenne de la dérivée seconde \n",
    "- La somme des points\n",
    "- La variance"
   ]
  },
  {
   "cell_type": "code",
   "execution_count": 3,
   "metadata": {
    "scrolled": true
   },
   "outputs": [
    {
     "name": "stdout",
     "output_type": "stream",
     "text": [
      "            x  time id\n",
      "0    5.697973     0  1\n",
      "1    4.993882     1  1\n",
      "2    4.969108     2  1\n",
      "3    4.980773     3  1\n",
      "4    4.980077     4  1\n",
      "..        ...   ... ..\n",
      "828  5.806936   828  1\n",
      "829  5.815895   829  1\n",
      "830  5.769451   830  1\n",
      "831  5.818023   831  1\n",
      "832  5.801356   832  1\n",
      "\n",
      "[833 rows x 3 columns]\n"
     ]
    },
    {
     "name": "stderr",
     "output_type": "stream",
     "text": [
      "Feature Extraction: 100%|██████████| 1/1 [00:00<00:00,  3.32it/s]"
     ]
    },
    {
     "name": "stdout",
     "output_type": "stream",
     "text": [
      "            x  time id\n",
      "0    6.034584     0  2\n",
      "1    5.598474     1  2\n",
      "2    5.573568     2  2\n",
      "3    5.577649     3  2\n",
      "4    5.565706     4  2\n",
      "..        ...   ... ..\n",
      "828  6.231035   828  2\n",
      "829  6.232492   829  2\n",
      "830  6.232204   830  2\n",
      "831  6.232000   831  2\n",
      "832  6.231082   832  2\n",
      "\n",
      "[833 rows x 3 columns]\n"
     ]
    },
    {
     "name": "stderr",
     "output_type": "stream",
     "text": [
      "\n",
      "Feature Extraction: 100%|██████████| 1/1 [00:00<00:00,  5.76it/s]"
     ]
    },
    {
     "name": "stdout",
     "output_type": "stream",
     "text": [
      "            x  time id\n",
      "0    5.666174     0  3\n",
      "1    5.544060     1  3\n",
      "2    5.528958     2  3\n",
      "3    5.530941     3  3\n",
      "4    5.528948     4  3\n",
      "..        ...   ... ..\n",
      "827  5.820538   827  3\n",
      "828  5.818428   828  3\n",
      "829  5.813035   829  3\n",
      "830  5.824352   830  3\n",
      "831  5.813105   831  3\n",
      "\n",
      "[832 rows x 3 columns]\n"
     ]
    },
    {
     "name": "stderr",
     "output_type": "stream",
     "text": [
      "\n",
      "Feature Extraction: 100%|██████████| 1/1 [00:00<00:00,  7.33it/s]\n"
     ]
    },
    {
     "name": "stdout",
     "output_type": "stream",
     "text": [
      "            x  time id\n",
      "0    5.763155     0  4\n",
      "1    5.663532     1  4\n",
      "2    5.657112     2  4\n",
      "3    5.661652     3  4\n",
      "4    5.660388     4  4\n",
      "..        ...   ... ..\n",
      "827  6.065856   827  4\n",
      "828  6.067908   828  4\n",
      "829  6.037112   829  4\n",
      "830  6.083160   830  4\n",
      "831  6.050585   831  4\n",
      "\n",
      "[832 rows x 3 columns]\n"
     ]
    },
    {
     "name": "stderr",
     "output_type": "stream",
     "text": [
      "Feature Extraction: 100%|██████████| 1/1 [00:00<00:00,  6.03it/s]"
     ]
    },
    {
     "name": "stdout",
     "output_type": "stream",
     "text": [
      "            x  time id\n",
      "0    6.023661     0  5\n",
      "1    5.894403     1  5\n",
      "2    5.859146     2  5\n",
      "3    5.899335     3  5\n",
      "4    5.880644     4  5\n",
      "..        ...   ... ..\n",
      "828  6.084563   828  5\n",
      "829  6.077436   829  5\n",
      "830  6.065083   830  5\n",
      "831  6.091836   831  5\n",
      "832  6.068655   832  5\n",
      "\n",
      "[833 rows x 3 columns]\n"
     ]
    },
    {
     "name": "stderr",
     "output_type": "stream",
     "text": [
      "\n",
      "Feature Extraction: 100%|██████████| 1/1 [00:00<00:00,  6.55it/s]\n"
     ]
    },
    {
     "name": "stdout",
     "output_type": "stream",
     "text": [
      "            x  time id\n",
      "0    6.214407     0  6\n",
      "1    6.176486     1  6\n",
      "2    6.165981     2  6\n",
      "3    6.182198     3  6\n",
      "4    6.174164     4  6\n",
      "..        ...   ... ..\n",
      "828  6.230625   828  6\n",
      "829  6.231386   829  6\n",
      "830  6.230789   830  6\n",
      "831  6.232088   831  6\n",
      "832  6.229323   832  6\n",
      "\n",
      "[833 rows x 3 columns]\n"
     ]
    },
    {
     "name": "stderr",
     "output_type": "stream",
     "text": [
      "Feature Extraction: 100%|██████████| 1/1 [00:00<00:00,  6.63it/s]"
     ]
    },
    {
     "name": "stdout",
     "output_type": "stream",
     "text": [
      "            x  time id\n",
      "0    5.136256     0  7\n",
      "1    5.282239     1  7\n",
      "2    5.286854     2  7\n",
      "3    5.274740     3  7\n",
      "4    5.223794     4  7\n",
      "..        ...   ... ..\n",
      "286  5.462115   286  7\n",
      "287  5.845898   287  7\n",
      "288  5.628388   288  7\n",
      "289  5.688184   289  7\n",
      "290  5.398042   290  7\n",
      "\n",
      "[291 rows x 3 columns]\n"
     ]
    },
    {
     "name": "stderr",
     "output_type": "stream",
     "text": [
      "\n",
      "Feature Extraction: 100%|██████████| 1/1 [00:00<00:00, 32.22it/s]"
     ]
    },
    {
     "name": "stdout",
     "output_type": "stream",
     "text": [
      "            x  time id\n",
      "0    5.180225     0  8\n",
      "1    5.338589     1  8\n",
      "2    5.342816     2  8\n",
      "3    5.317638     3  8\n",
      "4    5.277161     4  8\n",
      "..        ...   ... ..\n",
      "286  5.667710   286  8\n",
      "287  5.910858   287  8\n",
      "288  5.654435   288  8\n",
      "289  5.775010   289  8\n",
      "290  5.681638   290  8\n",
      "\n",
      "[291 rows x 3 columns]\n"
     ]
    },
    {
     "name": "stderr",
     "output_type": "stream",
     "text": [
      "\n",
      "Feature Extraction: 100%|██████████| 1/1 [00:00<00:00, 31.27it/s]"
     ]
    },
    {
     "name": "stdout",
     "output_type": "stream",
     "text": [
      "            x  time id\n",
      "0    5.089786     0  9\n",
      "1    5.249822     1  9\n",
      "2    5.253251     2  9\n",
      "3    5.231251     3  9\n",
      "4    5.195012     4  9\n",
      "..        ...   ... ..\n",
      "286  5.489332   286  9\n",
      "287  5.488889   287  9\n",
      "288  5.642466   288  9\n",
      "289  5.712519   289  9\n",
      "290  5.468307   290  9\n",
      "\n",
      "[291 rows x 3 columns]\n"
     ]
    },
    {
     "name": "stderr",
     "output_type": "stream",
     "text": [
      "\n",
      "Feature Extraction: 100%|██████████| 1/1 [00:00<00:00, 34.99it/s]\n"
     ]
    },
    {
     "name": "stdout",
     "output_type": "stream",
     "text": [
      "            x  time  id\n",
      "0    5.196964     0  10\n",
      "1    5.352651     1  10\n",
      "2    5.370373     2  10\n",
      "3    5.349257     3  10\n",
      "4    5.310793     4  10\n",
      "..        ...   ...  ..\n",
      "286  5.645371   286  10\n",
      "287  5.730873   287  10\n",
      "288  5.727439   288  10\n",
      "289  5.860784   289  10\n",
      "290  5.681672   290  10\n",
      "\n",
      "[291 rows x 3 columns]\n"
     ]
    },
    {
     "name": "stderr",
     "output_type": "stream",
     "text": [
      "Feature Extraction: 100%|██████████| 1/1 [00:00<00:00, 30.21it/s]"
     ]
    },
    {
     "name": "stdout",
     "output_type": "stream",
     "text": [
      "            x  time  id\n",
      "0    5.074881     0  11\n",
      "1    5.234248     1  11\n",
      "2    5.245358     2  11\n",
      "3    5.221449     3  11\n",
      "4    5.194502     4  11\n",
      "..        ...   ...  ..\n",
      "286  5.273077   286  11\n",
      "287  5.675362   287  11\n",
      "288  5.386129   288  11\n",
      "289  5.463268   289  11\n",
      "290  5.480242   290  11\n",
      "\n",
      "[291 rows x 3 columns]\n"
     ]
    },
    {
     "name": "stderr",
     "output_type": "stream",
     "text": [
      "\n",
      "Feature Extraction: 100%|██████████| 1/1 [00:00<00:00, 32.45it/s]"
     ]
    },
    {
     "name": "stdout",
     "output_type": "stream",
     "text": [
      "            x  time  id\n",
      "0    5.353204     0  12\n",
      "1    5.491578     1  12\n",
      "2    5.510624     2  12\n",
      "3    5.487154     3  12\n",
      "4    5.456003     4  12\n",
      "..        ...   ...  ..\n",
      "286  5.696064   286  12\n",
      "287  6.011290   287  12\n",
      "288  5.619886   288  12\n",
      "289  5.833844   289  12\n",
      "290  5.869945   290  12\n",
      "\n",
      "[291 rows x 3 columns]\n"
     ]
    },
    {
     "name": "stderr",
     "output_type": "stream",
     "text": [
      "\n",
      "Feature Extraction: 100%|██████████| 1/1 [00:00<00:00, 30.73it/s]\n"
     ]
    },
    {
     "name": "stdout",
     "output_type": "stream",
     "text": [
      "            x  time  id\n",
      "0    5.156697     0  13\n",
      "1    5.295743     1  13\n",
      "2    5.288198     2  13\n",
      "3    5.289310     3  13\n",
      "4    5.285545     4  13\n",
      "..        ...   ...  ..\n",
      "286  5.030733   286  13\n",
      "287  5.113054   287  13\n",
      "288  5.015307   288  13\n",
      "289  5.099728   289  13\n",
      "290  5.106383   290  13\n",
      "\n",
      "[291 rows x 3 columns]\n"
     ]
    },
    {
     "name": "stderr",
     "output_type": "stream",
     "text": [
      "Feature Extraction: 100%|██████████| 1/1 [00:00<00:00, 29.47it/s]"
     ]
    },
    {
     "name": "stdout",
     "output_type": "stream",
     "text": [
      "            x  time  id\n",
      "0    5.811737     0  14\n",
      "1    5.971682     1  14\n",
      "2    5.959312     2  14\n",
      "3    5.963016     3  14\n",
      "4    5.961842     4  14\n",
      "..        ...   ...  ..\n",
      "286  5.684069   286  14\n",
      "287  5.756591   287  14\n",
      "288  5.684775   288  14\n",
      "289  5.722083   289  14\n",
      "290  5.795591   290  14\n",
      "\n",
      "[291 rows x 3 columns]\n"
     ]
    },
    {
     "name": "stderr",
     "output_type": "stream",
     "text": [
      "\n",
      "Feature Extraction: 100%|██████████| 1/1 [00:00<00:00, 35.26it/s]\n"
     ]
    },
    {
     "name": "stdout",
     "output_type": "stream",
     "text": [
      "            x  time  id\n",
      "0    5.372443     0  15\n",
      "1    5.792212     1  15\n",
      "2    5.491322     2  15\n",
      "3    5.515926     3  15\n",
      "4    5.650606     4  15\n",
      "..        ...   ...  ..\n",
      "287  5.644493   287  15\n",
      "288  5.962498   288  15\n",
      "289  6.104855   289  15\n",
      "290  5.891086   290  15\n",
      "291  6.064855   291  15\n",
      "\n",
      "[292 rows x 3 columns]\n"
     ]
    },
    {
     "name": "stderr",
     "output_type": "stream",
     "text": [
      "Feature Extraction: 100%|██████████| 1/1 [00:00<00:00, 32.89it/s]\n"
     ]
    },
    {
     "name": "stdout",
     "output_type": "stream",
     "text": [
      "            x  time  id\n",
      "0    5.638439     0  16\n",
      "1    5.987526     1  16\n",
      "2    5.845836     2  16\n",
      "3    5.815056     3  16\n",
      "4    5.838575     4  16\n",
      "..        ...   ...  ..\n",
      "287  5.973908   287  16\n",
      "288  6.073669   288  16\n",
      "289  6.139791   289  16\n",
      "290  5.992220   290  16\n",
      "291  6.124478   291  16\n",
      "\n",
      "[292 rows x 3 columns]\n"
     ]
    },
    {
     "name": "stderr",
     "output_type": "stream",
     "text": [
      "Feature Extraction: 100%|██████████| 1/1 [00:00<00:00, 34.52it/s]\n"
     ]
    },
    {
     "name": "stdout",
     "output_type": "stream",
     "text": [
      "            x  time  id\n",
      "0    5.272363     0  17\n",
      "1    5.625427     1  17\n",
      "2    5.379567     2  17\n",
      "3    5.492033     3  17\n",
      "4    5.536605     4  17\n",
      "..        ...   ...  ..\n",
      "287  5.710135   287  17\n",
      "288  5.918769   288  17\n",
      "289  6.059864   289  17\n",
      "290  5.848125   290  17\n",
      "291  5.788257   291  17\n",
      "\n",
      "[292 rows x 3 columns]\n"
     ]
    },
    {
     "name": "stderr",
     "output_type": "stream",
     "text": [
      "Feature Extraction: 100%|██████████| 1/1 [00:00<00:00, 30.94it/s]"
     ]
    },
    {
     "name": "stdout",
     "output_type": "stream",
     "text": [
      "            x  time  id\n",
      "0    5.616691     0  18\n",
      "1    5.864847     1  18\n",
      "2    5.659678     2  18\n",
      "3    5.691973     3  18\n",
      "4    5.746998     4  18\n",
      "..        ...   ...  ..\n",
      "287  5.873694   287  18\n",
      "288  6.082624   288  18\n",
      "289  6.183999   289  18\n",
      "290  6.016249   290  18\n",
      "291  5.953539   291  18\n",
      "\n",
      "[292 rows x 3 columns]\n"
     ]
    },
    {
     "name": "stderr",
     "output_type": "stream",
     "text": [
      "\n",
      "Feature Extraction: 100%|██████████| 1/1 [00:00<00:00, 31.79it/s]"
     ]
    },
    {
     "name": "stdout",
     "output_type": "stream",
     "text": [
      "            x  time  id\n",
      "0    5.381495     0  19\n",
      "1    5.617165     1  19\n",
      "2    5.501548     2  19\n",
      "3    5.559761     3  19\n",
      "4    5.588335     4  19\n",
      "..        ...   ...  ..\n",
      "287  5.677452   287  19\n",
      "288  5.622106   288  19\n",
      "289  5.781946   289  19\n",
      "290  5.532836   290  19\n",
      "291  5.757067   291  19\n",
      "\n",
      "[292 rows x 3 columns]\n"
     ]
    },
    {
     "name": "stderr",
     "output_type": "stream",
     "text": [
      "\n",
      "Feature Extraction: 100%|██████████| 1/1 [00:00<00:00, 29.88it/s]"
     ]
    },
    {
     "name": "stdout",
     "output_type": "stream",
     "text": [
      "            x  time  id\n",
      "0    5.549336     0  20\n",
      "1    5.789371     1  20\n",
      "2    5.670625     2  20\n",
      "3    5.735459     3  20\n",
      "4    5.761208     4  20\n",
      "..        ...   ...  ..\n",
      "287  5.767535   287  20\n",
      "288  5.791774   288  20\n",
      "289  5.956145   289  20\n",
      "290  5.703324   290  20\n",
      "291  5.934285   291  20\n",
      "\n",
      "[292 rows x 3 columns]\n"
     ]
    },
    {
     "name": "stderr",
     "output_type": "stream",
     "text": [
      "\n",
      "Feature Extraction: 100%|██████████| 1/1 [00:00<00:00, 27.70it/s]\n"
     ]
    },
    {
     "name": "stdout",
     "output_type": "stream",
     "text": [
      "            x  time  id\n",
      "0    5.000163     0  21\n",
      "1    4.910354     1  21\n",
      "2    4.934004     2  21\n",
      "3    4.874493     3  21\n",
      "4    5.021802     4  21\n",
      "..        ...   ...  ..\n",
      "992  4.696963   992  21\n",
      "993  4.783943   993  21\n",
      "994  4.697630   994  21\n",
      "995  4.710289   995  21\n",
      "996  5.988571   996  21\n",
      "\n",
      "[997 rows x 3 columns]\n"
     ]
    },
    {
     "name": "stderr",
     "output_type": "stream",
     "text": [
      "Feature Extraction: 100%|██████████| 1/1 [00:00<00:00,  4.96it/s]"
     ]
    },
    {
     "name": "stdout",
     "output_type": "stream",
     "text": [
      "            x  time  id\n",
      "0    5.573224     0  22\n",
      "1    5.596533     1  22\n",
      "2    5.674986     2  22\n",
      "3    5.529301     3  22\n",
      "4    5.702870     4  22\n",
      "..        ...   ...  ..\n",
      "992  5.301185   992  22\n",
      "993  5.404547   993  22\n",
      "994  5.304964   994  22\n",
      "995  5.314380   995  22\n",
      "996  6.102711   996  22\n",
      "\n",
      "[997 rows x 3 columns]\n"
     ]
    },
    {
     "name": "stderr",
     "output_type": "stream",
     "text": [
      "\n",
      "Feature Extraction: 100%|██████████| 1/1 [00:00<00:00,  4.91it/s]"
     ]
    },
    {
     "name": "stdout",
     "output_type": "stream",
     "text": [
      "            x  time  id\n",
      "0    4.929401     0  23\n",
      "1    5.016860     1  23\n",
      "2    4.898826     2  23\n",
      "3    5.076785     3  23\n",
      "4    5.058623     4  23\n",
      "..        ...   ...  ..\n",
      "992  4.468477   992  23\n",
      "993  4.529123   993  23\n",
      "994  4.478850   994  23\n",
      "995  4.482095   995  23\n",
      "996  5.823387   996  23\n",
      "\n",
      "[997 rows x 3 columns]\n"
     ]
    },
    {
     "name": "stderr",
     "output_type": "stream",
     "text": [
      "\n",
      "Feature Extraction: 100%|██████████| 1/1 [00:00<00:00,  4.50it/s]"
     ]
    },
    {
     "name": "stdout",
     "output_type": "stream",
     "text": [
      "            x  time  id\n",
      "0    5.014246     0  24\n",
      "1    5.093552     1  24\n",
      "2    5.096816     2  24\n",
      "3    5.169056     3  24\n",
      "4    5.378896     4  24\n",
      "..        ...   ...  ..\n",
      "992  4.543847   992  24\n",
      "993  4.589782   993  24\n",
      "994  4.534328   994  24\n",
      "995  4.551116   995  24\n",
      "996  5.848772   996  24\n",
      "\n",
      "[997 rows x 3 columns]\n"
     ]
    },
    {
     "name": "stderr",
     "output_type": "stream",
     "text": [
      "\n",
      "Feature Extraction: 100%|██████████| 1/1 [00:00<00:00,  5.54it/s]\n"
     ]
    },
    {
     "name": "stdout",
     "output_type": "stream",
     "text": [
      "            x  time  id\n",
      "0    5.584672     0  25\n",
      "1    5.613128     1  25\n",
      "2    5.611755     2  25\n",
      "3    5.579282     3  25\n",
      "4    5.562060     4  25\n",
      "..        ...   ...  ..\n",
      "617  5.587107   617  25\n",
      "618  5.588734   618  25\n",
      "619  5.592682   619  25\n",
      "620  5.585749   620  25\n",
      "621  5.550370   621  25\n",
      "\n",
      "[622 rows x 3 columns]\n"
     ]
    },
    {
     "name": "stderr",
     "output_type": "stream",
     "text": [
      "Feature Extraction: 100%|██████████| 1/1 [00:00<00:00,  9.10it/s]"
     ]
    },
    {
     "name": "stdout",
     "output_type": "stream",
     "text": [
      "            x  time  id\n",
      "0    6.088147     0  26\n",
      "1    6.091483     1  26\n",
      "2    6.093155     2  26\n",
      "3    6.088513     3  26\n",
      "4    6.091829     4  26\n",
      "..        ...   ...  ..\n",
      "617  6.096037   617  26\n",
      "618  6.095442   618  26\n",
      "619  6.102869   619  26\n",
      "620  6.093468   620  26\n",
      "621  6.075709   621  26\n",
      "\n",
      "[622 rows x 3 columns]\n"
     ]
    },
    {
     "name": "stderr",
     "output_type": "stream",
     "text": [
      "\n",
      "Feature Extraction: 100%|██████████| 1/1 [00:00<00:00,  9.47it/s]"
     ]
    },
    {
     "name": "stdout",
     "output_type": "stream",
     "text": [
      "            x  time  id\n",
      "0    5.133874     0  27\n",
      "1    5.142683     1  27\n",
      "2    5.139263     2  27\n",
      "3    5.143864     3  27\n",
      "4    5.167070     4  27\n",
      "..        ...   ...  ..\n",
      "833  5.189991   833  27\n",
      "834  5.198848   834  27\n",
      "835  5.180261   835  27\n",
      "836  5.182372   836  27\n",
      "837  5.182238   837  27\n",
      "\n",
      "[838 rows x 3 columns]\n"
     ]
    },
    {
     "name": "stderr",
     "output_type": "stream",
     "text": [
      "\n",
      "Feature Extraction: 100%|██████████| 1/1 [00:00<00:00,  7.27it/s]"
     ]
    },
    {
     "name": "stdout",
     "output_type": "stream",
     "text": [
      "            x  time  id\n",
      "0    5.912784     0  28\n",
      "1    5.912245     1  28\n",
      "2    5.892149     2  28\n",
      "3    5.916062     3  28\n",
      "4    5.895774     4  28\n",
      "..        ...   ...  ..\n",
      "833  5.904053   833  28\n",
      "834  5.895809   834  28\n",
      "835  5.905506   835  28\n",
      "836  5.921726   836  28\n",
      "837  5.903850   837  28\n",
      "\n",
      "[838 rows x 3 columns]\n"
     ]
    },
    {
     "name": "stderr",
     "output_type": "stream",
     "text": [
      "\n",
      "Feature Extraction: 100%|██████████| 1/1 [00:00<00:00,  7.02it/s]"
     ]
    },
    {
     "name": "stdout",
     "output_type": "stream",
     "text": [
      "             x  time  id\n",
      "0     4.919268     0  29\n",
      "1     4.946579     1  29\n",
      "2     4.907292     2  29\n",
      "3     4.939641     3  29\n",
      "4     4.941695     4  29\n",
      "...        ...   ...  ..\n",
      "2544  4.866755  2544  29\n",
      "2545  4.850075  2545  29\n",
      "2546  4.871822  2546  29\n",
      "2547  4.876879  2547  29\n",
      "2548  4.841595  2548  29\n",
      "\n",
      "[2549 rows x 3 columns]\n"
     ]
    },
    {
     "name": "stderr",
     "output_type": "stream",
     "text": [
      "\n",
      "Feature Extraction: 100%|██████████| 1/1 [00:00<00:00,  1.92it/s]"
     ]
    },
    {
     "name": "stdout",
     "output_type": "stream",
     "text": [
      "             x  time  id\n",
      "0     5.432910     0  30\n",
      "1     5.538463     1  30\n",
      "2     5.442956     2  30\n",
      "3     5.506428     3  30\n",
      "4     5.530503     4  30\n",
      "...        ...   ...  ..\n",
      "2544  5.247751  2544  30\n",
      "2545  5.162345  2545  30\n",
      "2546  5.236768  2546  30\n",
      "2547  5.292036  2547  30\n",
      "2548  5.142638  2548  30\n",
      "\n",
      "[2549 rows x 3 columns]\n"
     ]
    },
    {
     "name": "stderr",
     "output_type": "stream",
     "text": [
      "\n",
      "Feature Extraction: 100%|██████████| 1/1 [00:00<00:00,  1.90it/s]"
     ]
    },
    {
     "name": "stdout",
     "output_type": "stream",
     "text": [
      "             x  time  id\n",
      "0     5.033554     0  31\n",
      "1     5.071087     1  31\n",
      "2     5.014285     2  31\n",
      "3     5.052977     3  31\n",
      "4     5.065567     4  31\n",
      "...        ...   ...  ..\n",
      "2544  5.000403  2544  31\n",
      "2545  4.989370  2545  31\n",
      "2546  5.006828  2546  31\n",
      "2547  5.008029  2547  31\n",
      "2548  4.984548  2548  31\n",
      "\n",
      "[2549 rows x 3 columns]\n"
     ]
    },
    {
     "name": "stderr",
     "output_type": "stream",
     "text": [
      "\n",
      "Feature Extraction: 100%|██████████| 1/1 [00:00<00:00,  1.65it/s]"
     ]
    },
    {
     "name": "stdout",
     "output_type": "stream",
     "text": [
      "             x  time  id\n",
      "0     5.099754     0  32\n",
      "1     5.102051     1  32\n",
      "2     5.097541     2  32\n",
      "3     5.106952     3  32\n",
      "4     5.110979     4  32\n",
      "...        ...   ...  ..\n",
      "2544  5.012522  2544  32\n",
      "2545  5.006098  2545  32\n",
      "2546  5.017152  2546  32\n",
      "2547  5.021671  2547  32\n",
      "2548  5.001713  2548  32\n",
      "\n",
      "[2549 rows x 3 columns]\n"
     ]
    },
    {
     "name": "stderr",
     "output_type": "stream",
     "text": [
      "\n",
      "Feature Extraction: 100%|██████████| 1/1 [00:00<00:00,  1.84it/s]"
     ]
    },
    {
     "name": "stdout",
     "output_type": "stream",
     "text": [
      "             x  time  id\n",
      "0     6.231845     0  33\n",
      "1     6.232461     1  33\n",
      "2     6.231867     2  33\n",
      "3     6.231919     3  33\n",
      "4     6.231210     4  33\n",
      "...        ...   ...  ..\n",
      "1345  6.232350  1345  33\n",
      "1346  6.231909  1346  33\n",
      "1347  6.231958  1347  33\n",
      "1348  6.231405  1348  33\n",
      "1349  6.232017  1349  33\n",
      "\n",
      "[1350 rows x 3 columns]\n"
     ]
    },
    {
     "name": "stderr",
     "output_type": "stream",
     "text": [
      "\n",
      "Feature Extraction: 100%|██████████| 1/1 [00:00<00:00,  4.13it/s]"
     ]
    },
    {
     "name": "stdout",
     "output_type": "stream",
     "text": [
      "             x  time  id\n",
      "0     6.231824     0  34\n",
      "1     6.232337     1  34\n",
      "2     6.231906     2  34\n",
      "3     6.231885     3  34\n",
      "4     6.231437     4  34\n",
      "...        ...   ...  ..\n",
      "1345  6.232218  1345  34\n",
      "1346  6.231926  1346  34\n",
      "1347  6.232008  1347  34\n",
      "1348  6.231376  1348  34\n",
      "1349  6.231949  1349  34\n",
      "\n",
      "[1350 rows x 3 columns]\n"
     ]
    },
    {
     "name": "stderr",
     "output_type": "stream",
     "text": [
      "\n",
      "Feature Extraction: 100%|██████████| 1/1 [00:00<00:00,  4.20it/s]"
     ]
    },
    {
     "name": "stdout",
     "output_type": "stream",
     "text": [
      "             x  time  id\n",
      "0     6.145262     0  35\n",
      "1     6.149709     1  35\n",
      "2     6.148734     2  35\n",
      "3     6.150441     3  35\n",
      "4     6.149393     4  35\n",
      "...        ...   ...  ..\n",
      "1345  6.165877  1345  35\n",
      "1346  6.152824  1346  35\n",
      "1347  6.152132  1347  35\n",
      "1348  6.167291  1348  35\n",
      "1349  6.153666  1349  35\n",
      "\n",
      "[1350 rows x 3 columns]\n"
     ]
    },
    {
     "name": "stderr",
     "output_type": "stream",
     "text": [
      "\n",
      "Feature Extraction: 100%|██████████| 1/1 [00:00<00:00,  3.95it/s]"
     ]
    },
    {
     "name": "stdout",
     "output_type": "stream",
     "text": [
      "             x  time  id\n",
      "0     6.232204     0  36\n",
      "1     6.231686     1  36\n",
      "2     6.231507     2  36\n",
      "3     6.232184     3  36\n",
      "4     6.231525     4  36\n",
      "...        ...   ...  ..\n",
      "1345  6.231807  1345  36\n",
      "1346  6.231953  1346  36\n",
      "1347  6.232084  1347  36\n",
      "1348  6.231693  1348  36\n",
      "1349  6.231759  1349  36\n",
      "\n",
      "[1350 rows x 3 columns]\n"
     ]
    },
    {
     "name": "stderr",
     "output_type": "stream",
     "text": [
      "\n",
      "Feature Extraction: 100%|██████████| 1/1 [00:00<00:00,  4.21it/s]"
     ]
    },
    {
     "name": "stdout",
     "output_type": "stream",
     "text": [
      "            x  time  id\n",
      "0    6.232992     0  37\n",
      "1    6.231790     1  37\n",
      "2    6.231274     2  37\n",
      "3    6.231457     3  37\n",
      "4    6.231979     4  37\n",
      "..        ...   ...  ..\n",
      "350  6.231452   350  37\n",
      "351  6.232330   351  37\n",
      "352  6.232562   352  37\n",
      "353  6.231063   353  37\n",
      "354  6.231258   354  37\n",
      "\n",
      "[355 rows x 3 columns]\n"
     ]
    },
    {
     "name": "stderr",
     "output_type": "stream",
     "text": [
      "\n",
      "Feature Extraction: 100%|██████████| 1/1 [00:00<00:00, 23.60it/s]"
     ]
    },
    {
     "name": "stdout",
     "output_type": "stream",
     "text": [
      "            x  time  id\n",
      "0    6.232931     0  38\n",
      "1    6.231893     1  38\n",
      "2    6.231209     2  38\n",
      "3    6.231512     3  38\n",
      "4    6.231946     4  38\n",
      "..        ...   ...  ..\n",
      "350  6.231480   350  38\n",
      "351  6.232384   351  38\n",
      "352  6.232453   352  38\n",
      "353  6.231318   353  38\n",
      "354  6.231112   354  38\n",
      "\n",
      "[355 rows x 3 columns]\n"
     ]
    },
    {
     "name": "stderr",
     "output_type": "stream",
     "text": [
      "\n",
      "Feature Extraction: 100%|██████████| 1/1 [00:00<00:00, 20.16it/s]\n"
     ]
    },
    {
     "name": "stdout",
     "output_type": "stream",
     "text": [
      "             x  time  id\n",
      "0     5.319377     0  39\n",
      "1     5.358178     1  39\n",
      "2     5.331529     2  39\n",
      "3     5.344957     3  39\n",
      "4     5.328992     4  39\n",
      "...        ...   ...  ..\n",
      "1791  5.315179  1791  39\n",
      "1792  5.323134  1792  39\n",
      "1793  5.340076  1793  39\n",
      "1794  5.334014  1794  39\n",
      "1795  5.343775  1795  39\n",
      "\n",
      "[1796 rows x 3 columns]\n"
     ]
    },
    {
     "name": "stderr",
     "output_type": "stream",
     "text": [
      "Feature Extraction: 100%|██████████| 1/1 [00:00<00:00,  2.73it/s]"
     ]
    },
    {
     "name": "stdout",
     "output_type": "stream",
     "text": [
      "             x  time  id\n",
      "0     6.220515     0  40\n",
      "1     6.232315     1  40\n",
      "2     6.232140     2  40\n",
      "3     6.231884     3  40\n",
      "4     6.232241     4  40\n",
      "...        ...   ...  ..\n",
      "1791  6.232091  1791  40\n",
      "1792  6.222968  1792  40\n",
      "1793  6.232322  1793  40\n",
      "1794  6.202346  1794  40\n",
      "1795  6.232169  1795  40\n",
      "\n",
      "[1796 rows x 3 columns]\n"
     ]
    },
    {
     "name": "stderr",
     "output_type": "stream",
     "text": [
      "\n",
      "Feature Extraction: 100%|██████████| 1/1 [00:00<00:00,  2.88it/s]"
     ]
    },
    {
     "name": "stdout",
     "output_type": "stream",
     "text": [
      "             x  time  id\n",
      "0     5.199911     0  41\n",
      "1     5.226757     1  41\n",
      "2     5.180920     2  41\n",
      "3     5.199020     3  41\n",
      "4     5.187958     4  41\n",
      "...        ...   ...  ..\n",
      "1635  5.243389  1635  41\n",
      "1636  5.248175  1636  41\n",
      "1637  5.227439  1637  41\n",
      "1638  5.215881  1638  41\n",
      "1639  5.230615  1639  41\n",
      "\n",
      "[1640 rows x 3 columns]\n"
     ]
    },
    {
     "name": "stderr",
     "output_type": "stream",
     "text": [
      "\n",
      "Feature Extraction: 100%|██████████| 1/1 [00:00<00:00,  3.48it/s]"
     ]
    },
    {
     "name": "stdout",
     "output_type": "stream",
     "text": [
      "             x  time  id\n",
      "0     5.940359     0  42\n",
      "1     5.904355     1  42\n",
      "2     5.884553     2  42\n",
      "3     5.948104     3  42\n",
      "4     5.890228     4  42\n",
      "...        ...   ...  ..\n",
      "1635  5.895563  1635  42\n",
      "1636  5.937782  1636  42\n",
      "1637  5.894352  1637  42\n",
      "1638  5.905597  1638  42\n",
      "1639  5.955779  1639  42\n",
      "\n",
      "[1640 rows x 3 columns]\n"
     ]
    },
    {
     "name": "stderr",
     "output_type": "stream",
     "text": [
      "\n",
      "Feature Extraction: 100%|██████████| 1/1 [00:00<00:00,  3.23it/s]"
     ]
    },
    {
     "name": "stdout",
     "output_type": "stream",
     "text": [
      "            x  time  id\n",
      "0    6.222147     0  43\n",
      "1    6.223800     1  43\n",
      "2    6.218693     2  43\n",
      "3    6.233725     3  43\n",
      "4    6.221964     4  43\n",
      "..        ...   ...  ..\n",
      "169  6.217020   169  43\n",
      "170  6.201172   170  43\n",
      "171  6.197236   171  43\n",
      "172  6.214477   172  43\n",
      "173  6.198483   173  43\n",
      "\n",
      "[174 rows x 3 columns]\n"
     ]
    },
    {
     "name": "stderr",
     "output_type": "stream",
     "text": [
      "\n",
      "Feature Extraction: 100%|██████████| 1/1 [00:00<00:00, 49.37it/s]"
     ]
    },
    {
     "name": "stdout",
     "output_type": "stream",
     "text": [
      "            x  time  id\n",
      "0    6.223194     0  44\n",
      "1    6.225674     1  44\n",
      "2    6.219975     2  44\n",
      "3    6.235763     3  44\n",
      "4    6.224904     4  44\n",
      "..        ...   ...  ..\n",
      "170  6.231901   170  44\n",
      "171  6.231442   171  44\n",
      "172  6.232369   172  44\n",
      "173  6.231633   173  44\n",
      "174  6.232340   174  44\n",
      "\n",
      "[175 rows x 3 columns]\n"
     ]
    },
    {
     "name": "stderr",
     "output_type": "stream",
     "text": [
      "\n",
      "Feature Extraction: 100%|██████████| 1/1 [00:00<00:00, 46.84it/s]"
     ]
    },
    {
     "name": "stdout",
     "output_type": "stream",
     "text": [
      "            x  time  id\n",
      "0    6.226143     0  45\n",
      "1    6.228237     1  45\n",
      "2    6.228644     2  45\n",
      "3    6.231525     3  45\n",
      "4    6.225332     4  45\n",
      "..        ...   ...  ..\n",
      "170  6.207442   170  45\n",
      "171  6.212632   171  45\n",
      "172  6.205092   172  45\n",
      "173  6.202050   173  45\n",
      "174  6.211809   174  45\n",
      "\n",
      "[175 rows x 3 columns]\n"
     ]
    },
    {
     "name": "stderr",
     "output_type": "stream",
     "text": [
      "\n",
      "Feature Extraction: 100%|██████████| 1/1 [00:00<00:00, 48.95it/s]"
     ]
    },
    {
     "name": "stdout",
     "output_type": "stream",
     "text": [
      "            x  time  id\n",
      "0    6.229999     0  46\n",
      "1    6.230332     1  46\n",
      "2    6.230224     2  46\n",
      "3    6.232453     3  46\n",
      "4    6.228924     4  46\n",
      "..        ...   ...  ..\n",
      "170  6.231428   170  46\n",
      "171  6.232013   171  46\n",
      "172  6.231787   172  46\n",
      "173  6.231605   173  46\n",
      "174  6.232326   174  46\n",
      "\n",
      "[175 rows x 3 columns]\n"
     ]
    },
    {
     "name": "stderr",
     "output_type": "stream",
     "text": [
      "\n",
      "Feature Extraction: 100%|██████████| 1/1 [00:00<00:00, 44.63it/s]"
     ]
    },
    {
     "name": "stdout",
     "output_type": "stream",
     "text": [
      "            x  time  id\n",
      "0    5.585538     0  47\n",
      "1    5.625690     1  47\n",
      "2    5.629624     2  47\n",
      "3    5.631774     3  47\n",
      "4    5.624130     4  47\n",
      "..        ...   ...  ..\n",
      "170  5.497501   170  47\n",
      "171  5.498091   171  47\n",
      "172  5.494599   172  47\n",
      "173  5.499038   173  47\n",
      "174  5.499816   174  47\n",
      "\n",
      "[175 rows x 3 columns]\n"
     ]
    },
    {
     "name": "stderr",
     "output_type": "stream",
     "text": [
      "\n",
      "Feature Extraction: 100%|██████████| 1/1 [00:00<00:00, 44.10it/s]\n"
     ]
    },
    {
     "name": "stdout",
     "output_type": "stream",
     "text": [
      "            x  time  id\n",
      "0    5.888400     0  48\n",
      "1    5.947274     1  48\n",
      "2    5.965683     2  48\n",
      "3    5.980898     3  48\n",
      "4    5.990991     4  48\n",
      "..        ...   ...  ..\n",
      "170  5.897632   170  48\n",
      "171  5.897165   171  48\n",
      "172  5.886475   172  48\n",
      "173  5.906112   173  48\n",
      "174  5.896429   174  48\n",
      "\n",
      "[175 rows x 3 columns]\n"
     ]
    },
    {
     "name": "stderr",
     "output_type": "stream",
     "text": [
      "Feature Extraction: 100%|██████████| 1/1 [00:00<00:00, 44.87it/s]\n"
     ]
    },
    {
     "name": "stdout",
     "output_type": "stream",
     "text": [
      "            x  time  id\n",
      "0    6.230647     0  49\n",
      "1    6.229658     1  49\n",
      "2    6.231106     2  49\n",
      "3    6.226138     3  49\n",
      "4    6.231497     4  49\n",
      "..        ...   ...  ..\n",
      "702  6.072998   702  49\n",
      "703  5.306039   703  49\n",
      "704  5.300334   704  49\n",
      "705  5.259556   705  49\n",
      "706  5.240641   706  49\n",
      "\n",
      "[707 rows x 3 columns]\n"
     ]
    },
    {
     "name": "stderr",
     "output_type": "stream",
     "text": [
      "Feature Extraction: 100%|██████████| 1/1 [00:00<00:00,  7.30it/s]\n"
     ]
    },
    {
     "name": "stdout",
     "output_type": "stream",
     "text": [
      "            x  time  id\n",
      "0    6.232571     0  50\n",
      "1    6.230691     1  50\n",
      "2    6.232651     2  50\n",
      "3    6.231234     3  50\n",
      "4    6.232233     4  50\n",
      "..        ...   ...  ..\n",
      "702  6.196648   702  50\n",
      "703  5.651232   703  50\n",
      "704  5.740243   704  50\n",
      "705  5.636929   705  50\n",
      "706  5.624733   706  50\n",
      "\n",
      "[707 rows x 3 columns]\n"
     ]
    },
    {
     "name": "stderr",
     "output_type": "stream",
     "text": [
      "Feature Extraction: 100%|██████████| 1/1 [00:00<00:00,  8.38it/s]"
     ]
    },
    {
     "name": "stdout",
     "output_type": "stream",
     "text": [
      "            x  time  id\n",
      "0    5.674528     0  51\n",
      "1    5.665677     1  51\n",
      "2    5.672632     2  51\n",
      "3    5.672116     3  51\n",
      "4    5.678199     4  51\n",
      "..        ...   ...  ..\n",
      "701  5.443636   701  51\n",
      "702  5.184163   702  51\n",
      "703  4.713466   703  51\n",
      "704  4.872268   704  51\n",
      "705  5.024613   705  51\n",
      "\n",
      "[706 rows x 3 columns]\n"
     ]
    },
    {
     "name": "stderr",
     "output_type": "stream",
     "text": [
      "\n",
      "Feature Extraction: 100%|██████████| 1/1 [00:00<00:00,  9.09it/s]"
     ]
    },
    {
     "name": "stdout",
     "output_type": "stream",
     "text": [
      "            x  time  id\n",
      "0    6.069714     0  52\n",
      "1    6.095884     1  52\n",
      "2    6.103943     2  52\n",
      "3    6.085841     3  52\n",
      "4    6.106524     4  52\n",
      "..        ...   ...  ..\n",
      "702  5.693311   702  52\n",
      "703  5.396281   703  52\n",
      "704  4.859517   704  52\n",
      "705  4.950021   705  52\n",
      "706  5.028058   706  52\n",
      "\n",
      "[707 rows x 3 columns]\n"
     ]
    },
    {
     "name": "stderr",
     "output_type": "stream",
     "text": [
      "\n",
      "Feature Extraction: 100%|██████████| 1/1 [00:00<00:00,  9.30it/s]"
     ]
    },
    {
     "name": "stdout",
     "output_type": "stream",
     "text": [
      "            x  time  id\n",
      "0    5.287466     0  53\n",
      "1    5.304254     1  53\n",
      "2    4.983686     2  53\n",
      "3    4.955389     3  53\n",
      "4    4.963061     4  53\n",
      "..        ...   ...  ..\n",
      "348  5.106644   348  53\n",
      "349  5.029793   349  53\n",
      "350  5.176161   350  53\n",
      "351  4.815855   351  53\n",
      "352  4.966799   352  53\n",
      "\n",
      "[353 rows x 3 columns]\n"
     ]
    },
    {
     "name": "stderr",
     "output_type": "stream",
     "text": [
      "\n",
      "Feature Extraction: 100%|██████████| 1/1 [00:00<00:00, 26.88it/s]"
     ]
    },
    {
     "name": "stdout",
     "output_type": "stream",
     "text": [
      "            x  time  id\n",
      "0    6.216178     0  54\n",
      "1    6.235857     1  54\n",
      "2    5.943580     2  54\n",
      "3    5.910909     3  54\n",
      "4    5.919527     4  54\n",
      "..        ...   ...  ..\n",
      "347  5.959880   347  54\n",
      "348  5.922287   348  54\n",
      "349  6.096793   349  54\n",
      "350  5.707268   350  54\n",
      "351  5.882043   351  54\n",
      "\n",
      "[352 rows x 3 columns]\n"
     ]
    },
    {
     "name": "stderr",
     "output_type": "stream",
     "text": [
      "\n",
      "Feature Extraction: 100%|██████████| 1/1 [00:00<00:00, 23.78it/s]"
     ]
    },
    {
     "name": "stdout",
     "output_type": "stream",
     "text": [
      "           x  time  id\n",
      "0   5.593284     0  55\n",
      "1   5.460163     1  55\n",
      "2   5.429917     2  55\n",
      "3   5.590933     3  55\n",
      "4   5.558723     4  55\n",
      "..       ...   ...  ..\n",
      "84  5.663811    84  55\n",
      "85  5.319057    85  55\n",
      "86  5.476605    86  55\n",
      "87  5.572303    87  55\n",
      "88  5.523394    88  55\n",
      "\n",
      "[89 rows x 3 columns]\n"
     ]
    },
    {
     "name": "stderr",
     "output_type": "stream",
     "text": [
      "\n",
      "Feature Extraction: 100%|██████████| 1/1 [00:00<00:00, 68.38it/s]"
     ]
    },
    {
     "name": "stdout",
     "output_type": "stream",
     "text": [
      "           x  time  id\n",
      "0   6.199144     0  56\n",
      "1   6.152848     1  56\n",
      "2   6.070502     2  56\n",
      "3   6.103171     3  56\n",
      "4   6.212592     4  56\n",
      "..       ...   ...  ..\n",
      "84  6.174312    84  56\n",
      "85  5.975558    85  56\n",
      "86  6.206698    86  56\n",
      "87  6.163584    87  56\n",
      "88  6.069851    88  56\n",
      "\n",
      "[89 rows x 3 columns]\n"
     ]
    },
    {
     "name": "stderr",
     "output_type": "stream",
     "text": [
      "\n",
      "Feature Extraction: 100%|██████████| 1/1 [00:00<00:00, 63.04it/s]"
     ]
    },
    {
     "name": "stdout",
     "output_type": "stream",
     "text": [
      "           x  time  id\n",
      "0   5.794387     0  57\n",
      "1   5.650337     1  57\n",
      "2   5.607587     2  57\n",
      "3   5.840114     3  57\n",
      "4   5.749597     4  57\n",
      "..       ...   ...  ..\n",
      "84  5.543557    84  57\n",
      "85  5.701893    85  57\n",
      "86  5.661961    86  57\n",
      "87  5.717908    87  57\n",
      "88  5.695446    88  57\n",
      "\n",
      "[89 rows x 3 columns]\n"
     ]
    },
    {
     "name": "stderr",
     "output_type": "stream",
     "text": [
      "\n",
      "Feature Extraction: 100%|██████████| 1/1 [00:00<00:00, 71.34it/s]\n"
     ]
    },
    {
     "name": "stdout",
     "output_type": "stream",
     "text": [
      "           x  time  id\n",
      "0   5.942236     0  58\n",
      "1   5.861062     1  58\n",
      "2   5.802130     2  58\n",
      "3   6.105193     3  58\n",
      "4   6.012896     4  58\n",
      "..       ...   ...  ..\n",
      "84  5.818517    84  58\n",
      "85  5.964940    85  58\n",
      "86  5.922915    86  58\n",
      "87  6.022305    87  58\n",
      "88  5.963361    88  58\n",
      "\n",
      "[89 rows x 3 columns]\n"
     ]
    },
    {
     "name": "stderr",
     "output_type": "stream",
     "text": [
      "Feature Extraction: 100%|██████████| 1/1 [00:00<00:00, 71.68it/s]"
     ]
    },
    {
     "name": "stdout",
     "output_type": "stream",
     "text": [
      "           x  time  id\n",
      "0   6.104701     0  59\n",
      "1   5.999680     1  59\n",
      "2   6.058813     2  59\n",
      "3   6.064062     3  59\n",
      "4   6.035081     4  59\n",
      "..       ...   ...  ..\n",
      "84  6.027777    84  59\n",
      "85  6.004887    85  59\n",
      "86  6.008647    86  59\n",
      "87  6.030752    87  59\n",
      "88  6.096071    88  59\n",
      "\n",
      "[89 rows x 3 columns]\n"
     ]
    },
    {
     "name": "stderr",
     "output_type": "stream",
     "text": [
      "\n",
      "Feature Extraction: 100%|██████████| 1/1 [00:00<00:00, 63.98it/s]"
     ]
    },
    {
     "name": "stdout",
     "output_type": "stream",
     "text": [
      "           x  time  id\n",
      "0   6.175801     0  60\n",
      "1   6.193506     1  60\n",
      "2   6.164566     2  60\n",
      "3   6.202422     3  60\n",
      "4   6.232148     4  60\n",
      "..       ...   ...  ..\n",
      "84  6.195897    84  60\n",
      "85  6.063130    85  60\n",
      "86  6.151580    86  60\n",
      "87  6.199524    87  60\n",
      "88  6.152748    88  60\n",
      "\n",
      "[89 rows x 3 columns]\n"
     ]
    },
    {
     "name": "stderr",
     "output_type": "stream",
     "text": [
      "\n",
      "Feature Extraction: 100%|██████████| 1/1 [00:00<00:00, 70.37it/s]"
     ]
    },
    {
     "name": "stdout",
     "output_type": "stream",
     "text": [
      "           x  time  id\n",
      "0   6.098559     0  61\n",
      "1   5.985339     1  61\n",
      "2   6.048961     2  61\n",
      "3   6.037615     3  61\n",
      "4   6.010354     4  61\n",
      "..       ...   ...  ..\n",
      "84  6.007332    84  61\n",
      "85  6.118220    85  61\n",
      "86  6.056007    86  61\n",
      "87  6.006176    87  61\n",
      "88  6.081153    88  61\n",
      "\n",
      "[89 rows x 3 columns]\n"
     ]
    },
    {
     "name": "stderr",
     "output_type": "stream",
     "text": [
      "\n",
      "Feature Extraction: 100%|██████████| 1/1 [00:00<00:00, 71.50it/s]"
     ]
    },
    {
     "name": "stdout",
     "output_type": "stream",
     "text": [
      "           x  time  id\n",
      "0   6.222557     0  62\n",
      "1   6.232226     1  62\n",
      "2   6.146957     2  62\n",
      "3   6.197155     3  62\n",
      "4   6.232034     4  62\n",
      "..       ...   ...  ..\n",
      "84  6.186420    84  62\n",
      "85  6.184091    85  62\n",
      "86  6.210814    86  62\n",
      "87  6.187480    87  62\n",
      "88  6.147635    88  62\n",
      "\n",
      "[89 rows x 3 columns]\n"
     ]
    },
    {
     "name": "stderr",
     "output_type": "stream",
     "text": [
      "\n",
      "Feature Extraction: 100%|██████████| 1/1 [00:00<00:00, 73.47it/s]\n"
     ]
    },
    {
     "name": "stdout",
     "output_type": "stream",
     "text": [
      "           x  time  id\n",
      "0   5.590882     0  63\n",
      "1   5.454843     1  63\n",
      "2   5.632924     2  63\n",
      "3   5.596198     3  63\n",
      "4   5.481809     4  63\n",
      "..       ...   ...  ..\n",
      "84  5.448831    84  63\n",
      "85  5.447768    85  63\n",
      "86  5.261506    86  63\n",
      "87  5.457250    87  63\n",
      "88  5.681554    88  63\n",
      "\n",
      "[89 rows x 3 columns]\n"
     ]
    },
    {
     "name": "stderr",
     "output_type": "stream",
     "text": [
      "Feature Extraction: 100%|██████████| 1/1 [00:00<00:00, 75.61it/s]"
     ]
    },
    {
     "name": "stdout",
     "output_type": "stream",
     "text": [
      "           x  time  id\n",
      "0   6.089974     0  64\n",
      "1   5.987697     1  64\n",
      "2   6.067918     2  64\n",
      "3   6.140569     3  64\n",
      "4   6.099858     4  64\n",
      "..       ...   ...  ..\n",
      "84  6.044205    84  64\n",
      "85  5.896293    85  64\n",
      "86  5.819756    86  64\n",
      "87  6.049692    87  64\n",
      "88  6.134784    88  64\n",
      "\n",
      "[89 rows x 3 columns]\n"
     ]
    },
    {
     "name": "stderr",
     "output_type": "stream",
     "text": [
      "\n",
      "Feature Extraction: 100%|██████████| 1/1 [00:00<00:00, 71.91it/s]"
     ]
    },
    {
     "name": "stdout",
     "output_type": "stream",
     "text": [
      "           x  time  id\n",
      "0   5.506729     0  65\n",
      "1   5.452000     1  65\n",
      "2   5.602248     2  65\n",
      "3   5.527552     3  65\n",
      "4   5.488074     4  65\n",
      "..       ...   ...  ..\n",
      "84  5.474805    84  65\n",
      "85  5.522587    85  65\n",
      "86  5.481713    86  65\n",
      "87  5.481682    87  65\n",
      "88  5.564771    88  65\n",
      "\n",
      "[89 rows x 3 columns]\n"
     ]
    },
    {
     "name": "stderr",
     "output_type": "stream",
     "text": [
      "\n",
      "Feature Extraction: 100%|██████████| 1/1 [00:00<00:00, 63.69it/s]"
     ]
    },
    {
     "name": "stdout",
     "output_type": "stream",
     "text": [
      "           x  time  id\n",
      "0   5.768485     0  66\n",
      "1   5.695260     1  66\n",
      "2   5.863172     2  66\n",
      "3   5.839969     3  66\n",
      "4   5.779302     4  66\n",
      "..       ...   ...  ..\n",
      "84  5.775015    84  66\n",
      "85  5.833611    85  66\n",
      "86  5.755351    86  66\n",
      "87  5.781657    87  66\n",
      "88  5.869420    88  66\n",
      "\n",
      "[89 rows x 3 columns]\n"
     ]
    },
    {
     "name": "stderr",
     "output_type": "stream",
     "text": [
      "\n",
      "Feature Extraction: 100%|██████████| 1/1 [00:00<00:00, 73.08it/s]"
     ]
    },
    {
     "name": "stdout",
     "output_type": "stream",
     "text": [
      "           x  time  id\n",
      "0   4.098413     0  67\n",
      "1   5.763530     1  67\n",
      "2   5.934042     2  67\n",
      "3   5.828721     3  67\n",
      "4   5.943593     4  67\n",
      "..       ...   ...  ..\n",
      "85  4.874507    85  67\n",
      "86  4.873581    86  67\n",
      "87  4.876216    87  67\n",
      "88  4.873267    88  67\n",
      "89  4.871437    89  67\n",
      "\n",
      "[90 rows x 3 columns]\n"
     ]
    },
    {
     "name": "stderr",
     "output_type": "stream",
     "text": [
      "\n",
      "Feature Extraction: 100%|██████████| 1/1 [00:00<00:00, 66.24it/s]"
     ]
    },
    {
     "name": "stdout",
     "output_type": "stream",
     "text": [
      "           x  time  id\n",
      "0   6.055395     0  68\n",
      "1   6.153958     1  68\n",
      "2   6.182688     2  68\n",
      "3   6.210584     3  68\n",
      "4   6.193563     4  68\n",
      "..       ...   ...  ..\n",
      "84  5.442861    84  68\n",
      "85  5.404732    85  68\n",
      "86  5.474479    86  68\n",
      "87  5.411250    87  68\n",
      "88  5.401641    88  68\n",
      "\n",
      "[89 rows x 3 columns]\n"
     ]
    },
    {
     "name": "stderr",
     "output_type": "stream",
     "text": [
      "\n",
      "Feature Extraction: 100%|██████████| 1/1 [00:00<00:00, 69.42it/s]"
     ]
    },
    {
     "name": "stdout",
     "output_type": "stream",
     "text": [
      "           x  time  id\n",
      "0   5.490612     0  69\n",
      "1   5.634535     1  69\n",
      "2   5.542105     2  69\n",
      "3   5.625396     3  69\n",
      "4   5.651233     4  69\n",
      "..       ...   ...  ..\n",
      "84  4.825714    84  69\n",
      "85  4.825868    85  69\n",
      "86  4.825501    86  69\n",
      "87  4.820501    87  69\n",
      "88  4.812599    88  69\n",
      "\n",
      "[89 rows x 3 columns]\n"
     ]
    },
    {
     "name": "stderr",
     "output_type": "stream",
     "text": [
      "\n",
      "Feature Extraction: 100%|██████████| 1/1 [00:00<00:00, 71.62it/s]"
     ]
    },
    {
     "name": "stdout",
     "output_type": "stream",
     "text": [
      "           x  time  id\n",
      "0   4.099759     0  70\n",
      "1   5.769427     1  70\n",
      "2   5.986987     2  70\n",
      "3   5.887431     3  70\n",
      "4   6.028799     4  70\n",
      "..       ...   ...  ..\n",
      "85  5.042435    85  70\n",
      "86  5.074199    86  70\n",
      "87  5.011830    87  70\n",
      "88  5.015150    88  70\n",
      "89  5.003468    89  70\n",
      "\n",
      "[90 rows x 3 columns]\n"
     ]
    },
    {
     "name": "stderr",
     "output_type": "stream",
     "text": [
      "\n",
      "Feature Extraction: 100%|██████████| 1/1 [00:00<00:00, 58.87it/s]"
     ]
    },
    {
     "name": "stdout",
     "output_type": "stream",
     "text": [
      "           x  time  id\n",
      "0   5.618614     0  71\n",
      "1   5.743189     1  71\n",
      "2   5.663404     2  71\n",
      "3   5.760375     3  71\n",
      "4   5.773460     4  71\n",
      "..       ...   ...  ..\n",
      "84  5.125617    84  71\n",
      "85  5.125196    85  71\n",
      "86  5.126606    86  71\n",
      "87  5.125317    87  71\n",
      "88  5.126285    88  71\n",
      "\n",
      "[89 rows x 3 columns]\n"
     ]
    },
    {
     "name": "stderr",
     "output_type": "stream",
     "text": [
      "\n",
      "Feature Extraction: 100%|██████████| 1/1 [00:00<00:00, 70.26it/s]"
     ]
    },
    {
     "name": "stdout",
     "output_type": "stream",
     "text": [
      "           x  time  id\n",
      "0   5.767465     0  72\n",
      "1   5.909963     1  72\n",
      "2   5.852326     2  72\n",
      "3   5.947238     3  72\n",
      "4   5.977534     4  72\n",
      "..       ...   ...  ..\n",
      "84  5.383484    84  72\n",
      "85  5.326365    85  72\n",
      "86  5.391982    86  72\n",
      "87  5.363534    87  72\n",
      "88  5.336555    88  72\n",
      "\n",
      "[89 rows x 3 columns]\n"
     ]
    },
    {
     "name": "stderr",
     "output_type": "stream",
     "text": [
      "\n",
      "Feature Extraction: 100%|██████████| 1/1 [00:00<00:00, 66.65it/s]"
     ]
    },
    {
     "name": "stdout",
     "output_type": "stream",
     "text": [
      "            x  time  id\n",
      "0    0.444861     0  73\n",
      "1    0.386257     1  73\n",
      "2    0.379395     2  73\n",
      "3    0.375280     3  73\n",
      "4    0.369292     4  73\n",
      "..        ...   ...  ..\n",
      "178  0.360909   178  73\n",
      "179  0.363827   179  73\n",
      "180  0.341778   180  73\n",
      "181  0.377435   181  73\n",
      "182  0.373973   182  73\n",
      "\n",
      "[183 rows x 3 columns]\n"
     ]
    },
    {
     "name": "stderr",
     "output_type": "stream",
     "text": [
      "\n",
      "Feature Extraction: 100%|██████████| 1/1 [00:00<00:00, 44.08it/s]\n"
     ]
    },
    {
     "name": "stdout",
     "output_type": "stream",
     "text": [
      "            x  time  id\n",
      "0    1.045013     0  74\n",
      "1    1.015501     1  74\n",
      "2    1.010158     2  74\n",
      "3    1.008059     3  74\n",
      "4    1.005399     4  74\n",
      "..        ...   ...  ..\n",
      "178  0.999235   178  74\n",
      "179  1.002772   179  74\n",
      "180  0.990260   180  74\n",
      "181  1.009991   181  74\n",
      "182  1.007640   182  74\n",
      "\n",
      "[183 rows x 3 columns]\n"
     ]
    },
    {
     "name": "stderr",
     "output_type": "stream",
     "text": [
      "Feature Extraction: 100%|██████████| 1/1 [00:00<00:00, 44.03it/s]\n"
     ]
    },
    {
     "name": "stdout",
     "output_type": "stream",
     "text": [
      "            x  time  id\n",
      "0    0.445549     0  75\n",
      "1    0.330419     1  75\n",
      "2    0.336409     2  75\n",
      "3    0.336545     3  75\n",
      "4    0.339200     4  75\n",
      "..        ...   ...  ..\n",
      "180  0.324370   180  75\n",
      "181  0.345371   181  75\n",
      "182  0.371559   182  75\n",
      "183  0.403477   183  75\n",
      "184  0.367006   184  75\n",
      "\n",
      "[185 rows x 3 columns]\n"
     ]
    },
    {
     "name": "stderr",
     "output_type": "stream",
     "text": [
      "Feature Extraction: 100%|██████████| 1/1 [00:00<00:00, 40.24it/s]\n"
     ]
    },
    {
     "name": "stdout",
     "output_type": "stream",
     "text": [
      "            x  time  id\n",
      "0    0.861818     0  76\n",
      "1    0.801650     1  76\n",
      "2    0.804419     2  76\n",
      "3    0.804681     3  76\n",
      "4    0.805177     4  76\n",
      "..        ...   ...  ..\n",
      "180  0.797714   180  76\n",
      "181  0.809932   181  76\n",
      "182  0.823253   182  76\n",
      "183  0.839707   183  76\n",
      "184  0.820886   184  76\n",
      "\n",
      "[185 rows x 3 columns]\n"
     ]
    },
    {
     "name": "stderr",
     "output_type": "stream",
     "text": [
      "Feature Extraction: 100%|██████████| 1/1 [00:00<00:00, 45.78it/s]\n"
     ]
    },
    {
     "name": "stdout",
     "output_type": "stream",
     "text": [
      "            x  time  id\n",
      "0    0.402046     0  77\n",
      "1    0.342449     1  77\n",
      "2    0.343487     2  77\n",
      "3    0.336914     3  77\n",
      "4    0.344270     4  77\n",
      "..        ...   ...  ..\n",
      "179  0.333899   179  77\n",
      "180  0.333428   180  77\n",
      "181  0.327649   181  77\n",
      "182  0.333963   182  77\n",
      "183  0.328743   183  77\n",
      "\n",
      "[184 rows x 3 columns]\n"
     ]
    },
    {
     "name": "stderr",
     "output_type": "stream",
     "text": [
      "Feature Extraction: 100%|██████████| 1/1 [00:00<00:00, 41.48it/s]\n"
     ]
    },
    {
     "name": "stdout",
     "output_type": "stream",
     "text": [
      "            x  time  id\n",
      "0    0.956356     0  78\n",
      "1    0.922585     1  78\n",
      "2    0.922642     2  78\n",
      "3    0.918713     3  78\n",
      "4    0.924702     4  78\n",
      "..        ...   ...  ..\n",
      "178  0.917396   178  78\n",
      "179  0.915930   179  78\n",
      "180  0.912253   180  78\n",
      "181  0.914999   181  78\n",
      "182  0.913148   182  78\n",
      "\n",
      "[183 rows x 3 columns]\n"
     ]
    },
    {
     "name": "stderr",
     "output_type": "stream",
     "text": [
      "Feature Extraction: 100%|██████████| 1/1 [00:00<00:00, 46.05it/s]"
     ]
    },
    {
     "name": "stdout",
     "output_type": "stream",
     "text": [
      "             x  time  id\n",
      "0     5.675531     0  79\n",
      "1     5.672687     1  79\n",
      "2     5.677198     2  79\n",
      "3     5.675700     3  79\n",
      "4     5.678608     4  79\n",
      "...        ...   ...  ..\n",
      "1953  5.688895  1953  79\n",
      "1954  5.687661  1954  79\n",
      "1955  5.681692  1955  79\n",
      "1956  5.666694  1956  79\n",
      "1957  5.662975  1957  79\n",
      "\n",
      "[1958 rows x 3 columns]\n"
     ]
    },
    {
     "name": "stderr",
     "output_type": "stream",
     "text": [
      "\n",
      "Feature Extraction: 100%|██████████| 1/1 [00:00<00:00,  2.18it/s]"
     ]
    },
    {
     "name": "stdout",
     "output_type": "stream",
     "text": [
      "             x  time  id\n",
      "0     6.200733     0  80\n",
      "1     6.121786     1  80\n",
      "2     6.108155     2  80\n",
      "3     6.081276     3  80\n",
      "4     6.087739     4  80\n",
      "...        ...   ...  ..\n",
      "1953  6.083257  1953  80\n",
      "1954  6.069472  1954  80\n",
      "1955  6.097811  1955  80\n",
      "1956  6.079580  1956  80\n",
      "1957  6.065998  1957  80\n",
      "\n",
      "[1958 rows x 3 columns]\n"
     ]
    },
    {
     "name": "stderr",
     "output_type": "stream",
     "text": [
      "\n",
      "Feature Extraction: 100%|██████████| 1/1 [00:00<00:00,  2.17it/s]"
     ]
    },
    {
     "name": "stdout",
     "output_type": "stream",
     "text": [
      "            x  time  id\n",
      "0    5.724360     0  81\n",
      "1    5.816401     1  81\n",
      "2    5.781471     2  81\n",
      "3    5.882514     3  81\n",
      "4    5.902348     4  81\n",
      "..        ...   ...  ..\n",
      "133  5.742967   133  81\n",
      "134  5.753073   134  81\n",
      "135  5.748504   135  81\n",
      "136  5.723910   136  81\n",
      "137  5.751368   137  81\n",
      "\n",
      "[138 rows x 3 columns]\n"
     ]
    },
    {
     "name": "stderr",
     "output_type": "stream",
     "text": [
      "\n",
      "Feature Extraction: 100%|██████████| 1/1 [00:00<00:00, 55.85it/s]"
     ]
    },
    {
     "name": "stdout",
     "output_type": "stream",
     "text": [
      "            x  time  id\n",
      "0    5.921094     0  82\n",
      "1    6.000506     1  82\n",
      "2    5.968446     2  82\n",
      "3    6.089357     3  82\n",
      "4    6.121311     4  82\n",
      "..        ...   ...  ..\n",
      "133  6.079998   133  82\n",
      "134  6.066050   134  82\n",
      "135  6.069428   135  82\n",
      "136  6.026943   136  82\n",
      "137  6.043448   137  82\n",
      "\n",
      "[138 rows x 3 columns]\n"
     ]
    },
    {
     "name": "stderr",
     "output_type": "stream",
     "text": [
      "\n",
      "Feature Extraction: 100%|██████████| 1/1 [00:00<00:00, 47.41it/s]"
     ]
    },
    {
     "name": "stdout",
     "output_type": "stream",
     "text": [
      "            x  time  id\n",
      "0    5.750307     0  83\n",
      "1    5.909203     1  83\n",
      "2    5.941571     2  83\n",
      "3    5.903194     3  83\n",
      "4    5.874818     4  83\n",
      "..        ...   ...  ..\n",
      "174  5.595238   174  83\n",
      "175  5.729606   175  83\n",
      "176  5.639604   176  83\n",
      "177  5.936879   177  83\n",
      "178  5.905849   178  83\n",
      "\n",
      "[179 rows x 3 columns]\n"
     ]
    },
    {
     "name": "stderr",
     "output_type": "stream",
     "text": [
      "\n",
      "Feature Extraction: 100%|██████████| 1/1 [00:00<00:00, 44.78it/s]\n"
     ]
    },
    {
     "name": "stdout",
     "output_type": "stream",
     "text": [
      "            x  time  id\n",
      "0    6.142217     0  84\n",
      "1    6.220159     1  84\n",
      "2    6.223024     2  84\n",
      "3    6.231557     3  84\n",
      "4    6.231617     4  84\n",
      "..        ...   ...  ..\n",
      "174  5.853796   174  84\n",
      "175  5.989674   175  84\n",
      "176  5.905092   176  84\n",
      "177  6.239419   177  84\n",
      "178  6.230841   178  84\n",
      "\n",
      "[179 rows x 3 columns]\n"
     ]
    },
    {
     "name": "stderr",
     "output_type": "stream",
     "text": [
      "Feature Extraction: 100%|██████████| 1/1 [00:00<00:00, 48.09it/s]\n"
     ]
    },
    {
     "name": "stdout",
     "output_type": "stream",
     "text": [
      "            x  time  id\n",
      "0    5.479480     0  85\n",
      "1    5.628650     1  85\n",
      "2    5.664913     2  85\n",
      "3    5.613024     3  85\n",
      "4    5.604526     4  85\n",
      "..        ...   ...  ..\n",
      "174  5.570065   174  85\n",
      "175  5.649044   175  85\n",
      "176  5.606490   176  85\n",
      "177  5.664596   177  85\n",
      "178  5.651969   178  85\n",
      "\n",
      "[179 rows x 3 columns]\n"
     ]
    },
    {
     "name": "stderr",
     "output_type": "stream",
     "text": [
      "Feature Extraction: 100%|██████████| 1/1 [00:00<00:00, 46.09it/s]\n"
     ]
    },
    {
     "name": "stdout",
     "output_type": "stream",
     "text": [
      "            x  time  id\n",
      "0    5.698655     0  86\n",
      "1    5.899257     1  86\n",
      "2    5.983934     2  86\n",
      "3    5.943724     3  86\n",
      "4    5.970507     4  86\n",
      "..        ...   ...  ..\n",
      "174  5.918596   174  86\n",
      "175  5.998163   175  86\n",
      "176  5.951951   176  86\n",
      "177  6.005572   177  86\n",
      "178  5.994843   178  86\n",
      "\n",
      "[179 rows x 3 columns]\n"
     ]
    },
    {
     "name": "stderr",
     "output_type": "stream",
     "text": [
      "Feature Extraction: 100%|██████████| 1/1 [00:00<00:00, 25.16it/s]"
     ]
    },
    {
     "name": "stdout",
     "output_type": "stream",
     "text": [
      "            x  time  id\n",
      "0    5.903073     0  87\n",
      "1    6.195440     1  87\n",
      "2    6.081886     2  87\n",
      "3    5.824925     3  87\n",
      "4    5.828571     4  87\n",
      "..        ...   ...  ..\n",
      "174  5.692977   174  87\n",
      "175  5.807125   175  87\n",
      "176  5.886532   176  87\n",
      "177  5.878616   177  87\n",
      "178  5.870546   178  87\n",
      "\n",
      "[179 rows x 3 columns]\n"
     ]
    },
    {
     "name": "stderr",
     "output_type": "stream",
     "text": [
      "\n",
      "Feature Extraction: 100%|██████████| 1/1 [00:00<00:00, 44.99it/s]\n"
     ]
    },
    {
     "name": "stdout",
     "output_type": "stream",
     "text": [
      "            x  time  id\n",
      "0    6.004889     0  88\n",
      "1    6.228095     1  88\n",
      "2    6.210900     2  88\n",
      "3    6.191162     3  88\n",
      "4    6.213776     4  88\n",
      "..        ...   ...  ..\n",
      "174  5.864727   174  88\n",
      "175  5.968864   175  88\n",
      "176  6.189627   176  88\n",
      "177  6.230970   177  88\n",
      "178  6.231826   178  88\n",
      "\n",
      "[179 rows x 3 columns]\n"
     ]
    },
    {
     "name": "stderr",
     "output_type": "stream",
     "text": [
      "Feature Extraction: 100%|██████████| 1/1 [00:00<00:00, 45.49it/s]\n"
     ]
    },
    {
     "name": "stdout",
     "output_type": "stream",
     "text": [
      "            x  time  id\n",
      "0    5.995991     0  89\n",
      "1    6.229359     1  89\n",
      "2    6.173932     2  89\n",
      "3    6.093703     3  89\n",
      "4    6.099199     4  89\n",
      "..        ...   ...  ..\n",
      "174  5.690343   174  89\n",
      "175  5.755649   175  89\n",
      "176  5.887949   176  89\n",
      "177  6.113154   177  89\n",
      "178  6.103184   178  89\n",
      "\n",
      "[179 rows x 3 columns]\n"
     ]
    },
    {
     "name": "stderr",
     "output_type": "stream",
     "text": [
      "Feature Extraction: 100%|██████████| 1/1 [00:00<00:00, 31.32it/s]"
     ]
    },
    {
     "name": "stdout",
     "output_type": "stream",
     "text": [
      "            x  time  id\n",
      "0    6.020295     0  90\n",
      "1    6.231255     1  90\n",
      "2    6.224637     2  90\n",
      "3    6.231157     3  90\n",
      "4    6.232288     4  90\n",
      "..        ...   ...  ..\n",
      "174  5.816675   174  90\n",
      "175  5.878985   175  90\n",
      "176  6.018120   176  90\n",
      "177  6.232587   177  90\n",
      "178  6.231642   178  90\n",
      "\n",
      "[179 rows x 3 columns]\n"
     ]
    },
    {
     "name": "stderr",
     "output_type": "stream",
     "text": [
      "\n",
      "Feature Extraction: 100%|██████████| 1/1 [00:00<00:00, 37.31it/s]\n"
     ]
    },
    {
     "name": "stdout",
     "output_type": "stream",
     "text": [
      "            x  time  id\n",
      "0    5.845911     0  91\n",
      "1    6.168018     1  91\n",
      "2    6.064613     2  91\n",
      "3    5.886736     3  91\n",
      "4    5.895001     4  91\n",
      "..        ...   ...  ..\n",
      "174  5.839874   174  91\n",
      "175  5.903704   175  91\n",
      "176  5.866315   176  91\n",
      "177  5.874544   177  91\n",
      "178  5.882461   178  91\n",
      "\n",
      "[179 rows x 3 columns]\n"
     ]
    },
    {
     "name": "stderr",
     "output_type": "stream",
     "text": [
      "Feature Extraction: 100%|██████████| 1/1 [00:00<00:00, 42.89it/s]"
     ]
    },
    {
     "name": "stdout",
     "output_type": "stream",
     "text": [
      "            x  time  id\n",
      "0    6.016998     0  92\n",
      "1    6.224363     1  92\n",
      "2    6.219502     2  92\n",
      "3    6.230679     3  92\n",
      "4    6.232040     4  92\n",
      "..        ...   ...  ..\n",
      "174  5.998605   174  92\n",
      "175  6.060955   175  92\n",
      "176  6.155094   176  92\n",
      "177  6.232803   177  92\n",
      "178  6.231518   178  92\n",
      "\n",
      "[179 rows x 3 columns]\n"
     ]
    },
    {
     "name": "stderr",
     "output_type": "stream",
     "text": [
      "\n",
      "Feature Extraction: 100%|██████████| 1/1 [00:00<00:00, 44.31it/s]"
     ]
    },
    {
     "name": "stdout",
     "output_type": "stream",
     "text": [
      "            x  time  id\n",
      "0    5.384605     0  93\n",
      "1    5.654926     1  93\n",
      "2    5.605158     2  93\n",
      "3    5.477780     3  93\n",
      "4    5.480696     4  93\n",
      "..        ...   ...  ..\n",
      "174  5.300238   174  93\n",
      "175  5.348232   175  93\n",
      "176  5.536115   176  93\n",
      "177  5.494568   177  93\n",
      "178  5.492360   178  93\n",
      "\n",
      "[179 rows x 3 columns]\n"
     ]
    },
    {
     "name": "stderr",
     "output_type": "stream",
     "text": [
      "\n",
      "Feature Extraction: 100%|██████████| 1/1 [00:00<00:00, 45.02it/s]\n"
     ]
    },
    {
     "name": "stdout",
     "output_type": "stream",
     "text": [
      "            x  time  id\n",
      "0    5.643250     0  94\n",
      "1    5.906369     1  94\n",
      "2    5.862898     2  94\n",
      "3    5.736058     3  94\n",
      "4    5.744618     4  94\n",
      "..        ...   ...  ..\n",
      "174  5.592975   174  94\n",
      "175  5.631845   175  94\n",
      "176  5.849688   176  94\n",
      "177  5.814747   177  94\n",
      "178  5.810380   178  94\n",
      "\n",
      "[179 rows x 3 columns]\n"
     ]
    },
    {
     "name": "stderr",
     "output_type": "stream",
     "text": [
      "Feature Extraction: 100%|██████████| 1/1 [00:00<00:00, 41.93it/s]"
     ]
    },
    {
     "name": "stdout",
     "output_type": "stream",
     "text": [
      "            x  time  id\n",
      "0    6.229059     0  95\n",
      "1    6.230639     1  95\n",
      "2    6.230313     2  95\n",
      "3    6.228637     3  95\n",
      "4    6.208940     4  95\n",
      "..        ...   ...  ..\n",
      "702  5.214548   702  95\n",
      "703  5.219185   703  95\n",
      "704  5.184903   704  95\n",
      "705  5.193426   705  95\n",
      "706  5.241959   706  95\n",
      "\n",
      "[707 rows x 3 columns]\n"
     ]
    },
    {
     "name": "stderr",
     "output_type": "stream",
     "text": [
      "\n",
      "Feature Extraction: 100%|██████████| 1/1 [00:00<00:00,  6.43it/s]\n"
     ]
    },
    {
     "name": "stdout",
     "output_type": "stream",
     "text": [
      "            x  time  id\n",
      "0    6.230797     0  96\n",
      "1    6.232549     1  96\n",
      "2    6.231728     2  96\n",
      "3    6.230468     3  96\n",
      "4    6.222331     4  96\n",
      "..        ...   ...  ..\n",
      "702  5.436808   702  96\n",
      "703  5.449692   703  96\n",
      "704  5.387415   704  96\n",
      "705  5.406444   705  96\n",
      "706  5.452162   706  96\n",
      "\n",
      "[707 rows x 3 columns]\n"
     ]
    },
    {
     "name": "stderr",
     "output_type": "stream",
     "text": [
      "Feature Extraction: 100%|██████████| 1/1 [00:00<00:00,  6.56it/s]"
     ]
    },
    {
     "name": "stdout",
     "output_type": "stream",
     "text": [
      "            x  time  id\n",
      "0    6.155797     0  97\n",
      "1    6.153267     1  97\n",
      "2    6.154757     2  97\n",
      "3    6.157260     3  97\n",
      "4    6.124404     4  97\n",
      "..        ...   ...  ..\n",
      "702  5.336223   702  97\n",
      "703  5.309092   703  97\n",
      "704  5.322452   704  97\n",
      "705  5.314370   705  97\n",
      "706  5.316203   706  97\n",
      "\n",
      "[707 rows x 3 columns]\n"
     ]
    },
    {
     "name": "stderr",
     "output_type": "stream",
     "text": [
      "\n",
      "Feature Extraction: 100%|██████████| 1/1 [00:00<00:00,  7.96it/s]"
     ]
    },
    {
     "name": "stdout",
     "output_type": "stream",
     "text": [
      "            x  time  id\n",
      "0    6.231002     0  98\n",
      "1    6.232210     1  98\n",
      "2    6.232281     2  98\n",
      "3    6.231617     3  98\n",
      "4    6.220603     4  98\n",
      "..        ...   ...  ..\n",
      "702  5.575849   702  98\n",
      "703  5.532571   703  98\n",
      "704  5.553629   704  98\n",
      "705  5.547593   705  98\n",
      "706  5.555434   706  98\n",
      "\n",
      "[707 rows x 3 columns]\n"
     ]
    },
    {
     "name": "stderr",
     "output_type": "stream",
     "text": [
      "\n",
      "Feature Extraction: 100%|██████████| 1/1 [00:00<00:00,  9.38it/s]"
     ]
    },
    {
     "name": "stdout",
     "output_type": "stream",
     "text": [
      "            x  time  id\n",
      "0    5.381043     0  99\n",
      "1    5.369049     1  99\n",
      "2    5.378744     2  99\n",
      "3    5.379365     3  99\n",
      "4    5.356376     4  99\n",
      "..        ...   ...  ..\n",
      "693  5.057168   693  99\n",
      "694  5.052072   694  99\n",
      "695  5.064238   695  99\n",
      "696  5.055994   696  99\n",
      "697  5.063684   697  99\n",
      "\n",
      "[698 rows x 3 columns]\n"
     ]
    },
    {
     "name": "stderr",
     "output_type": "stream",
     "text": [
      "\n",
      "Feature Extraction: 100%|██████████| 1/1 [00:00<00:00,  6.66it/s]\n"
     ]
    },
    {
     "name": "stdout",
     "output_type": "stream",
     "text": [
      "            x  time   id\n",
      "0    5.796736     0  100\n",
      "1    5.786433     1  100\n",
      "2    5.800234     2  100\n",
      "3    5.839819     3  100\n",
      "4    5.772125     4  100\n",
      "..        ...   ...  ...\n",
      "696  5.470508   696  100\n",
      "697  5.472915   697  100\n",
      "698  5.507448   698  100\n",
      "699  5.461945   699  100\n",
      "700  5.495457   700  100\n",
      "\n",
      "[701 rows x 3 columns]\n"
     ]
    },
    {
     "name": "stderr",
     "output_type": "stream",
     "text": [
      "Feature Extraction: 100%|██████████| 1/1 [00:00<00:00,  7.84it/s]"
     ]
    },
    {
     "name": "stdout",
     "output_type": "stream",
     "text": [
      "            x  time   id\n",
      "0    5.054511     0  101\n",
      "1    6.209824     1  101\n",
      "2    6.009640     2  101\n",
      "3    5.995334     3  101\n",
      "4    6.064347     4  101\n",
      "..        ...   ...  ...\n",
      "173  5.243618   173  101\n",
      "174  5.225101   174  101\n",
      "175  5.224747   175  101\n",
      "176  5.246553   176  101\n",
      "177  5.224589   177  101\n",
      "\n",
      "[178 rows x 3 columns]\n"
     ]
    },
    {
     "name": "stderr",
     "output_type": "stream",
     "text": [
      "\n",
      "Feature Extraction: 100%|██████████| 1/1 [00:00<00:00, 44.22it/s]\n"
     ]
    },
    {
     "name": "stdout",
     "output_type": "stream",
     "text": [
      "            x  time   id\n",
      "0    5.119674     0  102\n",
      "1    6.215918     1  102\n",
      "2    6.213283     2  102\n",
      "3    6.231913     3  102\n",
      "4    6.157673     4  102\n",
      "..        ...   ...  ...\n",
      "173  5.607666   173  102\n",
      "174  5.570833   174  102\n",
      "175  5.510821   175  102\n",
      "176  5.631642   176  102\n",
      "177  5.584003   177  102\n",
      "\n",
      "[178 rows x 3 columns]\n"
     ]
    },
    {
     "name": "stderr",
     "output_type": "stream",
     "text": [
      "Feature Extraction: 100%|██████████| 1/1 [00:00<00:00, 49.22it/s]"
     ]
    },
    {
     "name": "stdout",
     "output_type": "stream",
     "text": [
      "            x  time   id\n",
      "0    4.796402     0  103\n",
      "1    5.767004     1  103\n",
      "2    5.509517     2  103\n",
      "3    5.475802     3  103\n",
      "4    5.669181     4  103\n",
      "..        ...   ...  ...\n",
      "173  4.871945   173  103\n",
      "174  4.873686   174  103\n",
      "175  4.871045   175  103\n",
      "176  4.854306   176  103\n",
      "177  4.871895   177  103\n",
      "\n",
      "[178 rows x 3 columns]\n"
     ]
    },
    {
     "name": "stderr",
     "output_type": "stream",
     "text": [
      "\n",
      "Feature Extraction: 100%|██████████| 1/1 [00:00<00:00, 46.38it/s]"
     ]
    },
    {
     "name": "stdout",
     "output_type": "stream",
     "text": [
      "            x  time   id\n",
      "0    5.124472     0  104\n",
      "1    6.225263     1  104\n",
      "2    6.112387     2  104\n",
      "3    6.144153     3  104\n",
      "4    6.123272     4  104\n",
      "..        ...   ...  ...\n",
      "173  5.424707   173  104\n",
      "174  5.487939   174  104\n",
      "175  5.461626   175  104\n",
      "176  5.403838   176  104\n",
      "177  5.445726   177  104\n",
      "\n",
      "[178 rows x 3 columns]\n"
     ]
    },
    {
     "name": "stderr",
     "output_type": "stream",
     "text": [
      "\n",
      "Feature Extraction: 100%|██████████| 1/1 [00:00<00:00, 43.31it/s]\n"
     ]
    },
    {
     "name": "stdout",
     "output_type": "stream",
     "text": [
      "            x  time   id\n",
      "0    4.527981     0  105\n",
      "1    5.359551     1  105\n",
      "2    5.177561     2  105\n",
      "3    5.155124     3  105\n",
      "4    5.295897     4  105\n",
      "..        ...   ...  ...\n",
      "173  4.745992   173  105\n",
      "174  4.764721   174  105\n",
      "175  4.746997   175  105\n",
      "176  4.746142   176  105\n",
      "177  4.747945   177  105\n",
      "\n",
      "[178 rows x 3 columns]\n"
     ]
    },
    {
     "name": "stderr",
     "output_type": "stream",
     "text": [
      "Feature Extraction: 100%|██████████| 1/1 [00:00<00:00, 45.67it/s]\n"
     ]
    },
    {
     "name": "stdout",
     "output_type": "stream",
     "text": [
      "            x  time   id\n",
      "0    4.584138     0  106\n",
      "1    5.434166     1  106\n",
      "2    5.285854     2  106\n",
      "3    5.285771     3  106\n",
      "4    5.444320     4  106\n",
      "..        ...   ...  ...\n",
      "173  4.969928   173  106\n",
      "174  5.004956   174  106\n",
      "175  4.933580   175  106\n",
      "176  4.927041   176  106\n",
      "177  4.976441   177  106\n",
      "\n",
      "[178 rows x 3 columns]\n"
     ]
    },
    {
     "name": "stderr",
     "output_type": "stream",
     "text": [
      "Feature Extraction: 100%|██████████| 1/1 [00:00<00:00, 44.35it/s]\n"
     ]
    },
    {
     "name": "stdout",
     "output_type": "stream",
     "text": [
      "             x  time   id\n",
      "0     0.354337     0  107\n",
      "1     0.360846     1  107\n",
      "2     0.388228     2  107\n",
      "3     0.352643     3  107\n",
      "4     0.358995     4  107\n",
      "...        ...   ...  ...\n",
      "1575  0.457087  1575  107\n",
      "1576  0.432285  1576  107\n",
      "1577  0.492258  1577  107\n",
      "1578  0.495177  1578  107\n",
      "1579  0.492892  1579  107\n",
      "\n",
      "[1580 rows x 3 columns]\n"
     ]
    },
    {
     "name": "stderr",
     "output_type": "stream",
     "text": [
      "Feature Extraction: 100%|██████████| 1/1 [00:00<00:00,  3.01it/s]"
     ]
    },
    {
     "name": "stdout",
     "output_type": "stream",
     "text": [
      "             x  time   id\n",
      "0     0.996305     0  108\n",
      "1     1.000550     1  108\n",
      "2     1.014646     2  108\n",
      "3     0.994807     3  108\n",
      "4     0.998244     4  108\n",
      "...        ...   ...  ...\n",
      "1574  1.057558  1574  108\n",
      "1575  1.044068  1575  108\n",
      "1576  1.077591  1576  108\n",
      "1577  1.080049  1577  108\n",
      "1578  1.080911  1578  108\n",
      "\n",
      "[1579 rows x 3 columns]\n"
     ]
    },
    {
     "name": "stderr",
     "output_type": "stream",
     "text": [
      "\n",
      "Feature Extraction: 100%|██████████| 1/1 [00:00<00:00,  3.65it/s]"
     ]
    },
    {
     "name": "stdout",
     "output_type": "stream",
     "text": [
      "             x  time   id\n",
      "0     0.349987     0  109\n",
      "1     0.345125     1  109\n",
      "2     0.349031     2  109\n",
      "3     0.324497     3  109\n",
      "4     0.346703     4  109\n",
      "...        ...   ...  ...\n",
      "1571  0.408134  1571  109\n",
      "1572  0.409544  1572  109\n",
      "1573  0.418408  1573  109\n",
      "1574  0.392253  1574  109\n",
      "1575  0.364318  1575  109\n",
      "\n",
      "[1576 rows x 3 columns]\n"
     ]
    },
    {
     "name": "stderr",
     "output_type": "stream",
     "text": [
      "\n",
      "Feature Extraction: 100%|██████████| 1/1 [00:00<00:00,  2.35it/s]"
     ]
    },
    {
     "name": "stdout",
     "output_type": "stream",
     "text": [
      "             x  time   id\n",
      "0     0.810210     0  110\n",
      "1     0.808845     1  110\n",
      "2     0.810535     2  110\n",
      "3     0.796101     3  110\n",
      "4     0.810396     4  110\n",
      "...        ...   ...  ...\n",
      "1572  0.843035  1572  110\n",
      "1573  0.844409  1573  110\n",
      "1574  0.848175  1574  110\n",
      "1575  0.834985  1575  110\n",
      "1576  0.819070  1576  110\n",
      "\n",
      "[1577 rows x 3 columns]\n"
     ]
    },
    {
     "name": "stderr",
     "output_type": "stream",
     "text": [
      "\n",
      "Feature Extraction: 100%|██████████| 1/1 [00:00<00:00,  3.64it/s]"
     ]
    },
    {
     "name": "stdout",
     "output_type": "stream",
     "text": [
      "             x  time   id\n",
      "0     0.384264     0  111\n",
      "1     0.337853     1  111\n",
      "2     0.344426     2  111\n",
      "3     0.358555     3  111\n",
      "4     0.382043     4  111\n",
      "...        ...   ...  ...\n",
      "1569  0.385158  1569  111\n",
      "1570  0.430081  1570  111\n",
      "1571  0.403363  1571  111\n",
      "1572  0.415788  1572  111\n",
      "1573  0.364061  1573  111\n",
      "\n",
      "[1574 rows x 3 columns]\n"
     ]
    },
    {
     "name": "stderr",
     "output_type": "stream",
     "text": [
      "\n",
      "Feature Extraction: 100%|██████████| 1/1 [00:00<00:00,  3.45it/s]"
     ]
    },
    {
     "name": "stdout",
     "output_type": "stream",
     "text": [
      "             x  time   id\n",
      "0     0.944101     0  112\n",
      "1     0.913890     1  112\n",
      "2     0.919193     2  112\n",
      "3     0.929671     3  112\n",
      "4     0.943591     4  112\n",
      "...        ...   ...  ...\n",
      "1569  0.941613  1569  112\n",
      "1570  0.969370  1570  112\n",
      "1571  0.947135  1571  112\n",
      "1572  0.959381  1572  112\n",
      "1573  0.927182  1573  112\n",
      "\n",
      "[1574 rows x 3 columns]\n"
     ]
    },
    {
     "name": "stderr",
     "output_type": "stream",
     "text": [
      "\n",
      "Feature Extraction: 100%|██████████| 1/1 [00:00<00:00,  3.63it/s]"
     ]
    },
    {
     "name": "stdout",
     "output_type": "stream",
     "text": [
      "            x  time   id\n",
      "0    5.741561     0  113\n",
      "1    5.741406     1  113\n",
      "2    5.654795     2  113\n",
      "3    5.639987     3  113\n",
      "4    5.643605     4  113\n",
      "..        ...   ...  ...\n",
      "701  5.651418   701  113\n",
      "702  5.458385   702  113\n",
      "703  5.633773   703  113\n",
      "704  5.632059   704  113\n",
      "705  5.441623   705  113\n",
      "\n",
      "[706 rows x 3 columns]\n"
     ]
    },
    {
     "name": "stderr",
     "output_type": "stream",
     "text": [
      "\n",
      "Feature Extraction: 100%|██████████| 1/1 [00:00<00:00,  8.80it/s]"
     ]
    },
    {
     "name": "stdout",
     "output_type": "stream",
     "text": [
      "            x  time   id\n",
      "0    6.232771     0  114\n",
      "1    6.230952     1  114\n",
      "2    6.233480     2  114\n",
      "3    6.231240     3  114\n",
      "4    6.232003     4  114\n",
      "..        ...   ...  ...\n",
      "701  6.155928   701  114\n",
      "702  5.985010   702  114\n",
      "703  6.165083   703  114\n",
      "704  6.133094   704  114\n",
      "705  5.966304   705  114\n",
      "\n",
      "[706 rows x 3 columns]\n"
     ]
    },
    {
     "name": "stderr",
     "output_type": "stream",
     "text": [
      "\n",
      "Feature Extraction: 100%|██████████| 1/1 [00:00<00:00,  6.08it/s]"
     ]
    },
    {
     "name": "stdout",
     "output_type": "stream",
     "text": [
      "            x  time   id\n",
      "0    5.913210     0  115\n",
      "1    5.908644     1  115\n",
      "2    5.826212     2  115\n",
      "3    5.816166     3  115\n",
      "4    5.820170     4  115\n",
      "..        ...   ...  ...\n",
      "702  5.792951   702  115\n",
      "703  5.778744   703  115\n",
      "704  5.625444   704  115\n",
      "705  5.589374   705  115\n",
      "706  5.695611   706  115\n",
      "\n",
      "[707 rows x 3 columns]\n"
     ]
    },
    {
     "name": "stderr",
     "output_type": "stream",
     "text": [
      "\n",
      "Feature Extraction: 100%|██████████| 1/1 [00:00<00:00,  7.54it/s]"
     ]
    },
    {
     "name": "stdout",
     "output_type": "stream",
     "text": [
      "            x  time   id\n",
      "0    6.204908     0  116\n",
      "1    6.203496     1  116\n",
      "2    6.120909     2  116\n",
      "3    6.117689     3  116\n",
      "4    6.119633     4  116\n",
      "..        ...   ...  ...\n",
      "702  6.090171   702  116\n",
      "703  6.099811   703  116\n",
      "704  5.937453   704  116\n",
      "705  5.907561   705  116\n",
      "706  6.027558   706  116\n",
      "\n",
      "[707 rows x 3 columns]\n"
     ]
    },
    {
     "name": "stderr",
     "output_type": "stream",
     "text": [
      "\n",
      "Feature Extraction: 100%|██████████| 1/1 [00:00<00:00,  7.95it/s]"
     ]
    },
    {
     "name": "stdout",
     "output_type": "stream",
     "text": [
      "            x  time   id\n",
      "0    5.629914     0  117\n",
      "1    5.653190     1  117\n",
      "2    5.648201     2  117\n",
      "3    5.648694     3  117\n",
      "4    5.569435     4  117\n",
      "..        ...   ...  ...\n",
      "350  5.631521   350  117\n",
      "351  5.572938   351  117\n",
      "352  5.400864   352  117\n",
      "353  5.487729   353  117\n",
      "354  5.570962   354  117\n",
      "\n",
      "[355 rows x 3 columns]\n"
     ]
    },
    {
     "name": "stderr",
     "output_type": "stream",
     "text": [
      "\n",
      "Feature Extraction: 100%|██████████| 1/1 [00:00<00:00, 27.07it/s]"
     ]
    },
    {
     "name": "stdout",
     "output_type": "stream",
     "text": [
      "            x  time   id\n",
      "0    6.227658     0  118\n",
      "1    6.231433     1  118\n",
      "2    6.224080     2  118\n",
      "3    6.227118     3  118\n",
      "4    6.231685     4  118\n",
      "..        ...   ...  ...\n",
      "350  6.208982   350  118\n",
      "351  6.153723   351  118\n",
      "352  6.008507   352  118\n",
      "353  6.115539   353  118\n",
      "354  6.231969   354  118\n",
      "\n",
      "[355 rows x 3 columns]\n"
     ]
    },
    {
     "name": "stderr",
     "output_type": "stream",
     "text": [
      "\n",
      "Feature Extraction: 100%|██████████| 1/1 [00:00<00:00, 24.81it/s]"
     ]
    },
    {
     "name": "stdout",
     "output_type": "stream",
     "text": [
      "            x  time   id\n",
      "0    5.566547     0  119\n",
      "1    5.602205     1  119\n",
      "2    5.610180     2  119\n",
      "3    5.606211     3  119\n",
      "4    5.534296     4  119\n",
      "..        ...   ...  ...\n",
      "350  5.557578   350  119\n",
      "351  5.524991   351  119\n",
      "352  5.241861   352  119\n",
      "353  5.414854   353  119\n",
      "354  5.532239   354  119\n",
      "\n",
      "[355 rows x 3 columns]\n"
     ]
    },
    {
     "name": "stderr",
     "output_type": "stream",
     "text": [
      "\n",
      "Feature Extraction: 100%|██████████| 1/1 [00:00<00:00, 24.23it/s]\n"
     ]
    },
    {
     "name": "stdout",
     "output_type": "stream",
     "text": [
      "            x  time   id\n",
      "0    5.702254     0  120\n",
      "1    5.752881     1  120\n",
      "2    5.764412     2  120\n",
      "3    5.766635     3  120\n",
      "4    5.697012     4  120\n",
      "..        ...   ...  ...\n",
      "350  5.756672   350  120\n",
      "351  5.751118   351  120\n",
      "352  5.421438   352  120\n",
      "353  5.598506   353  120\n",
      "354  5.749591   354  120\n",
      "\n",
      "[355 rows x 3 columns]\n"
     ]
    },
    {
     "name": "stderr",
     "output_type": "stream",
     "text": [
      "Feature Extraction: 100%|██████████| 1/1 [00:00<00:00, 23.75it/s]\n"
     ]
    },
    {
     "name": "stdout",
     "output_type": "stream",
     "text": [
      "            x  time   id\n",
      "0    6.140783     0  121\n",
      "1    6.142542     1  121\n",
      "2    6.164678     2  121\n",
      "3    6.169137     3  121\n",
      "4    6.136586     4  121\n",
      "..        ...   ...  ...\n",
      "348  5.711820   348  121\n",
      "349  5.699900   349  121\n",
      "350  5.713763   350  121\n",
      "351  5.711080   351  121\n",
      "352  5.704106   352  121\n",
      "\n",
      "[353 rows x 3 columns]\n"
     ]
    },
    {
     "name": "stderr",
     "output_type": "stream",
     "text": [
      "Feature Extraction: 100%|██████████| 1/1 [00:00<00:00, 22.57it/s]"
     ]
    },
    {
     "name": "stdout",
     "output_type": "stream",
     "text": [
      "            x  time   id\n",
      "0    6.228462     0  122\n",
      "1    6.227392     1  122\n",
      "2    6.229217     2  122\n",
      "3    6.229619     3  122\n",
      "4    6.227700     4  122\n",
      "..        ...   ...  ...\n",
      "346  6.211253   346  122\n",
      "347  6.159501   347  122\n",
      "348  6.209695   348  122\n",
      "349  6.207609   349  122\n",
      "350  6.169040   350  122\n",
      "\n",
      "[351 rows x 3 columns]\n"
     ]
    },
    {
     "name": "stderr",
     "output_type": "stream",
     "text": [
      "\n",
      "Feature Extraction: 100%|██████████| 1/1 [00:00<00:00, 25.96it/s]"
     ]
    },
    {
     "name": "stdout",
     "output_type": "stream",
     "text": [
      "            x  time   id\n",
      "0    5.803526     0  123\n",
      "1    5.823873     1  123\n",
      "2    5.810111     2  123\n",
      "3    5.836060     3  123\n",
      "4    5.810648     4  123\n",
      "..        ...   ...  ...\n",
      "349  5.500031   349  123\n",
      "350  5.489613   350  123\n",
      "351  5.471050   351  123\n",
      "352  5.502375   352  123\n",
      "353  5.482805   353  123\n",
      "\n",
      "[354 rows x 3 columns]\n"
     ]
    },
    {
     "name": "stderr",
     "output_type": "stream",
     "text": [
      "\n",
      "Feature Extraction: 100%|██████████| 1/1 [00:00<00:00, 24.40it/s]"
     ]
    },
    {
     "name": "stdout",
     "output_type": "stream",
     "text": [
      "            x  time   id\n",
      "0    6.220621     0  124\n",
      "1    6.223716     1  124\n",
      "2    6.213529     2  124\n",
      "3    6.222381     3  124\n",
      "4    6.198881     4  124\n",
      "..        ...   ...  ...\n",
      "349  5.924250   349  124\n",
      "350  5.917001   350  124\n",
      "351  5.845909   351  124\n",
      "352  5.940383   352  124\n",
      "353  5.901368   353  124\n",
      "\n",
      "[354 rows x 3 columns]\n"
     ]
    },
    {
     "name": "stderr",
     "output_type": "stream",
     "text": [
      "\n",
      "Feature Extraction: 100%|██████████| 1/1 [00:00<00:00, 24.24it/s]\n"
     ]
    },
    {
     "name": "stdout",
     "output_type": "stream",
     "text": [
      "            x  time   id\n",
      "0    6.227197     0  125\n",
      "1    6.231303     1  125\n",
      "2    6.231955     2  125\n",
      "3    6.231057     3  125\n",
      "4    6.120996     4  125\n",
      "..        ...   ...  ...\n",
      "350  5.198092   350  125\n",
      "351  5.165532   351  125\n",
      "352  5.213046   352  125\n",
      "353  5.176178   353  125\n",
      "354  5.177685   354  125\n",
      "\n",
      "[355 rows x 3 columns]\n"
     ]
    },
    {
     "name": "stderr",
     "output_type": "stream",
     "text": [
      "Feature Extraction: 100%|██████████| 1/1 [00:00<00:00, 27.18it/s]\n"
     ]
    },
    {
     "name": "stdout",
     "output_type": "stream",
     "text": [
      "            x  time   id\n",
      "0    6.229343     0  126\n",
      "1    6.231385     1  126\n",
      "2    6.232013     2  126\n",
      "3    6.231012     3  126\n",
      "4    6.176916     4  126\n",
      "..        ...   ...  ...\n",
      "350  5.319111   350  126\n",
      "351  5.266313   351  126\n",
      "352  5.324731   352  126\n",
      "353  5.297312   353  126\n",
      "354  5.282028   354  126\n",
      "\n",
      "[355 rows x 3 columns]\n"
     ]
    },
    {
     "name": "stderr",
     "output_type": "stream",
     "text": [
      "Feature Extraction: 100%|██████████| 1/1 [00:00<00:00, 25.69it/s]"
     ]
    },
    {
     "name": "stdout",
     "output_type": "stream",
     "text": [
      "            x  time   id\n",
      "0    6.226324     0  127\n",
      "1    6.214845     1  127\n",
      "2    6.227504     2  127\n",
      "3    6.224204     3  127\n",
      "4    6.113607     4  127\n",
      "..        ...   ...  ...\n",
      "350  5.279388   350  127\n",
      "351  5.237284   351  127\n",
      "352  5.289803   352  127\n",
      "353  5.256057   353  127\n",
      "354  5.247995   354  127\n",
      "\n",
      "[355 rows x 3 columns]\n"
     ]
    },
    {
     "name": "stderr",
     "output_type": "stream",
     "text": [
      "\n",
      "Feature Extraction: 100%|██████████| 1/1 [00:00<00:00, 24.86it/s]\n"
     ]
    },
    {
     "name": "stdout",
     "output_type": "stream",
     "text": [
      "            x  time   id\n",
      "0    6.231390     0  128\n",
      "1    6.231948     1  128\n",
      "2    6.231895     2  128\n",
      "3    6.231363     3  128\n",
      "4    6.145776     4  128\n",
      "..        ...   ...  ...\n",
      "350  5.647439   350  128\n",
      "351  5.579931   351  128\n",
      "352  5.652401   352  128\n",
      "353  5.615311   353  128\n",
      "354  5.598901   354  128\n",
      "\n",
      "[355 rows x 3 columns]\n"
     ]
    },
    {
     "name": "stderr",
     "output_type": "stream",
     "text": [
      "Feature Extraction: 100%|██████████| 1/1 [00:00<00:00, 26.72it/s]\n"
     ]
    },
    {
     "name": "stdout",
     "output_type": "stream",
     "text": [
      "            x  time   id\n",
      "0    5.425312     0  129\n",
      "1    5.401519     1  129\n",
      "2    5.410604     2  129\n",
      "3    5.403815     3  129\n",
      "4    5.427441     4  129\n",
      "..        ...   ...  ...\n",
      "350  4.743063   350  129\n",
      "351  4.743727   351  129\n",
      "352  4.741739   352  129\n",
      "353  4.743305   353  129\n",
      "354  4.743904   354  129\n",
      "\n",
      "[355 rows x 3 columns]\n"
     ]
    },
    {
     "name": "stderr",
     "output_type": "stream",
     "text": [
      "Feature Extraction: 100%|██████████| 1/1 [00:00<00:00, 23.19it/s]\n"
     ]
    },
    {
     "name": "stdout",
     "output_type": "stream",
     "text": [
      "            x  time   id\n",
      "0    5.824330     0  130\n",
      "1    5.807702     1  130\n",
      "2    5.822170     2  130\n",
      "3    5.812069     3  130\n",
      "4    5.826671     4  130\n",
      "..        ...   ...  ...\n",
      "350  5.175377   350  130\n",
      "351  5.177508   351  130\n",
      "352  5.171432   352  130\n",
      "353  5.175936   353  130\n",
      "354  5.177084   354  130\n",
      "\n",
      "[355 rows x 3 columns]\n"
     ]
    },
    {
     "name": "stderr",
     "output_type": "stream",
     "text": [
      "Feature Extraction: 100%|██████████| 1/1 [00:00<00:00, 23.67it/s]\n"
     ]
    },
    {
     "name": "stdout",
     "output_type": "stream",
     "text": [
      "             x  time   id\n",
      "0     5.839311     0  131\n",
      "1     5.842638     1  131\n",
      "2     5.830416     2  131\n",
      "3     5.828975     3  131\n",
      "4     5.818365     4  131\n",
      "...        ...   ...  ...\n",
      "1150  5.839102  1150  131\n",
      "1151  5.856164  1151  131\n",
      "1152  5.889696  1152  131\n",
      "1153  5.854421  1153  131\n",
      "1154  5.851155  1154  131\n",
      "\n",
      "[1155 rows x 3 columns]\n"
     ]
    },
    {
     "name": "stderr",
     "output_type": "stream",
     "text": [
      "Feature Extraction: 100%|██████████| 1/1 [00:00<00:00,  5.15it/s]\n"
     ]
    },
    {
     "name": "stdout",
     "output_type": "stream",
     "text": [
      "             x  time   id\n",
      "0     6.232280     0  132\n",
      "1     6.231690     1  132\n",
      "2     6.232136     2  132\n",
      "3     6.229347     3  132\n",
      "4     6.229944     4  132\n",
      "...        ...   ...  ...\n",
      "1150  6.232395  1150  132\n",
      "1151  6.231839  1151  132\n",
      "1152  6.231945  1152  132\n",
      "1153  6.232156  1153  132\n",
      "1154  6.232383  1154  132\n",
      "\n",
      "[1155 rows x 3 columns]\n"
     ]
    },
    {
     "name": "stderr",
     "output_type": "stream",
     "text": [
      "Feature Extraction: 100%|██████████| 1/1 [00:00<00:00,  5.08it/s]\n"
     ]
    },
    {
     "name": "stdout",
     "output_type": "stream",
     "text": [
      "           x  time   id\n",
      "0   6.194064     0  133\n",
      "1   6.037564     1  133\n",
      "2   6.019234     2  133\n",
      "3   6.100063     3  133\n",
      "4   6.064293     4  133\n",
      "..       ...   ...  ...\n",
      "84  6.071829    84  133\n",
      "85  6.059241    85  133\n",
      "86  6.101296    86  133\n",
      "87  6.077590    87  133\n",
      "88  6.022243    88  133\n",
      "\n",
      "[89 rows x 3 columns]\n"
     ]
    },
    {
     "name": "stderr",
     "output_type": "stream",
     "text": [
      "Feature Extraction: 100%|██████████| 1/1 [00:00<00:00, 66.63it/s]"
     ]
    },
    {
     "name": "stdout",
     "output_type": "stream",
     "text": [
      "           x  time   id\n",
      "0   6.211492     0  134\n",
      "1   6.202464     1  134\n",
      "2   6.162930     2  134\n",
      "3   6.141326     3  134\n",
      "4   6.219929     4  134\n",
      "..       ...   ...  ...\n",
      "84  6.232624    84  134\n",
      "85  6.156437    85  134\n",
      "86  6.183142    86  134\n",
      "87  6.232310    87  134\n",
      "88  6.150354    88  134\n",
      "\n",
      "[89 rows x 3 columns]\n"
     ]
    },
    {
     "name": "stderr",
     "output_type": "stream",
     "text": [
      "\n",
      "Feature Extraction: 100%|██████████| 1/1 [00:00<00:00, 71.20it/s]"
     ]
    },
    {
     "name": "stdout",
     "output_type": "stream",
     "text": [
      "           x  time   id\n",
      "0   6.085453     0  135\n",
      "1   5.882069     1  135\n",
      "2   5.856135     2  135\n",
      "3   5.946160     3  135\n",
      "4   5.802924     4  135\n",
      "..       ...   ...  ...\n",
      "84  5.952629    84  135\n",
      "85  5.981851    85  135\n",
      "86  5.886264    86  135\n",
      "87  5.948827    87  135\n",
      "88  5.963203    88  135\n",
      "\n",
      "[89 rows x 3 columns]\n"
     ]
    },
    {
     "name": "stderr",
     "output_type": "stream",
     "text": [
      "\n",
      "Feature Extraction: 100%|██████████| 1/1 [00:00<00:00, 76.18it/s]"
     ]
    },
    {
     "name": "stdout",
     "output_type": "stream",
     "text": [
      "           x  time   id\n",
      "0   6.229802     0  136\n",
      "1   6.231211     1  136\n",
      "2   6.124267     2  136\n",
      "3   6.004701     3  136\n",
      "4   6.111611     4  136\n",
      "..       ...   ...  ...\n",
      "84  6.232392    84  136\n",
      "85  6.121608    85  136\n",
      "86  6.022003    86  136\n",
      "87  6.232250    87  136\n",
      "88  6.130410    88  136\n",
      "\n",
      "[89 rows x 3 columns]\n"
     ]
    },
    {
     "name": "stderr",
     "output_type": "stream",
     "text": [
      "\n",
      "Feature Extraction: 100%|██████████| 1/1 [00:00<00:00, 74.72it/s]\n"
     ]
    },
    {
     "name": "stdout",
     "output_type": "stream",
     "text": [
      "           x  time   id\n",
      "0   5.265549     0  137\n",
      "1   5.130218     1  137\n",
      "2   5.184030     2  137\n",
      "3   5.287352     3  137\n",
      "4   5.143080     4  137\n",
      "..       ...   ...  ...\n",
      "84  5.176399    84  137\n",
      "85  5.221256    85  137\n",
      "86  5.247263    86  137\n",
      "87  5.173924    87  137\n",
      "88  5.165859    88  137\n",
      "\n",
      "[89 rows x 3 columns]\n"
     ]
    },
    {
     "name": "stderr",
     "output_type": "stream",
     "text": [
      "Feature Extraction: 100%|██████████| 1/1 [00:00<00:00, 75.59it/s]\n"
     ]
    },
    {
     "name": "stdout",
     "output_type": "stream",
     "text": [
      "           x  time   id\n",
      "0   5.336555     0  138\n",
      "1   5.230651     1  138\n",
      "2   5.309681     2  138\n",
      "3   5.421714     3  138\n",
      "4   5.272548     4  138\n",
      "..       ...   ...  ...\n",
      "84  5.331240    84  138\n",
      "85  5.381158    85  138\n",
      "86  5.414959    86  138\n",
      "87  5.328278    87  138\n",
      "88  5.325180    88  138\n",
      "\n",
      "[89 rows x 3 columns]\n"
     ]
    },
    {
     "name": "stderr",
     "output_type": "stream",
     "text": [
      "Feature Extraction: 100%|██████████| 1/1 [00:00<00:00, 68.22it/s]\n"
     ]
    },
    {
     "name": "stdout",
     "output_type": "stream",
     "text": [
      "           x  time   id\n",
      "0   6.143077     0  139\n",
      "1   5.922793     1  139\n",
      "2   6.218582     2  139\n",
      "3   6.219069     3  139\n",
      "4   6.220404     4  139\n",
      "5   6.217347     5  139\n",
      "6   6.221072     6  139\n",
      "7   6.220072     7  139\n",
      "8   6.217088     8  139\n",
      "9   6.222109     9  139\n",
      "10  6.219028    10  139\n",
      "11  6.219019    11  139\n",
      "12  6.220737    12  139\n",
      "13  6.219409    13  139\n",
      "14  6.218615    14  139\n",
      "15  6.221328    15  139\n",
      "16  6.217748    16  139\n",
      "17  6.220005    17  139\n",
      "18  6.220130    18  139\n",
      "19  6.217727    19  139\n",
      "20  6.221207    20  139\n",
      "21  6.219304    21  139\n",
      "22  6.218221    22  139\n",
      "23  6.221718    23  139\n",
      "24  6.218295    24  139\n",
      "25  6.219355    25  139\n",
      "26  6.220579    26  139\n",
      "27  6.218418    27  139\n",
      "28  6.219210    28  139\n",
      "29  4.125316    29  139\n"
     ]
    },
    {
     "name": "stderr",
     "output_type": "stream",
     "text": [
      "Feature Extraction: 100%|██████████| 1/1 [00:00<00:00, 104.42it/s]\n"
     ]
    },
    {
     "name": "stdout",
     "output_type": "stream",
     "text": [
      "           x  time   id\n",
      "0   6.231470     0  140\n",
      "1   6.000854     1  140\n",
      "2   6.232609     2  140\n",
      "3   6.231596     3  140\n",
      "4   6.232412     4  140\n",
      "5   6.231415     5  140\n",
      "6   6.232443     6  140\n",
      "7   6.231985     7  140\n",
      "8   6.231164     8  140\n",
      "9   6.232414     9  140\n",
      "10  6.232225    10  140\n",
      "11  6.231763    11  140\n",
      "12  6.231581    12  140\n",
      "13  6.232415    13  140\n",
      "14  6.231314    14  140\n",
      "15  6.232446    15  140\n",
      "16  6.231453    16  140\n",
      "17  6.231997    17  140\n",
      "18  6.231838    18  140\n",
      "19  6.231963    19  140\n",
      "20  6.232307    20  140\n",
      "21  6.231849    21  140\n",
      "22  6.231663    22  140\n",
      "23  6.232256    23  140\n",
      "24  6.231766    24  140\n",
      "25  6.232091    25  140\n",
      "26  6.231953    26  140\n",
      "27  6.231795    27  140\n",
      "28  6.232343    28  140\n",
      "29  4.357065    29  140\n"
     ]
    },
    {
     "name": "stderr",
     "output_type": "stream",
     "text": [
      "Feature Extraction: 100%|██████████| 1/1 [00:00<00:00, 110.86it/s]\n"
     ]
    },
    {
     "name": "stdout",
     "output_type": "stream",
     "text": [
      "           x  time   id\n",
      "0   5.788954     0  141\n",
      "1   5.474106     1  141\n",
      "2   5.805414     2  141\n",
      "3   5.828102     3  141\n",
      "4   5.843126     4  141\n",
      "5   5.818896     5  141\n",
      "6   5.843566     6  141\n",
      "7   5.842203     7  141\n",
      "8   5.820139     8  141\n",
      "9   5.853113     9  141\n",
      "10  5.834315    10  141\n",
      "11  5.823718    11  141\n",
      "12  5.854087    12  141\n",
      "13  5.827393    13  141\n",
      "14  5.831985    14  141\n",
      "15  5.851384    15  141\n",
      "16  5.824306    16  141\n",
      "17  5.836425    17  141\n",
      "18  5.846097    18  141\n",
      "19  5.820428    19  141\n",
      "20  5.848284    20  141\n",
      "21  5.837580    21  141\n",
      "22  5.826445    22  141\n",
      "23  5.853099    23  141\n",
      "24  5.826759    24  141\n",
      "25  5.826892    25  141\n",
      "26  5.847853    26  141\n",
      "27  5.821131    27  141\n",
      "28  5.829163    28  141\n",
      "29  3.834452    29  141\n"
     ]
    },
    {
     "name": "stderr",
     "output_type": "stream",
     "text": [
      "Feature Extraction: 100%|██████████| 1/1 [00:00<00:00, 113.56it/s]\n"
     ]
    },
    {
     "name": "stdout",
     "output_type": "stream",
     "text": [
      "           x  time   id\n",
      "0   5.917900     0  142\n",
      "1   5.792849     1  142\n",
      "2   6.160421     2  142\n",
      "3   6.196852     3  142\n",
      "4   6.207976     4  142\n",
      "5   6.201226     5  142\n",
      "6   6.209197     6  142\n",
      "7   6.209583     7  142\n",
      "8   6.201866     8  142\n",
      "9   6.213063     9  142\n",
      "10  6.208481    10  142\n",
      "11  6.206467    11  142\n",
      "12  6.212830    12  142\n",
      "13  6.206316    13  142\n",
      "14  6.206658    14  142\n",
      "15  6.212602    15  142\n",
      "16  6.205324    16  142\n",
      "17  6.206126    17  142\n",
      "18  6.210239    18  142\n",
      "19  6.202833    19  142\n",
      "20  6.210718    20  142\n",
      "21  6.208734    21  142\n",
      "22  6.204391    22  142\n",
      "23  6.212352    23  142\n",
      "24  6.205194    24  142\n",
      "25  6.204536    25  142\n",
      "26  6.211265    26  142\n",
      "27  6.204192    27  142\n",
      "28  6.203410    28  142\n",
      "29  4.335085    29  142\n"
     ]
    },
    {
     "name": "stderr",
     "output_type": "stream",
     "text": [
      "Feature Extraction: 100%|██████████| 1/1 [00:00<00:00, 109.36it/s]\n"
     ]
    },
    {
     "name": "stdout",
     "output_type": "stream",
     "text": [
      "           x  time   id\n",
      "0   5.882124     0  143\n",
      "1   6.222701     1  143\n",
      "2   6.221703     2  143\n",
      "3   6.220344     3  143\n",
      "4   6.222043     4  143\n",
      "5   6.221518     5  143\n",
      "6   6.220774     6  143\n",
      "7   6.222674     7  143\n",
      "8   6.221409     8  143\n",
      "9   6.220264     9  143\n",
      "10  6.221995    10  143\n",
      "11  6.221650    11  143\n",
      "12  6.221906    12  143\n",
      "13  6.219904    13  143\n",
      "14  6.222453    14  143\n",
      "15  6.221246    15  143\n",
      "16  6.221941    16  143\n",
      "17  6.221761    17  143\n",
      "18  6.221820    18  143\n",
      "19  6.221090    19  143\n",
      "20  6.221598    20  143\n",
      "21  6.221494    21  143\n",
      "22  6.221180    22  143\n",
      "23  6.221867    23  143\n",
      "24  6.221590    24  143\n",
      "25  6.220691    25  143\n",
      "26  6.222019    26  143\n",
      "27  6.218404    27  143\n",
      "28  6.222740    28  143\n",
      "29  6.221058    29  143\n",
      "30  6.224204    30  143\n",
      "31  6.220111    31  143\n",
      "32  6.221574    32  143\n",
      "33  6.222097    33  143\n",
      "34  6.222097    34  143\n",
      "35  6.220881    35  143\n",
      "36  6.221172    36  143\n",
      "37  6.222602    37  143\n",
      "38  6.221751    38  143\n",
      "39  6.221365    39  143\n",
      "40  6.218747    40  143\n"
     ]
    },
    {
     "name": "stderr",
     "output_type": "stream",
     "text": [
      "Feature Extraction: 100%|██████████| 1/1 [00:00<00:00, 104.12it/s]"
     ]
    },
    {
     "name": "stdout",
     "output_type": "stream",
     "text": [
      "           x  time   id\n",
      "0   6.019112     0  144\n",
      "1   6.231877     1  144\n",
      "2   6.231787     2  144\n",
      "3   6.231371     3  144\n",
      "4   6.233531     4  144\n",
      "5   6.231521     5  144\n",
      "6   6.230870     6  144\n",
      "7   6.232473     7  144\n",
      "8   6.232650     8  144\n",
      "9   6.230636     9  144\n",
      "10  6.232860    10  144\n",
      "11  6.231273    11  144\n",
      "12  6.232575    12  144\n",
      "13  6.230982    13  144\n",
      "14  6.232407    14  144\n",
      "15  6.231972    15  144\n",
      "16  6.231925    16  144\n",
      "17  6.231898    17  144\n",
      "18  6.232078    18  144\n",
      "19  6.231767    19  144\n",
      "20  6.231883    20  144\n",
      "21  6.232005    21  144\n",
      "22  6.231943    22  144\n",
      "23  6.231850    23  144\n",
      "24  6.232893    24  144\n",
      "25  6.230329    25  144\n",
      "26  6.232518    26  144\n",
      "27  6.232000    27  144\n",
      "28  6.232454    28  144\n",
      "29  6.232314    29  144\n",
      "30  6.233725    30  144\n",
      "31  6.231457    31  144\n",
      "32  6.231473    32  144\n",
      "33  6.231863    33  144\n",
      "34  6.232971    34  144\n",
      "35  6.231319    35  144\n",
      "36  6.231327    36  144\n",
      "37  6.232589    37  144\n",
      "38  6.232618    38  144\n",
      "39  6.232796    39  144\n",
      "40  6.230522    40  144\n"
     ]
    },
    {
     "name": "stderr",
     "output_type": "stream",
     "text": [
      "\n",
      "Feature Extraction: 100%|██████████| 1/1 [00:00<00:00, 90.79it/s]"
     ]
    },
    {
     "name": "stdout",
     "output_type": "stream",
     "text": [
      "           x  time   id\n",
      "0   5.629583     0  145\n",
      "1   6.204239     1  145\n",
      "2   6.204950     2  145\n",
      "3   6.206621     3  145\n",
      "4   6.206069     4  145\n",
      "5   6.207715     5  145\n",
      "6   6.207311     6  145\n",
      "7   6.208868     7  145\n",
      "8   6.207296     8  145\n",
      "9   6.207649     9  145\n",
      "10  6.207061    10  145\n",
      "11  6.209809    11  145\n",
      "12  6.207504    12  145\n",
      "13  6.205460    13  145\n",
      "14  6.209273    14  145\n",
      "15  6.206884    15  145\n",
      "16  6.208060    16  145\n",
      "17  6.207412    17  145\n",
      "18  6.207175    18  145\n",
      "19  6.207528    19  145\n",
      "20  6.207545    20  145\n",
      "21  6.207473    21  145\n",
      "22  6.207330    22  145\n",
      "23  6.208356    23  145\n",
      "24  6.205977    24  145\n",
      "25  6.207393    25  145\n",
      "26  6.207700    26  145\n",
      "27  6.199215    27  145\n",
      "28  6.209518    28  145\n",
      "29  6.206157    29  145\n",
      "30  6.205567    30  145\n",
      "31  6.207866    31  145\n",
      "32  6.207095    32  145\n",
      "33  6.208610    33  145\n",
      "34  6.207432    34  145\n",
      "35  6.207260    35  145\n",
      "36  6.207049    36  145\n",
      "37  6.208172    37  145\n",
      "38  6.210252    38  145\n",
      "39  6.206391    39  145\n",
      "40  6.205493    40  145\n"
     ]
    },
    {
     "name": "stderr",
     "output_type": "stream",
     "text": [
      "\n",
      "Feature Extraction: 100%|██████████| 1/1 [00:00<00:00, 91.48it/s]\n"
     ]
    },
    {
     "name": "stdout",
     "output_type": "stream",
     "text": [
      "           x  time   id\n",
      "0   5.684354     0  146\n",
      "1   6.210719     1  146\n",
      "2   6.211031     2  146\n",
      "3   6.213643     3  146\n",
      "4   6.213881     4  146\n",
      "5   6.215460     5  146\n",
      "6   6.215535     6  146\n",
      "7   6.216203     7  146\n",
      "8   6.215665     8  146\n",
      "9   6.215779     9  146\n",
      "10  6.214755    10  146\n",
      "11  6.218326    11  146\n",
      "12  6.215093    12  146\n",
      "13  6.212617    13  146\n",
      "14  6.217536    14  146\n",
      "15  6.214444    15  146\n",
      "16  6.215294    16  146\n",
      "17  6.216048    17  146\n",
      "18  6.214170    18  146\n",
      "19  6.215456    19  146\n",
      "20  6.215116    20  146\n",
      "21  6.214555    21  146\n",
      "22  6.215611    22  146\n",
      "23  6.215359    23  146\n",
      "24  6.213084    24  146\n",
      "25  6.216004    25  146\n",
      "26  6.215263    26  146\n",
      "27  6.206058    27  146\n",
      "28  6.217934    28  146\n",
      "29  6.213540    29  146\n",
      "30  6.213258    30  146\n",
      "31  6.215914    31  146\n",
      "32  6.213848    32  146\n",
      "33  6.217006    33  146\n",
      "34  6.215186    34  146\n",
      "35  6.214390    35  146\n",
      "36  6.215721    36  146\n",
      "37  6.215897    37  146\n",
      "38  6.216971    38  146\n",
      "39  6.215415    39  146\n",
      "40  6.213980    40  146\n"
     ]
    },
    {
     "name": "stderr",
     "output_type": "stream",
     "text": [
      "Feature Extraction: 100%|██████████| 1/1 [00:00<00:00, 90.23it/s]\n"
     ]
    },
    {
     "name": "stdout",
     "output_type": "stream",
     "text": [
      "             x  time   id\n",
      "0     5.041725     0  147\n",
      "1     5.036058     1  147\n",
      "2     5.039987     2  147\n",
      "3     5.030743     3  147\n",
      "4     5.005643     4  147\n",
      "...        ...   ...  ...\n",
      "2261  5.057942  2261  147\n",
      "2262  5.035938  2262  147\n",
      "2263  5.034657  2263  147\n",
      "2264  5.027769  2264  147\n",
      "2265  5.035900  2265  147\n",
      "\n",
      "[2266 rows x 3 columns]\n"
     ]
    },
    {
     "name": "stderr",
     "output_type": "stream",
     "text": [
      "Feature Extraction: 100%|██████████| 1/1 [00:00<00:00,  2.03it/s]"
     ]
    },
    {
     "name": "stdout",
     "output_type": "stream",
     "text": [
      "             x  time   id\n",
      "0     5.838440     0  148\n",
      "1     5.814702     1  148\n",
      "2     5.835411     2  148\n",
      "3     5.821633     3  148\n",
      "4     5.821862     4  148\n",
      "...        ...   ...  ...\n",
      "2261  5.865102  2261  148\n",
      "2262  5.816944  2262  148\n",
      "2263  5.864585  2263  148\n",
      "2264  5.838789  2264  148\n",
      "2265  5.807221  2265  148\n",
      "\n",
      "[2266 rows x 3 columns]\n"
     ]
    },
    {
     "name": "stderr",
     "output_type": "stream",
     "text": [
      "\n",
      "Feature Extraction: 100%|██████████| 1/1 [00:00<00:00,  2.26it/s]"
     ]
    },
    {
     "name": "stdout",
     "output_type": "stream",
     "text": [
      "            x  time   id\n",
      "0    5.711596     0  149\n",
      "1    5.739409     1  149\n",
      "2    5.717427     2  149\n",
      "3    5.712072     3  149\n",
      "4    5.727999     4  149\n",
      "..        ...   ...  ...\n",
      "690  4.936545   690  149\n",
      "691  5.192470   691  149\n",
      "692  5.451911   692  149\n",
      "693  5.472627   693  149\n",
      "694  5.467300   694  149\n",
      "\n",
      "[695 rows x 3 columns]\n"
     ]
    },
    {
     "name": "stderr",
     "output_type": "stream",
     "text": [
      "\n",
      "Feature Extraction: 100%|██████████| 1/1 [00:00<00:00,  8.64it/s]"
     ]
    },
    {
     "name": "stdout",
     "output_type": "stream",
     "text": [
      "            x  time   id\n",
      "0    6.148912     0  150\n",
      "1    6.211132     1  150\n",
      "2    6.186500     2  150\n",
      "3    6.166297     3  150\n",
      "4    6.196610     4  150\n",
      "..        ...   ...  ...\n",
      "690  5.323455   690  150\n",
      "691  5.516192   691  150\n",
      "692  5.731046   692  150\n",
      "693  5.761785   693  150\n",
      "694  5.767582   694  150\n",
      "\n",
      "[695 rows x 3 columns]\n"
     ]
    },
    {
     "name": "stderr",
     "output_type": "stream",
     "text": [
      "\n",
      "Feature Extraction: 100%|██████████| 1/1 [00:00<00:00,  7.90it/s]"
     ]
    },
    {
     "name": "stdout",
     "output_type": "stream",
     "text": [
      "            x  time   id\n",
      "0    5.315442     0  151\n",
      "1    5.325093     1  151\n",
      "2    5.321374     2  151\n",
      "3    5.319711     3  151\n",
      "4    5.320654     4  151\n",
      "..        ...   ...  ...\n",
      "684  4.993023   684  151\n",
      "685  5.049020   685  151\n",
      "686  5.117556   686  151\n",
      "687  5.126615   687  151\n",
      "688  5.123957   688  151\n",
      "\n",
      "[689 rows x 3 columns]\n"
     ]
    },
    {
     "name": "stderr",
     "output_type": "stream",
     "text": [
      "\n",
      "Feature Extraction: 100%|██████████| 1/1 [00:00<00:00,  8.58it/s]"
     ]
    },
    {
     "name": "stdout",
     "output_type": "stream",
     "text": [
      "            x  time   id\n",
      "0    5.454029     0  152\n",
      "1    5.495573     1  152\n",
      "2    5.482974     2  152\n",
      "3    5.478547     3  152\n",
      "4    5.495180     4  152\n",
      "..        ...   ...  ...\n",
      "684  5.157046   684  152\n",
      "685  5.221847   685  152\n",
      "686  5.269186   686  152\n",
      "687  5.283542   687  152\n",
      "688  5.286165   688  152\n",
      "\n",
      "[689 rows x 3 columns]\n"
     ]
    },
    {
     "name": "stderr",
     "output_type": "stream",
     "text": [
      "\n",
      "Feature Extraction: 100%|██████████| 1/1 [00:00<00:00,  8.53it/s]"
     ]
    },
    {
     "name": "stdout",
     "output_type": "stream",
     "text": [
      "            x  time   id\n",
      "0    6.175410     0  153\n",
      "1    6.227882     1  153\n",
      "2    6.229472     2  153\n",
      "3    6.208196     3  153\n",
      "4    6.055170     4  153\n",
      "..        ...   ...  ...\n",
      "344  6.024345   344  153\n",
      "345  6.023075   345  153\n",
      "346  6.030590   346  153\n",
      "347  6.022013   347  153\n",
      "348  6.024703   348  153\n",
      "\n",
      "[349 rows x 3 columns]\n"
     ]
    },
    {
     "name": "stderr",
     "output_type": "stream",
     "text": [
      "\n",
      "Feature Extraction: 100%|██████████| 1/1 [00:00<00:00, 23.64it/s]"
     ]
    },
    {
     "name": "stdout",
     "output_type": "stream",
     "text": [
      "            x  time   id\n",
      "0    6.179800     0  154\n",
      "1    6.229883     1  154\n",
      "2    6.231316     2  154\n",
      "3    6.220151     3  154\n",
      "4    6.162123     4  154\n",
      "..        ...   ...  ...\n",
      "344  6.175597   344  154\n",
      "345  6.165705   345  154\n",
      "346  6.187267   346  154\n",
      "347  6.170089   347  154\n",
      "348  6.175468   348  154\n",
      "\n",
      "[349 rows x 3 columns]\n"
     ]
    },
    {
     "name": "stderr",
     "output_type": "stream",
     "text": [
      "\n",
      "Feature Extraction: 100%|██████████| 1/1 [00:00<00:00, 26.39it/s]"
     ]
    },
    {
     "name": "stdout",
     "output_type": "stream",
     "text": [
      "            x  time   id\n",
      "0    5.298752     0  155\n",
      "1    5.312861     1  155\n",
      "2    5.707543     2  155\n",
      "3    5.751545     3  155\n",
      "4    5.432774     4  155\n",
      "..        ...   ...  ...\n",
      "348  5.359676   348  155\n",
      "349  5.361755   349  155\n",
      "350  5.363037   350  155\n",
      "351  5.359040   351  155\n",
      "352  5.360785   352  155\n",
      "\n",
      "[353 rows x 3 columns]\n"
     ]
    },
    {
     "name": "stderr",
     "output_type": "stream",
     "text": [
      "\n",
      "Feature Extraction: 100%|██████████| 1/1 [00:00<00:00, 26.66it/s]\n"
     ]
    },
    {
     "name": "stdout",
     "output_type": "stream",
     "text": [
      "            x  time   id\n",
      "0    5.831323     0  156\n",
      "1    5.855585     1  156\n",
      "2    6.186056     2  156\n",
      "3    6.228015     3  156\n",
      "4    6.226823     4  156\n",
      "..        ...   ...  ...\n",
      "345  6.065007   345  156\n",
      "346  6.096337   346  156\n",
      "347  6.099966   347  156\n",
      "348  6.066587   348  156\n",
      "349  6.108231   349  156\n",
      "\n",
      "[350 rows x 3 columns]\n"
     ]
    },
    {
     "name": "stderr",
     "output_type": "stream",
     "text": [
      "Feature Extraction: 100%|██████████| 1/1 [00:00<00:00, 23.09it/s]\n"
     ]
    },
    {
     "name": "stdout",
     "output_type": "stream",
     "text": [
      "            x  time   id\n",
      "0    5.537128     0  157\n",
      "1    5.570848     1  157\n",
      "2    5.802752     2  157\n",
      "3    5.857693     3  157\n",
      "4    5.848969     4  157\n",
      "..        ...   ...  ...\n",
      "344  5.591069   344  157\n",
      "345  5.637367   345  157\n",
      "346  5.627676   346  157\n",
      "347  5.591251   347  157\n",
      "348  5.645457   348  157\n",
      "\n",
      "[349 rows x 3 columns]\n"
     ]
    },
    {
     "name": "stderr",
     "output_type": "stream",
     "text": [
      "Feature Extraction: 100%|██████████| 1/1 [00:00<00:00, 29.32it/s]"
     ]
    },
    {
     "name": "stdout",
     "output_type": "stream",
     "text": [
      "            x  time   id\n",
      "0    5.818132     0  158\n",
      "1    5.903732     1  158\n",
      "2    6.149509     2  158\n",
      "3    6.204788     3  158\n",
      "4    6.216292     4  158\n",
      "..        ...   ...  ...\n",
      "347  5.945950   347  158\n",
      "348  5.984237   348  158\n",
      "349  5.979093   349  158\n",
      "350  5.935738   350  158\n",
      "351  5.987256   351  158\n",
      "\n",
      "[352 rows x 3 columns]\n"
     ]
    },
    {
     "name": "stderr",
     "output_type": "stream",
     "text": [
      "\n",
      "Feature Extraction: 100%|██████████| 1/1 [00:00<00:00, 23.15it/s]\n"
     ]
    },
    {
     "name": "stdout",
     "output_type": "stream",
     "text": [
      "            x  time   id\n",
      "0    6.101063     0  159\n",
      "1    6.077744     1  159\n",
      "2    5.988598     2  159\n",
      "3    6.007217     3  159\n",
      "4    6.012415     4  159\n",
      "..        ...   ...  ...\n",
      "688  6.011766   688  159\n",
      "689  6.044805   689  159\n",
      "690  6.013508   690  159\n",
      "691  6.005272   691  159\n",
      "692  6.029113   692  159\n",
      "\n",
      "[693 rows x 3 columns]\n"
     ]
    },
    {
     "name": "stderr",
     "output_type": "stream",
     "text": [
      "Feature Extraction: 100%|██████████| 1/1 [00:00<00:00,  8.21it/s]"
     ]
    },
    {
     "name": "stdout",
     "output_type": "stream",
     "text": [
      "            x  time   id\n",
      "0    6.231518     0  160\n",
      "1    6.232340     1  160\n",
      "2    6.231807     2  160\n",
      "3    6.232443     3  160\n",
      "4    6.231013     4  160\n",
      "..        ...   ...  ...\n",
      "688  6.230649   688  160\n",
      "689  6.233130   689  160\n",
      "690  6.230544   690  160\n",
      "691  6.232631   691  160\n",
      "692  6.231410   692  160\n",
      "\n",
      "[693 rows x 3 columns]\n"
     ]
    },
    {
     "name": "stderr",
     "output_type": "stream",
     "text": [
      "\n",
      "Feature Extraction: 100%|██████████| 1/1 [00:00<00:00,  8.58it/s]"
     ]
    },
    {
     "name": "stdout",
     "output_type": "stream",
     "text": [
      "            x  time   id\n",
      "0    5.714239     0  161\n",
      "1    5.670259     1  161\n",
      "2    5.633018     2  161\n",
      "3    5.616532     3  161\n",
      "4    5.605920     4  161\n",
      "..        ...   ...  ...\n",
      "686  5.649976   686  161\n",
      "687  5.643967   687  161\n",
      "688  5.645074   688  161\n",
      "689  5.649677   689  161\n",
      "690  5.643702   690  161\n",
      "\n",
      "[691 rows x 3 columns]\n"
     ]
    },
    {
     "name": "stderr",
     "output_type": "stream",
     "text": [
      "\n",
      "Feature Extraction: 100%|██████████| 1/1 [00:00<00:00,  8.47it/s]"
     ]
    },
    {
     "name": "stdout",
     "output_type": "stream",
     "text": [
      "            x  time   id\n",
      "0    6.058273     0  162\n",
      "1    5.995729     1  162\n",
      "2    5.971715     2  162\n",
      "3    5.949682     3  162\n",
      "4    5.945925     4  162\n",
      "..        ...   ...  ...\n",
      "687  6.038670   687  162\n",
      "688  6.026927   688  162\n",
      "689  6.027142   689  162\n",
      "690  6.045002   690  162\n",
      "691  6.030046   691  162\n",
      "\n",
      "[692 rows x 3 columns]\n"
     ]
    },
    {
     "name": "stderr",
     "output_type": "stream",
     "text": [
      "\n",
      "Feature Extraction: 100%|██████████| 1/1 [00:00<00:00,  8.20it/s]"
     ]
    },
    {
     "name": "stdout",
     "output_type": "stream",
     "text": [
      "            x  time   id\n",
      "0    5.966537     0  163\n",
      "1    5.981031     1  163\n",
      "2    5.961537     2  163\n",
      "3    5.968808     3  163\n",
      "4    5.989157     4  163\n",
      "..        ...   ...  ...\n",
      "672  5.950258   672  163\n",
      "673  5.945294   673  163\n",
      "674  5.952814   674  163\n",
      "675  5.949231   675  163\n",
      "676  5.946656   676  163\n",
      "\n",
      "[677 rows x 3 columns]\n"
     ]
    },
    {
     "name": "stderr",
     "output_type": "stream",
     "text": [
      "\n",
      "Feature Extraction: 100%|██████████| 1/1 [00:00<00:00,  9.07it/s]"
     ]
    },
    {
     "name": "stdout",
     "output_type": "stream",
     "text": [
      "            x  time   id\n",
      "0    6.231738     0  164\n",
      "1    6.232556     1  164\n",
      "2    6.229472     2  164\n",
      "3    6.230704     3  164\n",
      "4    6.231994     4  164\n",
      "..        ...   ...  ...\n",
      "689  5.597495   689  164\n",
      "690  5.588511   690  164\n",
      "691  5.595975   691  164\n",
      "692  5.594932   692  164\n",
      "693  5.589071   693  164\n",
      "\n",
      "[694 rows x 3 columns]\n"
     ]
    },
    {
     "name": "stderr",
     "output_type": "stream",
     "text": [
      "\n",
      "Feature Extraction: 100%|██████████| 1/1 [00:00<00:00,  8.58it/s]"
     ]
    },
    {
     "name": "stdout",
     "output_type": "stream",
     "text": [
      "            x  time   id\n",
      "0    5.529456     0  165\n",
      "1    5.537869     1  165\n",
      "2    5.515754     2  165\n",
      "3    5.532325     3  165\n",
      "4    5.542220     4  165\n",
      "..        ...   ...  ...\n",
      "686  5.144172   686  165\n",
      "687  5.157233   687  165\n",
      "688  5.151397   688  165\n",
      "689  5.143333   689  165\n",
      "690  5.157755   690  165\n",
      "\n",
      "[691 rows x 3 columns]\n"
     ]
    },
    {
     "name": "stderr",
     "output_type": "stream",
     "text": [
      "\n",
      "Feature Extraction: 100%|██████████| 1/1 [00:00<00:00,  8.23it/s]"
     ]
    },
    {
     "name": "stdout",
     "output_type": "stream",
     "text": [
      "            x  time   id\n",
      "0    5.925830     0  166\n",
      "1    5.978350     1  166\n",
      "2    5.926957     2  166\n",
      "3    5.955189     3  166\n",
      "4    5.987991     4  166\n",
      "..        ...   ...  ...\n",
      "689  5.578594   689  166\n",
      "690  5.633844   690  166\n",
      "691  5.608836   691  166\n",
      "692  5.583561   692  166\n",
      "693  5.633867   693  166\n",
      "\n",
      "[694 rows x 3 columns]\n"
     ]
    },
    {
     "name": "stderr",
     "output_type": "stream",
     "text": [
      "\n",
      "Feature Extraction: 100%|██████████| 1/1 [00:00<00:00,  7.99it/s]"
     ]
    },
    {
     "name": "stdout",
     "output_type": "stream",
     "text": [
      "             x  time   id\n",
      "0     6.076804     0  167\n",
      "1     6.174499     1  167\n",
      "2     6.135079     2  167\n",
      "3     6.152736     3  167\n",
      "4     6.118143     4  167\n",
      "...        ...   ...  ...\n",
      "1380  5.901407  1380  167\n",
      "1381  5.983696  1381  167\n",
      "1382  5.966780  1382  167\n",
      "1383  5.980124  1383  167\n",
      "1384  5.995227  1384  167\n",
      "\n",
      "[1385 rows x 3 columns]\n"
     ]
    },
    {
     "name": "stderr",
     "output_type": "stream",
     "text": [
      "\n",
      "Feature Extraction: 100%|██████████| 1/1 [00:00<00:00,  4.12it/s]"
     ]
    },
    {
     "name": "stdout",
     "output_type": "stream",
     "text": [
      "             x  time   id\n",
      "0     6.118054     0  168\n",
      "1     6.192187     1  168\n",
      "2     6.167717     2  168\n",
      "3     6.175015     3  168\n",
      "4     6.153585     4  168\n",
      "...        ...   ...  ...\n",
      "1372  6.057851  1372  168\n",
      "1373  6.107954  1373  168\n",
      "1374  6.067402  1374  168\n",
      "1375  6.128933  1375  168\n",
      "1376  6.151710  1376  168\n",
      "\n",
      "[1377 rows x 3 columns]\n"
     ]
    },
    {
     "name": "stderr",
     "output_type": "stream",
     "text": [
      "\n",
      "Feature Extraction: 100%|██████████| 1/1 [00:00<00:00,  4.09it/s]"
     ]
    },
    {
     "name": "stdout",
     "output_type": "stream",
     "text": [
      "             x  time   id\n",
      "0     5.281676     0  169\n",
      "1     5.596590     1  169\n",
      "2     5.431917     2  169\n",
      "3     5.515628     3  169\n",
      "4     5.476503     4  169\n",
      "...        ...   ...  ...\n",
      "1391  5.255596  1391  169\n",
      "1392  5.295236  1392  169\n",
      "1393  5.283349  1393  169\n",
      "1394  5.298263  1394  169\n",
      "1395  5.302624  1395  169\n",
      "\n",
      "[1396 rows x 3 columns]\n"
     ]
    },
    {
     "name": "stderr",
     "output_type": "stream",
     "text": [
      "\n",
      "Feature Extraction: 100%|██████████| 1/1 [00:00<00:00,  4.15it/s]"
     ]
    },
    {
     "name": "stdout",
     "output_type": "stream",
     "text": [
      "             x  time   id\n",
      "0     5.729315     0  170\n",
      "1     6.018125     1  170\n",
      "2     5.911547     2  170\n",
      "3     5.948897     3  170\n",
      "4     5.940423     4  170\n",
      "...        ...   ...  ...\n",
      "1378  6.005055  1378  170\n",
      "1379  6.010344  1379  170\n",
      "1380  6.037039  1380  170\n",
      "1381  6.028326  1381  170\n",
      "1382  5.996141  1382  170\n",
      "\n",
      "[1383 rows x 3 columns]\n"
     ]
    },
    {
     "name": "stderr",
     "output_type": "stream",
     "text": [
      "\n",
      "Feature Extraction: 100%|██████████| 1/1 [00:00<00:00,  3.94it/s]"
     ]
    },
    {
     "name": "stdout",
     "output_type": "stream",
     "text": [
      "             x  time   id\n",
      "0     5.775001     0  171\n",
      "1     5.847021     1  171\n",
      "2     5.831441     2  171\n",
      "3     5.835533     3  171\n",
      "4     5.806382     4  171\n",
      "...        ...   ...  ...\n",
      "1357  5.527009  1357  171\n",
      "1358  5.534927  1358  171\n",
      "1359  5.528838  1359  171\n",
      "1360  5.535282  1360  171\n",
      "1361  5.537178  1361  171\n",
      "\n",
      "[1362 rows x 3 columns]\n"
     ]
    },
    {
     "name": "stderr",
     "output_type": "stream",
     "text": [
      "\n",
      "Feature Extraction: 100%|██████████| 1/1 [00:00<00:00,  3.71it/s]"
     ]
    },
    {
     "name": "stdout",
     "output_type": "stream",
     "text": [
      "             x  time   id\n",
      "0     6.101243     0  172\n",
      "1     6.161426     1  172\n",
      "2     6.152305     2  172\n",
      "3     6.159306     3  172\n",
      "4     6.122887     4  172\n",
      "...        ...   ...  ...\n",
      "1393  5.869523  1393  172\n",
      "1394  5.880231  1394  172\n",
      "1395  5.871487  1395  172\n",
      "1396  5.877373  1396  172\n",
      "1397  5.880675  1397  172\n",
      "\n",
      "[1398 rows x 3 columns]\n"
     ]
    },
    {
     "name": "stderr",
     "output_type": "stream",
     "text": [
      "\n",
      "Feature Extraction: 100%|██████████| 1/1 [00:00<00:00,  3.94it/s]"
     ]
    },
    {
     "name": "stdout",
     "output_type": "stream",
     "text": [
      "            x  time   id\n",
      "0    6.190650     0  173\n",
      "1    6.137064     1  173\n",
      "2    5.940852     2  173\n",
      "3    5.934435     3  173\n",
      "4    5.945893     4  173\n",
      "..        ...   ...  ...\n",
      "694  5.919329   694  173\n",
      "695  5.932310   695  173\n",
      "696  5.894891   696  173\n",
      "697  5.903132   697  173\n",
      "698  6.124030   698  173\n",
      "\n",
      "[699 rows x 3 columns]\n"
     ]
    },
    {
     "name": "stderr",
     "output_type": "stream",
     "text": [
      "\n",
      "Feature Extraction: 100%|██████████| 1/1 [00:00<00:00,  8.08it/s]"
     ]
    },
    {
     "name": "stdout",
     "output_type": "stream",
     "text": [
      "            x  time   id\n",
      "0    6.232082     0  174\n",
      "1    6.231147     1  174\n",
      "2    6.231269     2  174\n",
      "3    6.232775     3  174\n",
      "4    6.230682     4  174\n",
      "..        ...   ...  ...\n",
      "698  6.231524   698  174\n",
      "699  6.232807   699  174\n",
      "700  6.034355   700  174\n",
      "701  6.032438   701  174\n",
      "702  6.203138   702  174\n",
      "\n",
      "[703 rows x 3 columns]\n"
     ]
    },
    {
     "name": "stderr",
     "output_type": "stream",
     "text": [
      "\n",
      "Feature Extraction: 100%|██████████| 1/1 [00:00<00:00,  8.45it/s]"
     ]
    },
    {
     "name": "stdout",
     "output_type": "stream",
     "text": [
      "            x  time   id\n",
      "0    5.477360     0  175\n",
      "1    5.428943     1  175\n",
      "2    5.322842     2  175\n",
      "3    5.313931     3  175\n",
      "4    5.309123     4  175\n",
      "..        ...   ...  ...\n",
      "697  5.320987   697  175\n",
      "698  5.322258   698  175\n",
      "699  5.460910   699  175\n",
      "700  5.299644   700  175\n",
      "701  5.328600   701  175\n",
      "\n",
      "[702 rows x 3 columns]\n"
     ]
    },
    {
     "name": "stderr",
     "output_type": "stream",
     "text": [
      "\n",
      "Feature Extraction: 100%|██████████| 1/1 [00:00<00:00,  7.72it/s]"
     ]
    },
    {
     "name": "stdout",
     "output_type": "stream",
     "text": [
      "            x  time   id\n",
      "0    5.862488     0  176\n",
      "1    5.805252     1  176\n",
      "2    5.692867     2  176\n",
      "3    5.680853     3  176\n",
      "4    5.670608     4  176\n",
      "..        ...   ...  ...\n",
      "698  5.693008   698  176\n",
      "699  5.705855   699  176\n",
      "700  5.781879   700  176\n",
      "701  5.681991   701  176\n",
      "702  5.706991   702  176\n",
      "\n",
      "[703 rows x 3 columns]\n"
     ]
    },
    {
     "name": "stderr",
     "output_type": "stream",
     "text": [
      "\n",
      "Feature Extraction: 100%|██████████| 1/1 [00:00<00:00,  8.63it/s]"
     ]
    },
    {
     "name": "stdout",
     "output_type": "stream",
     "text": [
      "            x  time   id\n",
      "0    6.071342     0  177\n",
      "1    6.072412     1  177\n",
      "2    6.147455     2  177\n",
      "3    6.231405     3  177\n",
      "4    6.232203     4  177\n",
      "..        ...   ...  ...\n",
      "173  6.177138   173  177\n",
      "174  6.050486   174  177\n",
      "175  6.198211   175  177\n",
      "176  6.232641   176  177\n",
      "177  6.231294   177  177\n",
      "\n",
      "[178 rows x 3 columns]\n"
     ]
    },
    {
     "name": "stderr",
     "output_type": "stream",
     "text": [
      "\n",
      "Feature Extraction: 100%|██████████| 1/1 [00:00<00:00, 41.86it/s]\n"
     ]
    },
    {
     "name": "stdout",
     "output_type": "stream",
     "text": [
      "            x  time   id\n",
      "0    6.098038     0  178\n",
      "1    6.134113     1  178\n",
      "2    6.184360     2  178\n",
      "3    6.231513     3  178\n",
      "4    6.232365     4  178\n",
      "..        ...   ...  ...\n",
      "173  6.211605   173  178\n",
      "174  6.113858   174  178\n",
      "175  6.227013   175  178\n",
      "176  6.232498   176  178\n",
      "177  6.231273   177  178\n",
      "\n",
      "[178 rows x 3 columns]\n"
     ]
    },
    {
     "name": "stderr",
     "output_type": "stream",
     "text": [
      "Feature Extraction: 100%|██████████| 1/1 [00:00<00:00, 50.34it/s]"
     ]
    },
    {
     "name": "stdout",
     "output_type": "stream",
     "text": [
      "            x  time   id\n",
      "0    5.830954     0  179\n",
      "1    5.782059     1  179\n",
      "2    5.878576     2  179\n",
      "3    5.700723     3  179\n",
      "4    5.702061     4  179\n",
      "..        ...   ...  ...\n",
      "173  5.971831   173  179\n",
      "174  5.599601   174  179\n",
      "175  5.780545   175  179\n",
      "176  5.682949   176  179\n",
      "177  5.685690   177  179\n",
      "\n",
      "[178 rows x 3 columns]\n"
     ]
    },
    {
     "name": "stderr",
     "output_type": "stream",
     "text": [
      "\n",
      "Feature Extraction: 100%|██████████| 1/1 [00:00<00:00, 40.43it/s]\n"
     ]
    },
    {
     "name": "stdout",
     "output_type": "stream",
     "text": [
      "            x  time   id\n",
      "0    5.911096     0  180\n",
      "1    5.897365     1  180\n",
      "2    6.011527     2  180\n",
      "3    5.854777     3  180\n",
      "4    5.865837     4  180\n",
      "..        ...   ...  ...\n",
      "173  6.097537   173  180\n",
      "174  5.716106   174  180\n",
      "175  5.930191   175  180\n",
      "176  5.855386   176  180\n",
      "177  5.859372   177  180\n",
      "\n",
      "[178 rows x 3 columns]\n"
     ]
    },
    {
     "name": "stderr",
     "output_type": "stream",
     "text": [
      "Feature Extraction: 100%|██████████| 1/1 [00:00<00:00, 42.82it/s]"
     ]
    },
    {
     "name": "stdout",
     "output_type": "stream",
     "text": [
      "            x  time   id\n",
      "0    5.761818     0  181\n",
      "1    5.703564     1  181\n",
      "2    5.823702     2  181\n",
      "3    5.679040     3  181\n",
      "4    5.681014     4  181\n",
      "..        ...   ...  ...\n",
      "173  5.856155   173  181\n",
      "174  5.715209   174  181\n",
      "175  5.697166   175  181\n",
      "176  5.683582   176  181\n",
      "177  5.679102   177  181\n",
      "\n",
      "[178 rows x 3 columns]\n"
     ]
    },
    {
     "name": "stderr",
     "output_type": "stream",
     "text": [
      "\n",
      "Feature Extraction: 100%|██████████| 1/1 [00:00<00:00, 42.90it/s]"
     ]
    },
    {
     "name": "stdout",
     "output_type": "stream",
     "text": [
      "            x  time   id\n",
      "0    6.079118     0  182\n",
      "1    6.047839     1  182\n",
      "2    6.144303     2  182\n",
      "3    6.218066     3  182\n",
      "4    6.230153     4  182\n",
      "..        ...   ...  ...\n",
      "173  6.153325   173  182\n",
      "174  6.022934   174  182\n",
      "175  6.119246   175  182\n",
      "176  6.231513   176  182\n",
      "177  6.231498   177  182\n",
      "\n",
      "[178 rows x 3 columns]\n"
     ]
    },
    {
     "name": "stderr",
     "output_type": "stream",
     "text": [
      "\n",
      "Feature Extraction: 100%|██████████| 1/1 [00:00<00:00, 45.72it/s]"
     ]
    },
    {
     "name": "stdout",
     "output_type": "stream",
     "text": [
      "            x  time   id\n",
      "0    4.941156     0  183\n",
      "1    4.881047     1  183\n",
      "2    5.083636     2  183\n",
      "3    5.160580     3  183\n",
      "4    5.164635     4  183\n",
      "..        ...   ...  ...\n",
      "173  5.270456   173  183\n",
      "174  5.120603   174  183\n",
      "175  5.018877   175  183\n",
      "176  5.167425   176  183\n",
      "177  5.166804   177  183\n",
      "\n",
      "[178 rows x 3 columns]\n"
     ]
    },
    {
     "name": "stderr",
     "output_type": "stream",
     "text": [
      "\n",
      "Feature Extraction: 100%|██████████| 1/1 [00:00<00:00, 43.92it/s]"
     ]
    },
    {
     "name": "stdout",
     "output_type": "stream",
     "text": [
      "            x  time   id\n",
      "0    5.045168     0  184\n",
      "1    5.021859     1  184\n",
      "2    5.197445     2  184\n",
      "3    5.288796     3  184\n",
      "4    5.314831     4  184\n",
      "..        ...   ...  ...\n",
      "173  5.396044   173  184\n",
      "174  5.318977   174  184\n",
      "175  5.115720   175  184\n",
      "176  5.273045   176  184\n",
      "177  5.296350   177  184\n",
      "\n",
      "[178 rows x 3 columns]\n"
     ]
    },
    {
     "name": "stderr",
     "output_type": "stream",
     "text": [
      "\n",
      "Feature Extraction: 100%|██████████| 1/1 [00:00<00:00, 47.72it/s]"
     ]
    },
    {
     "name": "stdout",
     "output_type": "stream",
     "text": [
      "            x  time   id\n",
      "0    5.221802     0  185\n",
      "1    5.193438     1  185\n",
      "2    5.216361     2  185\n",
      "3    5.196875     3  185\n",
      "4    5.185524     4  185\n",
      "..        ...   ...  ...\n",
      "804  5.208408   804  185\n",
      "805  5.215817   805  185\n",
      "806  5.219783   806  185\n",
      "807  5.217369   807  185\n",
      "808  5.203119   808  185\n",
      "\n",
      "[809 rows x 3 columns]\n"
     ]
    },
    {
     "name": "stderr",
     "output_type": "stream",
     "text": [
      "\n",
      "Feature Extraction: 100%|██████████| 1/1 [00:00<00:00,  7.04it/s]\n"
     ]
    },
    {
     "name": "stdout",
     "output_type": "stream",
     "text": [
      "            x  time   id\n",
      "0    5.835585     0  186\n",
      "1    5.832142     1  186\n",
      "2    5.852656     2  186\n",
      "3    5.835467     3  186\n",
      "4    5.846873     4  186\n",
      "..        ...   ...  ...\n",
      "804  5.824011   804  186\n",
      "805  5.836741   805  186\n",
      "806  5.856683   806  186\n",
      "807  5.834827   807  186\n",
      "808  5.847845   808  186\n",
      "\n",
      "[809 rows x 3 columns]\n"
     ]
    },
    {
     "name": "stderr",
     "output_type": "stream",
     "text": [
      "Feature Extraction: 100%|██████████| 1/1 [00:00<00:00,  6.84it/s]\n"
     ]
    },
    {
     "name": "stdout",
     "output_type": "stream",
     "text": [
      "            x  time   id\n",
      "0    5.792401     0  187\n",
      "1    5.778251     1  187\n",
      "2    5.803932     2  187\n",
      "3    5.811988     3  187\n",
      "4    5.806164     4  187\n",
      "..        ...   ...  ...\n",
      "128  5.805345   128  187\n",
      "129  5.790500   129  187\n",
      "130  5.796125   130  187\n",
      "131  5.789303   131  187\n",
      "132  5.767193   132  187\n",
      "\n",
      "[133 rows x 3 columns]\n"
     ]
    },
    {
     "name": "stderr",
     "output_type": "stream",
     "text": [
      "Feature Extraction: 100%|██████████| 1/1 [00:00<00:00, 62.57it/s]"
     ]
    },
    {
     "name": "stdout",
     "output_type": "stream",
     "text": [
      "            x  time   id\n",
      "0    5.887959     0  188\n",
      "1    5.924971     1  188\n",
      "2    5.986551     2  188\n",
      "3    6.013761     3  188\n",
      "4    6.012253     4  188\n",
      "..        ...   ...  ...\n",
      "128  6.130463   128  188\n",
      "129  6.077169   129  188\n",
      "130  6.102595   130  188\n",
      "131  6.130892   131  188\n",
      "132  6.085948   132  188\n",
      "\n",
      "[133 rows x 3 columns]\n"
     ]
    },
    {
     "name": "stderr",
     "output_type": "stream",
     "text": [
      "\n",
      "Feature Extraction: 100%|██████████| 1/1 [00:00<00:00, 58.23it/s]"
     ]
    },
    {
     "name": "stdout",
     "output_type": "stream",
     "text": [
      "            x  time   id\n",
      "0    4.952317     0  189\n",
      "1    4.909236     1  189\n",
      "2    5.017503     2  189\n",
      "3    5.030897     3  189\n",
      "4    5.002248     4  189\n",
      "..        ...   ...  ...\n",
      "478  4.640402   478  189\n",
      "479  4.923107   479  189\n",
      "480  4.899270   480  189\n",
      "481  4.876087   481  189\n",
      "482  4.807822   482  189\n",
      "\n",
      "[483 rows x 3 columns]\n"
     ]
    },
    {
     "name": "stderr",
     "output_type": "stream",
     "text": [
      "\n",
      "Feature Extraction: 100%|██████████| 1/1 [00:00<00:00, 14.06it/s]"
     ]
    },
    {
     "name": "stdout",
     "output_type": "stream",
     "text": [
      "            x  time   id\n",
      "0    6.222755     0  190\n",
      "1    6.227916     1  190\n",
      "2    6.226965     2  190\n",
      "3    6.229267     3  190\n",
      "4    6.225702     4  190\n",
      "..        ...   ...  ...\n",
      "351  6.050539   351  190\n",
      "352  6.058880   352  190\n",
      "353  6.054369   353  190\n",
      "354  6.048902   354  190\n",
      "355  6.061600   355  190\n",
      "\n",
      "[356 rows x 3 columns]\n"
     ]
    },
    {
     "name": "stderr",
     "output_type": "stream",
     "text": [
      "\n",
      "Feature Extraction: 100%|██████████| 1/1 [00:00<00:00, 25.18it/s]"
     ]
    },
    {
     "name": "stdout",
     "output_type": "stream",
     "text": [
      "            x  time   id\n",
      "0    6.224468     0  191\n",
      "1    6.229013     1  191\n",
      "2    6.228715     2  191\n",
      "3    6.231038     3  191\n",
      "4    6.228052     4  191\n",
      "..        ...   ...  ...\n",
      "351  6.203579   351  191\n",
      "352  6.221038   352  191\n",
      "353  6.229661   353  191\n",
      "354  6.206908   354  191\n",
      "355  6.229705   355  191\n",
      "\n",
      "[356 rows x 3 columns]\n"
     ]
    },
    {
     "name": "stderr",
     "output_type": "stream",
     "text": [
      "\n",
      "Feature Extraction: 100%|██████████| 1/1 [00:00<00:00, 24.39it/s]"
     ]
    },
    {
     "name": "stdout",
     "output_type": "stream",
     "text": [
      "            x  time   id\n",
      "0    6.205503     0  192\n",
      "1    6.228656     1  192\n",
      "2    6.228138     2  192\n",
      "3    6.229138     3  192\n",
      "4    6.226771     4  192\n",
      "..        ...   ...  ...\n",
      "351  6.046569   351  192\n",
      "352  6.013982   352  192\n",
      "353  6.022920   353  192\n",
      "354  6.037360   354  192\n",
      "355  6.005768   355  192\n",
      "\n",
      "[356 rows x 3 columns]\n"
     ]
    },
    {
     "name": "stderr",
     "output_type": "stream",
     "text": [
      "\n",
      "Feature Extraction: 100%|██████████| 1/1 [00:00<00:00, 24.55it/s]\n"
     ]
    },
    {
     "name": "stdout",
     "output_type": "stream",
     "text": [
      "            x  time   id\n",
      "0    6.213018     0  193\n",
      "1    6.230200     1  193\n",
      "2    6.230113     2  193\n",
      "3    6.230979     3  193\n",
      "4    6.229640     4  193\n",
      "..        ...   ...  ...\n",
      "351  6.232425   351  193\n",
      "352  6.231879   352  193\n",
      "353  6.231520   353  193\n",
      "354  6.232374   354  193\n",
      "355  6.232328   355  193\n",
      "\n",
      "[356 rows x 3 columns]\n"
     ]
    },
    {
     "name": "stderr",
     "output_type": "stream",
     "text": [
      "Feature Extraction: 100%|██████████| 1/1 [00:00<00:00, 27.60it/s]\n"
     ]
    },
    {
     "name": "stdout",
     "output_type": "stream",
     "text": [
      "            x  time   id\n",
      "0    6.228461     0  194\n",
      "1    6.229528     1  194\n",
      "2    6.229241     2  194\n",
      "3    6.224121     3  194\n",
      "4    6.226521     4  194\n",
      "..        ...   ...  ...\n",
      "351  6.051805   351  194\n",
      "352  6.053079   352  194\n",
      "353  6.053505   353  194\n",
      "354  6.049909   354  194\n",
      "355  6.050262   355  194\n",
      "\n",
      "[356 rows x 3 columns]\n"
     ]
    },
    {
     "name": "stderr",
     "output_type": "stream",
     "text": [
      "Feature Extraction: 100%|██████████| 1/1 [00:00<00:00, 26.42it/s]\n"
     ]
    },
    {
     "name": "stdout",
     "output_type": "stream",
     "text": [
      "            x  time   id\n",
      "0    6.231194     0  195\n",
      "1    6.231788     1  195\n",
      "2    6.230961     2  195\n",
      "3    6.228685     3  195\n",
      "4    6.229669     4  195\n",
      "..        ...   ...  ...\n",
      "351  6.231988   351  195\n",
      "352  6.231753   352  195\n",
      "353  6.231927   353  195\n",
      "354  6.231601   354  195\n",
      "355  6.232180   355  195\n",
      "\n",
      "[356 rows x 3 columns]\n"
     ]
    },
    {
     "name": "stderr",
     "output_type": "stream",
     "text": [
      "Feature Extraction: 100%|██████████| 1/1 [00:00<00:00, 25.82it/s]\n"
     ]
    },
    {
     "name": "stdout",
     "output_type": "stream",
     "text": [
      "            x  time   id\n",
      "0    5.624394     0  196\n",
      "1    5.625394     1  196\n",
      "2    5.634637     2  196\n",
      "3    5.620342     3  196\n",
      "4    5.611883     4  196\n",
      "..        ...   ...  ...\n",
      "351  5.403406   351  196\n",
      "352  5.405440   352  196\n",
      "353  5.405040   353  196\n",
      "354  5.406232   354  196\n",
      "355  5.407703   355  196\n",
      "\n",
      "[356 rows x 3 columns]\n"
     ]
    },
    {
     "name": "stderr",
     "output_type": "stream",
     "text": [
      "Feature Extraction: 100%|██████████| 1/1 [00:00<00:00, 27.52it/s]\n"
     ]
    },
    {
     "name": "stdout",
     "output_type": "stream",
     "text": [
      "            x  time   id\n",
      "0    5.978274     0  197\n",
      "1    5.994019     1  197\n",
      "2    6.028450     2  197\n",
      "3    6.005260     3  197\n",
      "4    5.991407     4  197\n",
      "..        ...   ...  ...\n",
      "351  5.772610   351  197\n",
      "352  5.808206   352  197\n",
      "353  5.788061   353  197\n",
      "354  5.801169   354  197\n",
      "355  5.809457   355  197\n",
      "\n",
      "[356 rows x 3 columns]\n"
     ]
    },
    {
     "name": "stderr",
     "output_type": "stream",
     "text": [
      "Feature Extraction: 100%|██████████| 1/1 [00:00<00:00, 27.90it/s]"
     ]
    },
    {
     "name": "stdout",
     "output_type": "stream",
     "text": [
      "             x  time   id\n",
      "0     0.362842     0  198\n",
      "1     0.417743     1  198\n",
      "2     0.392522     2  198\n",
      "3     0.434505     3  198\n",
      "4     0.345348     4  198\n",
      "...        ...   ...  ...\n",
      "1256  0.327290  1256  198\n",
      "1257  0.358956  1257  198\n",
      "1258  0.362442  1258  198\n",
      "1259  0.428848  1259  198\n",
      "1260  0.369017  1260  198\n",
      "\n",
      "[1261 rows x 3 columns]\n"
     ]
    },
    {
     "name": "stderr",
     "output_type": "stream",
     "text": [
      "\n",
      "Feature Extraction: 100%|██████████| 1/1 [00:00<00:00,  4.08it/s]"
     ]
    },
    {
     "name": "stdout",
     "output_type": "stream",
     "text": [
      "             x  time   id\n",
      "0     0.947357     0  199\n",
      "1     0.983345     1  199\n",
      "2     0.970342     2  199\n",
      "3     0.995727     3  199\n",
      "4     0.935992     4  199\n",
      "...        ...   ...  ...\n",
      "1253  0.927299  1253  199\n",
      "1254  0.948545  1254  199\n",
      "1255  0.950118  1255  199\n",
      "1256  0.993772  1256  199\n",
      "1257  0.953974  1257  199\n",
      "\n",
      "[1258 rows x 3 columns]\n"
     ]
    },
    {
     "name": "stderr",
     "output_type": "stream",
     "text": [
      "\n",
      "Feature Extraction: 100%|██████████| 1/1 [00:00<00:00,  4.64it/s]"
     ]
    },
    {
     "name": "stdout",
     "output_type": "stream",
     "text": [
      "             x  time   id\n",
      "0     0.398842     0  200\n",
      "1     0.488651     1  200\n",
      "2     0.481642     2  200\n",
      "3     0.458699     3  200\n",
      "4     0.425921     4  200\n",
      "...        ...   ...  ...\n",
      "1248  0.333388  1248  200\n",
      "1249  0.387466  1249  200\n",
      "1250  0.343759  1250  200\n",
      "1251  0.340337  1251  200\n",
      "1252  0.327420  1252  200\n",
      "\n",
      "[1253 rows x 3 columns]\n"
     ]
    },
    {
     "name": "stderr",
     "output_type": "stream",
     "text": [
      "\n",
      "Feature Extraction: 100%|██████████| 1/1 [00:00<00:00,  4.62it/s]"
     ]
    },
    {
     "name": "stdout",
     "output_type": "stream",
     "text": [
      "             x  time   id\n",
      "0     0.837974     0  201\n",
      "1     0.887447     1  201\n",
      "2     0.882656     2  201\n",
      "3     0.870459     3  201\n",
      "4     0.852855     4  201\n",
      "...        ...   ...  ...\n",
      "1247  0.805007  1247  201\n",
      "1248  0.833408  1248  201\n",
      "1249  0.810348  1249  201\n",
      "1250  0.808642  1250  201\n",
      "1251  0.802402  1251  201\n",
      "\n",
      "[1252 rows x 3 columns]\n"
     ]
    },
    {
     "name": "stderr",
     "output_type": "stream",
     "text": [
      "\n",
      "Feature Extraction: 100%|██████████| 1/1 [00:00<00:00,  4.81it/s]"
     ]
    },
    {
     "name": "stdout",
     "output_type": "stream",
     "text": [
      "             x  time   id\n",
      "0     0.406773     0  202\n",
      "1     0.434490     1  202\n",
      "2     0.406196     2  202\n",
      "3     0.476628     3  202\n",
      "4     0.439604     4  202\n",
      "...        ...   ...  ...\n",
      "1249  0.435107  1249  202\n",
      "1250  0.361644  1250  202\n",
      "1251  0.359654  1251  202\n",
      "1252  0.331541  1252  202\n",
      "1253  0.434966  1253  202\n",
      "\n",
      "[1254 rows x 3 columns]\n"
     ]
    },
    {
     "name": "stderr",
     "output_type": "stream",
     "text": [
      "\n",
      "Feature Extraction: 100%|██████████| 1/1 [00:00<00:00,  4.72it/s]"
     ]
    },
    {
     "name": "stdout",
     "output_type": "stream",
     "text": [
      "             x  time   id\n",
      "0     0.623337     0  203\n",
      "1     0.649004     1  203\n",
      "2     0.625380     2  203\n",
      "3     0.691030     3  203\n",
      "4     0.656018     4  203\n",
      "...        ...   ...  ...\n",
      "1249  0.656721  1249  203\n",
      "1250  0.588755  1250  203\n",
      "1251  0.585126  1251  203\n",
      "1252  0.559331  1252  203\n",
      "1253  0.664932  1253  203\n",
      "\n",
      "[1254 rows x 3 columns]\n"
     ]
    },
    {
     "name": "stderr",
     "output_type": "stream",
     "text": [
      "\n",
      "Feature Extraction: 100%|██████████| 1/1 [00:00<00:00,  4.74it/s]"
     ]
    },
    {
     "name": "stdout",
     "output_type": "stream",
     "text": [
      "            x  time   id\n",
      "0    6.231301     0  204\n",
      "1    6.232622     1  204\n",
      "2    6.231790     2  204\n",
      "3    6.231895     3  204\n",
      "4    6.232377     4  204\n",
      "..        ...   ...  ...\n",
      "217  6.231645   217  204\n",
      "218  6.231816   218  204\n",
      "219  6.231843   219  204\n",
      "220  6.232173   220  204\n",
      "221  6.231741   221  204\n",
      "\n",
      "[222 rows x 3 columns]\n"
     ]
    },
    {
     "name": "stderr",
     "output_type": "stream",
     "text": [
      "\n",
      "Feature Extraction: 100%|██████████| 1/1 [00:00<00:00, 36.82it/s]"
     ]
    },
    {
     "name": "stdout",
     "output_type": "stream",
     "text": [
      "            x  time   id\n",
      "0    6.231427     0  205\n",
      "1    6.232581     1  205\n",
      "2    6.231770     2  205\n",
      "3    6.231863     3  205\n",
      "4    6.232418     4  205\n",
      "..        ...   ...  ...\n",
      "217  6.231592   217  205\n",
      "218  6.231926   218  205\n",
      "219  6.231727   219  205\n",
      "220  6.232260   220  205\n",
      "221  6.231757   221  205\n",
      "\n",
      "[222 rows x 3 columns]\n"
     ]
    },
    {
     "name": "stderr",
     "output_type": "stream",
     "text": [
      "\n",
      "Feature Extraction: 100%|██████████| 1/1 [00:00<00:00, 40.18it/s]"
     ]
    },
    {
     "name": "stdout",
     "output_type": "stream",
     "text": [
      "            x  time   id\n",
      "0    6.231863     0  206\n",
      "1    6.232457     1  206\n",
      "2    6.231787     2  206\n",
      "3    6.231951     3  206\n",
      "4    6.231644     4  206\n",
      "..        ...   ...  ...\n",
      "217  6.232722   217  206\n",
      "218  6.231926   218  206\n",
      "219  6.231994   219  206\n",
      "220  6.231879   220  206\n",
      "221  6.231858   221  206\n",
      "\n",
      "[222 rows x 3 columns]\n"
     ]
    },
    {
     "name": "stderr",
     "output_type": "stream",
     "text": [
      "\n",
      "Feature Extraction: 100%|██████████| 1/1 [00:00<00:00, 40.35it/s]"
     ]
    },
    {
     "name": "stdout",
     "output_type": "stream",
     "text": [
      "            x  time   id\n",
      "0    6.231906     0  207\n",
      "1    6.232492     1  207\n",
      "2    6.231772     2  207\n",
      "3    6.232017     3  207\n",
      "4    6.231631     4  207\n",
      "..        ...   ...  ...\n",
      "217  6.232650   217  207\n",
      "218  6.231992   218  207\n",
      "219  6.231981   219  207\n",
      "220  6.232039   220  207\n",
      "221  6.231727   221  207\n",
      "\n",
      "[222 rows x 3 columns]\n"
     ]
    },
    {
     "name": "stderr",
     "output_type": "stream",
     "text": [
      "\n",
      "Feature Extraction: 100%|██████████| 1/1 [00:00<00:00, 43.06it/s]\n"
     ]
    },
    {
     "name": "stdout",
     "output_type": "stream",
     "text": [
      "            x  time   id\n",
      "0    6.228578     0  208\n",
      "1    6.229301     1  208\n",
      "2    6.229103     2  208\n",
      "3    6.229462     3  208\n",
      "4    6.230479     4  208\n",
      "..        ...   ...  ...\n",
      "702  5.300256   702  208\n",
      "703  5.280926   703  208\n",
      "704  5.314351   704  208\n",
      "705  5.281982   705  208\n",
      "706  5.296868   706  208\n",
      "\n",
      "[707 rows x 3 columns]\n"
     ]
    },
    {
     "name": "stderr",
     "output_type": "stream",
     "text": [
      "Feature Extraction: 100%|██████████| 1/1 [00:00<00:00,  7.24it/s]\n"
     ]
    },
    {
     "name": "stdout",
     "output_type": "stream",
     "text": [
      "            x  time   id\n",
      "0    6.230929     0  209\n",
      "1    6.231588     1  209\n",
      "2    6.231379     2  209\n",
      "3    6.231289     3  209\n",
      "4    6.232448     4  209\n",
      "..        ...   ...  ...\n",
      "702  5.522847   702  209\n",
      "703  5.464596   703  209\n",
      "704  5.492365   704  209\n",
      "705  5.468294   705  209\n",
      "706  5.474646   706  209\n",
      "\n",
      "[707 rows x 3 columns]\n"
     ]
    },
    {
     "name": "stderr",
     "output_type": "stream",
     "text": [
      "Feature Extraction: 100%|██████████| 1/1 [00:00<00:00,  8.62it/s]"
     ]
    },
    {
     "name": "stdout",
     "output_type": "stream",
     "text": [
      "            x  time   id\n",
      "0    5.973816     0  210\n",
      "1    5.968336     1  210\n",
      "2    5.981760     2  210\n",
      "3    5.998375     3  210\n",
      "4    5.984156     4  210\n",
      "..        ...   ...  ...\n",
      "702  4.751707   702  210\n",
      "703  4.736803   703  210\n",
      "704  4.729683   704  210\n",
      "705  4.727086   705  210\n",
      "706  4.738812   706  210\n",
      "\n",
      "[707 rows x 3 columns]\n"
     ]
    },
    {
     "name": "stderr",
     "output_type": "stream",
     "text": [
      "\n",
      "Feature Extraction: 100%|██████████| 1/1 [00:00<00:00,  7.61it/s]"
     ]
    },
    {
     "name": "stdout",
     "output_type": "stream",
     "text": [
      "            x  time   id\n",
      "0    6.174000     0  211\n",
      "1    6.157951     1  211\n",
      "2    6.192387     2  211\n",
      "3    6.208648     3  211\n",
      "4    6.192866     4  211\n",
      "..        ...   ...  ...\n",
      "702  4.882838   702  211\n",
      "703  4.851050   703  211\n",
      "704  4.863577   704  211\n",
      "705  4.824438   705  211\n",
      "706  4.837195   706  211\n",
      "\n",
      "[707 rows x 3 columns]\n"
     ]
    },
    {
     "name": "stderr",
     "output_type": "stream",
     "text": [
      "\n",
      "Feature Extraction: 100%|██████████| 1/1 [00:00<00:00,  8.84it/s]"
     ]
    },
    {
     "name": "stdout",
     "output_type": "stream",
     "text": [
      "            x  time   id\n",
      "0    5.712147     0  212\n",
      "1    5.724613     1  212\n",
      "2    5.738039     2  212\n",
      "3    5.734834     3  212\n",
      "4    5.743207     4  212\n",
      "..        ...   ...  ...\n",
      "702  4.934335   702  212\n",
      "703  4.954371   703  212\n",
      "704  5.112732   704  212\n",
      "705  4.982575   705  212\n",
      "706  4.941155   706  212\n",
      "\n",
      "[707 rows x 3 columns]\n"
     ]
    },
    {
     "name": "stderr",
     "output_type": "stream",
     "text": [
      "\n",
      "Feature Extraction: 100%|██████████| 1/1 [00:00<00:00,  8.49it/s]"
     ]
    },
    {
     "name": "stdout",
     "output_type": "stream",
     "text": [
      "            x  time   id\n",
      "0    6.230581     0  213\n",
      "1    6.231044     1  213\n",
      "2    6.230793     2  213\n",
      "3    6.230609     3  213\n",
      "4    6.230989     4  213\n",
      "..        ...   ...  ...\n",
      "702  5.352661   702  213\n",
      "703  5.362423   703  213\n",
      "704  5.428025   704  213\n",
      "705  5.374398   705  213\n",
      "706  5.347913   706  213\n",
      "\n",
      "[707 rows x 3 columns]\n"
     ]
    },
    {
     "name": "stderr",
     "output_type": "stream",
     "text": [
      "\n",
      "Feature Extraction: 100%|██████████| 1/1 [00:00<00:00,  6.12it/s]"
     ]
    },
    {
     "name": "stdout",
     "output_type": "stream",
     "text": [
      "            x  time   id\n",
      "0    5.887751     0  214\n",
      "1    5.916170     1  214\n",
      "2    5.938216     2  214\n",
      "3    5.900574     3  214\n",
      "4    5.938448     4  214\n",
      "..        ...   ...  ...\n",
      "702  5.587215   702  214\n",
      "703  5.587773   703  214\n",
      "704  5.586051   704  214\n",
      "705  5.588650   705  214\n",
      "706  5.586885   706  214\n",
      "\n",
      "[707 rows x 3 columns]\n"
     ]
    },
    {
     "name": "stderr",
     "output_type": "stream",
     "text": [
      "\n",
      "Feature Extraction: 100%|██████████| 1/1 [00:00<00:00,  8.75it/s]"
     ]
    },
    {
     "name": "stdout",
     "output_type": "stream",
     "text": [
      "            x  time   id\n",
      "0    5.832367     0  215\n",
      "1    5.857507     1  215\n",
      "2    5.872262     2  215\n",
      "3    5.863117     3  215\n",
      "4    5.872426     4  215\n",
      "..        ...   ...  ...\n",
      "699  5.574403   699  215\n",
      "700  5.578689   700  215\n",
      "701  5.575368   701  215\n",
      "702  5.578499   702  215\n",
      "703  5.577853   703  215\n",
      "\n",
      "[704 rows x 3 columns]\n"
     ]
    },
    {
     "name": "stderr",
     "output_type": "stream",
     "text": [
      "\n",
      "Feature Extraction: 100%|██████████| 1/1 [00:00<00:00,  9.03it/s]"
     ]
    },
    {
     "name": "stdout",
     "output_type": "stream",
     "text": [
      "            x  time   id\n",
      "0    6.126899     0  216\n",
      "1    6.108494     1  216\n",
      "2    6.099852     2  216\n",
      "3    6.127823     3  216\n",
      "4    6.104248     4  216\n",
      "..        ...   ...  ...\n",
      "694  6.141266   694  216\n",
      "695  6.115427   695  216\n",
      "696  6.128290   696  216\n",
      "697  6.136442   697  216\n",
      "698  6.118208   698  216\n",
      "\n",
      "[699 rows x 3 columns]\n"
     ]
    },
    {
     "name": "stderr",
     "output_type": "stream",
     "text": [
      "\n",
      "Feature Extraction: 100%|██████████| 1/1 [00:00<00:00,  7.40it/s]"
     ]
    },
    {
     "name": "stdout",
     "output_type": "stream",
     "text": [
      "            x  time   id\n",
      "0    6.230511     0  217\n",
      "1    6.231017     1  217\n",
      "2    6.229585     2  217\n",
      "3    6.230681     3  217\n",
      "4    6.229742     4  217\n",
      "..        ...   ...  ...\n",
      "702  5.921536   702  217\n",
      "703  5.864445   703  217\n",
      "704  5.886060   704  217\n",
      "705  5.923522   705  217\n",
      "706  5.876395   706  217\n",
      "\n",
      "[707 rows x 3 columns]\n"
     ]
    },
    {
     "name": "stderr",
     "output_type": "stream",
     "text": [
      "\n",
      "Feature Extraction: 100%|██████████| 1/1 [00:00<00:00,  8.36it/s]"
     ]
    },
    {
     "name": "stdout",
     "output_type": "stream",
     "text": [
      "            x  time   id\n",
      "0    5.449693     0  218\n",
      "1    5.461536     1  218\n",
      "2    5.443479     2  218\n",
      "3    5.458325     3  218\n",
      "4    5.466799     4  218\n",
      "..        ...   ...  ...\n",
      "701  5.059091   701  218\n",
      "702  5.058657   702  218\n",
      "703  5.055844   703  218\n",
      "704  5.059777   704  218\n",
      "705  5.057765   705  218\n",
      "\n",
      "[706 rows x 3 columns]\n"
     ]
    },
    {
     "name": "stderr",
     "output_type": "stream",
     "text": [
      "\n",
      "Feature Extraction: 100%|██████████| 1/1 [00:00<00:00,  9.25it/s]"
     ]
    },
    {
     "name": "stdout",
     "output_type": "stream",
     "text": [
      "            x  time   id\n",
      "0    5.831863     0  219\n",
      "1    5.863512     1  219\n",
      "2    5.837905     2  219\n",
      "3    5.865207     3  219\n",
      "4    5.882035     4  219\n",
      "..        ...   ...  ...\n",
      "702  5.510822   702  219\n",
      "703  5.490034   703  219\n",
      "704  5.496396   704  219\n",
      "705  5.517827   705  219\n",
      "706  5.516194   706  219\n",
      "\n",
      "[707 rows x 3 columns]\n"
     ]
    },
    {
     "name": "stderr",
     "output_type": "stream",
     "text": [
      "\n",
      "Feature Extraction: 100%|██████████| 1/1 [00:00<00:00,  8.77it/s]"
     ]
    },
    {
     "name": "stdout",
     "output_type": "stream",
     "text": [
      "            x  time   id\n",
      "0    5.982185     0  220\n",
      "1    6.026289     1  220\n",
      "2    6.047556     2  220\n",
      "3    6.019439     3  220\n",
      "4    5.998991     4  220\n",
      "..        ...   ...  ...\n",
      "351  5.972105   351  220\n",
      "352  5.989846   352  220\n",
      "353  5.983418   353  220\n",
      "354  6.000579   354  220\n",
      "355  5.634204   355  220\n",
      "\n",
      "[356 rows x 3 columns]\n"
     ]
    },
    {
     "name": "stderr",
     "output_type": "stream",
     "text": [
      "\n",
      "Feature Extraction: 100%|██████████| 1/1 [00:00<00:00, 22.51it/s]\n"
     ]
    },
    {
     "name": "stdout",
     "output_type": "stream",
     "text": [
      "            x  time   id\n",
      "0    6.222788     0  221\n",
      "1    6.231191     1  221\n",
      "2    6.231255     2  221\n",
      "3    6.219692     3  221\n",
      "4    6.231864     4  221\n",
      "..        ...   ...  ...\n",
      "351  6.231975   351  221\n",
      "352  6.231206   352  221\n",
      "353  6.232077   353  221\n",
      "354  6.232259   354  221\n",
      "355  5.937144   355  221\n",
      "\n",
      "[356 rows x 3 columns]\n"
     ]
    },
    {
     "name": "stderr",
     "output_type": "stream",
     "text": [
      "Feature Extraction: 100%|██████████| 1/1 [00:00<00:00, 25.15it/s]"
     ]
    },
    {
     "name": "stdout",
     "output_type": "stream",
     "text": [
      "            x  time   id\n",
      "0    5.556923     0  222\n",
      "1    5.611215     1  222\n",
      "2    5.649284     2  222\n",
      "3    5.606854     3  222\n",
      "4    5.635671     4  222\n",
      "..        ...   ...  ...\n",
      "351  5.649552   351  222\n",
      "352  5.645481   352  222\n",
      "353  5.645201   353  222\n",
      "354  5.699369   354  222\n",
      "355  5.449854   355  222\n",
      "\n",
      "[356 rows x 3 columns]\n"
     ]
    },
    {
     "name": "stderr",
     "output_type": "stream",
     "text": [
      "\n",
      "Feature Extraction: 100%|██████████| 1/1 [00:00<00:00, 25.31it/s]\n"
     ]
    },
    {
     "name": "stdout",
     "output_type": "stream",
     "text": [
      "            x  time   id\n",
      "0    5.477200     0  223\n",
      "1    5.554195     1  223\n",
      "2    5.591591     2  223\n",
      "3    5.573487     3  223\n",
      "4    5.598096     4  223\n",
      "..        ...   ...  ...\n",
      "351  5.621117   351  223\n",
      "352  5.618523   352  223\n",
      "353  5.615272   353  223\n",
      "354  5.668866   354  223\n",
      "355  5.429964   355  223\n",
      "\n",
      "[356 rows x 3 columns]\n"
     ]
    },
    {
     "name": "stderr",
     "output_type": "stream",
     "text": [
      "Feature Extraction: 100%|██████████| 1/1 [00:00<00:00, 24.88it/s]\n"
     ]
    },
    {
     "name": "stdout",
     "output_type": "stream",
     "text": [
      "            x  time   id\n",
      "0    5.996701     0  224\n",
      "1    5.998186     1  224\n",
      "2    6.017271     2  224\n",
      "3    5.994157     3  224\n",
      "4    6.004616     4  224\n",
      "..        ...   ...  ...\n",
      "703  5.386429   703  224\n",
      "704  5.487098   704  224\n",
      "705  5.379786   705  224\n",
      "706  5.543250   706  224\n",
      "707  5.496099   707  224\n",
      "\n",
      "[708 rows x 3 columns]\n"
     ]
    },
    {
     "name": "stderr",
     "output_type": "stream",
     "text": [
      "Feature Extraction: 100%|██████████| 1/1 [00:00<00:00,  8.53it/s]\n"
     ]
    },
    {
     "name": "stdout",
     "output_type": "stream",
     "text": [
      "            x  time   id\n",
      "0    6.231533     0  225\n",
      "1    6.232886     1  225\n",
      "2    6.230695     2  225\n",
      "3    6.232258     3  225\n",
      "4    6.232153     4  225\n",
      "..        ...   ...  ...\n",
      "703  5.687325   703  225\n",
      "704  5.773133   704  225\n",
      "705  5.686303   705  225\n",
      "706  5.873149   706  225\n",
      "707  5.915605   707  225\n",
      "\n",
      "[708 rows x 3 columns]\n"
     ]
    },
    {
     "name": "stderr",
     "output_type": "stream",
     "text": [
      "Feature Extraction: 100%|██████████| 1/1 [00:00<00:00,  8.20it/s]"
     ]
    },
    {
     "name": "stdout",
     "output_type": "stream",
     "text": [
      "            x  time   id\n",
      "0    5.617673     0  226\n",
      "1    5.600204     1  226\n",
      "2    5.635625     2  226\n",
      "3    5.618422     3  226\n",
      "4    5.607411     4  226\n",
      "..        ...   ...  ...\n",
      "700  5.273478   700  226\n",
      "701  5.333074   701  226\n",
      "702  5.429440   702  226\n",
      "703  5.458240   703  226\n",
      "704  5.425972   704  226\n",
      "\n",
      "[705 rows x 3 columns]\n"
     ]
    },
    {
     "name": "stderr",
     "output_type": "stream",
     "text": [
      "\n",
      "Feature Extraction: 100%|██████████| 1/1 [00:00<00:00,  8.48it/s]"
     ]
    },
    {
     "name": "stdout",
     "output_type": "stream",
     "text": [
      "            x  time   id\n",
      "0    5.999826     0  227\n",
      "1    5.975480     1  227\n",
      "2    6.013251     2  227\n",
      "3    5.990875     3  227\n",
      "4    5.976901     4  227\n",
      "..        ...   ...  ...\n",
      "701  5.640543   701  227\n",
      "702  5.693069   702  227\n",
      "703  5.804610   703  227\n",
      "704  5.830911   704  227\n",
      "705  5.787869   705  227\n",
      "\n",
      "[706 rows x 3 columns]\n"
     ]
    },
    {
     "name": "stderr",
     "output_type": "stream",
     "text": [
      "\n",
      "Feature Extraction: 100%|██████████| 1/1 [00:00<00:00,  8.40it/s]"
     ]
    },
    {
     "name": "stdout",
     "output_type": "stream",
     "text": [
      "           x  time   id\n",
      "0   6.169231     0  228\n",
      "1   6.176150     1  228\n",
      "2   6.184335     2  228\n",
      "3   6.198782     3  228\n",
      "4   6.199139     4  228\n",
      "5   6.190873     5  228\n",
      "6   6.201470     6  228\n",
      "7   6.168228     7  228\n",
      "8   6.186356     8  228\n",
      "9   6.205314     9  228\n",
      "10  6.192666    10  228\n",
      "11  6.200358    11  228\n",
      "12  6.196316    12  228\n",
      "13  6.190235    13  228\n",
      "14  6.179247    14  228\n",
      "15  6.186608    15  228\n",
      "16  6.193618    16  228\n",
      "17  6.188925    17  228\n",
      "18  6.191385    18  228\n",
      "19  6.188729    19  228\n",
      "20  6.171304    20  228\n",
      "21  6.195454    21  228\n",
      "22  6.185536    22  228\n",
      "23  6.193811    23  228\n",
      "24  6.194529    24  228\n",
      "25  6.200953    25  228\n",
      "26  6.165804    26  228\n",
      "27  6.188254    27  228\n",
      "28  6.192386    28  228\n",
      "29  6.194097    29  228\n",
      "30  6.192148    30  228\n",
      "31  6.190961    31  228\n",
      "32  6.182677    32  228\n",
      "33  6.171622    33  228\n",
      "34  6.185991    34  228\n"
     ]
    },
    {
     "name": "stderr",
     "output_type": "stream",
     "text": [
      "\n",
      "Feature Extraction: 100%|██████████| 1/1 [00:00<00:00, 102.47it/s]"
     ]
    },
    {
     "name": "stdout",
     "output_type": "stream",
     "text": [
      "           x  time   id\n",
      "0   6.210351     0  229\n",
      "1   6.221880     1  229\n",
      "2   6.226071     2  229\n",
      "3   6.232866     3  229\n",
      "4   6.226571     4  229\n",
      "5   6.228431     5  229\n",
      "6   6.226939     6  229\n",
      "7   6.228465     7  229\n",
      "8   6.229676     8  229\n",
      "9   6.229664     9  229\n",
      "10  6.231894    10  229\n",
      "11  6.227543    11  229\n",
      "12  6.232011    12  229\n",
      "13  6.227106    13  229\n",
      "14  6.225019    14  229\n",
      "15  6.231841    15  229\n",
      "16  6.225281    16  229\n",
      "17  6.230312    17  229\n",
      "18  6.226380    18  229\n",
      "19  6.231788    19  229\n",
      "20  6.226451    20  229\n",
      "21  6.229030    21  229\n",
      "22  6.226377    22  229\n",
      "23  6.226957    23  229\n",
      "24  6.231811    24  229\n",
      "25  6.226048    25  229\n",
      "26  6.225903    26  229\n",
      "27  6.228488    27  229\n",
      "28  6.227174    28  229\n",
      "29  6.230754    29  229\n",
      "30  6.227783    30  229\n",
      "31  6.229119    31  229\n",
      "32  6.228043    32  229\n",
      "33  6.221458    33  229\n",
      "34  6.228945    34  229\n"
     ]
    },
    {
     "name": "stderr",
     "output_type": "stream",
     "text": [
      "\n",
      "Feature Extraction: 100%|██████████| 1/1 [00:00<00:00, 103.03it/s]"
     ]
    },
    {
     "name": "stdout",
     "output_type": "stream",
     "text": [
      "           x  time   id\n",
      "0   6.125678     0  230\n",
      "1   6.146585     1  230\n",
      "2   6.136958     2  230\n",
      "3   6.144848     3  230\n",
      "4   6.158468     4  230\n",
      "5   6.161237     5  230\n",
      "6   6.162090     6  230\n",
      "7   6.129058     7  230\n",
      "8   6.147869     8  230\n",
      "9   6.139785     9  230\n",
      "10  6.157022    10  230\n",
      "11  6.161088    11  230\n",
      "12  6.159022    12  230\n",
      "13  6.163288    13  230\n",
      "14  6.129801    14  230\n",
      "15  6.157641    15  230\n",
      "16  6.155565    16  230\n",
      "17  6.165026    17  230\n",
      "18  6.175318    18  230\n",
      "19  6.151350    19  230\n",
      "20  6.144321    20  230\n",
      "21  6.165020    21  230\n",
      "22  6.152128    22  230\n",
      "23  6.164153    23  230\n",
      "24  6.171758    24  230\n",
      "25  6.160038    25  230\n",
      "26  6.142686    26  230\n",
      "27  6.160515    27  230\n",
      "28  6.146177    28  230\n",
      "29  6.187245    29  230\n",
      "30  6.158843    30  230\n",
      "31  6.158639    31  230\n",
      "32  6.174155    32  230\n",
      "33  6.133357    33  230\n",
      "34  6.162977    34  230\n"
     ]
    },
    {
     "name": "stderr",
     "output_type": "stream",
     "text": [
      "\n",
      "Feature Extraction: 100%|██████████| 1/1 [00:00<00:00, 108.89it/s]"
     ]
    },
    {
     "name": "stdout",
     "output_type": "stream",
     "text": [
      "           x  time   id\n",
      "0   6.222928     0  231\n",
      "1   6.227788     1  231\n",
      "2   6.226729     2  231\n",
      "3   6.232238     3  231\n",
      "4   6.228683     4  231\n",
      "5   6.231978     5  231\n",
      "6   6.226763     6  231\n",
      "7   6.226549     7  231\n",
      "8   6.231744     8  231\n",
      "9   6.227782     9  231\n",
      "10  6.232033    10  231\n",
      "11  6.228681    11  231\n",
      "12  6.232185    12  231\n",
      "13  6.227690    13  231\n",
      "14  6.227855    14  231\n",
      "15  6.232067    15  231\n",
      "16  6.229428    16  231\n",
      "17  6.232041    17  231\n",
      "18  6.227889    18  231\n",
      "19  6.232124    19  231\n",
      "20  6.228126    20  231\n",
      "21  6.228739    21  231\n",
      "22  6.232039    22  231\n",
      "23  6.228065    23  231\n",
      "24  6.231941    24  231\n",
      "25  6.228153    25  231\n",
      "26  6.229746    26  231\n",
      "27  6.231572    27  231\n",
      "28  6.229784    28  231\n",
      "29  6.232482    29  231\n",
      "30  6.227323    30  231\n",
      "31  6.232138    31  231\n",
      "32  6.228863    32  231\n",
      "33  6.228527    33  231\n",
      "34  6.232472    34  231\n"
     ]
    },
    {
     "name": "stderr",
     "output_type": "stream",
     "text": [
      "\n",
      "Feature Extraction: 100%|██████████| 1/1 [00:00<00:00, 106.31it/s]"
     ]
    },
    {
     "name": "stdout",
     "output_type": "stream",
     "text": [
      "            x  time   id\n",
      "0    6.201905     0  232\n",
      "1    6.223927     1  232\n",
      "2    6.218428     2  232\n",
      "3    6.172601     3  232\n",
      "4    6.227106     4  232\n",
      "..        ...   ...  ...\n",
      "702  5.451769   702  232\n",
      "703  5.677587   703  232\n",
      "704  5.437044   704  232\n",
      "705  5.476119   705  232\n",
      "706  5.527801   706  232\n",
      "\n",
      "[707 rows x 3 columns]\n"
     ]
    },
    {
     "name": "stderr",
     "output_type": "stream",
     "text": [
      "\n",
      "Feature Extraction: 100%|██████████| 1/1 [00:00<00:00,  9.04it/s]\n"
     ]
    },
    {
     "name": "stdout",
     "output_type": "stream",
     "text": [
      "            x  time   id\n",
      "0    6.213648     0  233\n",
      "1    6.229444     1  233\n",
      "2    6.225266     2  233\n",
      "3    6.189916     3  233\n",
      "4    6.231064     4  233\n",
      "..        ...   ...  ...\n",
      "702  5.687888   702  233\n",
      "703  5.793127   703  233\n",
      "704  5.558070   704  233\n",
      "705  5.562039   705  233\n",
      "706  5.602488   706  233\n",
      "\n",
      "[707 rows x 3 columns]\n"
     ]
    },
    {
     "name": "stderr",
     "output_type": "stream",
     "text": [
      "Feature Extraction: 100%|██████████| 1/1 [00:00<00:00,  6.81it/s]\n"
     ]
    },
    {
     "name": "stdout",
     "output_type": "stream",
     "text": [
      "            x  time   id\n",
      "0    6.217584     0  234\n",
      "1    6.226921     1  234\n",
      "2    6.226332     2  234\n",
      "3    6.212461     3  234\n",
      "4    6.228720     4  234\n",
      "..        ...   ...  ...\n",
      "702  5.432248   702  234\n",
      "703  5.576192   703  234\n",
      "704  5.459891   704  234\n",
      "705  5.544829   705  234\n",
      "706  5.344778   706  234\n",
      "\n",
      "[707 rows x 3 columns]\n"
     ]
    },
    {
     "name": "stderr",
     "output_type": "stream",
     "text": [
      "Feature Extraction: 100%|██████████| 1/1 [00:00<00:00,  9.14it/s]"
     ]
    },
    {
     "name": "stdout",
     "output_type": "stream",
     "text": [
      "            x  time   id\n",
      "0    5.994935     0  235\n",
      "1    6.031687     1  235\n",
      "2    6.064421     2  235\n",
      "3    6.012888     3  235\n",
      "4    6.049211     4  235\n",
      "..        ...   ...  ...\n",
      "702  5.216058   702  235\n",
      "703  5.303462   703  235\n",
      "704  5.184760   704  235\n",
      "705  5.274987   705  235\n",
      "706  5.139264   706  235\n",
      "\n",
      "[707 rows x 3 columns]\n"
     ]
    },
    {
     "name": "stderr",
     "output_type": "stream",
     "text": [
      "\n",
      "Feature Extraction: 100%|██████████| 1/1 [00:00<00:00,  9.13it/s]"
     ]
    },
    {
     "name": "stdout",
     "output_type": "stream",
     "text": [
      "            x  time   id\n",
      "0    5.724868     0  236\n",
      "1    5.764481     1  236\n",
      "2    5.782291     2  236\n",
      "3    5.748850     3  236\n",
      "4    5.784455     4  236\n",
      "..        ...   ...  ...\n",
      "702  5.048262   702  236\n",
      "703  5.183917   703  236\n",
      "704  5.013915   704  236\n",
      "705  5.042660   705  236\n",
      "706  4.982113   706  236\n",
      "\n",
      "[707 rows x 3 columns]\n"
     ]
    },
    {
     "name": "stderr",
     "output_type": "stream",
     "text": [
      "\n",
      "Feature Extraction: 100%|██████████| 1/1 [00:00<00:00,  8.37it/s]"
     ]
    },
    {
     "name": "stdout",
     "output_type": "stream",
     "text": [
      "            x  time   id\n",
      "0    6.221489     0  237\n",
      "1    6.229252     1  237\n",
      "2    6.227196     2  237\n",
      "3    6.227004     3  237\n",
      "4    6.230984     4  237\n",
      "..        ...   ...  ...\n",
      "702  5.702871   702  237\n",
      "703  5.715501   703  237\n",
      "704  5.698983   704  237\n",
      "705  5.725793   705  237\n",
      "706  5.623592   706  237\n",
      "\n",
      "[707 rows x 3 columns]\n"
     ]
    },
    {
     "name": "stderr",
     "output_type": "stream",
     "text": [
      "\n",
      "Feature Extraction: 100%|██████████| 1/1 [00:00<00:00,  6.89it/s]\n"
     ]
    },
    {
     "name": "stdout",
     "output_type": "stream",
     "text": [
      "            x  time   id\n",
      "0    5.391377     0  238\n",
      "1    5.395957     1  238\n",
      "2    5.393324     2  238\n",
      "3    5.384384     3  238\n",
      "4    5.387294     4  238\n",
      "..        ...   ...  ...\n",
      "683  5.129132   683  238\n",
      "684  5.024421   684  238\n",
      "685  4.882272   685  238\n",
      "686  5.059990   686  238\n",
      "687  5.082033   687  238\n",
      "\n",
      "[688 rows x 3 columns]\n"
     ]
    },
    {
     "name": "stderr",
     "output_type": "stream",
     "text": [
      "Feature Extraction: 100%|██████████| 1/1 [00:00<00:00,  8.72it/s]"
     ]
    },
    {
     "name": "stdout",
     "output_type": "stream",
     "text": [
      "            x  time   id\n",
      "0    5.973520     0  239\n",
      "1    5.962196     1  239\n",
      "2    5.984132     2  239\n",
      "3    5.972578     3  239\n",
      "4    5.962071     4  239\n",
      "..        ...   ...  ...\n",
      "695  5.795046   695  239\n",
      "696  5.656548   696  239\n",
      "697  5.491620   697  239\n",
      "698  5.716210   698  239\n",
      "699  5.727473   699  239\n",
      "\n",
      "[700 rows x 3 columns]\n"
     ]
    },
    {
     "name": "stderr",
     "output_type": "stream",
     "text": [
      "\n",
      "Feature Extraction: 100%|██████████| 1/1 [00:00<00:00,  8.97it/s]"
     ]
    },
    {
     "name": "stdout",
     "output_type": "stream",
     "text": [
      "             x  time   id\n",
      "0     6.015717     0  240\n",
      "1     6.211306     1  240\n",
      "2     6.217437     2  240\n",
      "3     6.201469     3  240\n",
      "4     5.985588     4  240\n",
      "...        ...   ...  ...\n",
      "1409  5.224999  1409  240\n",
      "1410  5.166546  1410  240\n",
      "1411  5.240355  1411  240\n",
      "1412  5.172982  1412  240\n",
      "1413  5.734983  1413  240\n",
      "\n",
      "[1414 rows x 3 columns]\n"
     ]
    },
    {
     "name": "stderr",
     "output_type": "stream",
     "text": [
      "\n",
      "Feature Extraction: 100%|██████████| 1/1 [00:00<00:00,  4.29it/s]"
     ]
    },
    {
     "name": "stdout",
     "output_type": "stream",
     "text": [
      "             x  time   id\n",
      "0     5.858606     0  241\n",
      "1     6.039749     1  241\n",
      "2     6.067248     2  241\n",
      "3     6.060964     3  241\n",
      "4     5.779766     4  241\n",
      "...        ...   ...  ...\n",
      "1409  5.045970  1409  241\n",
      "1410  5.011968  1410  241\n",
      "1411  5.060569  1411  241\n",
      "1412  4.996332  1412  241\n",
      "1413  5.722731  1413  241\n",
      "\n",
      "[1414 rows x 3 columns]\n"
     ]
    },
    {
     "name": "stderr",
     "output_type": "stream",
     "text": [
      "\n",
      "Feature Extraction: 100%|██████████| 1/1 [00:00<00:00,  4.41it/s]"
     ]
    },
    {
     "name": "stdout",
     "output_type": "stream",
     "text": [
      "             x  time   id\n",
      "0     5.960226     0  242\n",
      "1     6.150117     1  242\n",
      "2     6.140391     2  242\n",
      "3     6.167922     3  242\n",
      "4     5.867091     4  242\n",
      "...        ...   ...  ...\n",
      "1409  5.075377  1409  242\n",
      "1410  5.063676  1410  242\n",
      "1411  5.072523  1411  242\n",
      "1412  5.010293  1412  242\n",
      "1413  5.654634  1413  242\n",
      "\n",
      "[1414 rows x 3 columns]\n"
     ]
    },
    {
     "name": "stderr",
     "output_type": "stream",
     "text": [
      "\n",
      "Feature Extraction: 100%|██████████| 1/1 [00:00<00:00,  4.13it/s]"
     ]
    },
    {
     "name": "stdout",
     "output_type": "stream",
     "text": [
      "             x  time   id\n",
      "0     5.929254     0  243\n",
      "1     6.099881     1  243\n",
      "2     6.090076     2  243\n",
      "3     6.126617     3  243\n",
      "4     5.825426     4  243\n",
      "...        ...   ...  ...\n",
      "1409  5.043367  1409  243\n",
      "1410  5.033682  1410  243\n",
      "1411  5.046903  1411  243\n",
      "1412  4.981278  1412  243\n",
      "1413  5.608311  1413  243\n",
      "\n",
      "[1414 rows x 3 columns]\n"
     ]
    },
    {
     "name": "stderr",
     "output_type": "stream",
     "text": [
      "\n",
      "Feature Extraction: 100%|██████████| 1/1 [00:00<00:00,  3.49it/s]"
     ]
    },
    {
     "name": "stdout",
     "output_type": "stream",
     "text": [
      "             x  time   id\n",
      "0     5.669836     0  244\n",
      "1     5.978191     1  244\n",
      "2     5.977256     2  244\n",
      "3     6.007969     3  244\n",
      "4     5.841840     4  244\n",
      "...        ...   ...  ...\n",
      "1407  5.521156  1407  244\n",
      "1408  5.545297  1408  244\n",
      "1409  5.485814  1409  244\n",
      "1410  5.491819  1410  244\n",
      "1411  5.734975  1411  244\n",
      "\n",
      "[1412 rows x 3 columns]\n"
     ]
    },
    {
     "name": "stderr",
     "output_type": "stream",
     "text": [
      "\n",
      "Feature Extraction: 100%|██████████| 1/1 [00:00<00:00,  3.22it/s]"
     ]
    },
    {
     "name": "stdout",
     "output_type": "stream",
     "text": [
      "             x  time   id\n",
      "0     5.676792     0  245\n",
      "1     6.001709     1  245\n",
      "2     6.008127     2  245\n",
      "3     6.051944     3  245\n",
      "4     5.737861     4  245\n",
      "...        ...   ...  ...\n",
      "1406  5.465451  1406  245\n",
      "1407  5.354373  1407  245\n",
      "1408  5.355515  1408  245\n",
      "1409  5.421263  1409  245\n",
      "1410  5.685668  1410  245\n",
      "\n",
      "[1411 rows x 3 columns]\n"
     ]
    },
    {
     "name": "stderr",
     "output_type": "stream",
     "text": [
      "\n",
      "Feature Extraction: 100%|██████████| 1/1 [00:00<00:00,  4.30it/s]"
     ]
    },
    {
     "name": "stdout",
     "output_type": "stream",
     "text": [
      "             x  time   id\n",
      "0     5.653302     0  246\n",
      "1     5.773211     1  246\n",
      "2     5.780053     2  246\n",
      "3     5.779115     3  246\n",
      "4     5.630802     4  246\n",
      "...        ...   ...  ...\n",
      "1407  5.518318  1407  246\n",
      "1408  5.518287  1408  246\n",
      "1409  5.521402  1409  246\n",
      "1410  5.514724  1410  246\n",
      "1411  5.766477  1411  246\n",
      "\n",
      "[1412 rows x 3 columns]\n"
     ]
    },
    {
     "name": "stderr",
     "output_type": "stream",
     "text": [
      "\n",
      "Feature Extraction: 100%|██████████| 1/1 [00:00<00:00,  3.78it/s]"
     ]
    },
    {
     "name": "stdout",
     "output_type": "stream",
     "text": [
      "             x  time   id\n",
      "0     5.992319     0  247\n",
      "1     6.101268     1  247\n",
      "2     6.107092     2  247\n",
      "3     6.107564     3  247\n",
      "4     5.974389     4  247\n",
      "...        ...   ...  ...\n",
      "1408  5.895520  1408  247\n",
      "1409  5.920491  1409  247\n",
      "1410  5.906906  1410  247\n",
      "1411  5.906769  1411  247\n",
      "1412  5.974179  1412  247\n",
      "\n",
      "[1413 rows x 3 columns]\n"
     ]
    },
    {
     "name": "stderr",
     "output_type": "stream",
     "text": [
      "\n",
      "Feature Extraction: 100%|██████████| 1/1 [00:00<00:00,  4.20it/s]"
     ]
    },
    {
     "name": "stdout",
     "output_type": "stream",
     "text": [
      "             x  time   id\n",
      "0     5.189442     0  248\n",
      "1     5.109009     1  248\n",
      "2     5.175219     2  248\n",
      "3     5.127797     3  248\n",
      "4     5.267419     4  248\n",
      "...        ...   ...  ...\n",
      "2784  5.368803  2784  248\n",
      "2785  5.352087  2785  248\n",
      "2786  5.344362  2786  248\n",
      "2787  5.385434  2787  248\n",
      "2788  5.319946  2788  248\n",
      "\n",
      "[2789 rows x 3 columns]\n"
     ]
    },
    {
     "name": "stderr",
     "output_type": "stream",
     "text": [
      "\n",
      "Feature Extraction: 100%|██████████| 1/1 [00:00<00:00,  1.58it/s]"
     ]
    },
    {
     "name": "stdout",
     "output_type": "stream",
     "text": [
      "             x  time   id\n",
      "0     5.347625     0  249\n",
      "1     5.278006     1  249\n",
      "2     5.340338     2  249\n",
      "3     5.298283     3  249\n",
      "4     5.424866     4  249\n",
      "...        ...   ...  ...\n",
      "2780  5.527290  2780  249\n",
      "2781  5.512015  2781  249\n",
      "2782  5.500905  2782  249\n",
      "2783  5.544500  2783  249\n",
      "2784  5.474260  2784  249\n",
      "\n",
      "[2785 rows x 3 columns]\n"
     ]
    },
    {
     "name": "stderr",
     "output_type": "stream",
     "text": [
      "\n",
      "Feature Extraction: 100%|██████████| 1/1 [00:00<00:00,  1.53it/s]"
     ]
    },
    {
     "name": "stdout",
     "output_type": "stream",
     "text": [
      "             x  time   id\n",
      "0     4.923330     0  250\n",
      "1     4.856052     1  250\n",
      "2     4.915315     2  250\n",
      "3     4.875434     3  250\n",
      "4     4.988553     4  250\n",
      "...        ...   ...  ...\n",
      "2774  5.105773  2774  250\n",
      "2775  5.081289  2775  250\n",
      "2776  5.087940  2776  250\n",
      "2777  5.107534  2777  250\n",
      "2778  5.056744  2778  250\n",
      "\n",
      "[2779 rows x 3 columns]\n"
     ]
    },
    {
     "name": "stderr",
     "output_type": "stream",
     "text": [
      "\n",
      "Feature Extraction: 100%|██████████| 1/1 [00:00<00:00,  1.44it/s]"
     ]
    },
    {
     "name": "stdout",
     "output_type": "stream",
     "text": [
      "             x  time   id\n",
      "0     4.997724     0  251\n",
      "1     4.895059     1  251\n",
      "2     4.988425     2  251\n",
      "3     4.928480     3  251\n",
      "4     5.045036     4  251\n",
      "...        ...   ...  ...\n",
      "2770  5.238724  2770  251\n",
      "2771  5.204637  2771  251\n",
      "2772  5.208696  2772  251\n",
      "2773  5.240883  2773  251\n",
      "2774  5.175535  2774  251\n",
      "\n",
      "[2775 rows x 3 columns]\n"
     ]
    },
    {
     "name": "stderr",
     "output_type": "stream",
     "text": [
      "\n",
      "Feature Extraction: 100%|██████████| 1/1 [00:00<00:00,  1.47it/s]"
     ]
    },
    {
     "name": "stdout",
     "output_type": "stream",
     "text": [
      "             x  time   id\n",
      "0     5.272197     0  252\n",
      "1     5.174063     1  252\n",
      "2     5.239918     2  252\n",
      "3     5.191739     3  252\n",
      "4     5.358036     4  252\n",
      "...        ...   ...  ...\n",
      "2786  5.387280  2786  252\n",
      "2787  5.384330  2787  252\n",
      "2788  5.396192  2788  252\n",
      "2789  5.419181  2789  252\n",
      "2790  5.380884  2790  252\n",
      "\n",
      "[2791 rows x 3 columns]\n"
     ]
    },
    {
     "name": "stderr",
     "output_type": "stream",
     "text": [
      "\n",
      "Feature Extraction: 100%|██████████| 1/1 [00:00<00:00,  1.35it/s]"
     ]
    },
    {
     "name": "stdout",
     "output_type": "stream",
     "text": [
      "             x  time   id\n",
      "0     5.278723     0  253\n",
      "1     5.196350     1  253\n",
      "2     5.253743     2  253\n",
      "3     5.200472     3  253\n",
      "4     5.365396     4  253\n",
      "...        ...   ...  ...\n",
      "2790  5.476998  2790  253\n",
      "2791  5.440427  2791  253\n",
      "2792  5.458202  2792  253\n",
      "2793  5.499185  2793  253\n",
      "2794  5.428940  2794  253\n",
      "\n",
      "[2795 rows x 3 columns]\n"
     ]
    },
    {
     "name": "stderr",
     "output_type": "stream",
     "text": [
      "\n",
      "Feature Extraction: 100%|██████████| 1/1 [00:00<00:00,  1.24it/s]"
     ]
    },
    {
     "name": "stdout",
     "output_type": "stream",
     "text": [
      "             x  time   id\n",
      "0     4.904682     0  254\n",
      "1     4.806507     1  254\n",
      "2     4.872312     2  254\n",
      "3     4.837166     3  254\n",
      "4     4.979638     4  254\n",
      "...        ...   ...  ...\n",
      "2787  4.970637  2787  254\n",
      "2788  4.971834  2788  254\n",
      "2789  4.975401  2789  254\n",
      "2790  4.994301  2790  254\n",
      "2791  4.962579  2791  254\n",
      "\n",
      "[2792 rows x 3 columns]\n"
     ]
    },
    {
     "name": "stderr",
     "output_type": "stream",
     "text": [
      "\n",
      "Feature Extraction: 100%|██████████| 1/1 [00:00<00:00,  1.44it/s]"
     ]
    },
    {
     "name": "stdout",
     "output_type": "stream",
     "text": [
      "             x  time   id\n",
      "0     5.266433     0  255\n",
      "1     5.176880     1  255\n",
      "2     5.251060     2  255\n",
      "3     5.205397     3  255\n",
      "4     5.356196     4  255\n",
      "...        ...   ...  ...\n",
      "2778  5.319762  2778  255\n",
      "2779  5.340031  2779  255\n",
      "2780  5.321832  2780  255\n",
      "2781  5.358529  2781  255\n",
      "2782  5.322598  2782  255\n",
      "\n",
      "[2783 rows x 3 columns]\n"
     ]
    },
    {
     "name": "stderr",
     "output_type": "stream",
     "text": [
      "\n",
      "Feature Extraction: 100%|██████████| 1/1 [00:00<00:00,  1.39it/s]"
     ]
    },
    {
     "name": "stdout",
     "output_type": "stream",
     "text": [
      "             x  time   id\n",
      "0     6.058913     0  256\n",
      "1     6.053733     1  256\n",
      "2     6.061963     2  256\n",
      "3     6.057435     3  256\n",
      "4     6.054403     4  256\n",
      "...        ...   ...  ...\n",
      "1386  6.050365  1386  256\n",
      "1387  6.036486  1387  256\n",
      "1388  6.049129  1388  256\n",
      "1389  6.004971  1389  256\n",
      "1390  6.025795  1390  256\n",
      "\n",
      "[1391 rows x 3 columns]\n"
     ]
    },
    {
     "name": "stderr",
     "output_type": "stream",
     "text": [
      "\n",
      "Feature Extraction: 100%|██████████| 1/1 [00:00<00:00,  3.33it/s]"
     ]
    },
    {
     "name": "stdout",
     "output_type": "stream",
     "text": [
      "             x  time   id\n",
      "0     6.232404     0  257\n",
      "1     6.231661     1  257\n",
      "2     6.232017     2  257\n",
      "3     6.230401     3  257\n",
      "4     6.232635     4  257\n",
      "...        ...   ...  ...\n",
      "1408  5.781509  1408  257\n",
      "1409  5.778731  1409  257\n",
      "1410  5.805153  1410  257\n",
      "1411  5.780828  1411  257\n",
      "1412  5.777277  1412  257\n",
      "\n",
      "[1413 rows x 3 columns]\n"
     ]
    },
    {
     "name": "stderr",
     "output_type": "stream",
     "text": [
      "\n",
      "Feature Extraction: 100%|██████████| 1/1 [00:00<00:00,  3.67it/s]"
     ]
    },
    {
     "name": "stdout",
     "output_type": "stream",
     "text": [
      "           x  time   id\n",
      "0   5.767014     0  258\n",
      "1   5.433280     1  258\n",
      "2   5.899883     2  258\n",
      "3   5.919265     3  258\n",
      "4   5.916062     4  258\n",
      "5   5.942136     5  258\n",
      "6   5.935389     6  258\n",
      "7   5.918082     7  258\n",
      "8   5.952822     8  258\n",
      "9   5.942019     9  258\n",
      "10  5.930517    10  258\n",
      "11  5.950615    11  258\n",
      "12  5.932108    12  258\n",
      "13  5.937389    13  258\n",
      "14  5.946972    14  258\n",
      "15  5.923850    15  258\n",
      "16  5.943283    16  258\n",
      "17  5.945835    17  258\n",
      "18  5.919314    18  258\n",
      "19  5.946149    19  258\n",
      "20  5.936331    20  258\n",
      "21  5.923926    21  258\n",
      "22  5.952075    22  258\n",
      "23  5.937701    23  258\n",
      "24  5.935004    24  258\n",
      "25  5.956847    25  258\n",
      "26  5.940507    26  258\n",
      "27  5.946287    27  258\n",
      "28  5.952961    28  258\n",
      "29  5.940111    29  258\n",
      "30  5.945775    30  258\n",
      "31  5.954568    31  258\n",
      "32  5.938256    32  258\n",
      "33  5.949858    33  258\n",
      "34  5.952353    34  258\n",
      "35  5.931036    35  258\n",
      "36  5.945413    36  258\n",
      "37  5.946443    37  258\n",
      "38  5.940373    38  258\n"
     ]
    },
    {
     "name": "stderr",
     "output_type": "stream",
     "text": [
      "\n",
      "Feature Extraction: 100%|██████████| 1/1 [00:00<00:00, 85.02it/s]"
     ]
    },
    {
     "name": "stdout",
     "output_type": "stream",
     "text": [
      "           x  time   id\n",
      "0   5.649188     0  259\n",
      "1   5.349062     1  259\n",
      "2   5.819648     2  259\n",
      "3   5.850077     3  259\n",
      "4   5.853571     4  259\n",
      "5   5.893395     5  259\n",
      "6   5.892917     6  259\n",
      "7   5.872200     7  259\n",
      "8   5.906606     8  259\n",
      "9   5.899246     9  259\n",
      "10  5.888173    10  259\n",
      "11  5.903350    11  259\n",
      "12  5.888676    12  259\n",
      "13  5.889428    13  259\n",
      "14  5.898337    14  259\n",
      "15  5.879106    15  259\n",
      "16  5.891485    16  259\n",
      "17  5.898571    17  259\n",
      "18  5.875620    18  259\n",
      "19  5.898588    19  259\n",
      "20  5.892898    20  259\n",
      "21  5.877510    21  259\n",
      "22  5.900869    22  259\n",
      "23  5.889923    23  259\n",
      "24  5.884064    24  259\n",
      "25  5.906428    25  259\n",
      "26  5.889534    26  259\n",
      "27  5.888810    27  259\n",
      "28  5.896085    28  259\n",
      "29  5.887911    29  259\n",
      "30  5.885862    30  259\n",
      "31  5.902073    31  259\n",
      "32  5.887944    32  259\n",
      "33  5.893751    33  259\n",
      "34  5.903213    34  259\n",
      "35  5.884958    35  259\n",
      "36  5.893770    36  259\n",
      "37  5.902857    37  259\n",
      "38  5.889938    38  259\n"
     ]
    },
    {
     "name": "stderr",
     "output_type": "stream",
     "text": [
      "\n",
      "Feature Extraction: 100%|██████████| 1/1 [00:00<00:00, 84.53it/s]\n"
     ]
    },
    {
     "name": "stdout",
     "output_type": "stream",
     "text": [
      "           x  time   id\n",
      "0   6.019817     0  260\n",
      "1   6.076442     1  260\n",
      "2   6.074706     2  260\n",
      "3   6.105515     3  260\n",
      "4   6.102396     4  260\n",
      "5   6.097522     5  260\n",
      "6   6.105061     6  260\n",
      "7   6.094754     7  260\n",
      "8   6.099567     8  260\n",
      "9   6.112538     9  260\n",
      "10  6.096018    10  260\n",
      "11  6.103645    11  260\n",
      "12  6.121573    12  260\n",
      "13  6.091984    13  260\n",
      "14  6.089728    14  260\n",
      "15  6.103480    15  260\n",
      "16  6.088789    16  260\n",
      "17  6.086380    17  260\n",
      "18  6.089409    18  260\n",
      "19  6.086281    19  260\n",
      "20  6.090901    20  260\n",
      "21  6.091891    21  260\n",
      "22  6.084890    22  260\n",
      "23  6.097851    23  260\n",
      "24  6.084903    24  260\n",
      "25  6.086621    25  260\n",
      "26  5.739784    26  260\n",
      "27  6.066879    27  260\n",
      "28  6.115679    28  260\n",
      "29  6.122670    29  260\n",
      "30  6.088059    30  260\n",
      "31  6.079420    31  260\n",
      "32  6.070153    32  260\n",
      "33  6.086594    33  260\n",
      "34  6.124876    34  260\n",
      "35  6.094541    35  260\n",
      "36  6.099651    36  260\n",
      "37  6.134282    37  260\n",
      "38  6.104817    38  260\n",
      "39  6.117717    39  260\n",
      "40  6.133383    40  260\n",
      "41  6.049817    41  260\n",
      "42  6.131338    42  260\n",
      "43  6.135776    43  260\n",
      "44  6.103687    44  260\n",
      "45  6.135322    45  260\n",
      "46  6.127697    46  260\n",
      "47  6.095828    47  260\n",
      "48  6.137806    48  260\n",
      "49  6.122643    49  260\n",
      "50  6.099773    50  260\n",
      "51  6.139185    51  260\n",
      "52  6.116454    52  260\n",
      "53  6.107063    53  260\n",
      "54  6.128236    54  260\n"
     ]
    },
    {
     "name": "stderr",
     "output_type": "stream",
     "text": [
      "Feature Extraction: 100%|██████████| 1/1 [00:00<00:00, 77.78it/s]\n"
     ]
    },
    {
     "name": "stdout",
     "output_type": "stream",
     "text": [
      "           x  time   id\n",
      "0   5.612911     0  261\n",
      "1   5.693295     1  261\n",
      "2   5.674132     2  261\n",
      "3   5.712479     3  261\n",
      "4   5.727433     4  261\n",
      "5   5.722184     5  261\n",
      "6   5.724529     6  261\n",
      "7   5.713390     7  261\n",
      "8   5.729828     8  261\n",
      "9   5.738401     9  261\n",
      "10  5.719585    10  261\n",
      "11  5.737037    11  261\n",
      "12  5.765337    12  261\n",
      "13  5.712893    13  261\n",
      "14  5.708708    14  261\n",
      "15  5.730452    15  261\n",
      "16  5.714949    16  261\n",
      "17  5.699284    17  261\n",
      "18  5.708775    18  261\n",
      "19  5.708298    19  261\n",
      "20  5.702970    20  261\n",
      "21  5.707581    21  261\n",
      "22  5.705533    22  261\n",
      "23  5.716555    23  261\n",
      "24  5.693491    24  261\n",
      "25  5.696281    25  261\n",
      "26  5.418239    26  261\n",
      "27  5.694686    27  261\n",
      "28  5.729900    28  261\n",
      "29  5.752238    29  261\n",
      "30  5.716654    30  261\n",
      "31  5.673005    31  261\n",
      "32  5.684792    32  261\n",
      "33  5.692444    33  261\n",
      "34  5.745483    34  261\n",
      "35  5.722833    35  261\n",
      "36  5.711972    36  261\n",
      "37  5.769295    37  261\n",
      "38  5.746353    38  261\n",
      "39  5.750901    39  261\n",
      "40  5.776324    40  261\n",
      "41  5.686447    41  261\n",
      "42  5.782382    42  261\n",
      "43  5.769455    43  261\n",
      "44  5.744248    44  261\n",
      "45  5.784261    45  261\n",
      "46  5.759214    46  261\n",
      "47  5.733761    47  261\n",
      "48  5.792515    48  261\n",
      "49  5.759654    49  261\n",
      "50  5.726766    50  261\n",
      "51  5.793539    51  261\n",
      "52  5.752106    52  261\n",
      "53  5.734257    53  261\n",
      "54  5.772898    54  261\n"
     ]
    },
    {
     "name": "stderr",
     "output_type": "stream",
     "text": [
      "Feature Extraction: 100%|██████████| 1/1 [00:00<00:00, 41.93it/s]"
     ]
    },
    {
     "name": "stdout",
     "output_type": "stream",
     "text": [
      "           x  time   id\n",
      "0   5.767115     0  262\n",
      "1   5.831064     1  262\n",
      "2   5.842807     2  262\n",
      "3   5.866419     3  262\n",
      "4   5.866513     4  262\n",
      "5   5.866043     5  262\n",
      "6   5.882442     6  262\n",
      "7   5.867060     7  262\n",
      "8   5.867567     8  262\n",
      "9   5.881966     9  262\n",
      "10  5.867578    10  262\n",
      "11  5.870115    11  262\n",
      "12  5.889856    12  262\n",
      "13  5.871908    13  262\n",
      "14  5.871909    14  262\n",
      "15  5.877089    15  262\n",
      "16  5.857391    16  262\n",
      "17  5.865229    17  262\n",
      "18  5.859898    18  262\n",
      "19  5.856703    19  262\n",
      "20  5.865051    20  262\n",
      "21  5.863118    21  262\n",
      "22  5.852818    22  262\n",
      "23  5.864121    23  262\n",
      "24  5.859066    24  262\n",
      "25  5.860181    25  262\n",
      "26  5.544537    26  262\n",
      "27  5.852874    27  262\n",
      "28  5.901595    28  262\n",
      "29  5.908258    29  262\n",
      "30  5.862661    30  262\n",
      "31  5.861832    31  262\n",
      "32  5.851341    32  262\n",
      "33  5.865964    33  262\n",
      "34  5.919590    34  262\n",
      "35  5.876455    35  262\n",
      "36  5.882591    36  262\n",
      "37  5.924791    37  262\n",
      "38  5.882618    38  262\n",
      "39  5.901912    39  262\n",
      "40  5.924553    40  262\n",
      "41  5.816188    41  262\n",
      "42  5.908425    42  262\n",
      "43  5.923276    43  262\n",
      "44  5.875848    44  262\n",
      "45  5.914876    45  262\n",
      "46  5.916723    46  262\n",
      "47  5.875882    47  262\n",
      "48  5.920384    48  262\n",
      "49  5.903715    49  262\n",
      "50  5.882889    50  262\n",
      "51  5.927839    51  262\n",
      "52  5.903048    52  262\n",
      "53  5.894681    53  262\n",
      "54  5.915823    54  262\n"
     ]
    },
    {
     "name": "stderr",
     "output_type": "stream",
     "text": [
      "\n",
      "Feature Extraction: 100%|██████████| 1/1 [00:00<00:00, 77.54it/s]"
     ]
    },
    {
     "name": "stdout",
     "output_type": "stream",
     "text": [
      "           x  time   id\n",
      "0   6.105969     0  263\n",
      "1   6.217518     1  263\n",
      "2   6.228368     2  263\n",
      "3   6.231448     3  263\n",
      "4   6.231708     4  263\n",
      "5   6.231810     5  263\n",
      "6   6.231824     6  263\n",
      "7   6.231495     7  263\n",
      "8   6.231648     8  263\n",
      "9   6.231523     9  263\n",
      "10  6.231016    10  263\n",
      "11  6.232214    11  263\n",
      "12  6.231608    12  263\n",
      "13  6.231760    13  263\n",
      "14  6.231512    14  263\n",
      "15  6.231806    15  263\n",
      "16  6.231486    16  263\n",
      "17  6.231676    17  263\n",
      "18  6.231529    18  263\n",
      "19  6.231507    19  263\n",
      "20  6.231604    20  263\n",
      "21  6.231357    21  263\n",
      "22  6.231362    22  263\n",
      "23  6.232014    23  263\n",
      "24  6.231594    24  263\n",
      "25  6.231459    25  263\n",
      "26  5.920452    26  263\n",
      "27  6.230949    27  263\n",
      "28  6.231302    28  263\n",
      "29  6.231477    29  263\n",
      "30  6.228385    30  263\n",
      "31  6.230856    31  263\n",
      "32  6.230404    32  263\n",
      "33  6.231029    33  263\n",
      "34  6.232159    34  263\n",
      "35  6.229821    35  263\n",
      "36  6.231678    36  263\n",
      "37  6.231932    37  263\n",
      "38  6.231706    38  263\n",
      "39  6.231545    39  263\n",
      "40  6.230812    40  263\n",
      "41  6.192952    41  263\n",
      "42  6.231817    42  263\n",
      "43  6.231730    43  263\n",
      "44  6.231703    44  263\n",
      "45  6.231847    45  263\n",
      "46  6.231795    46  263\n",
      "47  6.231659    47  263\n",
      "48  6.232010    48  263\n",
      "49  6.231781    49  263\n",
      "50  6.231711    50  263\n",
      "51  6.231909    51  263\n",
      "52  6.230999    52  263\n",
      "53  6.231416    53  263\n",
      "54  6.231895    54  263\n"
     ]
    },
    {
     "name": "stderr",
     "output_type": "stream",
     "text": [
      "\n",
      "Feature Extraction: 100%|██████████| 1/1 [00:00<00:00, 71.61it/s]\n"
     ]
    },
    {
     "name": "stdout",
     "output_type": "stream",
     "text": [
      "           x  time   id\n",
      "0   5.669861     0  264\n",
      "1   5.697667     1  264\n",
      "2   5.692615     2  264\n",
      "3   5.723769     3  264\n",
      "4   5.721614     4  264\n",
      "5   5.725399     5  264\n",
      "6   5.710548     6  264\n",
      "7   5.717861     7  264\n",
      "8   5.725526     8  264\n",
      "9   5.714401     9  264\n",
      "10  5.727526    10  264\n",
      "11  5.735942    11  264\n",
      "12  5.736595    12  264\n",
      "13  5.723120    13  264\n",
      "14  5.720481    14  264\n",
      "15  5.735569    15  264\n",
      "16  5.742703    16  264\n",
      "17  5.719126    17  264\n",
      "18  5.722036    18  264\n",
      "19  5.739723    19  264\n",
      "20  5.716002    20  264\n",
      "21  5.727636    21  264\n",
      "22  5.736639    22  264\n",
      "23  5.733326    23  264\n",
      "24  5.723564    24  264\n",
      "25  5.722482    25  264\n",
      "26  5.388861    26  264\n",
      "27  5.713674    27  264\n",
      "28  5.707370    28  264\n",
      "29  5.714893    29  264\n",
      "30  5.725455    30  264\n",
      "31  5.694220    31  264\n",
      "32  5.724045    32  264\n",
      "33  5.736080    33  264\n",
      "34  5.705225    34  264\n",
      "35  5.722700    35  264\n",
      "36  5.710262    36  264\n",
      "37  5.712726    37  264\n",
      "38  5.729136    38  264\n",
      "39  5.714395    39  264\n",
      "40  5.711350    40  264\n",
      "41  5.671906    41  264\n",
      "42  5.733788    42  264\n",
      "43  5.702112    43  264\n",
      "44  5.718962    44  264\n",
      "45  5.734373    45  264\n",
      "46  5.707430    46  264\n",
      "47  5.728918    47  264\n",
      "48  5.736883    48  264\n",
      "49  5.724765    49  264\n",
      "50  5.716154    50  264\n",
      "51  5.733522    51  264\n",
      "52  5.716641    52  264\n",
      "53  5.715696    53  264\n",
      "54  5.734740    54  264\n"
     ]
    },
    {
     "name": "stderr",
     "output_type": "stream",
     "text": [
      "Feature Extraction: 100%|██████████| 1/1 [00:00<00:00, 83.34it/s]"
     ]
    },
    {
     "name": "stdout",
     "output_type": "stream",
     "text": [
      "           x  time   id\n",
      "0   6.186119     0  265\n",
      "1   6.213268     1  265\n",
      "2   6.213533     2  265\n",
      "3   6.220519     3  265\n",
      "4   6.218906     4  265\n",
      "5   6.219303     5  265\n",
      "6   6.216929     6  265\n",
      "7   6.218609     7  265\n",
      "8   6.219760     8  265\n",
      "9   6.215165     9  265\n",
      "10  6.222223    10  265\n",
      "11  6.222337    11  265\n",
      "12  6.220470    12  265\n",
      "13  6.219185    13  265\n",
      "14  6.219198    14  265\n",
      "15  6.220264    15  265\n",
      "16  6.221055    16  265\n",
      "17  6.218627    17  265\n",
      "18  6.219639    18  265\n",
      "19  6.222029    19  265\n",
      "20  6.215226    20  265\n",
      "21  6.221202    21  265\n",
      "22  6.222632    22  265\n",
      "23  6.220261    23  265\n",
      "24  6.219695    24  265\n",
      "25  6.219769    25  265\n",
      "26  5.905523    26  265\n",
      "27  6.215555    27  265\n",
      "28  6.213980    28  265\n",
      "29  6.216869    29  265\n",
      "30  6.213681    30  265\n",
      "31  6.210140    31  265\n",
      "32  6.219105    32  265\n",
      "33  6.219582    33  265\n",
      "34  6.214251    34  265\n",
      "35  6.214676    35  265\n",
      "36  6.215627    36  265\n",
      "37  6.216362    37  265\n",
      "38  6.219023    38  265\n",
      "39  6.216525    39  265\n",
      "40  6.216236    40  265\n",
      "41  6.179146    41  265\n",
      "42  6.218721    42  265\n",
      "43  6.212435    43  265\n",
      "44  6.220801    44  265\n",
      "45  6.218968    45  265\n",
      "46  6.215135    46  265\n",
      "47  6.220576    47  265\n",
      "48  6.218705    48  265\n",
      "49  6.218500    49  265\n",
      "50  6.217338    50  265\n",
      "51  6.219445    51  265\n",
      "52  6.215586    52  265\n",
      "53  6.217615    53  265\n",
      "54  6.219953    54  265\n"
     ]
    },
    {
     "name": "stderr",
     "output_type": "stream",
     "text": [
      "\n",
      "Feature Extraction: 100%|██████████| 1/1 [00:00<00:00, 78.17it/s]\n"
     ]
    },
    {
     "name": "stdout",
     "output_type": "stream",
     "text": [
      "           x  time   id\n",
      "0   5.038786     0  266\n",
      "1   5.120707     1  266\n",
      "2   5.110410     2  266\n",
      "3   5.116550     3  266\n",
      "4   5.147036     4  266\n",
      "5   5.127095     5  266\n",
      "6   5.130001     6  266\n",
      "7   5.132004     7  266\n",
      "8   5.124383     8  266\n",
      "9   5.075517     9  266\n",
      "10  5.130904    10  266\n",
      "11  5.129051    11  266\n",
      "12  5.131334    12  266\n",
      "13  5.138559    13  266\n",
      "14  5.097510    14  266\n",
      "15  5.129702    15  266\n",
      "16  5.126060    16  266\n",
      "17  5.130613    17  266\n",
      "18  5.116597    18  266\n",
      "19  5.061776    19  266\n",
      "20  5.066060    20  266\n",
      "21  5.068759    21  266\n",
      "22  5.055703    22  266\n",
      "23  5.052295    23  266\n",
      "24  5.033570    24  266\n",
      "25  5.061739    25  266\n",
      "26  5.050403    26  266\n",
      "27  5.035566    27  266\n",
      "28  5.054155    28  266\n",
      "29  5.078868    29  266\n",
      "30  5.049716    30  266\n",
      "31  5.056729    31  266\n",
      "32  5.091929    32  266\n",
      "33  5.067290    33  266\n"
     ]
    },
    {
     "name": "stderr",
     "output_type": "stream",
     "text": [
      "Feature Extraction: 100%|██████████| 1/1 [00:00<00:00, 95.96it/s]"
     ]
    },
    {
     "name": "stdout",
     "output_type": "stream",
     "text": [
      "           x  time   id\n",
      "0   5.566951     0  267\n",
      "1   5.702546     1  267\n",
      "2   5.688180     2  267\n",
      "3   5.714418     3  267\n",
      "4   5.775747     4  267\n",
      "5   5.743481     5  267\n",
      "6   5.753974     6  267\n",
      "7   5.776474     7  267\n",
      "8   5.743364     8  267\n",
      "9   5.732071     9  267\n",
      "10  5.786201    10  267\n",
      "11  5.763822    11  267\n",
      "12  5.783186    12  267\n",
      "13  5.781312    13  267\n",
      "14  5.721497    14  267\n",
      "15  5.787700    15  267\n",
      "16  5.765405    16  267\n",
      "17  5.761558    17  267\n",
      "18  5.794398    18  267\n",
      "19  5.701726    19  267\n",
      "20  5.700419    20  267\n",
      "21  5.698529    21  267\n",
      "22  5.665946    22  267\n",
      "23  5.688030    23  267\n",
      "24  5.664823    24  267\n",
      "25  5.676133    25  267\n",
      "26  5.689052    26  267\n",
      "27  5.659539    27  267\n",
      "28  5.677135    28  267\n",
      "29  5.730268    29  267\n",
      "30  5.673661    30  267\n",
      "31  5.691690    31  267\n",
      "32  5.748374    32  267\n",
      "33  5.748382    33  267\n"
     ]
    },
    {
     "name": "stderr",
     "output_type": "stream",
     "text": [
      "\n",
      "Feature Extraction: 100%|██████████| 1/1 [00:00<00:00, 99.19it/s]"
     ]
    },
    {
     "name": "stdout",
     "output_type": "stream",
     "text": [
      "            x  time   id\n",
      "0    5.911332     0  268\n",
      "1    5.911961     1  268\n",
      "2    5.916759     2  268\n",
      "3    5.899036     3  268\n",
      "4    5.895804     4  268\n",
      "..        ...   ...  ...\n",
      "702  5.276052   702  268\n",
      "703  5.093140   703  268\n",
      "704  5.390120   704  268\n",
      "705  5.341108   705  268\n",
      "706  5.454539   706  268\n",
      "\n",
      "[707 rows x 3 columns]\n"
     ]
    },
    {
     "name": "stderr",
     "output_type": "stream",
     "text": [
      "\n",
      "Feature Extraction: 100%|██████████| 1/1 [00:00<00:00,  8.02it/s]"
     ]
    },
    {
     "name": "stdout",
     "output_type": "stream",
     "text": [
      "            x  time   id\n",
      "0    6.231836     0  269\n",
      "1    6.231323     1  269\n",
      "2    6.232094     2  269\n",
      "3    6.231463     3  269\n",
      "4    6.229625     4  269\n",
      "..        ...   ...  ...\n",
      "702  5.729417   702  269\n",
      "703  5.658302   703  269\n",
      "704  5.816005   704  269\n",
      "705  5.734615   705  269\n",
      "706  5.916818   706  269\n",
      "\n",
      "[707 rows x 3 columns]\n"
     ]
    },
    {
     "name": "stderr",
     "output_type": "stream",
     "text": [
      "\n",
      "Feature Extraction: 100%|██████████| 1/1 [00:00<00:00,  7.25it/s]"
     ]
    },
    {
     "name": "stdout",
     "output_type": "stream",
     "text": [
      "            x  time   id\n",
      "0    5.895925     0  270\n",
      "1    5.910240     1  270\n",
      "2    5.915514     2  270\n",
      "3    5.910517     3  270\n",
      "4    5.903517     4  270\n",
      "..        ...   ...  ...\n",
      "702  5.589310   702  270\n",
      "703  5.589137   703  270\n",
      "704  5.633025   704  270\n",
      "705  5.604302   705  270\n",
      "706  5.672557   706  270\n",
      "\n",
      "[707 rows x 3 columns]\n"
     ]
    },
    {
     "name": "stderr",
     "output_type": "stream",
     "text": [
      "\n",
      "Feature Extraction: 100%|██████████| 1/1 [00:00<00:00,  8.38it/s]"
     ]
    },
    {
     "name": "stdout",
     "output_type": "stream",
     "text": [
      "            x  time   id\n",
      "0    5.864920     0  271\n",
      "1    5.871631     1  271\n",
      "2    5.866870     2  271\n",
      "3    5.864390     3  271\n",
      "4    5.861620     4  271\n",
      "..        ...   ...  ...\n",
      "702  5.543466   702  271\n",
      "703  5.581301   703  271\n",
      "704  5.621569   704  271\n",
      "705  5.573963   705  271\n",
      "706  5.653782   706  271\n",
      "\n",
      "[707 rows x 3 columns]\n"
     ]
    },
    {
     "name": "stderr",
     "output_type": "stream",
     "text": [
      "\n",
      "Feature Extraction: 100%|██████████| 1/1 [00:00<00:00,  7.96it/s]"
     ]
    },
    {
     "name": "stdout",
     "output_type": "stream",
     "text": [
      "             x  time   id\n",
      "0     5.709697     0  272\n",
      "1     5.712771     1  272\n",
      "2     5.685530     2  272\n",
      "3     5.725311     3  272\n",
      "4     5.720995     4  272\n",
      "...        ...   ...  ...\n",
      "2289  5.726929  2289  272\n",
      "2290  5.705582  2290  272\n",
      "2291  5.706554  2291  272\n",
      "2292  5.726329  2292  272\n",
      "2293  5.722442  2293  272\n",
      "\n",
      "[2294 rows x 3 columns]\n"
     ]
    },
    {
     "name": "stderr",
     "output_type": "stream",
     "text": [
      "\n",
      "Feature Extraction: 100%|██████████| 1/1 [00:00<00:00,  2.07it/s]"
     ]
    },
    {
     "name": "stdout",
     "output_type": "stream",
     "text": [
      "             x  time   id\n",
      "0     6.071550     0  273\n",
      "1     6.091149     1  273\n",
      "2     6.064723     2  273\n",
      "3     6.089962     3  273\n",
      "4     6.099028     4  273\n",
      "...        ...   ...  ...\n",
      "2289  6.078095  2289  273\n",
      "2290  6.054995  2290  273\n",
      "2291  6.059544  2291  273\n",
      "2292  6.077309  2292  273\n",
      "2293  6.054613  2293  273\n",
      "\n",
      "[2294 rows x 3 columns]\n"
     ]
    },
    {
     "name": "stderr",
     "output_type": "stream",
     "text": [
      "\n",
      "Feature Extraction: 100%|██████████| 1/1 [00:00<00:00,  2.16it/s]"
     ]
    },
    {
     "name": "stdout",
     "output_type": "stream",
     "text": [
      "             x  time   id\n",
      "0     5.724722     0  274\n",
      "1     5.757640     1  274\n",
      "2     5.719821     2  274\n",
      "3     5.746756     3  274\n",
      "4     5.727542     4  274\n",
      "...        ...   ...  ...\n",
      "1946  5.710620  1946  274\n",
      "1947  5.736573  1947  274\n",
      "1948  5.676991  1948  274\n",
      "1949  5.708669  1949  274\n",
      "1950  5.708511  1950  274\n",
      "\n",
      "[1951 rows x 3 columns]\n"
     ]
    },
    {
     "name": "stderr",
     "output_type": "stream",
     "text": [
      "\n",
      "Feature Extraction: 100%|██████████| 1/1 [00:00<00:00,  2.79it/s]"
     ]
    },
    {
     "name": "stdout",
     "output_type": "stream",
     "text": [
      "             x  time   id\n",
      "0     5.724590     0  275\n",
      "1     5.767859     1  275\n",
      "2     5.706393     2  275\n",
      "3     5.723980     3  275\n",
      "4     5.760935     4  275\n",
      "...        ...   ...  ...\n",
      "1946  5.729649  1946  275\n",
      "1947  5.779686  1947  275\n",
      "1948  5.721548  1948  275\n",
      "1949  5.737585  1949  275\n",
      "1950  5.767801  1950  275\n",
      "\n",
      "[1951 rows x 3 columns]\n"
     ]
    },
    {
     "name": "stderr",
     "output_type": "stream",
     "text": [
      "\n",
      "Feature Extraction: 100%|██████████| 1/1 [00:00<00:00,  2.78it/s]"
     ]
    },
    {
     "name": "stdout",
     "output_type": "stream",
     "text": [
      "             x  time   id\n",
      "0     5.768779     0  276\n",
      "1     5.768380     1  276\n",
      "2     5.768999     2  276\n",
      "3     5.749112     3  276\n",
      "4     5.753028     4  276\n",
      "...        ...   ...  ...\n",
      "1287  5.754020  1287  276\n",
      "1288  5.746926  1288  276\n",
      "1289  5.761682  1289  276\n",
      "1290  5.769706  1290  276\n",
      "1291  5.768330  1291  276\n",
      "\n",
      "[1292 rows x 3 columns]\n"
     ]
    },
    {
     "name": "stderr",
     "output_type": "stream",
     "text": [
      "\n",
      "Feature Extraction: 100%|██████████| 1/1 [00:00<00:00,  4.62it/s]"
     ]
    },
    {
     "name": "stdout",
     "output_type": "stream",
     "text": [
      "             x  time   id\n",
      "0     6.232211     0  277\n",
      "1     6.232017     1  277\n",
      "2     6.231227     2  277\n",
      "3     6.232096     3  277\n",
      "4     6.231983     4  277\n",
      "...        ...   ...  ...\n",
      "1287  6.231539  1287  277\n",
      "1288  6.231971  1288  277\n",
      "1289  6.231778  1289  277\n",
      "1290  6.231608  1290  277\n",
      "1291  6.232571  1291  277\n",
      "\n",
      "[1292 rows x 3 columns]\n"
     ]
    },
    {
     "name": "stderr",
     "output_type": "stream",
     "text": [
      "\n",
      "Feature Extraction: 100%|██████████| 1/1 [00:00<00:00,  4.35it/s]"
     ]
    },
    {
     "name": "stdout",
     "output_type": "stream",
     "text": [
      "             x  time   id\n",
      "0     5.811964     0  278\n",
      "1     5.763942     1  278\n",
      "2     5.828796     2  278\n",
      "3     5.758514     3  278\n",
      "4     5.774775     4  278\n",
      "...        ...   ...  ...\n",
      "1851  5.755202  1851  278\n",
      "1852  5.755409  1852  278\n",
      "1853  5.755370  1853  278\n",
      "1854  5.755584  1854  278\n",
      "1855  5.755286  1855  278\n",
      "\n",
      "[1856 rows x 3 columns]\n"
     ]
    },
    {
     "name": "stderr",
     "output_type": "stream",
     "text": [
      "\n",
      "Feature Extraction: 100%|██████████| 1/1 [00:00<00:00,  2.93it/s]"
     ]
    },
    {
     "name": "stdout",
     "output_type": "stream",
     "text": [
      "             x  time   id\n",
      "0     6.231450     0  279\n",
      "1     6.231856     1  279\n",
      "2     6.232028     2  279\n",
      "3     6.231822     3  279\n",
      "4     6.231855     4  279\n",
      "...        ...   ...  ...\n",
      "1851  6.231597  1851  279\n",
      "1852  6.231913  1852  279\n",
      "1853  6.231920  1853  279\n",
      "1854  6.231924  1854  279\n",
      "1855  6.231963  1855  279\n",
      "\n",
      "[1856 rows x 3 columns]\n"
     ]
    },
    {
     "name": "stderr",
     "output_type": "stream",
     "text": [
      "\n",
      "Feature Extraction: 100%|██████████| 1/1 [00:00<00:00,  2.70it/s]"
     ]
    },
    {
     "name": "stdout",
     "output_type": "stream",
     "text": [
      "             x  time   id\n",
      "0     0.354076     0  280\n",
      "1     0.321107     1  280\n",
      "2     0.287696     2  280\n",
      "3     0.307261     3  280\n",
      "4     0.401885     4  280\n",
      "...        ...   ...  ...\n",
      "1834  0.325291  1834  280\n",
      "1835  0.311368  1835  280\n",
      "1836  0.337163  1836  280\n",
      "1837  0.299013  1837  280\n",
      "1838  0.327481  1838  280\n",
      "\n",
      "[1839 rows x 3 columns]\n"
     ]
    },
    {
     "name": "stderr",
     "output_type": "stream",
     "text": [
      "\n",
      "Feature Extraction: 100%|██████████| 1/1 [00:00<00:00,  2.57it/s]"
     ]
    },
    {
     "name": "stdout",
     "output_type": "stream",
     "text": [
      "             x  time   id\n",
      "0     0.687147     0  281\n",
      "1     0.662281     1  281\n",
      "2     0.632669     2  281\n",
      "3     0.653208     3  281\n",
      "4     0.715977     4  281\n",
      "...        ...   ...  ...\n",
      "1842  0.710907  1842  281\n",
      "1843  0.697536  1843  281\n",
      "1844  0.712650  1844  281\n",
      "1845  0.685423  1845  281\n",
      "1846  0.702220  1846  281\n",
      "\n",
      "[1847 rows x 3 columns]\n"
     ]
    },
    {
     "name": "stderr",
     "output_type": "stream",
     "text": [
      "\n",
      "Feature Extraction: 100%|██████████| 1/1 [00:00<00:00,  3.00it/s]"
     ]
    },
    {
     "name": "stdout",
     "output_type": "stream",
     "text": [
      "             x  time   id\n",
      "0     0.446187     0  282\n",
      "1     0.434495     1  282\n",
      "2     0.387222     2  282\n",
      "3     0.439354     3  282\n",
      "4     0.386094     4  282\n",
      "...        ...   ...  ...\n",
      "1841  0.452648  1841  282\n",
      "1842  0.489626  1842  282\n",
      "1843  0.425869  1843  282\n",
      "1844  0.479825  1844  282\n",
      "1845  0.444207  1845  282\n",
      "\n",
      "[1846 rows x 3 columns]\n"
     ]
    },
    {
     "name": "stderr",
     "output_type": "stream",
     "text": [
      "\n",
      "Feature Extraction: 100%|██████████| 1/1 [00:00<00:00,  3.09it/s]"
     ]
    },
    {
     "name": "stdout",
     "output_type": "stream",
     "text": [
      "             x  time   id\n",
      "0     0.917853     0  283\n",
      "1     0.897146     1  283\n",
      "2     0.871190     2  283\n",
      "3     0.914542     3  283\n",
      "4     0.866086     4  283\n",
      "...        ...   ...  ...\n",
      "1847  0.935053  1847  283\n",
      "1848  0.971530  1848  283\n",
      "1849  0.935799  1849  283\n",
      "1850  0.967186  1850  283\n",
      "1851  0.944636  1851  283\n",
      "\n",
      "[1852 rows x 3 columns]\n"
     ]
    },
    {
     "name": "stderr",
     "output_type": "stream",
     "text": [
      "\n",
      "Feature Extraction: 100%|██████████| 1/1 [00:00<00:00,  2.61it/s]"
     ]
    },
    {
     "name": "stdout",
     "output_type": "stream",
     "text": [
      "             x  time   id\n",
      "0     0.349709     0  284\n",
      "1     0.312199     1  284\n",
      "2     0.311996     2  284\n",
      "3     0.302951     3  284\n",
      "4     0.363991     4  284\n",
      "...        ...   ...  ...\n",
      "1848  0.269713  1848  284\n",
      "1849  0.298985  1849  284\n",
      "1850  0.314291  1850  284\n",
      "1851  0.277929  1851  284\n",
      "1852  0.320604  1852  284\n",
      "\n",
      "[1853 rows x 3 columns]\n"
     ]
    },
    {
     "name": "stderr",
     "output_type": "stream",
     "text": [
      "\n",
      "Feature Extraction: 100%|██████████| 1/1 [00:00<00:00,  2.97it/s]"
     ]
    },
    {
     "name": "stdout",
     "output_type": "stream",
     "text": [
      "             x  time   id\n",
      "0     0.934917     0  285\n",
      "1     0.912019     1  285\n",
      "2     0.913501     2  285\n",
      "3     0.907632     3  285\n",
      "4     0.944041     4  285\n",
      "...        ...   ...  ...\n",
      "1848  0.888752  1848  285\n",
      "1849  0.907193  1849  285\n",
      "1850  0.919541  1850  285\n",
      "1851  0.894434  1851  285\n",
      "1852  0.920266  1852  285\n",
      "\n",
      "[1853 rows x 3 columns]\n"
     ]
    },
    {
     "name": "stderr",
     "output_type": "stream",
     "text": [
      "\n",
      "Feature Extraction: 100%|██████████| 1/1 [00:00<00:00,  2.95it/s]"
     ]
    },
    {
     "name": "stdout",
     "output_type": "stream",
     "text": [
      "             x  time   id\n",
      "0     0.411880     0  286\n",
      "1     0.376187     1  286\n",
      "2     0.511371     2  286\n",
      "3     0.317924     3  286\n",
      "4     0.317433     4  286\n",
      "...        ...   ...  ...\n",
      "2815  0.345127  2815  286\n",
      "2816  0.352906  2816  286\n",
      "2817  0.330029  2817  286\n",
      "2818  0.297507  2818  286\n",
      "2819  0.409463  2819  286\n",
      "\n",
      "[2820 rows x 3 columns]\n"
     ]
    },
    {
     "name": "stderr",
     "output_type": "stream",
     "text": [
      "\n",
      "Feature Extraction: 100%|██████████| 1/1 [00:00<00:00,  1.67it/s]"
     ]
    },
    {
     "name": "stdout",
     "output_type": "stream",
     "text": [
      "             x  time   id\n",
      "0     0.981137     0  287\n",
      "1     0.960457     1  287\n",
      "2     1.059909     2  287\n",
      "3     0.921525     3  287\n",
      "4     0.918876     4  287\n",
      "...        ...   ...  ...\n",
      "2817  0.936360  2817  287\n",
      "2818  0.942237  2818  287\n",
      "2819  0.927871  2819  287\n",
      "2820  0.905718  2820  287\n",
      "2821  0.979860  2821  287\n",
      "\n",
      "[2822 rows x 3 columns]\n"
     ]
    },
    {
     "name": "stderr",
     "output_type": "stream",
     "text": [
      "\n",
      "Feature Extraction: 100%|██████████| 1/1 [00:00<00:00,  1.63it/s]"
     ]
    },
    {
     "name": "stdout",
     "output_type": "stream",
     "text": [
      "             x  time   id\n",
      "0     5.533386     0  288\n",
      "1     5.498768     1  288\n",
      "2     5.540752     2  288\n",
      "3     5.558313     3  288\n",
      "4     5.533127     4  288\n",
      "...        ...   ...  ...\n",
      "2770  5.606755  2770  288\n",
      "2771  5.611415  2771  288\n",
      "2772  5.609694  2772  288\n",
      "2773  5.614190  2773  288\n",
      "2774  5.612350  2774  288\n",
      "\n",
      "[2775 rows x 3 columns]\n"
     ]
    },
    {
     "name": "stderr",
     "output_type": "stream",
     "text": [
      "\n",
      "Feature Extraction: 100%|██████████| 1/1 [00:00<00:00,  1.67it/s]"
     ]
    },
    {
     "name": "stdout",
     "output_type": "stream",
     "text": [
      "             x  time   id\n",
      "0     5.766539     0  289\n",
      "1     5.716053     1  289\n",
      "2     5.781825     2  289\n",
      "3     5.821234     3  289\n",
      "4     5.786991     4  289\n",
      "...        ...   ...  ...\n",
      "2771  5.823382  2771  289\n",
      "2772  5.826972  2772  289\n",
      "2773  5.838957  2773  289\n",
      "2774  5.841159  2774  289\n",
      "2775  5.835627  2775  289\n",
      "\n",
      "[2776 rows x 3 columns]\n"
     ]
    },
    {
     "name": "stderr",
     "output_type": "stream",
     "text": [
      "\n",
      "Feature Extraction: 100%|██████████| 1/1 [00:00<00:00,  1.62it/s]"
     ]
    },
    {
     "name": "stdout",
     "output_type": "stream",
     "text": [
      "             x  time   id\n",
      "0     5.312927     0  290\n",
      "1     5.342758     1  290\n",
      "2     5.378105     2  290\n",
      "3     5.381455     3  290\n",
      "4     5.391159     4  290\n",
      "...        ...   ...  ...\n",
      "2784  5.417416  2784  290\n",
      "2785  5.408467  2785  290\n",
      "2786  5.429269  2786  290\n",
      "2787  5.432155  2787  290\n",
      "2788  5.422015  2788  290\n",
      "\n",
      "[2789 rows x 3 columns]\n"
     ]
    },
    {
     "name": "stderr",
     "output_type": "stream",
     "text": [
      "\n",
      "Feature Extraction: 100%|██████████| 1/1 [00:00<00:00,  1.64it/s]"
     ]
    },
    {
     "name": "stdout",
     "output_type": "stream",
     "text": [
      "             x  time   id\n",
      "0     5.012058     0  291\n",
      "1     5.041254     1  291\n",
      "2     5.085988     2  291\n",
      "3     5.073817     3  291\n",
      "4     5.114769     4  291\n",
      "...        ...   ...  ...\n",
      "2787  5.125362  2787  291\n",
      "2788  5.108927  2788  291\n",
      "2789  5.132714  2789  291\n",
      "2790  5.134715  2790  291\n",
      "2791  5.133541  2791  291\n",
      "\n",
      "[2792 rows x 3 columns]\n"
     ]
    },
    {
     "name": "stderr",
     "output_type": "stream",
     "text": [
      "\n",
      "Feature Extraction: 100%|██████████| 1/1 [00:00<00:00,  1.71it/s]"
     ]
    },
    {
     "name": "stdout",
     "output_type": "stream",
     "text": [
      "             x  time   id\n",
      "0     2.971575     0  292\n",
      "1     3.022851     1  292\n",
      "2     2.979879     2  292\n",
      "3     3.004884     3  292\n",
      "4     2.993964     4  292\n",
      "...        ...   ...  ...\n",
      "2338  2.976232  2338  292\n",
      "2339  2.991203  2339  292\n",
      "2340  2.978851  2340  292\n",
      "2341  2.990064  2341  292\n",
      "2342  2.978093  2342  292\n",
      "\n",
      "[2343 rows x 3 columns]\n"
     ]
    },
    {
     "name": "stderr",
     "output_type": "stream",
     "text": [
      "\n",
      "Feature Extraction: 100%|██████████| 1/1 [00:00<00:00,  2.15it/s]"
     ]
    },
    {
     "name": "stdout",
     "output_type": "stream",
     "text": [
      "             x  time   id\n",
      "0     2.488227     0  293\n",
      "1     2.501179     1  293\n",
      "2     2.496086     2  293\n",
      "3     2.495966     3  293\n",
      "4     2.496977     4  293\n",
      "...        ...   ...  ...\n",
      "2347  2.496452  2347  293\n",
      "2348  2.499797  2348  293\n",
      "2349  2.491681  2349  293\n",
      "2350  2.500940  2350  293\n",
      "2351  2.490357  2351  293\n",
      "\n",
      "[2352 rows x 3 columns]\n"
     ]
    },
    {
     "name": "stderr",
     "output_type": "stream",
     "text": [
      "\n",
      "Feature Extraction: 100%|██████████| 1/1 [00:00<00:00,  2.06it/s]"
     ]
    },
    {
     "name": "stdout",
     "output_type": "stream",
     "text": [
      "             x  time   id\n",
      "0     0.327196     0  294\n",
      "1     0.327606     1  294\n",
      "2     0.348354     2  294\n",
      "3     0.386794     3  294\n",
      "4     0.301603     4  294\n",
      "...        ...   ...  ...\n",
      "2333  0.337619  2333  294\n",
      "2334  0.337081  2334  294\n",
      "2335  0.344470  2335  294\n",
      "2336  0.385287  2336  294\n",
      "2337  0.329323  2337  294\n",
      "\n",
      "[2338 rows x 3 columns]\n"
     ]
    },
    {
     "name": "stderr",
     "output_type": "stream",
     "text": [
      "\n",
      "Feature Extraction: 100%|██████████| 1/1 [00:00<00:00,  2.17it/s]"
     ]
    },
    {
     "name": "stdout",
     "output_type": "stream",
     "text": [
      "             x  time   id\n",
      "0     0.912472     0  295\n",
      "1     0.912719     1  295\n",
      "2     0.925614     2  295\n",
      "3     0.948351     3  295\n",
      "4     0.897395     4  295\n",
      "...        ...   ...  ...\n",
      "2333  0.920259  2333  295\n",
      "2334  0.918240  2334  295\n",
      "2335  0.923981  2335  295\n",
      "2336  0.950261  2336  295\n",
      "2337  0.914304  2337  295\n",
      "\n",
      "[2338 rows x 3 columns]\n"
     ]
    },
    {
     "name": "stderr",
     "output_type": "stream",
     "text": [
      "\n",
      "Feature Extraction: 100%|██████████| 1/1 [00:00<00:00,  2.10it/s]"
     ]
    },
    {
     "name": "stdout",
     "output_type": "stream",
     "text": [
      "             x  time   id\n",
      "0     0.287231     0  296\n",
      "1     0.363360     1  296\n",
      "2     0.332384     2  296\n",
      "3     0.325346     3  296\n",
      "4     0.366121     4  296\n",
      "...        ...   ...  ...\n",
      "2322  0.281234  2322  296\n",
      "2323  0.346900  2323  296\n",
      "2324  0.296465  2324  296\n",
      "2325  0.289125  2325  296\n",
      "2326  0.286821  2326  296\n",
      "\n",
      "[2327 rows x 3 columns]\n"
     ]
    },
    {
     "name": "stderr",
     "output_type": "stream",
     "text": [
      "\n",
      "Feature Extraction: 100%|██████████| 1/1 [00:00<00:00,  2.21it/s]"
     ]
    },
    {
     "name": "stdout",
     "output_type": "stream",
     "text": [
      "             x  time   id\n",
      "0     0.881237     0  297\n",
      "1     0.926408     1  297\n",
      "2     0.903287     2  297\n",
      "3     0.902665     3  297\n",
      "4     0.929871     4  297\n",
      "...        ...   ...  ...\n",
      "2322  0.864025  2322  297\n",
      "2323  0.908353  2323  297\n",
      "2324  0.874813  2324  297\n",
      "2325  0.865265  2325  297\n",
      "2326  0.862144  2326  297\n",
      "\n",
      "[2327 rows x 3 columns]\n"
     ]
    },
    {
     "name": "stderr",
     "output_type": "stream",
     "text": [
      "\n",
      "Feature Extraction: 100%|██████████| 1/1 [00:00<00:00,  1.87it/s]"
     ]
    },
    {
     "name": "stdout",
     "output_type": "stream",
     "text": [
      "            x  time   id\n",
      "0    5.749320     0  298\n",
      "1    5.756143     1  298\n",
      "2    5.754414     2  298\n",
      "3    5.754243     3  298\n",
      "4    5.757530     4  298\n",
      "..        ...   ...  ...\n",
      "701  5.361094   701  298\n",
      "702  5.338741   702  298\n",
      "703  5.354023   703  298\n",
      "704  5.359730   704  298\n",
      "705  5.323091   705  298\n",
      "\n",
      "[706 rows x 3 columns]\n"
     ]
    },
    {
     "name": "stderr",
     "output_type": "stream",
     "text": [
      "\n",
      "Feature Extraction: 100%|██████████| 1/1 [00:00<00:00,  8.44it/s]"
     ]
    },
    {
     "name": "stdout",
     "output_type": "stream",
     "text": [
      "            x  time   id\n",
      "0    5.727049     0  299\n",
      "1    5.740834     1  299\n",
      "2    5.736878     2  299\n",
      "3    5.743144     3  299\n",
      "4    5.746947     4  299\n",
      "..        ...   ...  ...\n",
      "701  5.350821   701  299\n",
      "702  5.346268   702  299\n",
      "703  5.351184   703  299\n",
      "704  5.350205   704  299\n",
      "705  5.343016   705  299\n",
      "\n",
      "[706 rows x 3 columns]\n"
     ]
    },
    {
     "name": "stderr",
     "output_type": "stream",
     "text": [
      "\n",
      "Feature Extraction: 100%|██████████| 1/1 [00:00<00:00,  6.62it/s]\n"
     ]
    },
    {
     "name": "stdout",
     "output_type": "stream",
     "text": [
      "            x  time   id\n",
      "0    6.231665     0  300\n",
      "1    6.232104     1  300\n",
      "2    6.231770     2  300\n",
      "3    6.231031     3  300\n",
      "4    6.232711     4  300\n",
      "..        ...   ...  ...\n",
      "674  6.232452   674  300\n",
      "675  6.230915   675  300\n",
      "676  6.232440   676  300\n",
      "677  6.231546   677  300\n",
      "678  6.232102   678  300\n",
      "\n",
      "[679 rows x 3 columns]\n"
     ]
    },
    {
     "name": "stderr",
     "output_type": "stream",
     "text": [
      "Feature Extraction: 100%|██████████| 1/1 [00:00<00:00,  8.04it/s]"
     ]
    },
    {
     "name": "stdout",
     "output_type": "stream",
     "text": [
      "            x  time   id\n",
      "0    6.231774     0  301\n",
      "1    6.231967     1  301\n",
      "2    6.231871     2  301\n",
      "3    6.230998     3  301\n",
      "4    6.232630     4  301\n",
      "..        ...   ...  ...\n",
      "674  6.232410   674  301\n",
      "675  6.230890   675  301\n",
      "676  6.232578   676  301\n",
      "677  6.231471   677  301\n",
      "678  6.232119   678  301\n",
      "\n",
      "[679 rows x 3 columns]\n"
     ]
    },
    {
     "name": "stderr",
     "output_type": "stream",
     "text": [
      "\n",
      "Feature Extraction: 100%|██████████| 1/1 [00:00<00:00,  6.79it/s]\n"
     ]
    },
    {
     "name": "stdout",
     "output_type": "stream",
     "text": [
      "             x  time   id\n",
      "0     5.654840     0  302\n",
      "1     5.655594     1  302\n",
      "2     5.657279     2  302\n",
      "3     5.665360     3  302\n",
      "4     5.655789     4  302\n",
      "...        ...   ...  ...\n",
      "1007  5.669762  1007  302\n",
      "1008  5.656144  1008  302\n",
      "1009  5.650183  1009  302\n",
      "1010  5.674017  1010  302\n",
      "1011  5.657371  1011  302\n",
      "\n",
      "[1012 rows x 3 columns]\n"
     ]
    },
    {
     "name": "stderr",
     "output_type": "stream",
     "text": [
      "Feature Extraction: 100%|██████████| 1/1 [00:00<00:00,  5.72it/s]"
     ]
    },
    {
     "name": "stdout",
     "output_type": "stream",
     "text": [
      "             x  time   id\n",
      "0     6.151125     0  303\n",
      "1     6.131981     1  303\n",
      "2     6.150124     2  303\n",
      "3     6.159533     3  303\n",
      "4     6.146220     4  303\n",
      "...        ...   ...  ...\n",
      "1010  6.105711  1010  303\n",
      "1011  6.092405  1011  303\n",
      "1012  6.082887  1012  303\n",
      "1013  6.107046  1013  303\n",
      "1014  6.092668  1014  303\n",
      "\n",
      "[1015 rows x 3 columns]\n"
     ]
    },
    {
     "name": "stderr",
     "output_type": "stream",
     "text": [
      "\n",
      "Feature Extraction: 100%|██████████| 1/1 [00:00<00:00,  5.51it/s]"
     ]
    },
    {
     "name": "stdout",
     "output_type": "stream",
     "text": [
      "             x  time   id\n",
      "0     5.696435     0  304\n",
      "1     5.711404     1  304\n",
      "2     5.695583     2  304\n",
      "3     5.707706     3  304\n",
      "4     5.709456     4  304\n",
      "...        ...   ...  ...\n",
      "1007  5.707774  1007  304\n",
      "1008  5.697989  1008  304\n",
      "1009  5.709354  1009  304\n",
      "1010  5.705064  1010  304\n",
      "1011  5.707680  1011  304\n",
      "\n",
      "[1012 rows x 3 columns]\n"
     ]
    },
    {
     "name": "stderr",
     "output_type": "stream",
     "text": [
      "\n",
      "Feature Extraction: 100%|██████████| 1/1 [00:00<00:00,  5.47it/s]"
     ]
    },
    {
     "name": "stdout",
     "output_type": "stream",
     "text": [
      "             x  time   id\n",
      "0     6.084627     0  305\n",
      "1     6.095974     1  305\n",
      "2     6.087487     2  305\n",
      "3     6.092058     3  305\n",
      "4     6.101546     4  305\n",
      "...        ...   ...  ...\n",
      "1010  6.086096  1010  305\n",
      "1011  6.078589  1011  305\n",
      "1012  6.084212  1012  305\n",
      "1013  6.083757  1013  305\n",
      "1014  6.085992  1014  305\n",
      "\n",
      "[1015 rows x 3 columns]\n"
     ]
    },
    {
     "name": "stderr",
     "output_type": "stream",
     "text": [
      "\n",
      "Feature Extraction: 100%|██████████| 1/1 [00:00<00:00,  5.72it/s]"
     ]
    },
    {
     "name": "stdout",
     "output_type": "stream",
     "text": [
      "             x  time   id\n",
      "0     6.232051     0  306\n",
      "1     6.231836     1  306\n",
      "2     6.231906     2  306\n",
      "3     6.232267     3  306\n",
      "4     6.231707     4  306\n",
      "...        ...   ...  ...\n",
      "1877  6.232002  1877  306\n",
      "1878  6.232118  1878  306\n",
      "1879  6.231794  1879  306\n",
      "1880  6.232079  1880  306\n",
      "1881  6.231717  1881  306\n",
      "\n",
      "[1882 rows x 3 columns]\n"
     ]
    },
    {
     "name": "stderr",
     "output_type": "stream",
     "text": [
      "\n",
      "Feature Extraction: 100%|██████████| 1/1 [00:00<00:00,  2.76it/s]"
     ]
    },
    {
     "name": "stdout",
     "output_type": "stream",
     "text": [
      "             x  time   id\n",
      "0     6.232082     0  307\n",
      "1     6.231928     1  307\n",
      "2     6.231910     2  307\n",
      "3     6.232220     3  307\n",
      "4     6.231643     4  307\n",
      "...        ...   ...  ...\n",
      "1877  6.231982  1877  307\n",
      "1878  6.232145  1878  307\n",
      "1879  6.231786  1879  307\n",
      "1880  6.232072  1880  307\n",
      "1881  6.231647  1881  307\n",
      "\n",
      "[1882 rows x 3 columns]\n"
     ]
    },
    {
     "name": "stderr",
     "output_type": "stream",
     "text": [
      "\n",
      "Feature Extraction: 100%|██████████| 1/1 [00:00<00:00,  2.74it/s]"
     ]
    },
    {
     "name": "stdout",
     "output_type": "stream",
     "text": [
      "             x  time   id\n",
      "0     6.232162     0  308\n",
      "1     6.231840     1  308\n",
      "2     6.232190     2  308\n",
      "3     6.231914     3  308\n",
      "4     6.231439     4  308\n",
      "...        ...   ...  ...\n",
      "1877  6.231677  1877  308\n",
      "1878  6.232048  1878  308\n",
      "1879  6.231923  1879  308\n",
      "1880  6.232297  1880  308\n",
      "1881  6.231648  1881  308\n",
      "\n",
      "[1882 rows x 3 columns]\n"
     ]
    },
    {
     "name": "stderr",
     "output_type": "stream",
     "text": [
      "\n",
      "Feature Extraction: 100%|██████████| 1/1 [00:00<00:00,  2.86it/s]"
     ]
    },
    {
     "name": "stdout",
     "output_type": "stream",
     "text": [
      "             x  time   id\n",
      "0     6.232010     0  309\n",
      "1     6.231741     1  309\n",
      "2     6.232358     2  309\n",
      "3     6.231812     3  309\n",
      "4     6.231437     4  309\n",
      "...        ...   ...  ...\n",
      "1877  6.231641  1877  309\n",
      "1878  6.232049  1878  309\n",
      "1879  6.231880  1879  309\n",
      "1880  6.232308  1880  309\n",
      "1881  6.231626  1881  309\n",
      "\n",
      "[1882 rows x 3 columns]\n"
     ]
    },
    {
     "name": "stderr",
     "output_type": "stream",
     "text": [
      "\n",
      "Feature Extraction: 100%|██████████| 1/1 [00:00<00:00,  2.58it/s]"
     ]
    },
    {
     "name": "stdout",
     "output_type": "stream",
     "text": [
      "           x  time   id\n",
      "0   5.558781     0  310\n",
      "1   5.585862     1  310\n",
      "2   5.599693     2  310\n",
      "3   5.584048     3  310\n",
      "4   5.606592     4  310\n",
      "5   5.600244     5  310\n",
      "6   5.588309     6  310\n",
      "7   5.613823     7  310\n",
      "8   5.594275     8  310\n",
      "9   5.601053     9  310\n",
      "10  5.610873    10  310\n",
      "11  5.589595    11  310\n",
      "12  5.603132    12  310\n",
      "13  5.604866    13  310\n",
      "14  5.592292    14  310\n",
      "15  5.604962    15  310\n",
      "16  5.600570    16  310\n",
      "17  5.594600    17  310\n",
      "18  5.605869    18  310\n",
      "19  5.598540    19  310\n",
      "20  5.598958    20  310\n",
      "21  5.599081    21  310\n",
      "22  5.596081    22  310\n",
      "23  5.594151    23  310\n",
      "24  5.596934    24  310\n",
      "25  5.590525    25  310\n",
      "26  5.598873    26  310\n",
      "27  5.593059    27  310\n",
      "28  5.590611    28  310\n",
      "29  4.441608    29  310\n"
     ]
    },
    {
     "name": "stderr",
     "output_type": "stream",
     "text": [
      "\n",
      "Feature Extraction: 100%|██████████| 1/1 [00:00<00:00, 98.68it/s]"
     ]
    },
    {
     "name": "stdout",
     "output_type": "stream",
     "text": [
      "           x  time   id\n",
      "0   6.177476     0  311\n",
      "1   6.205520     1  311\n",
      "2   6.208325     2  311\n",
      "3   6.194569     3  311\n",
      "4   6.215520     4  311\n",
      "5   6.206642     5  311\n",
      "6   6.201140     6  311\n",
      "7   6.215387     7  311\n",
      "8   6.197004     8  311\n",
      "9   6.209204     9  311\n",
      "10  6.213935    10  311\n",
      "11  6.199028    11  311\n",
      "12  6.208686    12  311\n",
      "13  6.211689    13  311\n",
      "14  6.197141    14  311\n",
      "15  6.211095    15  311\n",
      "16  6.210134    16  311\n",
      "17  6.200683    17  311\n",
      "18  6.212459    18  311\n",
      "19  6.208482    19  311\n",
      "20  6.200756    20  311\n",
      "21  6.213277    21  311\n",
      "22  6.207057    22  311\n",
      "23  6.205702    23  311\n",
      "24  6.208861    24  311\n",
      "25  6.202243    25  311\n",
      "26  6.208963    26  311\n",
      "27  6.205347    27  311\n",
      "28  6.202122    28  311\n",
      "29  5.094374    29  311\n"
     ]
    },
    {
     "name": "stderr",
     "output_type": "stream",
     "text": [
      "\n",
      "Feature Extraction: 100%|██████████| 1/1 [00:00<00:00, 102.96it/s]"
     ]
    },
    {
     "name": "stdout",
     "output_type": "stream",
     "text": [
      "           x  time   id\n",
      "0   5.943765     0  312\n",
      "1   6.009862     1  312\n",
      "2   6.015652     2  312\n",
      "3   6.011668     3  312\n",
      "4   6.037964     4  312\n",
      "5   6.024070     5  312\n",
      "6   6.021844     6  312\n",
      "7   6.044775     7  312\n",
      "8   6.018057     8  312\n",
      "9   6.027630     9  312\n",
      "10  6.035975    10  312\n",
      "11  6.017893    11  312\n",
      "12  6.034175    12  312\n",
      "13  6.031460    13  312\n",
      "14  6.021440    14  312\n",
      "15  6.034195    15  312\n",
      "16  6.022317    16  312\n",
      "17  6.018582    17  312\n",
      "18  6.036193    18  312\n",
      "19  6.019522    19  312\n",
      "20  6.019574    20  312\n",
      "21  6.033691    21  312\n",
      "22  6.015366    22  312\n",
      "23  6.015104    23  312\n",
      "24  6.025966    24  312\n",
      "25  6.011871    25  312\n",
      "26  6.025235    26  312\n",
      "27  6.024192    27  312\n",
      "28  6.013726    28  312\n",
      "29  4.897500    29  312\n"
     ]
    },
    {
     "name": "stderr",
     "output_type": "stream",
     "text": [
      "\n",
      "Feature Extraction: 100%|██████████| 1/1 [00:00<00:00, 106.44it/s]"
     ]
    },
    {
     "name": "stdout",
     "output_type": "stream",
     "text": [
      "           x  time   id\n",
      "0   6.096151     0  313\n",
      "1   6.189113     1  313\n",
      "2   6.214111     2  313\n",
      "3   6.209016     3  313\n",
      "4   6.228217     4  313\n",
      "5   6.218265     5  313\n",
      "6   6.208778     6  313\n",
      "7   6.229399     7  313\n",
      "8   6.209878     8  313\n",
      "9   6.212848     9  313\n",
      "10  6.227584    10  313\n",
      "11  6.202109    11  313\n",
      "12  6.218732    12  313\n",
      "13  6.223960    13  313\n",
      "14  6.195922    14  313\n",
      "15  6.223224    15  313\n",
      "16  6.216885    16  313\n",
      "17  6.198277    17  313\n",
      "18  6.225882    18  313\n",
      "19  6.209802    19  313\n",
      "20  6.202865    20  313\n",
      "21  6.223920    21  313\n",
      "22  6.198091    22  313\n",
      "23  6.202133    23  313\n",
      "24  6.221821    24  313\n",
      "25  6.187196    25  313\n",
      "26  6.214324    26  313\n",
      "27  6.210851    27  313\n",
      "28  6.180673    28  313\n",
      "29  5.114098    29  313\n"
     ]
    },
    {
     "name": "stderr",
     "output_type": "stream",
     "text": [
      "\n",
      "Feature Extraction: 100%|██████████| 1/1 [00:00<00:00, 89.15it/s]"
     ]
    },
    {
     "name": "stdout",
     "output_type": "stream",
     "text": [
      "           x  time   id\n",
      "0   5.569106     0  314\n",
      "1   5.620632     1  314\n",
      "2   5.650539     2  314\n",
      "3   5.608754     3  314\n",
      "4   5.668048     4  314\n",
      "5   5.642362     5  314\n",
      "6   5.620245     6  314\n",
      "7   5.657583     7  314\n",
      "8   5.623781     8  314\n",
      "9   5.637989     9  314\n",
      "10  5.658435    10  314\n",
      "11  5.608774    11  314\n",
      "12  5.641093    12  314\n",
      "13  5.654542    13  314\n",
      "14  5.623876    14  314\n",
      "15  5.643886    15  314\n",
      "16  5.649564    16  314\n",
      "17  5.624502    17  314\n",
      "18  5.644473    18  314\n",
      "19  5.645377    19  314\n",
      "20  5.639288    20  314\n",
      "21  5.641221    21  314\n",
      "22  5.638199    22  314\n",
      "23  5.643105    23  314\n",
      "24  5.635726    24  314\n",
      "25  5.621323    25  314\n",
      "26  5.654614    26  314\n",
      "27  5.633899    27  314\n",
      "28  5.623661    28  314\n",
      "29  4.608034    29  314\n"
     ]
    },
    {
     "name": "stderr",
     "output_type": "stream",
     "text": [
      "\n",
      "Feature Extraction: 100%|██████████| 1/1 [00:00<00:00, 99.05it/s]\n"
     ]
    },
    {
     "name": "stdout",
     "output_type": "stream",
     "text": [
      "           x  time   id\n",
      "0   5.905217     0  315\n",
      "1   6.014317     1  315\n",
      "2   6.064050     2  315\n",
      "3   6.046929     3  315\n",
      "4   6.112225     4  315\n",
      "5   6.077784     5  315\n",
      "6   6.049460     6  315\n",
      "7   6.124394     7  315\n",
      "8   6.053518     8  315\n",
      "9   6.061698     9  315\n",
      "10  6.110142    10  315\n",
      "11  6.037759    11  315\n",
      "12  6.078039    12  315\n",
      "13  6.090304    13  315\n",
      "14  6.028033    14  315\n",
      "15  6.086177    15  315\n",
      "16  6.068779    16  315\n",
      "17  6.028618    17  315\n",
      "18  6.093636    18  315\n",
      "19  6.053170    19  315\n",
      "20  6.041518    20  315\n",
      "21  6.079778    21  315\n",
      "22  6.032456    22  315\n",
      "23  6.043711    23  315\n",
      "24  6.068328    24  315\n",
      "25  6.015017    25  315\n",
      "26  6.062828    26  315\n",
      "27  6.050466    27  315\n",
      "28  6.011349    28  315\n",
      "29  5.001634    29  315\n"
     ]
    },
    {
     "name": "stderr",
     "output_type": "stream",
     "text": [
      "Feature Extraction: 100%|██████████| 1/1 [00:00<00:00, 108.42it/s]\n"
     ]
    },
    {
     "name": "stdout",
     "output_type": "stream",
     "text": [
      "            x  time   id\n",
      "0    5.818551     0  316\n",
      "1    5.835301     1  316\n",
      "2    5.828064     2  316\n",
      "3    5.828206     3  316\n",
      "4    5.833094     4  316\n",
      "..        ...   ...  ...\n",
      "101  5.843159   101  316\n",
      "102  5.862838   102  316\n",
      "103  5.837630   103  316\n",
      "104  5.831352   104  316\n",
      "105  5.871160   105  316\n",
      "\n",
      "[106 rows x 3 columns]\n"
     ]
    },
    {
     "name": "stderr",
     "output_type": "stream",
     "text": [
      "Feature Extraction: 100%|██████████| 1/1 [00:00<00:00, 57.96it/s]"
     ]
    },
    {
     "name": "stdout",
     "output_type": "stream",
     "text": [
      "            x  time   id\n",
      "0    6.209855     0  317\n",
      "1    6.212962     1  317\n",
      "2    6.213714     2  317\n",
      "3    6.210557     3  317\n",
      "4    6.214795     4  317\n",
      "..        ...   ...  ...\n",
      "101  6.217026   101  317\n",
      "102  6.219873   102  317\n",
      "103  6.216682   103  317\n",
      "104  6.214487   104  317\n",
      "105  6.221065   105  317\n",
      "\n",
      "[106 rows x 3 columns]\n"
     ]
    },
    {
     "name": "stderr",
     "output_type": "stream",
     "text": [
      "\n",
      "Feature Extraction: 100%|██████████| 1/1 [00:00<00:00, 57.26it/s]"
     ]
    },
    {
     "name": "stdout",
     "output_type": "stream",
     "text": [
      "           x  time   id\n",
      "0   5.860145     0  318\n",
      "1   5.823207     1  318\n",
      "2   5.845507     2  318\n",
      "3   5.872939     3  318\n",
      "4   5.828780     4  318\n",
      "5   5.845900     5  318\n",
      "6   5.856906     6  318\n",
      "7   5.836412     7  318\n",
      "8   5.853043     8  318\n",
      "9   5.856884     9  318\n",
      "10  5.826590    10  318\n",
      "11  5.855748    11  318\n",
      "12  5.835585    12  318\n",
      "13  5.825245    13  318\n",
      "14  5.854239    14  318\n",
      "15  5.828139    15  318\n",
      "16  5.827794    16  318\n",
      "17  5.854124    17  318\n",
      "18  5.830514    18  318\n",
      "19  5.831795    19  318\n",
      "20  5.856544    20  318\n",
      "21  5.840740    21  318\n",
      "22  5.835050    22  318\n",
      "23  5.847857    23  318\n",
      "24  5.852796    24  318\n",
      "25  5.835460    25  318\n",
      "26  5.838400    26  318\n",
      "27  5.847942    27  318\n",
      "28  5.834202    28  318\n",
      "29  5.842156    29  318\n",
      "30  5.846371    30  318\n",
      "31  5.855212    31  318\n",
      "32  5.838467    32  318\n",
      "33  5.830293    33  318\n",
      "34  5.866147    34  318\n",
      "35  5.841633    35  318\n",
      "36  5.834547    36  318\n",
      "37  5.854914    37  318\n",
      "38  5.857552    38  318\n",
      "39  5.825796    39  318\n",
      "40  5.843035    40  318\n",
      "41  5.858824    41  318\n",
      "42  5.839019    42  318\n",
      "43  5.841683    43  318\n",
      "44  5.852420    44  318\n",
      "45  5.840185    45  318\n",
      "46  5.827650    46  318\n",
      "47  5.848034    47  318\n",
      "48  5.846930    48  318\n",
      "49  5.835153    49  318\n",
      "50  5.831851    50  318\n",
      "51  5.846020    51  318\n",
      "52  5.835292    52  318\n",
      "53  5.837466    53  318\n",
      "54  5.845647    54  318\n",
      "55  5.854808    55  318\n"
     ]
    },
    {
     "name": "stderr",
     "output_type": "stream",
     "text": [
      "\n",
      "Feature Extraction: 100%|██████████| 1/1 [00:00<00:00, 69.01it/s]"
     ]
    },
    {
     "name": "stdout",
     "output_type": "stream",
     "text": [
      "           x  time   id\n",
      "0   6.216230     0  319\n",
      "1   6.209623     1  319\n",
      "2   6.214788     2  319\n",
      "3   6.217710     3  319\n",
      "4   6.209673     4  319\n",
      "5   6.214393     5  319\n",
      "6   6.213226     6  319\n",
      "7   6.211991     7  319\n",
      "8   6.215039     8  319\n",
      "9   6.215569     9  319\n",
      "10  6.208538    10  319\n",
      "11  6.215000    11  319\n",
      "12  6.212639    12  319\n",
      "13  6.206763    13  319\n",
      "14  6.214846    14  319\n",
      "15  6.210861    15  319\n",
      "16  6.208430    16  319\n",
      "17  6.214952    17  319\n",
      "18  6.211627    18  319\n",
      "19  6.208864    19  319\n",
      "20  6.215053    20  319\n",
      "21  6.214222    21  319\n",
      "22  6.208447    22  319\n",
      "23  6.215647    23  319\n",
      "24  6.214403    24  319\n",
      "25  6.211455    25  319\n",
      "26  6.212032    26  319\n",
      "27  6.212538    27  319\n",
      "28  6.211345    28  319\n",
      "29  6.212517    29  319\n",
      "30  6.214066    30  319\n",
      "31  6.214873    31  319\n",
      "32  6.212976    32  319\n",
      "33  6.210632    33  319\n",
      "34  6.216123    34  319\n",
      "35  6.213162    35  319\n",
      "36  6.209829    36  319\n",
      "37  6.215117    37  319\n",
      "38  6.215495    38  319\n",
      "39  6.210895    39  319\n",
      "40  6.212681    40  319\n",
      "41  6.215660    41  319\n",
      "42  6.214384    42  319\n",
      "43  6.213057    43  319\n",
      "44  6.215094    44  319\n",
      "45  6.213860    45  319\n",
      "46  6.207222    46  319\n",
      "47  6.215588    47  319\n",
      "48  6.214204    48  319\n",
      "49  6.212161    49  319\n",
      "50  6.210057    50  319\n",
      "51  6.213856    51  319\n",
      "52  6.211692    52  319\n",
      "53  6.210143    53  319\n",
      "54  6.214275    54  319\n",
      "55  6.215189    55  319\n"
     ]
    },
    {
     "name": "stderr",
     "output_type": "stream",
     "text": [
      "\n",
      "Feature Extraction: 100%|██████████| 1/1 [00:00<00:00, 89.49it/s]"
     ]
    },
    {
     "name": "stdout",
     "output_type": "stream",
     "text": [
      "           x  time   id\n",
      "0   5.594155     0  320\n",
      "1   5.615450     1  320\n",
      "2   5.607045     2  320\n",
      "3   5.611704     3  320\n",
      "4   5.622202     4  320\n",
      "5   5.613917     5  320\n",
      "6   5.610664     6  320\n",
      "7   5.613061     7  320\n",
      "8   5.614177     8  320\n",
      "9   5.617272     9  320\n",
      "10  5.611726    10  320\n",
      "11  5.611448    11  320\n",
      "12  5.622975    12  320\n",
      "13  5.612612    13  320\n",
      "14  5.613542    14  320\n",
      "15  5.623823    15  320\n",
      "16  5.615822    16  320\n",
      "17  5.617651    17  320\n",
      "18  5.615187    18  320\n",
      "19  5.608946    19  320\n",
      "20  5.616616    20  320\n",
      "21  5.618873    21  320\n",
      "22  5.611613    22  320\n",
      "23  5.621949    23  320\n",
      "24  5.610029    24  320\n",
      "25  5.615035    25  320\n",
      "26  5.623622    26  320\n",
      "27  5.613601    27  320\n",
      "28  5.613617    28  320\n"
     ]
    },
    {
     "name": "stderr",
     "output_type": "stream",
     "text": [
      "\n",
      "Feature Extraction: 100%|██████████| 1/1 [00:00<00:00, 96.40it/s]\n"
     ]
    },
    {
     "name": "stdout",
     "output_type": "stream",
     "text": [
      "           x  time   id\n",
      "0   6.195101     0  321\n",
      "1   6.211361     1  321\n",
      "2   6.200256     2  321\n",
      "3   6.204515     3  321\n",
      "4   6.213642     4  321\n",
      "5   6.206315     5  321\n",
      "6   6.200933     6  321\n",
      "7   6.214777     7  321\n",
      "8   6.205971     8  321\n",
      "9   6.207957     9  321\n",
      "10  6.207642    10  321\n",
      "11  6.206906    11  321\n",
      "12  6.214229    12  321\n",
      "13  6.206630    13  321\n",
      "14  6.212265    14  321\n",
      "15  6.218284    15  321\n",
      "16  6.212920    16  321\n",
      "17  6.212248    17  321\n",
      "18  6.210862    18  321\n",
      "19  6.208497    19  321\n",
      "20  6.214766    20  321\n",
      "21  6.214512    21  321\n",
      "22  6.201113    22  321\n",
      "23  6.215870    23  321\n",
      "24  6.213638    24  321\n",
      "25  6.209552    25  321\n",
      "26  6.214563    26  321\n",
      "27  6.208846    27  321\n",
      "28  6.208251    28  321\n"
     ]
    },
    {
     "name": "stderr",
     "output_type": "stream",
     "text": [
      "Feature Extraction: 100%|██████████| 1/1 [00:00<00:00, 97.30it/s]\n"
     ]
    },
    {
     "name": "stdout",
     "output_type": "stream",
     "text": [
      "           x  time   id\n",
      "0   6.016961     0  322\n",
      "1   6.042195     1  322\n",
      "2   6.034333     2  322\n",
      "3   6.041391     3  322\n",
      "4   6.052911     4  322\n",
      "5   6.040373     5  322\n",
      "6   6.047110     6  322\n",
      "7   6.040276     7  322\n",
      "8   6.037359     8  322\n",
      "9   6.047740     9  322\n",
      "10  6.041851    10  322\n",
      "11  6.035534    11  322\n",
      "12  6.051877    12  322\n",
      "13  6.042139    13  322\n",
      "14  6.040266    14  322\n",
      "15  6.055071    15  322\n",
      "16  6.042792    16  322\n",
      "17  6.041809    17  322\n",
      "18  6.044545    18  322\n",
      "19  6.036671    19  322\n",
      "20  6.043087    20  322\n",
      "21  6.040082    21  322\n",
      "22  6.037664    22  322\n",
      "23  6.046226    23  322\n",
      "24  6.036675    24  322\n",
      "25  6.036638    25  322\n",
      "26  6.046558    26  322\n",
      "27  6.036173    27  322\n",
      "28  6.035066    28  322\n"
     ]
    },
    {
     "name": "stderr",
     "output_type": "stream",
     "text": [
      "Feature Extraction: 100%|██████████| 1/1 [00:00<00:00, 82.44it/s]\n"
     ]
    },
    {
     "name": "stdout",
     "output_type": "stream",
     "text": [
      "           x  time   id\n",
      "0   6.194396     0  323\n",
      "1   6.229428     1  323\n",
      "2   6.215202     2  323\n",
      "3   6.218212     3  323\n",
      "4   6.231559     4  323\n",
      "5   6.221371     5  323\n",
      "6   6.223956     6  323\n",
      "7   6.229028     7  323\n",
      "8   6.210577     8  323\n",
      "9   6.229505     9  323\n",
      "10  6.225192    10  323\n",
      "11  6.205600    11  323\n",
      "12  6.229948    12  323\n",
      "13  6.228743    13  323\n",
      "14  6.222069    14  323\n",
      "15  6.232401    15  323\n",
      "16  6.225283    16  323\n",
      "17  6.224279    17  323\n",
      "18  6.230196    18  323\n",
      "19  6.214671    19  323\n",
      "20  6.224934    20  323\n",
      "21  6.229903    21  323\n",
      "22  6.213158    22  323\n",
      "23  6.229719    23  323\n",
      "24  6.224017    24  323\n",
      "25  6.210924    25  323\n",
      "26  6.231267    26  323\n",
      "27  6.221697    27  323\n",
      "28  6.213413    28  323\n"
     ]
    },
    {
     "name": "stderr",
     "output_type": "stream",
     "text": [
      "Feature Extraction: 100%|██████████| 1/1 [00:00<00:00, 101.53it/s]\n"
     ]
    },
    {
     "name": "stdout",
     "output_type": "stream",
     "text": [
      "           x  time   id\n",
      "0   5.605566     0  324\n",
      "1   5.650642     1  324\n",
      "2   5.622577     2  324\n",
      "3   5.629813     3  324\n",
      "4   5.653716     4  324\n",
      "5   5.644436     5  324\n",
      "6   5.623713     6  324\n",
      "7   5.647391     7  324\n",
      "8   5.643792     8  324\n",
      "9   5.638401     9  324\n",
      "10  5.639639    10  324\n",
      "11  5.641203    11  324\n",
      "12  5.658339    12  324\n",
      "13  5.638035    13  324\n",
      "14  5.646799    14  324\n",
      "15  5.658559    15  324\n",
      "16  5.655718    16  324\n",
      "17  5.657718    17  324\n",
      "18  5.635134    18  324\n",
      "19  5.632925    19  324\n",
      "20  5.655423    20  324\n",
      "21  5.664358    21  324\n",
      "22  5.634094    22  324\n",
      "23  5.662566    23  324\n",
      "24  5.648876    24  324\n",
      "25  5.649080    25  324\n",
      "26  5.665746    26  324\n",
      "27  5.640141    27  324\n",
      "28  5.637848    28  324\n"
     ]
    },
    {
     "name": "stderr",
     "output_type": "stream",
     "text": [
      "Feature Extraction: 100%|██████████| 1/1 [00:00<00:00, 85.56it/s]\n"
     ]
    },
    {
     "name": "stdout",
     "output_type": "stream",
     "text": [
      "           x  time   id\n",
      "0   6.019503     0  325\n",
      "1   6.089415     1  325\n",
      "2   6.046059     2  325\n",
      "3   6.058645     3  325\n",
      "4   6.106501     4  325\n",
      "5   6.066645     5  325\n",
      "6   6.073904     6  325\n",
      "7   6.090224     7  325\n",
      "8   6.046207     8  325\n",
      "9   6.084081     9  325\n",
      "10  6.076877    10  325\n",
      "11  6.039936    11  325\n",
      "12  6.105063    12  325\n",
      "13  6.086204    13  325\n",
      "14  6.069450    14  325\n",
      "15  6.109672    15  325\n",
      "16  6.078820    16  325\n",
      "17  6.075939    17  325\n",
      "18  6.091731    18  325\n",
      "19  6.050787    19  325\n",
      "20  6.077760    20  325\n",
      "21  6.091733    21  325\n",
      "22  6.044099    22  325\n",
      "23  6.088768    23  325\n",
      "24  6.066703    24  325\n",
      "25  6.040998    25  325\n",
      "26  6.091086    26  325\n",
      "27  6.065424    27  325\n",
      "28  6.050390    28  325\n"
     ]
    },
    {
     "name": "stderr",
     "output_type": "stream",
     "text": [
      "Feature Extraction: 100%|██████████| 1/1 [00:00<00:00, 78.69it/s]\n"
     ]
    },
    {
     "name": "stdout",
     "output_type": "stream",
     "text": [
      "           x  time   id\n",
      "0   5.821422     0  326\n",
      "1   5.829284     1  326\n",
      "2   5.845275     2  326\n",
      "3   5.821862     3  326\n",
      "4   5.835540     4  326\n",
      "5   5.844647     5  326\n",
      "6   5.814698     6  326\n",
      "7   5.842748     7  326\n",
      "8   5.831682     8  326\n",
      "9   5.825654     9  326\n",
      "10  5.844917    10  326\n",
      "11  5.846242    11  326\n",
      "12  5.842386    12  326\n",
      "13  5.828331    13  326\n",
      "14  5.860977    14  326\n",
      "15  5.857709    15  326\n",
      "16  5.829571    16  326\n",
      "17  5.850653    17  326\n",
      "18  5.851279    18  326\n",
      "19  5.823336    19  326\n",
      "20  5.845658    20  326\n",
      "21  5.860796    21  326\n",
      "22  5.829191    22  326\n",
      "23  5.855576    23  326\n",
      "24  5.859561    24  326\n",
      "25  5.830174    25  326\n",
      "26  5.864785    26  326\n",
      "27  5.854534    27  326\n",
      "28  5.856835    28  326\n",
      "29  5.862010    29  326\n",
      "30  5.847344    30  326\n",
      "31  5.856686    31  326\n",
      "32  5.868247    32  326\n",
      "33  5.832654    33  326\n",
      "34  5.862240    34  326\n",
      "35  5.864672    35  326\n",
      "36  5.836941    36  326\n",
      "37  5.866991    37  326\n",
      "38  5.878848    38  326\n",
      "39  5.826977    39  326\n",
      "40  5.866614    40  326\n",
      "41  5.870094    41  326\n",
      "42  5.834060    42  326\n",
      "43  5.868550    43  326\n",
      "44  5.854560    44  326\n",
      "45  5.856289    45  326\n",
      "46  5.863592    46  326\n",
      "47  5.831428    47  326\n",
      "48  5.846199    48  326\n",
      "49  5.854648    49  326\n",
      "50  5.836026    50  326\n",
      "51  5.843205    51  326\n",
      "52  5.874853    52  326\n",
      "53  5.841433    53  326\n",
      "54  5.844713    54  326\n",
      "55  5.845196    55  326\n",
      "56  5.848659    56  326\n"
     ]
    },
    {
     "name": "stderr",
     "output_type": "stream",
     "text": [
      "Feature Extraction: 100%|██████████| 1/1 [00:00<00:00, 76.17it/s]"
     ]
    },
    {
     "name": "stdout",
     "output_type": "stream",
     "text": [
      "           x  time   id\n",
      "0   6.206545     0  327\n",
      "1   6.209078     1  327\n",
      "2   6.210635     2  327\n",
      "3   6.208009     3  327\n",
      "4   6.209357     4  327\n",
      "5   6.210074     5  327\n",
      "6   6.205912     6  327\n",
      "7   6.213469     7  327\n",
      "8   6.209425     8  327\n",
      "9   6.206226     9  327\n",
      "10  6.215312    10  327\n",
      "11  6.212363    11  327\n",
      "12  6.212207    12  327\n",
      "13  6.209584    13  327\n",
      "14  6.218090    14  327\n",
      "15  6.215884    15  327\n",
      "16  6.209387    16  327\n",
      "17  6.214481    17  327\n",
      "18  6.216112    18  327\n",
      "19  6.205267    19  327\n",
      "20  6.217499    20  327\n",
      "21  6.216486    21  327\n",
      "22  6.210897    22  327\n",
      "23  6.214688    23  327\n",
      "24  6.216413    24  327\n",
      "25  6.211267    25  327\n",
      "26  6.216218    26  327\n",
      "27  6.215697    27  327\n",
      "28  6.215143    28  327\n",
      "29  6.216847    29  327\n",
      "30  6.213393    30  327\n",
      "31  6.215667    31  327\n",
      "32  6.217245    32  327\n",
      "33  6.210984    33  327\n",
      "34  6.217157    34  327\n",
      "35  6.216165    35  327\n",
      "36  6.213363    36  327\n",
      "37  6.218693    37  327\n",
      "38  6.218978    38  327\n",
      "39  6.213300    39  327\n",
      "40  6.216370    40  327\n",
      "41  6.218191    41  327\n",
      "42  6.213284    42  327\n",
      "43  6.217376    43  327\n",
      "44  6.216470    44  327\n",
      "45  6.216476    45  327\n",
      "46  6.217696    46  327\n",
      "47  6.212116    47  327\n",
      "48  6.212112    48  327\n",
      "49  6.216863    49  327\n",
      "50  6.209049    50  327\n",
      "51  6.216869    51  327\n",
      "52  6.222417    52  327\n",
      "53  6.212316    53  327\n",
      "54  6.213699    54  327\n",
      "55  6.213486    55  327\n",
      "56  6.213013    56  327\n"
     ]
    },
    {
     "name": "stderr",
     "output_type": "stream",
     "text": [
      "\n",
      "Feature Extraction: 100%|██████████| 1/1 [00:00<00:00, 89.50it/s]"
     ]
    },
    {
     "name": "stdout",
     "output_type": "stream",
     "text": [
      "            x  time   id\n",
      "0    5.828030     0  328\n",
      "1    5.860003     1  328\n",
      "2    5.840934     2  328\n",
      "3    5.827254     3  328\n",
      "4    5.849199     4  328\n",
      "..        ...   ...  ...\n",
      "135  5.866551   135  328\n",
      "136  5.832833   136  328\n",
      "137  5.848392   137  328\n",
      "138  5.854796   138  328\n",
      "139  5.849773   139  328\n",
      "\n",
      "[140 rows x 3 columns]\n"
     ]
    },
    {
     "name": "stderr",
     "output_type": "stream",
     "text": [
      "\n",
      "Feature Extraction: 100%|██████████| 1/1 [00:00<00:00, 50.22it/s]"
     ]
    },
    {
     "name": "stdout",
     "output_type": "stream",
     "text": [
      "            x  time   id\n",
      "0    6.214655     0  329\n",
      "1    6.219041     1  329\n",
      "2    6.213888     2  329\n",
      "3    6.212389     3  329\n",
      "4    6.215512     4  329\n",
      "..        ...   ...  ...\n",
      "133  6.220326   133  329\n",
      "134  6.216435   134  329\n",
      "135  6.215598   135  329\n",
      "136  6.220437   136  329\n",
      "137  6.217661   137  329\n",
      "\n",
      "[138 rows x 3 columns]\n"
     ]
    },
    {
     "name": "stderr",
     "output_type": "stream",
     "text": [
      "\n",
      "Feature Extraction: 100%|██████████| 1/1 [00:00<00:00, 52.92it/s]"
     ]
    },
    {
     "name": "stdout",
     "output_type": "stream",
     "text": [
      "            x  time   id\n",
      "0    5.987091     0  330\n",
      "1    6.016018     1  330\n",
      "2    5.987561     2  330\n",
      "3    5.975216     3  330\n",
      "4    6.013898     4  330\n",
      "..        ...   ...  ...\n",
      "702  5.342668   702  330\n",
      "703  5.153898   703  330\n",
      "704  5.235165   704  330\n",
      "705  5.225743   705  330\n",
      "706  5.052273   706  330\n",
      "\n",
      "[707 rows x 3 columns]\n"
     ]
    },
    {
     "name": "stderr",
     "output_type": "stream",
     "text": [
      "\n",
      "Feature Extraction: 100%|██████████| 1/1 [00:00<00:00,  7.77it/s]\n"
     ]
    },
    {
     "name": "stdout",
     "output_type": "stream",
     "text": [
      "            x  time   id\n",
      "0    6.225453     0  331\n",
      "1    6.229787     1  331\n",
      "2    6.219744     2  331\n",
      "3    6.215825     3  331\n",
      "4    6.225581     4  331\n",
      "..        ...   ...  ...\n",
      "702  5.855270   702  331\n",
      "703  5.695492   703  331\n",
      "704  5.666597   704  331\n",
      "705  5.707711   705  331\n",
      "706  5.571325   706  331\n",
      "\n",
      "[707 rows x 3 columns]\n"
     ]
    },
    {
     "name": "stderr",
     "output_type": "stream",
     "text": [
      "Feature Extraction: 100%|██████████| 1/1 [00:00<00:00,  8.22it/s]"
     ]
    },
    {
     "name": "stdout",
     "output_type": "stream",
     "text": [
      "            x  time   id\n",
      "0    6.093140     0  332\n",
      "1    6.115933     1  332\n",
      "2    6.117842     2  332\n",
      "3    6.126936     3  332\n",
      "4    6.129823     4  332\n",
      "..        ...   ...  ...\n",
      "702  5.379220   702  332\n",
      "703  5.456203   703  332\n",
      "704  5.424956   704  332\n",
      "705  5.444998   705  332\n",
      "706  5.394751   706  332\n",
      "\n",
      "[707 rows x 3 columns]\n"
     ]
    },
    {
     "name": "stderr",
     "output_type": "stream",
     "text": [
      "\n",
      "Feature Extraction: 100%|██████████| 1/1 [00:00<00:00,  7.20it/s]"
     ]
    },
    {
     "name": "stdout",
     "output_type": "stream",
     "text": [
      "            x  time   id\n",
      "0    6.055320     0  333\n",
      "1    6.084314     1  333\n",
      "2    6.083007     2  333\n",
      "3    6.097679     3  333\n",
      "4    6.100707     4  333\n",
      "..        ...   ...  ...\n",
      "702  5.233051   702  333\n",
      "703  5.289976   703  333\n",
      "704  5.265619   704  333\n",
      "705  5.361707   705  333\n",
      "706  5.334536   706  333\n",
      "\n",
      "[707 rows x 3 columns]\n"
     ]
    },
    {
     "name": "stderr",
     "output_type": "stream",
     "text": [
      "\n",
      "Feature Extraction: 100%|██████████| 1/1 [00:00<00:00,  8.29it/s]"
     ]
    },
    {
     "name": "stdout",
     "output_type": "stream",
     "text": [
      "            x  time   id\n",
      "0    5.444542     0  334\n",
      "1    5.453266     1  334\n",
      "2    5.448995     2  334\n",
      "3    5.447399     3  334\n",
      "4    5.457513     4  334\n",
      "..        ...   ...  ...\n",
      "691  5.151237   691  334\n",
      "692  5.120396   692  334\n",
      "693  5.125017   693  334\n",
      "694  5.084007   694  334\n",
      "695  5.106061   695  334\n",
      "\n",
      "[696 rows x 3 columns]\n"
     ]
    },
    {
     "name": "stderr",
     "output_type": "stream",
     "text": [
      "\n",
      "Feature Extraction: 100%|██████████| 1/1 [00:00<00:00,  8.66it/s]"
     ]
    },
    {
     "name": "stdout",
     "output_type": "stream",
     "text": [
      "            x  time   id\n",
      "0    5.994397     0  335\n",
      "1    6.020431     1  335\n",
      "2    6.019181     2  335\n",
      "3    6.018556     3  335\n",
      "4    6.034932     4  335\n",
      "..        ...   ...  ...\n",
      "699  5.733533   699  335\n",
      "700  5.710120   700  335\n",
      "701  5.718402   701  335\n",
      "702  5.667198   702  335\n",
      "703  5.709110   703  335\n",
      "\n",
      "[704 rows x 3 columns]\n"
     ]
    },
    {
     "name": "stderr",
     "output_type": "stream",
     "text": [
      "\n",
      "Feature Extraction: 100%|██████████| 1/1 [00:00<00:00,  8.52it/s]"
     ]
    },
    {
     "name": "stdout",
     "output_type": "stream",
     "text": [
      "            x  time   id\n",
      "0    5.724080     0  336\n",
      "1    5.732377     1  336\n",
      "2    5.735462     2  336\n",
      "3    5.745259     3  336\n",
      "4    5.749204     4  336\n",
      "..        ...   ...  ...\n",
      "702  5.538528   702  336\n",
      "703  5.538021   703  336\n",
      "704  5.540875   704  336\n",
      "705  5.343635   705  336\n",
      "706  5.253967   706  336\n",
      "\n",
      "[707 rows x 3 columns]\n"
     ]
    },
    {
     "name": "stderr",
     "output_type": "stream",
     "text": [
      "\n",
      "Feature Extraction: 100%|██████████| 1/1 [00:00<00:00,  8.86it/s]"
     ]
    },
    {
     "name": "stdout",
     "output_type": "stream",
     "text": [
      "            x  time   id\n",
      "0    6.054023     0  337\n",
      "1    6.069173     1  337\n",
      "2    6.078040     2  337\n",
      "3    6.098019     3  337\n",
      "4    6.101181     4  337\n",
      "..        ...   ...  ...\n",
      "702  5.669452   702  337\n",
      "703  5.668525   703  337\n",
      "704  5.671472   704  337\n",
      "705  5.623685   705  337\n",
      "706  5.604958   706  337\n",
      "\n",
      "[707 rows x 3 columns]\n"
     ]
    },
    {
     "name": "stderr",
     "output_type": "stream",
     "text": [
      "\n",
      "Feature Extraction: 100%|██████████| 1/1 [00:00<00:00,  8.45it/s]"
     ]
    },
    {
     "name": "stdout",
     "output_type": "stream",
     "text": [
      "            x  time   id\n",
      "0    5.589335     0  338\n",
      "1    5.579036     1  338\n",
      "2    5.592506     2  338\n",
      "3    5.596426     3  338\n",
      "4    5.592103     4  338\n",
      "..        ...   ...  ...\n",
      "703  5.273390   703  338\n",
      "704  5.271281   704  338\n",
      "705  5.272934   705  338\n",
      "706  5.260774   706  338\n",
      "707  5.251996   707  338\n",
      "\n",
      "[708 rows x 3 columns]\n"
     ]
    },
    {
     "name": "stderr",
     "output_type": "stream",
     "text": [
      "\n",
      "Feature Extraction: 100%|██████████| 1/1 [00:00<00:00,  9.06it/s]"
     ]
    },
    {
     "name": "stdout",
     "output_type": "stream",
     "text": [
      "            x  time   id\n",
      "0    6.194390     0  339\n",
      "1    6.160648     1  339\n",
      "2    6.210125     2  339\n",
      "3    6.217505     3  339\n",
      "4    6.199015     4  339\n",
      "..        ...   ...  ...\n",
      "703  5.815801   703  339\n",
      "704  5.817895   704  339\n",
      "705  5.819244   705  339\n",
      "706  5.802024   706  339\n",
      "707  5.811473   707  339\n",
      "\n",
      "[708 rows x 3 columns]\n"
     ]
    },
    {
     "name": "stderr",
     "output_type": "stream",
     "text": [
      "\n",
      "Feature Extraction: 100%|██████████| 1/1 [00:00<00:00,  8.43it/s]"
     ]
    },
    {
     "name": "stdout",
     "output_type": "stream",
     "text": [
      "           x  time   id\n",
      "0   5.540827     0  340\n",
      "1   5.579609     1  340\n",
      "2   5.593948     2  340\n",
      "3   5.590722     3  340\n",
      "4   5.587024     4  340\n",
      "5   5.596340     5  340\n",
      "6   5.590428     6  340\n",
      "7   5.590945     7  340\n",
      "8   5.594508     8  340\n",
      "9   5.593270     9  340\n",
      "10  5.594687    10  340\n",
      "11  5.598379    11  340\n",
      "12  5.589692    12  340\n",
      "13  5.591652    13  340\n",
      "14  5.595834    14  340\n",
      "15  5.591684    15  340\n",
      "16  5.590656    16  340\n",
      "17  5.597821    17  340\n",
      "18  5.595568    18  340\n",
      "19  5.592242    19  340\n",
      "20  5.596135    20  340\n",
      "21  5.597098    21  340\n",
      "22  5.593061    22  340\n",
      "23  5.597205    23  340\n",
      "24  5.606970    24  340\n",
      "25  5.591676    25  340\n",
      "26  5.595318    26  340\n",
      "27  5.597839    27  340\n",
      "28  5.595471    28  340\n"
     ]
    },
    {
     "name": "stderr",
     "output_type": "stream",
     "text": [
      "\n",
      "Feature Extraction: 100%|██████████| 1/1 [00:00<00:00, 114.41it/s]\n"
     ]
    },
    {
     "name": "stdout",
     "output_type": "stream",
     "text": [
      "           x  time   id\n",
      "0   6.145726     0  341\n",
      "1   6.177263     1  341\n",
      "2   6.192751     2  341\n",
      "3   6.188185     3  341\n",
      "4   6.196248     4  341\n",
      "5   6.196179     5  341\n",
      "6   6.197892     6  341\n",
      "7   6.200069     7  341\n",
      "8   6.192682     8  341\n",
      "9   6.205480     9  341\n",
      "10  6.203184    10  341\n",
      "11  6.197038    11  341\n",
      "12  6.202478    12  341\n",
      "13  6.202671    13  341\n",
      "14  6.203872    14  341\n",
      "15  6.194613    15  341\n",
      "16  6.205053    16  341\n",
      "17  6.203491    17  341\n",
      "18  6.200029    18  341\n",
      "19  6.198550    19  341\n",
      "20  6.202765    20  341\n",
      "21  6.198274    21  341\n",
      "22  6.197912    22  341\n",
      "23  6.203444    23  341\n",
      "24  6.201901    24  341\n",
      "25  6.196764    25  341\n",
      "26  6.206229    26  341\n",
      "27  6.202720    27  341\n",
      "28  6.196926    28  341\n"
     ]
    },
    {
     "name": "stderr",
     "output_type": "stream",
     "text": [
      "Feature Extraction: 100%|██████████| 1/1 [00:00<00:00, 106.27it/s]"
     ]
    },
    {
     "name": "stdout",
     "output_type": "stream",
     "text": [
      "           x  time   id\n",
      "0   5.919631     0  342\n",
      "1   5.976491     1  342\n",
      "2   6.003402     2  342\n",
      "3   6.025308     3  342\n",
      "4   6.010673     4  342\n",
      "5   6.017028     5  342\n",
      "6   6.028875     6  342\n",
      "7   6.023458     7  342\n",
      "8   6.027422     8  342\n",
      "9   6.021355     9  342\n",
      "10  6.024380    10  342\n",
      "11  6.027261    11  342\n",
      "12  6.024273    12  342\n",
      "13  6.022707    13  342\n",
      "14  6.023333    14  342\n",
      "15  6.026908    15  342\n",
      "16  6.017622    16  342\n",
      "17  6.025603    17  342\n",
      "18  6.025911    18  342\n",
      "19  6.015888    19  342\n",
      "20  6.021987    20  342\n",
      "21  6.022382    21  342\n",
      "22  6.015924    22  342\n",
      "23  6.021526    23  342\n",
      "24  6.022907    24  342\n",
      "25  6.020259    25  342\n",
      "26  6.021370    26  342\n",
      "27  6.016204    27  342\n",
      "28  6.019123    28  342\n"
     ]
    },
    {
     "name": "stderr",
     "output_type": "stream",
     "text": [
      "\n",
      "Feature Extraction: 100%|██████████| 1/1 [00:00<00:00, 110.40it/s]"
     ]
    },
    {
     "name": "stdout",
     "output_type": "stream",
     "text": [
      "           x  time   id\n",
      "0   6.010257     0  343\n",
      "1   6.097138     1  343\n",
      "2   6.149043     2  343\n",
      "3   6.199889     3  343\n",
      "4   6.172912     4  343\n",
      "5   6.184961     5  343\n",
      "6   6.210831     6  343\n",
      "7   6.183736     7  343\n",
      "8   6.190918     8  343\n",
      "9   6.203950     9  343\n",
      "10  6.189889    10  343\n",
      "11  6.198463    11  343\n",
      "12  6.202827    12  343\n",
      "13  6.183728    13  343\n",
      "14  6.196282    14  343\n",
      "15  6.207586    15  343\n",
      "16  6.184053    16  343\n",
      "17  6.194905    17  343\n",
      "18  6.205487    18  343\n",
      "19  6.180072    19  343\n",
      "20  6.188375    20  343\n",
      "21  6.192608    21  343\n",
      "22  6.176303    22  343\n",
      "23  6.187455    23  343\n",
      "24  6.190428    24  343\n",
      "25  6.183145    25  343\n",
      "26  6.196520    26  343\n",
      "27  6.183001    27  343\n",
      "28  6.186672    28  343\n"
     ]
    },
    {
     "name": "stderr",
     "output_type": "stream",
     "text": [
      "\n",
      "Feature Extraction: 100%|██████████| 1/1 [00:00<00:00, 92.83it/s]"
     ]
    },
    {
     "name": "stdout",
     "output_type": "stream",
     "text": [
      "           x  time   id\n",
      "0   5.549795     0  344\n",
      "1   5.589737     1  344\n",
      "2   5.632196     2  344\n",
      "3   5.630081     3  344\n",
      "4   5.626113     4  344\n",
      "5   5.638775     5  344\n",
      "6   5.629732     6  344\n",
      "7   5.646287     7  344\n",
      "8   5.635516     8  344\n",
      "9   5.645952     9  344\n",
      "10  5.652816    10  344\n",
      "11  5.645348    11  344\n",
      "12  5.639788    12  344\n",
      "13  5.647390    13  344\n",
      "14  5.656926    14  344\n",
      "15  5.630501    15  344\n",
      "16  5.640056    16  344\n",
      "17  5.651643    17  344\n",
      "18  5.637194    18  344\n",
      "19  5.627752    19  344\n",
      "20  5.649707    20  344\n",
      "21  5.634933    21  344\n",
      "22  5.630449    22  344\n",
      "23  5.649473    23  344\n",
      "24  5.640078    24  344\n",
      "25  5.623153    25  344\n",
      "26  5.659416    26  344\n",
      "27  5.644431    27  344\n",
      "28  5.629012    28  344\n"
     ]
    },
    {
     "name": "stderr",
     "output_type": "stream",
     "text": [
      "\n",
      "Feature Extraction: 100%|██████████| 1/1 [00:00<00:00, 100.07it/s]"
     ]
    },
    {
     "name": "stdout",
     "output_type": "stream",
     "text": [
      "           x  time   id\n",
      "0   5.820848     0  345\n",
      "1   5.927212     1  345\n",
      "2   5.975281     2  345\n",
      "3   6.038992     3  345\n",
      "4   6.005706     4  345\n",
      "5   6.018839     5  345\n",
      "6   6.049689     6  345\n",
      "7   6.024324     7  345\n",
      "8   6.026794     8  345\n",
      "9   6.046092     9  345\n",
      "10  6.032211    10  345\n",
      "11  6.039358    11  345\n",
      "12  6.034885    12  345\n",
      "13  6.022659    13  345\n",
      "14  6.032141    14  345\n",
      "15  6.040632    15  345\n",
      "16  6.014835    16  345\n",
      "17  6.025555    17  345\n",
      "18  6.034418    18  345\n",
      "19  6.006806    19  345\n",
      "20  6.019751    20  345\n",
      "21  6.016793    21  345\n",
      "22  5.998172    22  345\n",
      "23  6.017090    23  345\n",
      "24  6.022053    24  345\n",
      "25  6.005908    25  345\n",
      "26  6.032328    26  345\n",
      "27  6.011462    27  345\n",
      "28  6.008797    28  345\n"
     ]
    },
    {
     "name": "stderr",
     "output_type": "stream",
     "text": [
      "\n",
      "Feature Extraction: 100%|██████████| 1/1 [00:00<00:00, 101.96it/s]\n"
     ]
    },
    {
     "name": "stdout",
     "output_type": "stream",
     "text": [
      "            x  time   id\n",
      "0    6.229596     0  346\n",
      "1    6.232374     1  346\n",
      "2    6.231671     2  346\n",
      "3    6.230642     3  346\n",
      "4    6.231404     4  346\n",
      "..        ...   ...  ...\n",
      "637  6.232811   637  346\n",
      "638  6.231324   638  346\n",
      "639  6.232065   639  346\n",
      "640  6.230527   640  346\n",
      "641  6.231832   641  346\n",
      "\n",
      "[642 rows x 3 columns]\n"
     ]
    },
    {
     "name": "stderr",
     "output_type": "stream",
     "text": [
      "Feature Extraction: 100%|██████████| 1/1 [00:00<00:00,  9.75it/s]\n"
     ]
    },
    {
     "name": "stdout",
     "output_type": "stream",
     "text": [
      "            x  time   id\n",
      "0    6.230948     0  347\n",
      "1    6.232882     1  347\n",
      "2    6.231927     2  347\n",
      "3    6.231129     3  347\n",
      "4    6.232014     4  347\n",
      "..        ...   ...  ...\n",
      "637  6.233153   637  347\n",
      "638  6.231362   638  347\n",
      "639  6.232022   639  347\n",
      "640  6.230890   640  347\n",
      "641  6.231973   641  347\n",
      "\n",
      "[642 rows x 3 columns]\n"
     ]
    },
    {
     "name": "stderr",
     "output_type": "stream",
     "text": [
      "Feature Extraction: 100%|██████████| 1/1 [00:00<00:00,  8.86it/s]"
     ]
    },
    {
     "name": "stdout",
     "output_type": "stream",
     "text": [
      "             x  time   id\n",
      "0     6.230621     0  348\n",
      "1     6.230088     1  348\n",
      "2     6.231170     2  348\n",
      "3     6.230510     3  348\n",
      "4     6.229304     4  348\n",
      "...        ...   ...  ...\n",
      "1389  6.027250  1389  348\n",
      "1390  6.054346  1390  348\n",
      "1391  6.226932  1391  348\n",
      "1392  6.079878  1392  348\n",
      "1393  5.913466  1393  348\n",
      "\n",
      "[1394 rows x 3 columns]\n"
     ]
    },
    {
     "name": "stderr",
     "output_type": "stream",
     "text": [
      "\n",
      "Feature Extraction: 100%|██████████| 1/1 [00:00<00:00,  4.05it/s]"
     ]
    },
    {
     "name": "stdout",
     "output_type": "stream",
     "text": [
      "             x  time   id\n",
      "0     6.231686     0  349\n",
      "1     6.231119     1  349\n",
      "2     6.231727     2  349\n",
      "3     6.231163     3  349\n",
      "4     6.230265     4  349\n",
      "...        ...   ...  ...\n",
      "1393  6.201884  1393  349\n",
      "1394  6.200544  1394  349\n",
      "1395  6.230706  1395  349\n",
      "1396  6.169895  1396  349\n",
      "1397  6.079362  1397  349\n",
      "\n",
      "[1398 rows x 3 columns]\n"
     ]
    },
    {
     "name": "stderr",
     "output_type": "stream",
     "text": [
      "\n",
      "Feature Extraction: 100%|██████████| 1/1 [00:00<00:00,  4.26it/s]"
     ]
    },
    {
     "name": "stdout",
     "output_type": "stream",
     "text": [
      "             x  time   id\n",
      "0     6.112023     0  350\n",
      "1     6.107675     1  350\n",
      "2     6.123719     2  350\n",
      "3     6.113745     3  350\n",
      "4     6.113108     4  350\n",
      "...        ...   ...  ...\n",
      "1398  5.578427  1398  350\n",
      "1399  5.588107  1399  350\n",
      "1400  6.164336  1400  350\n",
      "1401  5.647789  1401  350\n",
      "1402  5.536861  1402  350\n",
      "\n",
      "[1403 rows x 3 columns]\n"
     ]
    },
    {
     "name": "stderr",
     "output_type": "stream",
     "text": [
      "\n",
      "Feature Extraction: 100%|██████████| 1/1 [00:00<00:00,  4.23it/s]"
     ]
    },
    {
     "name": "stdout",
     "output_type": "stream",
     "text": [
      "             x  time   id\n",
      "0     6.230742     0  351\n",
      "1     6.230680     1  351\n",
      "2     6.230276     2  351\n",
      "3     6.230487     3  351\n",
      "4     6.230194     4  351\n",
      "...        ...   ...  ...\n",
      "1388  5.920244  1388  351\n",
      "1389  5.945041  1389  351\n",
      "1390  6.189795  1390  351\n",
      "1391  5.917052  1391  351\n",
      "1392  5.843569  1392  351\n",
      "\n",
      "[1393 rows x 3 columns]\n"
     ]
    },
    {
     "name": "stderr",
     "output_type": "stream",
     "text": [
      "\n",
      "Feature Extraction: 100%|██████████| 1/1 [00:00<00:00,  4.25it/s]"
     ]
    },
    {
     "name": "stdout",
     "output_type": "stream",
     "text": [
      "             x  time   id\n",
      "0     5.846672     0  352\n",
      "1     5.848472     1  352\n",
      "2     5.846650     2  352\n",
      "3     5.846626     3  352\n",
      "4     5.840635     4  352\n",
      "...        ...   ...  ...\n",
      "1384  5.860919  1384  352\n",
      "1385  5.860440  1385  352\n",
      "1386  6.233012  1386  352\n",
      "1387  6.189248  1387  352\n",
      "1388  5.951742  1388  352\n",
      "\n",
      "[1389 rows x 3 columns]\n"
     ]
    },
    {
     "name": "stderr",
     "output_type": "stream",
     "text": [
      "\n",
      "Feature Extraction: 100%|██████████| 1/1 [00:00<00:00,  4.36it/s]"
     ]
    },
    {
     "name": "stdout",
     "output_type": "stream",
     "text": [
      "             x  time   id\n",
      "0     6.228316     0  353\n",
      "1     6.227302     1  353\n",
      "2     6.226966     2  353\n",
      "3     6.228607     3  353\n",
      "4     6.227039     4  353\n",
      "...        ...   ...  ...\n",
      "1408  5.413086  1408  353\n",
      "1409  5.391106  1409  353\n",
      "1410  5.520028  1410  353\n",
      "1411  5.597073  1411  353\n",
      "1412  5.464424  1412  353\n",
      "\n",
      "[1413 rows x 3 columns]\n"
     ]
    },
    {
     "name": "stderr",
     "output_type": "stream",
     "text": [
      "\n",
      "Feature Extraction: 100%|██████████| 1/1 [00:00<00:00,  4.08it/s]"
     ]
    },
    {
     "name": "stdout",
     "output_type": "stream",
     "text": [
      "             x  time   id\n",
      "0     5.400103     0  354\n",
      "1     5.400371     1  354\n",
      "2     5.401871     2  354\n",
      "3     5.399356     3  354\n",
      "4     5.398450     4  354\n",
      "...        ...   ...  ...\n",
      "1360  5.110893  1360  354\n",
      "1361  5.114694  1361  354\n",
      "1362  5.109185  1362  354\n",
      "1363  5.112566  1363  354\n",
      "1364  5.611964  1364  354\n",
      "\n",
      "[1365 rows x 3 columns]\n"
     ]
    },
    {
     "name": "stderr",
     "output_type": "stream",
     "text": [
      "\n",
      "Feature Extraction: 100%|██████████| 1/1 [00:00<00:00,  3.81it/s]"
     ]
    },
    {
     "name": "stdout",
     "output_type": "stream",
     "text": [
      "             x  time   id\n",
      "0     5.541092     0  355\n",
      "1     5.504774     1  355\n",
      "2     5.531731     2  355\n",
      "3     5.542659     3  355\n",
      "4     5.511123     4  355\n",
      "...        ...   ...  ...\n",
      "1362  5.222426  1362  355\n",
      "1363  5.254202  1363  355\n",
      "1364  5.264748  1364  355\n",
      "1365  5.230618  1365  355\n",
      "1366  5.799072  1366  355\n",
      "\n",
      "[1367 rows x 3 columns]\n"
     ]
    },
    {
     "name": "stderr",
     "output_type": "stream",
     "text": [
      "\n",
      "Feature Extraction: 100%|██████████| 1/1 [00:00<00:00,  4.25it/s]"
     ]
    },
    {
     "name": "stdout",
     "output_type": "stream",
     "text": [
      "            x  time   id\n",
      "0    6.228539     0  356\n",
      "1    6.231348     1  356\n",
      "2    6.230128     2  356\n",
      "3    6.230161     3  356\n",
      "4    6.228276     4  356\n",
      "..        ...   ...  ...\n",
      "702  6.038872   702  356\n",
      "703  6.040391   703  356\n",
      "704  6.028356   704  356\n",
      "705  6.036932   705  356\n",
      "706  6.039634   706  356\n",
      "\n",
      "[707 rows x 3 columns]\n"
     ]
    },
    {
     "name": "stderr",
     "output_type": "stream",
     "text": [
      "\n",
      "Feature Extraction: 100%|██████████| 1/1 [00:00<00:00,  8.21it/s]"
     ]
    },
    {
     "name": "stdout",
     "output_type": "stream",
     "text": [
      "            x  time   id\n",
      "0    6.231077     0  357\n",
      "1    6.232563     1  357\n",
      "2    6.231858     2  357\n",
      "3    6.231799     3  357\n",
      "4    6.231118     4  357\n",
      "..        ...   ...  ...\n",
      "702  6.232527   702  357\n",
      "703  6.231446   703  357\n",
      "704  6.227563   704  357\n",
      "705  6.232353   705  357\n",
      "706  6.231431   706  357\n",
      "\n",
      "[707 rows x 3 columns]\n"
     ]
    },
    {
     "name": "stderr",
     "output_type": "stream",
     "text": [
      "\n",
      "Feature Extraction: 100%|██████████| 1/1 [00:00<00:00,  8.38it/s]"
     ]
    },
    {
     "name": "stdout",
     "output_type": "stream",
     "text": [
      "            x  time   id\n",
      "0    6.228843     0  358\n",
      "1    6.231277     1  358\n",
      "2    6.229245     2  358\n",
      "3    6.230342     3  358\n",
      "4    6.218203     4  358\n",
      "..        ...   ...  ...\n",
      "702  6.080794   702  358\n",
      "703  6.082904   703  358\n",
      "704  6.071660   704  358\n",
      "705  6.080390   705  358\n",
      "706  6.082135   706  358\n",
      "\n",
      "[707 rows x 3 columns]\n"
     ]
    },
    {
     "name": "stderr",
     "output_type": "stream",
     "text": [
      "\n",
      "Feature Extraction: 100%|██████████| 1/1 [00:00<00:00,  7.36it/s]"
     ]
    },
    {
     "name": "stdout",
     "output_type": "stream",
     "text": [
      "            x  time   id\n",
      "0    6.229764     0  359\n",
      "1    6.232229     1  359\n",
      "2    6.230369     2  359\n",
      "3    6.231252     3  359\n",
      "4    6.222165     4  359\n",
      "..        ...   ...  ...\n",
      "702  6.108037   702  359\n",
      "703  6.108902   703  359\n",
      "704  6.095736   704  359\n",
      "705  6.104511   705  359\n",
      "706  6.106689   706  359\n",
      "\n",
      "[707 rows x 3 columns]\n"
     ]
    },
    {
     "name": "stderr",
     "output_type": "stream",
     "text": [
      "\n",
      "Feature Extraction: 100%|██████████| 1/1 [00:00<00:00,  8.02it/s]"
     ]
    },
    {
     "name": "stdout",
     "output_type": "stream",
     "text": [
      "            x  time   id\n",
      "0    6.189289     0  360\n",
      "1    6.202086     1  360\n",
      "2    6.203611     2  360\n",
      "3    6.202224     3  360\n",
      "4    6.199224     4  360\n",
      "..        ...   ...  ...\n",
      "702  5.963458   702  360\n",
      "703  5.962291   703  360\n",
      "704  5.956203   704  360\n",
      "705  5.961404   705  360\n",
      "706  5.963033   706  360\n",
      "\n",
      "[707 rows x 3 columns]\n"
     ]
    },
    {
     "name": "stderr",
     "output_type": "stream",
     "text": [
      "\n",
      "Feature Extraction: 100%|██████████| 1/1 [00:00<00:00,  8.20it/s]"
     ]
    },
    {
     "name": "stdout",
     "output_type": "stream",
     "text": [
      "            x  time   id\n",
      "0    6.230736     0  361\n",
      "1    6.232488     1  361\n",
      "2    6.231110     2  361\n",
      "3    6.232190     3  361\n",
      "4    6.229961     4  361\n",
      "..        ...   ...  ...\n",
      "702  6.204214   702  361\n",
      "703  6.204107   703  361\n",
      "704  6.192645   704  361\n",
      "705  6.200561   705  361\n",
      "706  6.202321   706  361\n",
      "\n",
      "[707 rows x 3 columns]\n"
     ]
    },
    {
     "name": "stderr",
     "output_type": "stream",
     "text": [
      "\n",
      "Feature Extraction: 100%|██████████| 1/1 [00:00<00:00,  8.00it/s]"
     ]
    },
    {
     "name": "stdout",
     "output_type": "stream",
     "text": [
      "            x  time   id\n",
      "0    5.460228     0  362\n",
      "1    5.475407     1  362\n",
      "2    5.458513     2  362\n",
      "3    5.474375     3  362\n",
      "4    5.479380     4  362\n",
      "..        ...   ...  ...\n",
      "687  5.299779   687  362\n",
      "688  5.294271   688  362\n",
      "689  5.292748   689  362\n",
      "690  5.300432   690  362\n",
      "691  5.293976   691  362\n",
      "\n",
      "[692 rows x 3 columns]\n"
     ]
    },
    {
     "name": "stderr",
     "output_type": "stream",
     "text": [
      "\n",
      "Feature Extraction: 100%|██████████| 1/1 [00:00<00:00,  7.88it/s]"
     ]
    },
    {
     "name": "stdout",
     "output_type": "stream",
     "text": [
      "            x  time   id\n",
      "0    5.821305     0  363\n",
      "1    5.842245     1  363\n",
      "2    5.827351     2  363\n",
      "3    5.840853     3  363\n",
      "4    5.837301     4  363\n",
      "..        ...   ...  ...\n",
      "693  5.669048   693  363\n",
      "694  5.622080   694  363\n",
      "695  5.646717   695  363\n",
      "696  5.669590   696  363\n",
      "697  5.627625   697  363\n",
      "\n",
      "[698 rows x 3 columns]\n"
     ]
    },
    {
     "name": "stderr",
     "output_type": "stream",
     "text": [
      "\n",
      "Feature Extraction: 100%|██████████| 1/1 [00:00<00:00,  7.26it/s]"
     ]
    },
    {
     "name": "stdout",
     "output_type": "stream",
     "text": [
      "             x  time   id\n",
      "0     6.231538     0  364\n",
      "1     6.231083     1  364\n",
      "2     6.230900     2  364\n",
      "3     6.230957     3  364\n",
      "4     6.231489     4  364\n",
      "...        ...   ...  ...\n",
      "1263  5.755222  1263  364\n",
      "1264  5.492955  1264  364\n",
      "1265  5.425772  1265  364\n",
      "1266  5.692629  1266  364\n",
      "1267  5.748075  1267  364\n",
      "\n",
      "[1268 rows x 3 columns]\n"
     ]
    },
    {
     "name": "stderr",
     "output_type": "stream",
     "text": [
      "\n",
      "Feature Extraction: 100%|██████████| 1/1 [00:00<00:00,  4.25it/s]"
     ]
    },
    {
     "name": "stdout",
     "output_type": "stream",
     "text": [
      "             x  time   id\n",
      "0     6.232229     0  365\n",
      "1     6.231903     1  365\n",
      "2     6.231748     2  365\n",
      "3     6.231698     3  365\n",
      "4     6.232249     4  365\n",
      "...        ...   ...  ...\n",
      "1263  6.052041  1263  365\n",
      "1264  5.683802  1264  365\n",
      "1265  5.548511  1265  365\n",
      "1266  5.696371  1266  365\n",
      "1267  5.724028  1267  365\n",
      "\n",
      "[1268 rows x 3 columns]\n"
     ]
    },
    {
     "name": "stderr",
     "output_type": "stream",
     "text": [
      "\n",
      "Feature Extraction: 100%|██████████| 1/1 [00:00<00:00,  3.87it/s]"
     ]
    },
    {
     "name": "stdout",
     "output_type": "stream",
     "text": [
      "             x  time   id\n",
      "0     5.701668     0  366\n",
      "1     5.705173     1  366\n",
      "2     5.703576     2  366\n",
      "3     5.703386     3  366\n",
      "4     5.715246     4  366\n",
      "...        ...   ...  ...\n",
      "1260  5.319605  1260  366\n",
      "1261  5.107321  1261  366\n",
      "1262  5.107044  1262  366\n",
      "1263  5.172538  1263  366\n",
      "1264  5.111139  1264  366\n",
      "\n",
      "[1265 rows x 3 columns]\n"
     ]
    },
    {
     "name": "stderr",
     "output_type": "stream",
     "text": [
      "\n",
      "Feature Extraction: 100%|██████████| 1/1 [00:00<00:00,  4.57it/s]"
     ]
    },
    {
     "name": "stdout",
     "output_type": "stream",
     "text": [
      "             x  time   id\n",
      "0     6.231713     0  367\n",
      "1     6.232510     1  367\n",
      "2     6.231341     2  367\n",
      "3     6.231963     3  367\n",
      "4     6.231846     4  367\n",
      "...        ...   ...  ...\n",
      "1263  6.134217  1263  367\n",
      "1264  5.801076  1264  367\n",
      "1265  5.772626  1265  367\n",
      "1266  5.856486  1266  367\n",
      "1267  5.792966  1267  367\n",
      "\n",
      "[1268 rows x 3 columns]\n"
     ]
    },
    {
     "name": "stderr",
     "output_type": "stream",
     "text": [
      "\n",
      "Feature Extraction: 100%|██████████| 1/1 [00:00<00:00,  4.68it/s]"
     ]
    },
    {
     "name": "stdout",
     "output_type": "stream",
     "text": [
      "             x  time   id\n",
      "0     5.722574     0  368\n",
      "1     5.708336     1  368\n",
      "2     5.720094     2  368\n",
      "3     5.726449     3  368\n",
      "4     5.720922     4  368\n",
      "...        ...   ...  ...\n",
      "1255  5.563986  1255  368\n",
      "1256  5.498548  1256  368\n",
      "1257  5.527748  1257  368\n",
      "1258  5.531960  1258  368\n",
      "1259  5.537875  1259  368\n",
      "\n",
      "[1260 rows x 3 columns]\n"
     ]
    },
    {
     "name": "stderr",
     "output_type": "stream",
     "text": [
      "\n",
      "Feature Extraction: 100%|██████████| 1/1 [00:00<00:00,  4.49it/s]"
     ]
    },
    {
     "name": "stdout",
     "output_type": "stream",
     "text": [
      "             x  time   id\n",
      "0     5.456576     0  369\n",
      "1     5.418105     1  369\n",
      "2     5.444609     2  369\n",
      "3     5.465421     3  369\n",
      "4     5.452990     4  369\n",
      "...        ...   ...  ...\n",
      "1251  5.208327  1251  369\n",
      "1252  5.169607  1252  369\n",
      "1253  5.171464  1253  369\n",
      "1254  5.180695  1254  369\n",
      "1255  5.191388  1255  369\n",
      "\n",
      "[1256 rows x 3 columns]\n"
     ]
    },
    {
     "name": "stderr",
     "output_type": "stream",
     "text": [
      "\n",
      "Feature Extraction: 100%|██████████| 1/1 [00:00<00:00,  4.71it/s]"
     ]
    },
    {
     "name": "stdout",
     "output_type": "stream",
     "text": [
      "            x  time   id\n",
      "0    5.558980     0  370\n",
      "1    5.575673     1  370\n",
      "2    5.572425     2  370\n",
      "3    5.569825     3  370\n",
      "4    5.579978     4  370\n",
      "..        ...   ...  ...\n",
      "696  5.548274   696  370\n",
      "697  5.543877   697  370\n",
      "698  5.539488   698  370\n",
      "699  5.545818   699  370\n",
      "700  5.544327   700  370\n",
      "\n",
      "[701 rows x 3 columns]\n"
     ]
    },
    {
     "name": "stderr",
     "output_type": "stream",
     "text": [
      "\n",
      "Feature Extraction: 100%|██████████| 1/1 [00:00<00:00,  8.43it/s]"
     ]
    },
    {
     "name": "stdout",
     "output_type": "stream",
     "text": [
      "            x  time   id\n",
      "0    6.231046     0  371\n",
      "1    6.232768     1  371\n",
      "2    6.231109     2  371\n",
      "3    6.232037     3  371\n",
      "4    6.231885     4  371\n",
      "..        ...   ...  ...\n",
      "703  5.540341   703  371\n",
      "704  5.539056   704  371\n",
      "705  5.525504   705  371\n",
      "706  5.544744   706  371\n",
      "707  5.541322   707  371\n",
      "\n",
      "[708 rows x 3 columns]\n"
     ]
    },
    {
     "name": "stderr",
     "output_type": "stream",
     "text": [
      "\n",
      "Feature Extraction: 100%|██████████| 1/1 [00:00<00:00,  8.37it/s]\n"
     ]
    },
    {
     "name": "stdout",
     "output_type": "stream",
     "text": [
      "            x  time   id\n",
      "0    6.186324     0  372\n",
      "1    6.203484     1  372\n",
      "2    6.205092     2  372\n",
      "3    6.198753     3  372\n",
      "4    6.205199     4  372\n",
      "..        ...   ...  ...\n",
      "698  5.298367   698  372\n",
      "699  5.337741   699  372\n",
      "700  5.325358   700  372\n",
      "701  5.362449   701  372\n",
      "702  5.528189   702  372\n",
      "\n",
      "[703 rows x 3 columns]\n"
     ]
    },
    {
     "name": "stderr",
     "output_type": "stream",
     "text": [
      "Feature Extraction: 100%|██████████| 1/1 [00:00<00:00,  8.38it/s]"
     ]
    },
    {
     "name": "stdout",
     "output_type": "stream",
     "text": [
      "            x  time   id\n",
      "0    6.226648     0  373\n",
      "1    6.231016     1  373\n",
      "2    6.229411     2  373\n",
      "3    6.226987     3  373\n",
      "4    6.231015     4  373\n",
      "..        ...   ...  ...\n",
      "698  5.587404   698  373\n",
      "699  5.674299   699  373\n",
      "700  5.471192   700  373\n",
      "701  5.690911   701  373\n",
      "702  5.794669   702  373\n",
      "\n",
      "[703 rows x 3 columns]\n"
     ]
    },
    {
     "name": "stderr",
     "output_type": "stream",
     "text": [
      "\n",
      "Feature Extraction: 100%|██████████| 1/1 [00:00<00:00,  6.62it/s]"
     ]
    },
    {
     "name": "stdout",
     "output_type": "stream",
     "text": [
      "            x  time   id\n",
      "0    6.227158     0  374\n",
      "1    6.226481     1  374\n",
      "2    6.228145     2  374\n",
      "3    6.222913     3  374\n",
      "4    6.229560     4  374\n",
      "..        ...   ...  ...\n",
      "698  5.571294   698  374\n",
      "699  5.597871   699  374\n",
      "700  5.608082   700  374\n",
      "701  5.395691   701  374\n",
      "702  5.442705   702  374\n",
      "\n",
      "[703 rows x 3 columns]\n"
     ]
    },
    {
     "name": "stderr",
     "output_type": "stream",
     "text": [
      "\n",
      "Feature Extraction: 100%|██████████| 1/1 [00:00<00:00,  6.26it/s]"
     ]
    },
    {
     "name": "stdout",
     "output_type": "stream",
     "text": [
      "            x  time   id\n",
      "0    6.230060     0  375\n",
      "1    6.229318     1  375\n",
      "2    6.230380     2  375\n",
      "3    6.226958     3  375\n",
      "4    6.231733     4  375\n",
      "..        ...   ...  ...\n",
      "698  5.655978   698  375\n",
      "699  5.800409   699  375\n",
      "700  5.743089   700  375\n",
      "701  5.575429   701  375\n",
      "702  5.626763   702  375\n",
      "\n",
      "[703 rows x 3 columns]\n"
     ]
    },
    {
     "name": "stderr",
     "output_type": "stream",
     "text": [
      "\n",
      "Feature Extraction: 100%|██████████| 1/1 [00:00<00:00,  8.26it/s]"
     ]
    },
    {
     "name": "stdout",
     "output_type": "stream",
     "text": [
      "            x  time   id\n",
      "0    6.147306     0  376\n",
      "1    6.150237     1  376\n",
      "2    6.165660     2  376\n",
      "3    6.154481     3  376\n",
      "4    6.149651     4  376\n",
      "..        ...   ...  ...\n",
      "698  5.351196   698  376\n",
      "699  5.422062   699  376\n",
      "700  5.454510   700  376\n",
      "701  5.445974   701  376\n",
      "702  5.450488   702  376\n",
      "\n",
      "[703 rows x 3 columns]\n"
     ]
    },
    {
     "name": "stderr",
     "output_type": "stream",
     "text": [
      "\n",
      "Feature Extraction: 100%|██████████| 1/1 [00:00<00:00,  6.73it/s]\n"
     ]
    },
    {
     "name": "stdout",
     "output_type": "stream",
     "text": [
      "            x  time   id\n",
      "0    6.228556     0  377\n",
      "1    6.226716     1  377\n",
      "2    6.230210     2  377\n",
      "3    6.230384     3  377\n",
      "4    6.226866     4  377\n",
      "..        ...   ...  ...\n",
      "698  5.473552   698  377\n",
      "699  5.654912   699  377\n",
      "700  5.623244   700  377\n",
      "701  5.659728   701  377\n",
      "702  5.627124   702  377\n",
      "\n",
      "[703 rows x 3 columns]\n"
     ]
    },
    {
     "name": "stderr",
     "output_type": "stream",
     "text": [
      "Feature Extraction: 100%|██████████| 1/1 [00:00<00:00,  6.83it/s]\n"
     ]
    },
    {
     "name": "stdout",
     "output_type": "stream",
     "text": [
      "            x  time   id\n",
      "0    5.798397     0  378\n",
      "1    5.800348     1  378\n",
      "2    5.822214     2  378\n",
      "3    5.798476     3  378\n",
      "4    5.808095     4  378\n",
      "..        ...   ...  ...\n",
      "696  5.409873   696  378\n",
      "697  5.469500   697  378\n",
      "698  5.514973   698  378\n",
      "699  5.457870   699  378\n",
      "700  5.426046   700  378\n",
      "\n",
      "[701 rows x 3 columns]\n"
     ]
    },
    {
     "name": "stderr",
     "output_type": "stream",
     "text": [
      "Feature Extraction: 100%|██████████| 1/1 [00:00<00:00,  7.01it/s]"
     ]
    },
    {
     "name": "stdout",
     "output_type": "stream",
     "text": [
      "            x  time   id\n",
      "0    5.989927     0  379\n",
      "1    5.987516     1  379\n",
      "2    6.013280     2  379\n",
      "3    5.988559     3  379\n",
      "4    5.997238     4  379\n",
      "..        ...   ...  ...\n",
      "697  5.603195   697  379\n",
      "698  5.656972   698  379\n",
      "699  5.734677   699  379\n",
      "700  5.657289   700  379\n",
      "701  5.617641   701  379\n",
      "\n",
      "[702 rows x 3 columns]\n"
     ]
    },
    {
     "name": "stderr",
     "output_type": "stream",
     "text": [
      "\n",
      "Feature Extraction: 100%|██████████| 1/1 [00:00<00:00,  7.21it/s]"
     ]
    },
    {
     "name": "stdout",
     "output_type": "stream",
     "text": [
      "            x  time   id\n",
      "0    5.641520     0  380\n",
      "1    5.638559     1  380\n",
      "2    5.652995     2  380\n",
      "3    5.643594     3  380\n",
      "4    5.657133     4  380\n",
      "..        ...   ...  ...\n",
      "697  5.168774   697  380\n",
      "698  5.306188   698  380\n",
      "699  5.401811   699  380\n",
      "700  5.399951   700  380\n",
      "701  5.414711   701  380\n",
      "\n",
      "[702 rows x 3 columns]\n"
     ]
    },
    {
     "name": "stderr",
     "output_type": "stream",
     "text": [
      "\n",
      "Feature Extraction: 100%|██████████| 1/1 [00:00<00:00,  7.40it/s]"
     ]
    },
    {
     "name": "stdout",
     "output_type": "stream",
     "text": [
      "            x  time   id\n",
      "0    6.232455     0  381\n",
      "1    6.231682     1  381\n",
      "2    6.230403     2  381\n",
      "3    6.231480     3  381\n",
      "4    6.231868     4  381\n",
      "..        ...   ...  ...\n",
      "697  5.602658   697  381\n",
      "698  5.815902   698  381\n",
      "699  5.934505   699  381\n",
      "700  5.932153   700  381\n",
      "701  5.953661   701  381\n",
      "\n",
      "[702 rows x 3 columns]\n"
     ]
    },
    {
     "name": "stderr",
     "output_type": "stream",
     "text": [
      "\n",
      "Feature Extraction: 100%|██████████| 1/1 [00:00<00:00,  7.27it/s]"
     ]
    },
    {
     "name": "stdout",
     "output_type": "stream",
     "text": [
      "            x  time   id\n",
      "0    5.783621     0  382\n",
      "1    5.791623     1  382\n",
      "2    5.811040     2  382\n",
      "3    5.798587     3  382\n",
      "4    5.808694     4  382\n",
      "..        ...   ...  ...\n",
      "695  5.601725   695  382\n",
      "696  5.589567   696  382\n",
      "697  5.520398   697  382\n",
      "698  5.517603   698  382\n",
      "699  5.518369   699  382\n",
      "\n",
      "[700 rows x 3 columns]\n"
     ]
    },
    {
     "name": "stderr",
     "output_type": "stream",
     "text": [
      "\n",
      "Feature Extraction: 100%|██████████| 1/1 [00:00<00:00,  8.15it/s]"
     ]
    },
    {
     "name": "stdout",
     "output_type": "stream",
     "text": [
      "            x  time   id\n",
      "0    6.078790     0  383\n",
      "1    6.080452     1  383\n",
      "2    6.095741     2  383\n",
      "3    6.087519     3  383\n",
      "4    6.093823     4  383\n",
      "..        ...   ...  ...\n",
      "696  5.889746   696  383\n",
      "697  5.897198   697  383\n",
      "698  5.803305   698  383\n",
      "699  5.787828   699  383\n",
      "700  5.819386   700  383\n",
      "\n",
      "[701 rows x 3 columns]\n"
     ]
    },
    {
     "name": "stderr",
     "output_type": "stream",
     "text": [
      "\n",
      "Feature Extraction: 100%|██████████| 1/1 [00:00<00:00,  7.98it/s]"
     ]
    },
    {
     "name": "stdout",
     "output_type": "stream",
     "text": [
      "            x  time   id\n",
      "0    6.230487     0  384\n",
      "1    6.230696     1  384\n",
      "2    6.230691     2  384\n",
      "3    6.228943     3  384\n",
      "4    6.230906     4  384\n",
      "..        ...   ...  ...\n",
      "703  5.657113   703  384\n",
      "704  5.779891   704  384\n",
      "705  5.643090   705  384\n",
      "706  5.506686   706  384\n",
      "707  6.017623   707  384\n",
      "\n",
      "[708 rows x 3 columns]\n"
     ]
    },
    {
     "name": "stderr",
     "output_type": "stream",
     "text": [
      "\n",
      "Feature Extraction: 100%|██████████| 1/1 [00:00<00:00,  6.55it/s]\n"
     ]
    },
    {
     "name": "stdout",
     "output_type": "stream",
     "text": [
      "            x  time   id\n",
      "0    6.231777     0  385\n",
      "1    6.231880     1  385\n",
      "2    6.232012     2  385\n",
      "3    6.230952     3  385\n",
      "4    6.232057     4  385\n",
      "..        ...   ...  ...\n",
      "703  5.794213   703  385\n",
      "704  5.959260   704  385\n",
      "705  5.869963   705  385\n",
      "706  5.727358   706  385\n",
      "707  6.171819   707  385\n",
      "\n",
      "[708 rows x 3 columns]\n"
     ]
    },
    {
     "name": "stderr",
     "output_type": "stream",
     "text": [
      "Feature Extraction: 100%|██████████| 1/1 [00:00<00:00,  7.28it/s]"
     ]
    },
    {
     "name": "stdout",
     "output_type": "stream",
     "text": [
      "            x  time   id\n",
      "0    5.995699     0  386\n",
      "1    5.992300     1  386\n",
      "2    6.019045     2  386\n",
      "3    6.008713     3  386\n",
      "4    6.012365     4  386\n",
      "..        ...   ...  ...\n",
      "703  5.176470   703  386\n",
      "704  5.395951   704  386\n",
      "705  5.230623   705  386\n",
      "706  5.249031   706  386\n",
      "707  5.649305   707  386\n",
      "\n",
      "[708 rows x 3 columns]\n"
     ]
    },
    {
     "name": "stderr",
     "output_type": "stream",
     "text": [
      "\n",
      "Feature Extraction: 100%|██████████| 1/1 [00:00<00:00,  6.90it/s]\n"
     ]
    },
    {
     "name": "stdout",
     "output_type": "stream",
     "text": [
      "            x  time   id\n",
      "0    6.230574     0  387\n",
      "1    6.232268     1  387\n",
      "2    6.232105     2  387\n",
      "3    6.232015     3  387\n",
      "4    6.231489     4  387\n",
      "..        ...   ...  ...\n",
      "703  5.691801   703  387\n",
      "704  5.754141   704  387\n",
      "705  5.749157   705  387\n",
      "706  5.742827   706  387\n",
      "707  6.163334   707  387\n",
      "\n",
      "[708 rows x 3 columns]\n"
     ]
    },
    {
     "name": "stderr",
     "output_type": "stream",
     "text": [
      "Feature Extraction: 100%|██████████| 1/1 [00:00<00:00,  6.54it/s]\n"
     ]
    },
    {
     "name": "stdout",
     "output_type": "stream",
     "text": [
      "            x  time   id\n",
      "0    5.389558     0  388\n",
      "1    5.390708     1  388\n",
      "2    5.389508     2  388\n",
      "3    5.402193     3  388\n",
      "4    5.395619     4  388\n",
      "..        ...   ...  ...\n",
      "700  5.076979   700  388\n",
      "701  5.148681   701  388\n",
      "702  5.032000   702  388\n",
      "703  5.068287   703  388\n",
      "704  5.251028   704  388\n",
      "\n",
      "[705 rows x 3 columns]\n"
     ]
    },
    {
     "name": "stderr",
     "output_type": "stream",
     "text": [
      "Feature Extraction: 100%|██████████| 1/1 [00:00<00:00,  7.15it/s]\n"
     ]
    },
    {
     "name": "stdout",
     "output_type": "stream",
     "text": [
      "            x  time   id\n",
      "0    5.928963     0  389\n",
      "1    5.930707     1  389\n",
      "2    5.936802     2  389\n",
      "3    5.985061     3  389\n",
      "4    5.959880     4  389\n",
      "..        ...   ...  ...\n",
      "703  5.739659   703  389\n",
      "704  5.839580   704  389\n",
      "705  5.709047   705  389\n",
      "706  5.722597   706  389\n",
      "707  5.930859   707  389\n",
      "\n",
      "[708 rows x 3 columns]\n"
     ]
    },
    {
     "name": "stderr",
     "output_type": "stream",
     "text": [
      "Feature Extraction: 100%|██████████| 1/1 [00:00<00:00,  6.18it/s]"
     ]
    },
    {
     "name": "stdout",
     "output_type": "stream",
     "text": [
      "             x  time   id\n",
      "0     5.121378     0  390\n",
      "1     5.124806     1  390\n",
      "2     5.100571     2  390\n",
      "3     5.122739     3  390\n",
      "4     5.117568     4  390\n",
      "...        ...   ...  ...\n",
      "1556  5.056252  1556  390\n",
      "1557  5.104497  1557  390\n",
      "1558  5.149092  1558  390\n",
      "1559  5.200908  1559  390\n",
      "1560  5.205279  1560  390\n",
      "\n",
      "[1561 rows x 3 columns]\n"
     ]
    },
    {
     "name": "stderr",
     "output_type": "stream",
     "text": [
      "\n",
      "Feature Extraction: 100%|██████████| 1/1 [00:00<00:00,  3.26it/s]"
     ]
    },
    {
     "name": "stdout",
     "output_type": "stream",
     "text": [
      "             x  time   id\n",
      "0     5.620390     0  391\n",
      "1     5.612159     1  391\n",
      "2     5.594776     2  391\n",
      "3     5.608231     3  391\n",
      "4     5.599956     4  391\n",
      "...        ...   ...  ...\n",
      "1555  5.758959  1555  391\n",
      "1556  5.912884  1556  391\n",
      "1557  5.883124  1557  391\n",
      "1558  5.957266  1558  391\n",
      "1559  6.025667  1559  391\n",
      "\n",
      "[1560 rows x 3 columns]\n"
     ]
    },
    {
     "name": "stderr",
     "output_type": "stream",
     "text": [
      "\n",
      "Feature Extraction: 100%|██████████| 1/1 [00:00<00:00,  2.75it/s]"
     ]
    },
    {
     "name": "stdout",
     "output_type": "stream",
     "text": [
      "             x  time   id\n",
      "0     5.363163     0  392\n",
      "1     5.365673     1  392\n",
      "2     5.349115     2  392\n",
      "3     5.358902     3  392\n",
      "4     5.362339     4  392\n",
      "...        ...   ...  ...\n",
      "1553  5.263869  1553  392\n",
      "1554  5.303174  1554  392\n",
      "1555  5.384132  1555  392\n",
      "1556  5.450480  1556  392\n",
      "1557  5.447550  1557  392\n",
      "\n",
      "[1558 rows x 3 columns]\n"
     ]
    },
    {
     "name": "stderr",
     "output_type": "stream",
     "text": [
      "\n",
      "Feature Extraction: 100%|██████████| 1/1 [00:00<00:00,  3.30it/s]"
     ]
    },
    {
     "name": "stdout",
     "output_type": "stream",
     "text": [
      "             x  time   id\n",
      "0     5.134279     0  393\n",
      "1     5.149524     1  393\n",
      "2     5.130128     2  393\n",
      "3     5.143736     3  393\n",
      "4     5.147118     4  393\n",
      "...        ...   ...  ...\n",
      "1553  5.089567  1553  393\n",
      "1554  5.125393  1554  393\n",
      "1555  5.211957  1555  393\n",
      "1556  5.258186  1556  393\n",
      "1557  5.266599  1557  393\n",
      "\n",
      "[1558 rows x 3 columns]\n"
     ]
    },
    {
     "name": "stderr",
     "output_type": "stream",
     "text": [
      "\n",
      "Feature Extraction: 100%|██████████| 1/1 [00:00<00:00,  2.84it/s]"
     ]
    },
    {
     "name": "stdout",
     "output_type": "stream",
     "text": [
      "             x  time   id\n",
      "0     5.043221     0  394\n",
      "1     5.360321     1  394\n",
      "2     5.317986     2  394\n",
      "3     5.347157     3  394\n",
      "4     5.357479     4  394\n",
      "...        ...   ...  ...\n",
      "1399  5.101836  1399  394\n",
      "1400  5.095604  1400  394\n",
      "1401  5.251510  1401  394\n",
      "1402  5.293742  1402  394\n",
      "1403  5.287307  1403  394\n",
      "\n",
      "[1404 rows x 3 columns]\n"
     ]
    },
    {
     "name": "stderr",
     "output_type": "stream",
     "text": [
      "\n",
      "Feature Extraction: 100%|██████████| 1/1 [00:00<00:00,  4.10it/s]"
     ]
    },
    {
     "name": "stdout",
     "output_type": "stream",
     "text": [
      "             x  time   id\n",
      "0     5.372543     0  395\n",
      "1     5.678057     1  395\n",
      "2     5.673561     2  395\n",
      "3     5.672571     3  395\n",
      "4     5.688058     4  395\n",
      "...        ...   ...  ...\n",
      "1399  5.381176  1399  395\n",
      "1400  5.381940  1400  395\n",
      "1401  5.538680  1401  395\n",
      "1402  5.573831  1402  395\n",
      "1403  5.590814  1403  395\n",
      "\n",
      "[1404 rows x 3 columns]\n"
     ]
    },
    {
     "name": "stderr",
     "output_type": "stream",
     "text": [
      "\n",
      "Feature Extraction: 100%|██████████| 1/1 [00:00<00:00,  3.65it/s]"
     ]
    },
    {
     "name": "stdout",
     "output_type": "stream",
     "text": [
      "             x  time   id\n",
      "0     5.473957     0  396\n",
      "1     5.504600     1  396\n",
      "2     5.488607     2  396\n",
      "3     5.499993     3  396\n",
      "4     5.518410     4  396\n",
      "...        ...   ...  ...\n",
      "1399  5.340051  1399  396\n",
      "1400  5.344474  1400  396\n",
      "1401  5.433240  1401  396\n",
      "1402  5.487648  1402  396\n",
      "1403  5.497641  1403  396\n",
      "\n",
      "[1404 rows x 3 columns]\n"
     ]
    },
    {
     "name": "stderr",
     "output_type": "stream",
     "text": [
      "\n",
      "Feature Extraction: 100%|██████████| 1/1 [00:00<00:00,  4.30it/s]"
     ]
    },
    {
     "name": "stdout",
     "output_type": "stream",
     "text": [
      "             x  time   id\n",
      "0     5.781083     0  397\n",
      "1     5.819783     1  397\n",
      "2     5.823582     2  397\n",
      "3     5.811854     3  397\n",
      "4     5.821371     4  397\n",
      "...        ...   ...  ...\n",
      "1398  5.650143  1398  397\n",
      "1399  5.688339  1399  397\n",
      "1400  5.786384  1400  397\n",
      "1401  5.823003  1401  397\n",
      "1402  5.871690  1402  397\n",
      "\n",
      "[1403 rows x 3 columns]\n"
     ]
    },
    {
     "name": "stderr",
     "output_type": "stream",
     "text": [
      "\n",
      "Feature Extraction: 100%|██████████| 1/1 [00:00<00:00,  4.02it/s]"
     ]
    },
    {
     "name": "stdout",
     "output_type": "stream",
     "text": [
      "           x  time   id\n",
      "0   3.273108     0  398\n",
      "1   6.231881     1  398\n",
      "2   3.230953     2  398\n",
      "3   5.496678     3  398\n",
      "4   5.439712     4  398\n",
      "5   5.348534     5  398\n",
      "6   5.505912     6  398\n",
      "7   5.490185     7  398\n",
      "8   5.352239     8  398\n",
      "9   5.501886     9  398\n",
      "10  5.506704    10  398\n",
      "11  5.501863    11  398\n",
      "12  5.522283    12  398\n",
      "13  5.474850    13  398\n",
      "14  5.488873    14  398\n",
      "15  5.507085    15  398\n",
      "16  5.472283    16  398\n",
      "17  5.487478    17  398\n",
      "18  5.476980    18  398\n",
      "19  5.456454    19  398\n",
      "20  5.495248    20  398\n",
      "21  5.472823    21  398\n",
      "22  5.402193    22  398\n",
      "23  5.432038    23  398\n",
      "24  5.468448    24  398\n",
      "25  5.397102    25  398\n",
      "26  5.295325    26  398\n",
      "27  5.030343    27  398\n",
      "28  4.616144    28  398\n",
      "29  4.624072    29  398\n",
      "30  4.642208    30  398\n",
      "31  4.533543    31  398\n"
     ]
    },
    {
     "name": "stderr",
     "output_type": "stream",
     "text": [
      "\n",
      "Feature Extraction: 100%|██████████| 1/1 [00:00<00:00, 99.49it/s]"
     ]
    },
    {
     "name": "stdout",
     "output_type": "stream",
     "text": [
      "           x  time   id\n",
      "0   3.533433     0  399\n",
      "1   6.232012     1  399\n",
      "2   3.443047     2  399\n",
      "3   6.007264     3  399\n",
      "4   6.022947     4  399\n",
      "5   5.942118     5  399\n",
      "6   6.118692     6  399\n",
      "7   6.097224     7  399\n",
      "8   5.930363     8  399\n",
      "9   6.086700     9  399\n",
      "10  6.092292    10  399\n",
      "11  6.077408    11  399\n",
      "12  6.140607    12  399\n",
      "13  6.054536    13  399\n",
      "14  6.091348    14  399\n",
      "15  6.104130    15  399\n",
      "16  6.101835    16  399\n",
      "17  6.079335    17  399\n",
      "18  6.104945    18  399\n",
      "19  6.082496    19  399\n",
      "20  6.096475    20  399\n",
      "21  6.160423    21  399\n",
      "22  6.107198    22  399\n",
      "23  6.079042    23  399\n",
      "24  6.174064    24  399\n",
      "25  6.123902    25  399\n",
      "26  5.985268    26  399\n",
      "27  5.757257    27  399\n",
      "28  5.265481    28  399\n",
      "29  5.303085    29  399\n",
      "30  5.360369    30  399\n",
      "31  5.313515    31  399\n"
     ]
    },
    {
     "name": "stderr",
     "output_type": "stream",
     "text": [
      "\n",
      "Feature Extraction: 100%|██████████| 1/1 [00:00<00:00, 90.91it/s]"
     ]
    },
    {
     "name": "stdout",
     "output_type": "stream",
     "text": [
      "           x  time   id\n",
      "0   0.503698     0  400\n",
      "1   0.401748     1  400\n",
      "2   0.445500     2  400\n",
      "3   0.533796     3  400\n",
      "4   0.398274     4  400\n",
      "..       ...   ...  ...\n",
      "60  0.412314    60  400\n",
      "61  0.454283    61  400\n",
      "62  0.361697    62  400\n",
      "63  0.383846    63  400\n",
      "64  0.552176    64  400\n",
      "\n",
      "[65 rows x 3 columns]\n"
     ]
    },
    {
     "name": "stderr",
     "output_type": "stream",
     "text": [
      "\n",
      "Feature Extraction: 100%|██████████| 1/1 [00:00<00:00, 86.92it/s]"
     ]
    },
    {
     "name": "stdout",
     "output_type": "stream",
     "text": [
      "           x  time   id\n",
      "0   0.910762     0  401\n",
      "1   0.844137     1  401\n",
      "2   0.874273     2  401\n",
      "3   0.935462     3  401\n",
      "4   0.846608     4  401\n",
      "..       ...   ...  ...\n",
      "59  0.852751    59  401\n",
      "60  0.881089    60  401\n",
      "61  0.825684    61  401\n",
      "62  0.839822    62  401\n",
      "63  0.940145    63  401\n",
      "\n",
      "[64 rows x 3 columns]\n"
     ]
    },
    {
     "name": "stderr",
     "output_type": "stream",
     "text": [
      "\n",
      "Feature Extraction: 100%|██████████| 1/1 [00:00<00:00, 64.24it/s]\n"
     ]
    },
    {
     "name": "stdout",
     "output_type": "stream",
     "text": [
      "            x  time   id\n",
      "0    5.703441     0  402\n",
      "1    6.087536     1  402\n",
      "2    6.101645     2  402\n",
      "3    6.129768     3  402\n",
      "4    6.144392     4  402\n",
      "..        ...   ...  ...\n",
      "161  6.181436   161  402\n",
      "162  6.180280   162  402\n",
      "163  6.184226   163  402\n",
      "164  6.179575   164  402\n",
      "165  6.179869   165  402\n",
      "\n",
      "[166 rows x 3 columns]\n"
     ]
    },
    {
     "name": "stderr",
     "output_type": "stream",
     "text": [
      "Feature Extraction: 100%|██████████| 1/1 [00:00<00:00, 48.89it/s]"
     ]
    },
    {
     "name": "stdout",
     "output_type": "stream",
     "text": [
      "            x  time   id\n",
      "0    5.940361     0  403\n",
      "1    5.984039     1  403\n",
      "2    6.039035     2  403\n",
      "3    6.078023     3  403\n",
      "4    6.004069     4  403\n",
      "..        ...   ...  ...\n",
      "160  6.145993   160  403\n",
      "161  6.144664   161  403\n",
      "162  6.146712   162  403\n",
      "163  6.130673   163  403\n",
      "164  6.145506   164  403\n",
      "\n",
      "[165 rows x 3 columns]\n"
     ]
    },
    {
     "name": "stderr",
     "output_type": "stream",
     "text": [
      "\n",
      "Feature Extraction: 100%|██████████| 1/1 [00:00<00:00, 44.40it/s]\n"
     ]
    },
    {
     "name": "stdout",
     "output_type": "stream",
     "text": [
      "            x  time   id\n",
      "0    5.669898     0  404\n",
      "1    6.153412     1  404\n",
      "2    6.179130     2  404\n",
      "3    6.197579     3  404\n",
      "4    6.207070     4  404\n",
      "..        ...   ...  ...\n",
      "161  6.232068   161  404\n",
      "162  6.231645   162  404\n",
      "163  6.231681   163  404\n",
      "164  6.231105   164  404\n",
      "165  6.232117   165  404\n",
      "\n",
      "[166 rows x 3 columns]\n"
     ]
    },
    {
     "name": "stderr",
     "output_type": "stream",
     "text": [
      "Feature Extraction: 100%|██████████| 1/1 [00:00<00:00, 46.23it/s]\n"
     ]
    },
    {
     "name": "stdout",
     "output_type": "stream",
     "text": [
      "            x  time   id\n",
      "0    5.732416     0  405\n",
      "1    6.178747     1  405\n",
      "2    6.194459     2  405\n",
      "3    6.209821     3  405\n",
      "4    6.215661     4  405\n",
      "..        ...   ...  ...\n",
      "161  6.232303   161  405\n",
      "162  6.231930   162  405\n",
      "163  6.232102   163  405\n",
      "164  6.231351   164  405\n",
      "165  6.232462   165  405\n",
      "\n",
      "[166 rows x 3 columns]\n"
     ]
    },
    {
     "name": "stderr",
     "output_type": "stream",
     "text": [
      "Feature Extraction: 100%|██████████| 1/1 [00:00<00:00, 40.23it/s]\n"
     ]
    },
    {
     "name": "stdout",
     "output_type": "stream",
     "text": [
      "            x  time   id\n",
      "0    5.653495     0  406\n",
      "1    5.677052     1  406\n",
      "2    5.703258     2  406\n",
      "3    5.722266     3  406\n",
      "4    5.632844     4  406\n",
      "..        ...   ...  ...\n",
      "160  5.774674   160  406\n",
      "161  5.778307   161  406\n",
      "162  5.779791   162  406\n",
      "163  5.768323   163  406\n",
      "164  5.781692   164  406\n",
      "\n",
      "[165 rows x 3 columns]\n"
     ]
    },
    {
     "name": "stderr",
     "output_type": "stream",
     "text": [
      "Feature Extraction: 100%|██████████| 1/1 [00:00<00:00, 43.73it/s]\n"
     ]
    },
    {
     "name": "stdout",
     "output_type": "stream",
     "text": [
      "            x  time   id\n",
      "0    5.917388     0  407\n",
      "1    5.999304     1  407\n",
      "2    6.040287     2  407\n",
      "3    6.076613     3  407\n",
      "4    6.019888     4  407\n",
      "..        ...   ...  ...\n",
      "160  6.155583   160  407\n",
      "161  6.161146   161  407\n",
      "162  6.154609   162  407\n",
      "163  6.154713   163  407\n",
      "164  6.157726   164  407\n",
      "\n",
      "[165 rows x 3 columns]\n"
     ]
    },
    {
     "name": "stderr",
     "output_type": "stream",
     "text": [
      "Feature Extraction: 100%|██████████| 1/1 [00:00<00:00, 48.23it/s]"
     ]
    },
    {
     "name": "stdout",
     "output_type": "stream",
     "text": [
      "           x  time   id\n",
      "0   5.510527     0  408\n",
      "1   5.563940     1  408\n",
      "2   5.580812     2  408\n",
      "3   5.449133     3  408\n",
      "4   5.203641     4  408\n",
      "5   5.298910     5  408\n",
      "6   5.242935     6  408\n",
      "7   5.497513     7  408\n",
      "8   5.511521     8  408\n",
      "9   5.592918     9  408\n",
      "10  5.416022    10  408\n",
      "11  5.585534    11  408\n",
      "12  5.594115    12  408\n",
      "13  5.593209    13  408\n",
      "14  5.588320    14  408\n",
      "15  5.595695    15  408\n",
      "16  5.596276    16  408\n",
      "17  5.587008    17  408\n",
      "18  5.594008    18  408\n",
      "19  5.601229    19  408\n",
      "20  5.591797    20  408\n",
      "21  5.586859    21  408\n",
      "22  5.597397    22  408\n",
      "23  5.595435    23  408\n",
      "24  5.586233    24  408\n",
      "25  5.594625    25  408\n",
      "26  5.597995    26  408\n",
      "27  5.592417    27  408\n",
      "28  5.592891    28  408\n",
      "29  4.172983    29  408\n"
     ]
    },
    {
     "name": "stderr",
     "output_type": "stream",
     "text": [
      "\n",
      "Feature Extraction: 100%|██████████| 1/1 [00:00<00:00, 91.97it/s]\n"
     ]
    },
    {
     "name": "stdout",
     "output_type": "stream",
     "text": [
      "           x  time   id\n",
      "0   6.122820     0  409\n",
      "1   6.170947     1  409\n",
      "2   6.173076     2  409\n",
      "3   6.114859     3  409\n",
      "4   5.939881     4  409\n",
      "5   6.042425     5  409\n",
      "6   6.000779     6  409\n",
      "7   6.156410     7  409\n",
      "8   6.167986     8  409\n",
      "9   6.209390     9  409\n",
      "10  6.087314    10  409\n",
      "11  6.205487    11  409\n",
      "12  6.204990    12  409\n",
      "13  6.199856    13  409\n",
      "14  6.200474    14  409\n",
      "15  6.205795    15  409\n",
      "16  6.198510    16  409\n",
      "17  6.198186    17  409\n",
      "18  6.205283    18  409\n",
      "19  6.204507    19  409\n",
      "20  6.200811    20  409\n",
      "21  6.201558    21  409\n",
      "22  6.204737    22  409\n",
      "23  6.203507    23  409\n",
      "24  6.199653    24  409\n",
      "25  6.205661    25  409\n",
      "26  6.207946    26  409\n",
      "27  6.196698    27  409\n",
      "28  6.209845    28  409\n",
      "29  4.812603    29  409\n"
     ]
    },
    {
     "name": "stderr",
     "output_type": "stream",
     "text": [
      "Feature Extraction: 100%|██████████| 1/1 [00:00<00:00, 98.50it/s]"
     ]
    },
    {
     "name": "stdout",
     "output_type": "stream",
     "text": [
      "           x  time   id\n",
      "0   5.858835     0  410\n",
      "1   5.935777     1  410\n",
      "2   5.982298     2  410\n",
      "3   5.833007     3  410\n",
      "4   5.585552     4  410\n",
      "5   5.680714     5  410\n",
      "6   5.630440     6  410\n",
      "7   5.909807     7  410\n",
      "8   5.920773     8  410\n",
      "9   6.008968     9  410\n",
      "10  5.811830    10  410\n",
      "11  6.011256    11  410\n",
      "12  6.017649    12  410\n",
      "13  6.017595    13  410\n",
      "14  6.018663    14  410\n",
      "15  6.017053    15  410\n",
      "16  6.016323    16  410\n",
      "17  6.011103    17  410\n",
      "18  6.013010    18  410\n",
      "19  6.014432    19  410\n",
      "20  6.014255    20  410\n",
      "21  6.011861    21  410\n",
      "22  6.013324    22  410\n",
      "23  6.015725    23  410\n",
      "24  6.011896    24  410\n",
      "25  6.010119    25  410\n",
      "26  6.017765    26  410\n",
      "27  6.019237    27  410\n",
      "28  6.010822    28  410\n",
      "29  4.225707    29  410\n"
     ]
    },
    {
     "name": "stderr",
     "output_type": "stream",
     "text": [
      "\n",
      "Feature Extraction: 100%|██████████| 1/1 [00:00<00:00, 84.79it/s]"
     ]
    },
    {
     "name": "stdout",
     "output_type": "stream",
     "text": [
      "           x  time   id\n",
      "0   5.926752     0  411\n",
      "1   6.033180     1  411\n",
      "2   6.102476     2  411\n",
      "3   6.009646     3  411\n",
      "4   5.770595     4  411\n",
      "5   5.883775     5  411\n",
      "6   5.861451     6  411\n",
      "7   6.117009     7  411\n",
      "8   6.126954     8  411\n",
      "9   6.213707     9  411\n",
      "10  6.014803    10  411\n",
      "11  6.186544    11  411\n",
      "12  6.210241    12  411\n",
      "13  6.191149    13  411\n",
      "14  6.188667    14  411\n",
      "15  6.196753    15  411\n",
      "16  6.184764    16  411\n",
      "17  6.182714    17  411\n",
      "18  6.195395    18  411\n",
      "19  6.181424    19  411\n",
      "20  6.181076    20  411\n",
      "21  6.190133    21  411\n",
      "22  6.183572    22  411\n",
      "23  6.209625    23  411\n",
      "24  6.197486    24  411\n",
      "25  6.189610    25  411\n",
      "26  6.215004    26  411\n",
      "27  6.200711    27  411\n",
      "28  6.194866    28  411\n",
      "29  4.537205    29  411\n"
     ]
    },
    {
     "name": "stderr",
     "output_type": "stream",
     "text": [
      "\n",
      "Feature Extraction: 100%|██████████| 1/1 [00:00<00:00, 101.97it/s]\n"
     ]
    },
    {
     "name": "stdout",
     "output_type": "stream",
     "text": [
      "           x  time   id\n",
      "0   5.522734     0  412\n",
      "1   5.581844     1  412\n",
      "2   5.573917     2  412\n",
      "3   5.480836     3  412\n",
      "4   5.224520     4  412\n",
      "5   5.291778     5  412\n",
      "6   5.281582     6  412\n",
      "7   5.534228     7  412\n",
      "8   5.555226     8  412\n",
      "9   5.643450     9  412\n",
      "10  5.437707    10  412\n",
      "11  5.628930    11  412\n",
      "12  5.650142    12  412\n",
      "13  5.622655    13  412\n",
      "14  5.625877    14  412\n",
      "15  5.646816    15  412\n",
      "16  5.621817    16  412\n",
      "17  5.616459    17  412\n",
      "18  5.642769    18  412\n",
      "19  5.648352    19  412\n",
      "20  5.625630    20  412\n",
      "21  5.624209    21  412\n",
      "22  5.640533    22  412\n",
      "23  5.634269    23  412\n",
      "24  5.629005    24  412\n",
      "25  5.631635    25  412\n",
      "26  5.650246    26  412\n",
      "27  5.618578    27  412\n",
      "28  5.641381    28  412\n",
      "29  4.227401    29  412\n"
     ]
    },
    {
     "name": "stderr",
     "output_type": "stream",
     "text": [
      "Feature Extraction: 100%|██████████| 1/1 [00:00<00:00, 101.57it/s]\n"
     ]
    },
    {
     "name": "stdout",
     "output_type": "stream",
     "text": [
      "           x  time   id\n",
      "0   5.735019     0  413\n",
      "1   5.848272     1  413\n",
      "2   5.921987     2  413\n",
      "3   5.840178     3  413\n",
      "4   5.615345     4  413\n",
      "5   5.714326     5  413\n",
      "6   5.721905     6  413\n",
      "7   5.961220     7  413\n",
      "8   5.978703     8  413\n",
      "9   6.055678     9  413\n",
      "10  5.858862    10  413\n",
      "11  6.009390    11  413\n",
      "12  6.043184    12  413\n",
      "13  6.016104    13  413\n",
      "14  6.010968    14  413\n",
      "15  6.022734    15  413\n",
      "16  6.001945    16  413\n",
      "17  5.998120    17  413\n",
      "18  6.020374    18  413\n",
      "19  6.004679    19  413\n",
      "20  6.000060    20  413\n",
      "21  6.008755    21  413\n",
      "22  6.008418    22  413\n",
      "23  6.039511    23  413\n",
      "24  6.021971    24  413\n",
      "25  6.011373    25  413\n",
      "26  6.050553    26  413\n",
      "27  6.020732    27  413\n",
      "28  6.022301    28  413\n",
      "29  4.654661    29  413\n"
     ]
    },
    {
     "name": "stderr",
     "output_type": "stream",
     "text": [
      "Feature Extraction: 100%|██████████| 1/1 [00:00<00:00, 72.36it/s]"
     ]
    },
    {
     "name": "stdout",
     "output_type": "stream",
     "text": [
      "            x  time   id\n",
      "0    5.839433     0  414\n",
      "1    5.847255     1  414\n",
      "2    5.612369     2  414\n",
      "3    5.714377     3  414\n",
      "4    5.727430     4  414\n",
      "..        ...   ...  ...\n",
      "141  5.809585   141  414\n",
      "142  5.805588   142  414\n",
      "143  5.795884   143  414\n",
      "144  5.808656   144  414\n",
      "145  5.801635   145  414\n",
      "\n",
      "[146 rows x 3 columns]\n"
     ]
    },
    {
     "name": "stderr",
     "output_type": "stream",
     "text": [
      "\n",
      "Feature Extraction: 100%|██████████| 1/1 [00:00<00:00, 50.07it/s]"
     ]
    },
    {
     "name": "stdout",
     "output_type": "stream",
     "text": [
      "            x  time   id\n",
      "0    6.234158     0  415\n",
      "1    6.231925     1  415\n",
      "2    6.118199     2  415\n",
      "3    6.185078     3  415\n",
      "4    6.177017     4  415\n",
      "..        ...   ...  ...\n",
      "141  6.231402   141  415\n",
      "142  6.231165   142  415\n",
      "143  6.231183   143  415\n",
      "144  6.231456   144  415\n",
      "145  6.231476   145  415\n",
      "\n",
      "[146 rows x 3 columns]\n"
     ]
    },
    {
     "name": "stderr",
     "output_type": "stream",
     "text": [
      "\n",
      "Feature Extraction: 100%|██████████| 1/1 [00:00<00:00, 54.85it/s]"
     ]
    },
    {
     "name": "stdout",
     "output_type": "stream",
     "text": [
      "            x  time   id\n",
      "0    6.056942     0  416\n",
      "1    6.195062     1  416\n",
      "2    6.082417     2  416\n",
      "3    6.177147     3  416\n",
      "4    6.123557     4  416\n",
      "..        ...   ...  ...\n",
      "145  6.206604   145  416\n",
      "146  6.203063   146  416\n",
      "147  6.198565   147  416\n",
      "148  6.207243   148  416\n",
      "149  6.204655   149  416\n",
      "\n",
      "[150 rows x 3 columns]\n"
     ]
    },
    {
     "name": "stderr",
     "output_type": "stream",
     "text": [
      "\n",
      "Feature Extraction: 100%|██████████| 1/1 [00:00<00:00, 51.63it/s]"
     ]
    },
    {
     "name": "stdout",
     "output_type": "stream",
     "text": [
      "            x  time   id\n",
      "0    6.104830     0  417\n",
      "1    6.043811     1  417\n",
      "2    6.157222     2  417\n",
      "3    6.040893     3  417\n",
      "4    6.130669     4  417\n",
      "..        ...   ...  ...\n",
      "146  6.176272   146  417\n",
      "147  6.166314   147  417\n",
      "148  6.165221   148  417\n",
      "149  6.177372   149  417\n",
      "150  6.172970   150  417\n",
      "\n",
      "[151 rows x 3 columns]\n"
     ]
    },
    {
     "name": "stderr",
     "output_type": "stream",
     "text": [
      "\n",
      "Feature Extraction: 100%|██████████| 1/1 [00:00<00:00, 53.04it/s]\n"
     ]
    },
    {
     "name": "stdout",
     "output_type": "stream",
     "text": [
      "            x  time   id\n",
      "0    6.200563     0  418\n",
      "1    6.087796     1  418\n",
      "2    6.192457     2  418\n",
      "3    6.121532     3  418\n",
      "4    6.224756     4  418\n",
      "..        ...   ...  ...\n",
      "144  6.201657   144  418\n",
      "145  6.199357   145  418\n",
      "146  6.216086   146  418\n",
      "147  6.197222   147  418\n",
      "148  6.202476   148  418\n",
      "\n",
      "[149 rows x 3 columns]\n"
     ]
    },
    {
     "name": "stderr",
     "output_type": "stream",
     "text": [
      "Feature Extraction: 100%|██████████| 1/1 [00:00<00:00, 43.14it/s]\n"
     ]
    },
    {
     "name": "stdout",
     "output_type": "stream",
     "text": [
      "            x  time   id\n",
      "0    5.867536     0  419\n",
      "1    5.787988     1  419\n",
      "2    5.891425     2  419\n",
      "3    5.807325     3  419\n",
      "4    5.924955     4  419\n",
      "..        ...   ...  ...\n",
      "144  5.881464   144  419\n",
      "145  5.874410   145  419\n",
      "146  5.900388   146  419\n",
      "147  5.873644   147  419\n",
      "148  5.879421   148  419\n",
      "\n",
      "[149 rows x 3 columns]\n"
     ]
    },
    {
     "name": "stderr",
     "output_type": "stream",
     "text": [
      "Feature Extraction: 100%|██████████| 1/1 [00:00<00:00, 52.24it/s]\n"
     ]
    },
    {
     "name": "stdout",
     "output_type": "stream",
     "text": [
      "            x  time   id\n",
      "0    5.504836     0  420\n",
      "1    5.466747     1  420\n",
      "2    5.610816     2  420\n",
      "3    5.510379     3  420\n",
      "4    5.584480     4  420\n",
      "..        ...   ...  ...\n",
      "146  5.614664   146  420\n",
      "147  5.589815   147  420\n",
      "148  5.609418   148  420\n",
      "149  5.605537   149  420\n",
      "150  5.611651   150  420\n",
      "\n",
      "[151 rows x 3 columns]\n"
     ]
    },
    {
     "name": "stderr",
     "output_type": "stream",
     "text": [
      "Feature Extraction: 100%|██████████| 1/1 [00:00<00:00, 49.10it/s]\n"
     ]
    },
    {
     "name": "stdout",
     "output_type": "stream",
     "text": [
      "            x  time   id\n",
      "0    6.049017     0  421\n",
      "1    5.971246     1  421\n",
      "2    6.062911     2  421\n",
      "3    5.991751     3  421\n",
      "4    6.091613     4  421\n",
      "..        ...   ...  ...\n",
      "144  6.050016   144  421\n",
      "145  6.032900   145  421\n",
      "146  6.063890   146  421\n",
      "147  6.042959   147  421\n",
      "148  6.047851   148  421\n",
      "\n",
      "[149 rows x 3 columns]\n"
     ]
    },
    {
     "name": "stderr",
     "output_type": "stream",
     "text": [
      "Feature Extraction: 100%|██████████| 1/1 [00:00<00:00, 48.69it/s]\n"
     ]
    },
    {
     "name": "stdout",
     "output_type": "stream",
     "text": [
      "            x  time   id\n",
      "0    5.841943     0  422\n",
      "1    5.831214     1  422\n",
      "2    5.750658     2  422\n",
      "3    5.900330     3  422\n",
      "4    5.936781     4  422\n",
      "..        ...   ...  ...\n",
      "137  5.931023   137  422\n",
      "138  5.941274   138  422\n",
      "139  5.927623   139  422\n",
      "140  5.941002   140  422\n",
      "141  5.941555   141  422\n",
      "\n",
      "[142 rows x 3 columns]\n"
     ]
    },
    {
     "name": "stderr",
     "output_type": "stream",
     "text": [
      "Feature Extraction: 100%|██████████| 1/1 [00:00<00:00, 55.76it/s]"
     ]
    },
    {
     "name": "stdout",
     "output_type": "stream",
     "text": [
      "            x  time   id\n",
      "0    6.028328     0  423\n",
      "1    6.036320     1  423\n",
      "2    5.969800     2  423\n",
      "3    6.125544     3  423\n",
      "4    6.150985     4  423\n",
      "..        ...   ...  ...\n",
      "137  6.149158   137  423\n",
      "138  6.167421   138  423\n",
      "139  6.162032   139  423\n",
      "140  6.161894   140  423\n",
      "141  6.164099   141  423\n",
      "\n",
      "[142 rows x 3 columns]\n"
     ]
    },
    {
     "name": "stderr",
     "output_type": "stream",
     "text": [
      "\n",
      "Feature Extraction: 100%|██████████| 1/1 [00:00<00:00, 54.39it/s]"
     ]
    },
    {
     "name": "stdout",
     "output_type": "stream",
     "text": [
      "            x  time   id\n",
      "0    5.641395     0  424\n",
      "1    5.625740     1  424\n",
      "2    5.543469     2  424\n",
      "3    5.714475     3  424\n",
      "4    5.755943     4  424\n",
      "..        ...   ...  ...\n",
      "137  5.754099   137  424\n",
      "138  5.761170   138  424\n",
      "139  5.747563   139  424\n",
      "140  5.765256   140  424\n",
      "141  5.771068   141  424\n",
      "\n",
      "[142 rows x 3 columns]\n"
     ]
    },
    {
     "name": "stderr",
     "output_type": "stream",
     "text": [
      "\n",
      "Feature Extraction: 100%|██████████| 1/1 [00:00<00:00, 49.46it/s]"
     ]
    },
    {
     "name": "stdout",
     "output_type": "stream",
     "text": [
      "            x  time   id\n",
      "0    5.651270     0  425\n",
      "1    5.678899     1  425\n",
      "2    5.843967     2  425\n",
      "3    5.890618     3  425\n",
      "4    5.682637     4  425\n",
      "..        ...   ...  ...\n",
      "136  5.873986   136  425\n",
      "137  5.888775   137  425\n",
      "138  5.866632   138  425\n",
      "139  5.883533   139  425\n",
      "140  5.894707   140  425\n",
      "\n",
      "[141 rows x 3 columns]\n"
     ]
    },
    {
     "name": "stderr",
     "output_type": "stream",
     "text": [
      "\n",
      "Feature Extraction: 100%|██████████| 1/1 [00:00<00:00, 57.71it/s]"
     ]
    },
    {
     "name": "stdout",
     "output_type": "stream",
     "text": [
      "            x  time   id\n",
      "0    5.776032     0  426\n",
      "1    5.806681     1  426\n",
      "2    5.744546     2  426\n",
      "3    5.902450     3  426\n",
      "4    5.953957     4  426\n",
      "..        ...   ...  ...\n",
      "137  5.972405   137  426\n",
      "138  5.985731   138  426\n",
      "139  5.983029   139  426\n",
      "140  5.980523   140  426\n",
      "141  5.976946   141  426\n",
      "\n",
      "[142 rows x 3 columns]\n"
     ]
    },
    {
     "name": "stderr",
     "output_type": "stream",
     "text": [
      "\n",
      "Feature Extraction: 100%|██████████| 1/1 [00:00<00:00, 52.20it/s]"
     ]
    },
    {
     "name": "stdout",
     "output_type": "stream",
     "text": [
      "            x  time   id\n",
      "0    6.086647     0  427\n",
      "1    6.102571     1  427\n",
      "2    6.039194     2  427\n",
      "3    6.182220     3  427\n",
      "4    6.209119     4  427\n",
      "..        ...   ...  ...\n",
      "137  6.219657   137  427\n",
      "138  6.222432   138  427\n",
      "139  6.222256   139  427\n",
      "140  6.221662   140  427\n",
      "141  6.218807   141  427\n",
      "\n",
      "[142 rows x 3 columns]\n"
     ]
    },
    {
     "name": "stderr",
     "output_type": "stream",
     "text": [
      "\n",
      "Feature Extraction: 100%|██████████| 1/1 [00:00<00:00, 49.42it/s]"
     ]
    },
    {
     "name": "stdout",
     "output_type": "stream",
     "text": [
      "            x  time   id\n",
      "0    1.032520     0  428\n",
      "1    0.845360     1  428\n",
      "2    0.839159     2  428\n",
      "3    0.812007     3  428\n",
      "4    0.889473     4  428\n",
      "..        ...   ...  ...\n",
      "978  0.876671   978  428\n",
      "979  0.790811   979  428\n",
      "980  0.739483   980  428\n",
      "981  0.807592   981  428\n",
      "982  0.764855   982  428\n",
      "\n",
      "[983 rows x 3 columns]\n"
     ]
    },
    {
     "name": "stderr",
     "output_type": "stream",
     "text": [
      "\n",
      "Feature Extraction: 100%|██████████| 1/1 [00:00<00:00,  5.56it/s]"
     ]
    },
    {
     "name": "stdout",
     "output_type": "stream",
     "text": [
      "            x  time   id\n",
      "0    1.258765     0  429\n",
      "1    1.144740     1  429\n",
      "2    1.140813     2  429\n",
      "3    1.123898     3  429\n",
      "4    1.171950     4  429\n",
      "..        ...   ...  ...\n",
      "980  1.170392   980  429\n",
      "981  1.113445   981  429\n",
      "982  1.079364   982  429\n",
      "983  1.120503   983  429\n",
      "984  1.094377   984  429\n",
      "\n",
      "[985 rows x 3 columns]\n"
     ]
    },
    {
     "name": "stderr",
     "output_type": "stream",
     "text": [
      "\n",
      "Feature Extraction: 100%|██████████| 1/1 [00:00<00:00,  5.96it/s]"
     ]
    },
    {
     "name": "stdout",
     "output_type": "stream",
     "text": [
      "            x  time   id\n",
      "0    0.306800     0  430\n",
      "1    0.305252     1  430\n",
      "2    0.324527     2  430\n",
      "3    0.318777     3  430\n",
      "4    0.338661     4  430\n",
      "..        ...   ...  ...\n",
      "982  0.298442   982  430\n",
      "983  0.362098   983  430\n",
      "984  0.327565   984  430\n",
      "985  0.337281   985  430\n",
      "986  0.410897   986  430\n",
      "\n",
      "[987 rows x 3 columns]\n"
     ]
    },
    {
     "name": "stderr",
     "output_type": "stream",
     "text": [
      "\n",
      "Feature Extraction: 100%|██████████| 1/1 [00:00<00:00,  5.53it/s]"
     ]
    },
    {
     "name": "stdout",
     "output_type": "stream",
     "text": [
      "            x  time   id\n",
      "0    0.899134     0  431\n",
      "1    0.897912     1  431\n",
      "2    0.909425     2  431\n",
      "3    0.904865     3  431\n",
      "4    0.917946     4  431\n",
      "..        ...   ...  ...\n",
      "982  0.894500   982  431\n",
      "983  0.933706   983  431\n",
      "984  0.912351   984  431\n",
      "985  0.919328   985  431\n",
      "986  0.962986   986  431\n",
      "\n",
      "[987 rows x 3 columns]\n"
     ]
    },
    {
     "name": "stderr",
     "output_type": "stream",
     "text": [
      "\n",
      "Feature Extraction: 100%|██████████| 1/1 [00:00<00:00,  6.11it/s]\n"
     ]
    },
    {
     "name": "stdout",
     "output_type": "stream",
     "text": [
      "            x  time   id\n",
      "0    0.303727     0  432\n",
      "1    0.283053     1  432\n",
      "2    0.283155     2  432\n",
      "3    0.295222     3  432\n",
      "4    0.274059     4  432\n",
      "..        ...   ...  ...\n",
      "978  0.288916   978  432\n",
      "979  0.300936   979  432\n",
      "980  0.320054   980  432\n",
      "981  0.366224   981  432\n",
      "982  0.304177   982  432\n",
      "\n",
      "[983 rows x 3 columns]\n"
     ]
    },
    {
     "name": "stderr",
     "output_type": "stream",
     "text": [
      "Feature Extraction: 100%|██████████| 1/1 [00:00<00:00,  6.04it/s]\n"
     ]
    },
    {
     "name": "stdout",
     "output_type": "stream",
     "text": [
      "            x  time   id\n",
      "0    0.895473     0  433\n",
      "1    0.883833     1  433\n",
      "2    0.883782     2  433\n",
      "3    0.890228     3  433\n",
      "4    0.876211     4  433\n",
      "..        ...   ...  ...\n",
      "979  0.886340   979  433\n",
      "980  0.893570   980  433\n",
      "981  0.904837   981  433\n",
      "982  0.932657   982  433\n",
      "983  0.895801   983  433\n",
      "\n",
      "[984 rows x 3 columns]\n"
     ]
    },
    {
     "name": "stderr",
     "output_type": "stream",
     "text": [
      "Feature Extraction: 100%|██████████| 1/1 [00:00<00:00,  5.86it/s]"
     ]
    },
    {
     "name": "stdout",
     "output_type": "stream",
     "text": [
      "            x  time   id\n",
      "0    5.637914     0  434\n",
      "1    5.719473     1  434\n",
      "2    5.748520     2  434\n",
      "3    5.796278     3  434\n",
      "4    5.788277     4  434\n",
      "..        ...   ...  ...\n",
      "149  5.794781   149  434\n",
      "150  5.788505   150  434\n",
      "151  5.815626   151  434\n",
      "152  5.795175   152  434\n",
      "153  5.793102   153  434\n",
      "\n",
      "[154 rows x 3 columns]\n"
     ]
    },
    {
     "name": "stderr",
     "output_type": "stream",
     "text": [
      "\n",
      "Feature Extraction: 100%|██████████| 1/1 [00:00<00:00, 54.54it/s]"
     ]
    },
    {
     "name": "stdout",
     "output_type": "stream",
     "text": [
      "            x  time   id\n",
      "0    6.104736     0  435\n",
      "1    6.222847     1  435\n",
      "2    6.229296     2  435\n",
      "3    6.230898     3  435\n",
      "4    6.231145     4  435\n",
      "..        ...   ...  ...\n",
      "149  6.230696   149  435\n",
      "150  6.231111   150  435\n",
      "151  6.231887   151  435\n",
      "152  6.230565   152  435\n",
      "153  6.231184   153  435\n",
      "\n",
      "[154 rows x 3 columns]\n"
     ]
    },
    {
     "name": "stderr",
     "output_type": "stream",
     "text": [
      "\n",
      "Feature Extraction: 100%|██████████| 1/1 [00:00<00:00, 56.51it/s]"
     ]
    },
    {
     "name": "stdout",
     "output_type": "stream",
     "text": [
      "            x  time   id\n",
      "0    5.991306     0  436\n",
      "1    6.117374     1  436\n",
      "2    6.152887     2  436\n",
      "3    6.179892     3  436\n",
      "4    6.182347     4  436\n",
      "..        ...   ...  ...\n",
      "151  6.205974   151  436\n",
      "152  6.205380   152  436\n",
      "153  6.196614   153  436\n",
      "154  6.204301   154  436\n",
      "155  6.202957   155  436\n",
      "\n",
      "[156 rows x 3 columns]\n"
     ]
    },
    {
     "name": "stderr",
     "output_type": "stream",
     "text": [
      "\n",
      "Feature Extraction: 100%|██████████| 1/1 [00:00<00:00, 54.25it/s]"
     ]
    },
    {
     "name": "stdout",
     "output_type": "stream",
     "text": [
      "            x  time   id\n",
      "0    6.071432     0  437\n",
      "1    6.101669     1  437\n",
      "2    6.127310     2  437\n",
      "3    6.137647     3  437\n",
      "4    6.128678     4  437\n",
      "..        ...   ...  ...\n",
      "151  6.168397   151  437\n",
      "152  6.170197   152  437\n",
      "153  6.154440   153  437\n",
      "154  6.163802   154  437\n",
      "155  6.167225   155  437\n",
      "\n",
      "[156 rows x 3 columns]\n"
     ]
    },
    {
     "name": "stderr",
     "output_type": "stream",
     "text": [
      "\n",
      "Feature Extraction: 100%|██████████| 1/1 [00:00<00:00, 52.66it/s]\n"
     ]
    },
    {
     "name": "stdout",
     "output_type": "stream",
     "text": [
      "            x  time   id\n",
      "0    5.975068     0  438\n",
      "1    6.129247     1  438\n",
      "2    6.157426     2  438\n",
      "3    6.200256     3  438\n",
      "4    6.213590     4  438\n",
      "..        ...   ...  ...\n",
      "151  6.194922   151  438\n",
      "152  6.190986   152  438\n",
      "153  6.195713   153  438\n",
      "154  6.203793   154  438\n",
      "155  6.191545   155  438\n",
      "\n",
      "[156 rows x 3 columns]\n"
     ]
    },
    {
     "name": "stderr",
     "output_type": "stream",
     "text": [
      "Feature Extraction: 100%|██████████| 1/1 [00:00<00:00, 53.98it/s]"
     ]
    },
    {
     "name": "stdout",
     "output_type": "stream",
     "text": [
      "            x  time   id\n",
      "0    5.618643     0  439\n",
      "1    5.744192     1  439\n",
      "2    5.787289     2  439\n",
      "3    5.839374     3  439\n",
      "4    5.890668     4  439\n",
      "..        ...   ...  ...\n",
      "151  5.863352   151  439\n",
      "152  5.852700   152  439\n",
      "153  5.847457   153  439\n",
      "154  5.871391   154  439\n",
      "155  5.856257   155  439\n",
      "\n",
      "[156 rows x 3 columns]\n"
     ]
    },
    {
     "name": "stderr",
     "output_type": "stream",
     "text": [
      "\n",
      "Feature Extraction: 100%|██████████| 1/1 [00:00<00:00, 44.94it/s]"
     ]
    },
    {
     "name": "stdout",
     "output_type": "stream",
     "text": [
      "            x  time   id\n",
      "0    5.484097     0  440\n",
      "1    5.537715     1  440\n",
      "2    5.559371     2  440\n",
      "3    5.588688     3  440\n",
      "4    5.582235     4  440\n",
      "..        ...   ...  ...\n",
      "151  5.605238   151  440\n",
      "152  5.610587   152  440\n",
      "153  5.594733   153  440\n",
      "154  5.615745   154  440\n",
      "155  5.608896   155  440\n",
      "\n",
      "[156 rows x 3 columns]\n"
     ]
    },
    {
     "name": "stderr",
     "output_type": "stream",
     "text": [
      "\n",
      "Feature Extraction: 100%|██████████| 1/1 [00:00<00:00, 50.31it/s]"
     ]
    },
    {
     "name": "stdout",
     "output_type": "stream",
     "text": [
      "            x  time   id\n",
      "0    5.748263     0  441\n",
      "1    5.889757     1  441\n",
      "2    5.930580     2  441\n",
      "3    6.015169     3  441\n",
      "4    6.048758     4  441\n",
      "..        ...   ...  ...\n",
      "151  6.036960   151  441\n",
      "152  6.027056   152  441\n",
      "153  6.019224   153  441\n",
      "154  6.046459   154  441\n",
      "155  6.023321   155  441\n",
      "\n",
      "[156 rows x 3 columns]\n"
     ]
    },
    {
     "name": "stderr",
     "output_type": "stream",
     "text": [
      "\n",
      "Feature Extraction: 100%|██████████| 1/1 [00:00<00:00, 53.50it/s]"
     ]
    },
    {
     "name": "stdout",
     "output_type": "stream",
     "text": [
      "            x  time   id\n",
      "0    5.694368     0  442\n",
      "1    5.742891     1  442\n",
      "2    5.737430     2  442\n",
      "3    5.776088     3  442\n",
      "4    5.757135     4  442\n",
      "..        ...   ...  ...\n",
      "880  4.980943   880  442\n",
      "881  4.970378   881  442\n",
      "882  4.972905   882  442\n",
      "883  4.955657   883  442\n",
      "884  4.975180   884  442\n",
      "\n",
      "[885 rows x 3 columns]\n"
     ]
    },
    {
     "name": "stderr",
     "output_type": "stream",
     "text": [
      "\n",
      "Feature Extraction: 100%|██████████| 1/1 [00:00<00:00,  6.26it/s]\n"
     ]
    },
    {
     "name": "stdout",
     "output_type": "stream",
     "text": [
      "            x  time   id\n",
      "0    6.158964     0  443\n",
      "1    6.200769     1  443\n",
      "2    6.138431     2  443\n",
      "3    6.155175     3  443\n",
      "4    6.182973     4  443\n",
      "..        ...   ...  ...\n",
      "881  5.489052   881  443\n",
      "882  5.482772   882  443\n",
      "883  5.476078   883  443\n",
      "884  5.491762   884  443\n",
      "885  5.456106   885  443\n",
      "\n",
      "[886 rows x 3 columns]\n"
     ]
    },
    {
     "name": "stderr",
     "output_type": "stream",
     "text": [
      "Feature Extraction: 100%|██████████| 1/1 [00:00<00:00,  6.56it/s]"
     ]
    },
    {
     "name": "stdout",
     "output_type": "stream",
     "text": [
      "            x  time   id\n",
      "0    6.090441     0  444\n",
      "1    6.136869     1  444\n",
      "2    6.110800     2  444\n",
      "3    6.140813     3  444\n",
      "4    6.146806     4  444\n",
      "..        ...   ...  ...\n",
      "100  6.132122   100  444\n",
      "101  6.125926   101  444\n",
      "102  6.101323   102  444\n",
      "103  6.139792   103  444\n",
      "104  6.118284   104  444\n",
      "\n",
      "[105 rows x 3 columns]\n"
     ]
    },
    {
     "name": "stderr",
     "output_type": "stream",
     "text": [
      "\n",
      "Feature Extraction: 100%|██████████| 1/1 [00:00<00:00, 68.34it/s]"
     ]
    },
    {
     "name": "stdout",
     "output_type": "stream",
     "text": [
      "            x  time   id\n",
      "0    5.746420     0  445\n",
      "1    5.791888     1  445\n",
      "2    5.767385     2  445\n",
      "3    5.814829     3  445\n",
      "4    5.818322     4  445\n",
      "..        ...   ...  ...\n",
      "100  5.790399   100  445\n",
      "101  5.787318   101  445\n",
      "102  5.753520   102  445\n",
      "103  5.789646   103  445\n",
      "104  5.769444   104  445\n",
      "\n",
      "[105 rows x 3 columns]\n"
     ]
    },
    {
     "name": "stderr",
     "output_type": "stream",
     "text": [
      "\n",
      "Feature Extraction: 100%|██████████| 1/1 [00:00<00:00, 62.73it/s]"
     ]
    },
    {
     "name": "stdout",
     "output_type": "stream",
     "text": [
      "            x  time   id\n",
      "0    5.752235     0  446\n",
      "1    5.785326     1  446\n",
      "2    5.783107     2  446\n",
      "3    5.795852     3  446\n",
      "4    5.810698     4  446\n",
      "..        ...   ...  ...\n",
      "100  5.780203   100  446\n",
      "101  5.787364   101  446\n",
      "102  5.798540   102  446\n",
      "103  5.779266   103  446\n",
      "104  5.791369   104  446\n",
      "\n",
      "[105 rows x 3 columns]\n"
     ]
    },
    {
     "name": "stderr",
     "output_type": "stream",
     "text": [
      "\n",
      "Feature Extraction: 100%|██████████| 1/1 [00:00<00:00, 67.55it/s]"
     ]
    },
    {
     "name": "stdout",
     "output_type": "stream",
     "text": [
      "            x  time   id\n",
      "0    6.131303     0  447\n",
      "1    6.129784     1  447\n",
      "2    6.178183     2  447\n",
      "3    6.199573     3  447\n",
      "4    6.173917     4  447\n",
      "..        ...   ...  ...\n",
      "99   6.171551    99  447\n",
      "100  6.183542   100  447\n",
      "101  6.206198   101  447\n",
      "102  6.165488   102  447\n",
      "103  6.185979   103  447\n",
      "\n",
      "[104 rows x 3 columns]\n"
     ]
    },
    {
     "name": "stderr",
     "output_type": "stream",
     "text": [
      "\n",
      "Feature Extraction: 100%|██████████| 1/1 [00:00<00:00, 63.03it/s]\n"
     ]
    },
    {
     "name": "stdout",
     "output_type": "stream",
     "text": [
      "            x  time   id\n",
      "0    5.917004     0  448\n",
      "1    5.923238     1  448\n",
      "2    5.930296     2  448\n",
      "3    5.965725     3  448\n",
      "4    5.964691     4  448\n",
      "..        ...   ...  ...\n",
      "100  5.952864   100  448\n",
      "101  5.977777   101  448\n",
      "102  5.988475   102  448\n",
      "103  5.967086   103  448\n",
      "104  5.968320   104  448\n",
      "\n",
      "[105 rows x 3 columns]\n"
     ]
    },
    {
     "name": "stderr",
     "output_type": "stream",
     "text": [
      "Feature Extraction: 100%|██████████| 1/1 [00:00<00:00, 62.60it/s]"
     ]
    },
    {
     "name": "stdout",
     "output_type": "stream",
     "text": [
      "            x  time   id\n",
      "0    6.200521     0  449\n",
      "1    6.207226     1  449\n",
      "2    6.207112     2  449\n",
      "3    6.212870     3  449\n",
      "4    6.214277     4  449\n",
      "..        ...   ...  ...\n",
      "100  6.209939   100  449\n",
      "101  6.219080   101  449\n",
      "102  6.217710   102  449\n",
      "103  6.215781   103  449\n",
      "104  6.213754   104  449\n",
      "\n",
      "[105 rows x 3 columns]\n"
     ]
    },
    {
     "name": "stderr",
     "output_type": "stream",
     "text": [
      "\n",
      "Feature Extraction: 100%|██████████| 1/1 [00:00<00:00, 66.07it/s]"
     ]
    },
    {
     "name": "stdout",
     "output_type": "stream",
     "text": [
      "            x  time   id\n",
      "0    5.398525     0  450\n",
      "1    5.378207     1  450\n",
      "2    5.392667     2  450\n",
      "3    5.381248     3  450\n",
      "4    5.399101     4  450\n",
      "..        ...   ...  ...\n",
      "865  5.386645   865  450\n",
      "866  5.410562   866  450\n",
      "867  5.409281   867  450\n",
      "868  5.240644   868  450\n",
      "869  5.215101   869  450\n",
      "\n",
      "[870 rows x 3 columns]\n"
     ]
    },
    {
     "name": "stderr",
     "output_type": "stream",
     "text": [
      "\n",
      "Feature Extraction: 100%|██████████| 1/1 [00:00<00:00,  6.74it/s]\n"
     ]
    },
    {
     "name": "stdout",
     "output_type": "stream",
     "text": [
      "            x  time   id\n",
      "0    5.981645     0  451\n",
      "1    5.965293     1  451\n",
      "2    5.979921     2  451\n",
      "3    5.982883     3  451\n",
      "4    5.980998     4  451\n",
      "..        ...   ...  ...\n",
      "865  6.034539   865  451\n",
      "866  6.039978   866  451\n",
      "867  6.049397   867  451\n",
      "868  5.915992   868  451\n",
      "869  6.012390   869  451\n",
      "\n",
      "[870 rows x 3 columns]\n"
     ]
    },
    {
     "name": "stderr",
     "output_type": "stream",
     "text": [
      "Feature Extraction: 100%|██████████| 1/1 [00:00<00:00,  6.32it/s]\n"
     ]
    },
    {
     "name": "stdout",
     "output_type": "stream",
     "text": [
      "            x  time   id\n",
      "0    5.612577     0  452\n",
      "1    5.619663     1  452\n",
      "2    5.583878     2  452\n",
      "3    5.595697     3  452\n",
      "4    5.596105     4  452\n",
      "..        ...   ...  ...\n",
      "871  4.730063   871  452\n",
      "872  4.727121   872  452\n",
      "873  4.730834   873  452\n",
      "874  4.729013   874  452\n",
      "875  4.727941   875  452\n",
      "\n",
      "[876 rows x 3 columns]\n"
     ]
    },
    {
     "name": "stderr",
     "output_type": "stream",
     "text": [
      "Feature Extraction: 100%|██████████| 1/1 [00:00<00:00,  6.87it/s]"
     ]
    },
    {
     "name": "stdout",
     "output_type": "stream",
     "text": [
      "            x  time   id\n",
      "0    6.148977     0  453\n",
      "1    6.164873     1  453\n",
      "2    6.138593     2  453\n",
      "3    6.166863     3  453\n",
      "4    6.162248     4  453\n",
      "..        ...   ...  ...\n",
      "868  5.299786   868  453\n",
      "869  5.319341   869  453\n",
      "870  5.322620   870  453\n",
      "871  5.297146   871  453\n",
      "872  5.260247   872  453\n",
      "\n",
      "[873 rows x 3 columns]\n"
     ]
    },
    {
     "name": "stderr",
     "output_type": "stream",
     "text": [
      "\n",
      "Feature Extraction: 100%|██████████| 1/1 [00:00<00:00,  6.83it/s]"
     ]
    },
    {
     "name": "stdout",
     "output_type": "stream",
     "text": [
      "            x  time   id\n",
      "0    5.241765     0  454\n",
      "1    5.283586     1  454\n",
      "2    5.259753     2  454\n",
      "3    5.272452     3  454\n",
      "4    5.304875     4  454\n",
      "..        ...   ...  ...\n",
      "131  5.383235   131  454\n",
      "132  5.384391   132  454\n",
      "133  5.359630   133  454\n",
      "134  5.381754   134  454\n",
      "135  5.389762   135  454\n",
      "\n",
      "[136 rows x 3 columns]\n"
     ]
    },
    {
     "name": "stderr",
     "output_type": "stream",
     "text": [
      "\n",
      "Feature Extraction: 100%|██████████| 1/1 [00:00<00:00, 57.21it/s]"
     ]
    },
    {
     "name": "stdout",
     "output_type": "stream",
     "text": [
      "            x  time   id\n",
      "0    4.874732     0  455\n",
      "1    4.932495     1  455\n",
      "2    4.878569     2  455\n",
      "3    4.923691     3  455\n",
      "4    4.946508     4  455\n",
      "..        ...   ...  ...\n",
      "131  4.937149   131  455\n",
      "132  4.966374   132  455\n",
      "133  4.899585   133  455\n",
      "134  4.935846   134  455\n",
      "135  4.944657   135  455\n",
      "\n",
      "[136 rows x 3 columns]\n"
     ]
    },
    {
     "name": "stderr",
     "output_type": "stream",
     "text": [
      "\n",
      "Feature Extraction: 100%|██████████| 1/1 [00:00<00:00, 59.35it/s]"
     ]
    },
    {
     "name": "stdout",
     "output_type": "stream",
     "text": [
      "            x  time   id\n",
      "0    5.694169     0  456\n",
      "1    5.720289     1  456\n",
      "2    5.718219     2  456\n",
      "3    5.749904     3  456\n",
      "4    5.752553     4  456\n",
      "..        ...   ...  ...\n",
      "143  5.751193   143  456\n",
      "144  5.758069   144  456\n",
      "145  5.747202   145  456\n",
      "146  5.748770   146  456\n",
      "147  5.760328   147  456\n",
      "\n",
      "[148 rows x 3 columns]\n"
     ]
    },
    {
     "name": "stderr",
     "output_type": "stream",
     "text": [
      "\n",
      "Feature Extraction: 100%|██████████| 1/1 [00:00<00:00, 54.32it/s]"
     ]
    },
    {
     "name": "stdout",
     "output_type": "stream",
     "text": [
      "            x  time   id\n",
      "0    6.126732     0  457\n",
      "1    6.143361     1  457\n",
      "2    6.148547     2  457\n",
      "3    6.171491     3  457\n",
      "4    6.164555     4  457\n",
      "..        ...   ...  ...\n",
      "143  6.183181   143  457\n",
      "144  6.175259   144  457\n",
      "145  6.174581   145  457\n",
      "146  6.180652   146  457\n",
      "147  6.184050   147  457\n",
      "\n",
      "[148 rows x 3 columns]\n"
     ]
    },
    {
     "name": "stderr",
     "output_type": "stream",
     "text": [
      "\n",
      "Feature Extraction: 100%|██████████| 1/1 [00:00<00:00, 53.42it/s]\n"
     ]
    },
    {
     "name": "stdout",
     "output_type": "stream",
     "text": [
      "            x  time   id\n",
      "0    6.047211     0  458\n",
      "1    6.073912     1  458\n",
      "2    6.081813     2  458\n",
      "3    6.108888     3  458\n",
      "4    6.097495     4  458\n",
      "..        ...   ...  ...\n",
      "143  6.133917   143  458\n",
      "144  6.118514   144  458\n",
      "145  6.122175   145  458\n",
      "146  6.133505   146  458\n",
      "147  6.139639   147  458\n",
      "\n",
      "[148 rows x 3 columns]\n"
     ]
    },
    {
     "name": "stderr",
     "output_type": "stream",
     "text": [
      "Feature Extraction: 100%|██████████| 1/1 [00:00<00:00, 53.70it/s]\n"
     ]
    },
    {
     "name": "stdout",
     "output_type": "stream",
     "text": [
      "            x  time   id\n",
      "0    6.164641     0  459\n",
      "1    6.195301     1  459\n",
      "2    6.195975     2  459\n",
      "3    6.197314     3  459\n",
      "4    6.205096     4  459\n",
      "..        ...   ...  ...\n",
      "144  6.211355   144  459\n",
      "145  6.208379   145  459\n",
      "146  6.209151   146  459\n",
      "147  6.210455   147  459\n",
      "148  6.212203   148  459\n",
      "\n",
      "[149 rows x 3 columns]\n"
     ]
    },
    {
     "name": "stderr",
     "output_type": "stream",
     "text": [
      "Feature Extraction: 100%|██████████| 1/1 [00:00<00:00, 48.11it/s]"
     ]
    },
    {
     "name": "stdout",
     "output_type": "stream",
     "text": [
      "            x  time   id\n",
      "0    6.192758     0  460\n",
      "1    6.210875     1  460\n",
      "2    6.207208     2  460\n",
      "3    6.202510     3  460\n",
      "4    6.212125     4  460\n",
      "..        ...   ...  ...\n",
      "148  6.207011   148  460\n",
      "149  6.209736   149  460\n",
      "150  6.214507   150  460\n",
      "151  6.210958   151  460\n",
      "152  6.209038   152  460\n",
      "\n",
      "[153 rows x 3 columns]\n"
     ]
    },
    {
     "name": "stderr",
     "output_type": "stream",
     "text": [
      "\n",
      "Feature Extraction: 100%|██████████| 1/1 [00:00<00:00, 53.76it/s]\n"
     ]
    },
    {
     "name": "stdout",
     "output_type": "stream",
     "text": [
      "            x  time   id\n",
      "0    6.161899     0  461\n",
      "1    6.195209     1  461\n",
      "2    6.183372     2  461\n",
      "3    6.187992     3  461\n",
      "4    6.197470     4  461\n",
      "..        ...   ...  ...\n",
      "148  6.189539   148  461\n",
      "149  6.194255   149  461\n",
      "150  6.201882   150  461\n",
      "151  6.196492   151  461\n",
      "152  6.195715   152  461\n",
      "\n",
      "[153 rows x 3 columns]\n"
     ]
    },
    {
     "name": "stderr",
     "output_type": "stream",
     "text": [
      "Feature Extraction: 100%|██████████| 1/1 [00:00<00:00, 50.64it/s]\n"
     ]
    },
    {
     "name": "stdout",
     "output_type": "stream",
     "text": [
      "            x  time   id\n",
      "0    6.110660     0  462\n",
      "1    6.167146     1  462\n",
      "2    6.195065     2  462\n",
      "3    6.216507     3  462\n",
      "4    6.202397     4  462\n",
      "..        ...   ...  ...\n",
      "148  6.203662   148  462\n",
      "149  6.194435   149  462\n",
      "150  6.186190   150  462\n",
      "151  6.205089   151  462\n",
      "152  6.191745   152  462\n",
      "\n",
      "[153 rows x 3 columns]\n"
     ]
    },
    {
     "name": "stderr",
     "output_type": "stream",
     "text": [
      "Feature Extraction: 100%|██████████| 1/1 [00:00<00:00, 52.61it/s]"
     ]
    },
    {
     "name": "stdout",
     "output_type": "stream",
     "text": [
      "            x  time   id\n",
      "0    5.718719     0  463\n",
      "1    5.784004     1  463\n",
      "2    5.824985     2  463\n",
      "3    5.885172     3  463\n",
      "4    5.867831     4  463\n",
      "..        ...   ...  ...\n",
      "148  5.867434   148  463\n",
      "149  5.863798   149  463\n",
      "150  5.846954   150  463\n",
      "151  5.871131   151  463\n",
      "152  5.859088   152  463\n",
      "\n",
      "[153 rows x 3 columns]\n"
     ]
    },
    {
     "name": "stderr",
     "output_type": "stream",
     "text": [
      "\n",
      "Feature Extraction: 100%|██████████| 1/1 [00:00<00:00, 51.49it/s]"
     ]
    },
    {
     "name": "stdout",
     "output_type": "stream",
     "text": [
      "            x  time   id\n",
      "0    5.522562     0  464\n",
      "1    5.572650     1  464\n",
      "2    5.589545     2  464\n",
      "3    5.592728     3  464\n",
      "4    5.606093     4  464\n",
      "..        ...   ...  ...\n",
      "148  5.599004   148  464\n",
      "149  5.602177   149  464\n",
      "150  5.600735   150  464\n",
      "151  5.630372   151  464\n",
      "152  5.593537   152  464\n",
      "\n",
      "[153 rows x 3 columns]\n"
     ]
    },
    {
     "name": "stderr",
     "output_type": "stream",
     "text": [
      "\n",
      "Feature Extraction: 100%|██████████| 1/1 [00:00<00:00, 50.81it/s]\n"
     ]
    },
    {
     "name": "stdout",
     "output_type": "stream",
     "text": [
      "            x  time   id\n",
      "0    5.860129     0  465\n",
      "1    5.938261     1  465\n",
      "2    6.000214     2  465\n",
      "3    6.045630     3  465\n",
      "4    6.049334     4  465\n",
      "..        ...   ...  ...\n",
      "148  6.043947   148  465\n",
      "149  6.039993   149  465\n",
      "150  6.024957   150  465\n",
      "151  6.057898   151  465\n",
      "152  6.030539   152  465\n",
      "\n",
      "[153 rows x 3 columns]\n"
     ]
    },
    {
     "name": "stderr",
     "output_type": "stream",
     "text": [
      "Feature Extraction: 100%|██████████| 1/1 [00:00<00:00, 50.30it/s]\n"
     ]
    },
    {
     "name": "stdout",
     "output_type": "stream",
     "text": [
      "            x  time   id\n",
      "0    6.109269     0  466\n",
      "1    6.103040     1  466\n",
      "2    6.115102     2  466\n",
      "3    6.129407     3  466\n",
      "4    6.111196     4  466\n",
      "..        ...   ...  ...\n",
      "146  6.118072   146  466\n",
      "147  6.125896   147  466\n",
      "148  6.133810   148  466\n",
      "149  6.129742   149  466\n",
      "150  6.135415   150  466\n",
      "\n",
      "[151 rows x 3 columns]\n"
     ]
    },
    {
     "name": "stderr",
     "output_type": "stream",
     "text": [
      "Feature Extraction: 100%|██████████| 1/1 [00:00<00:00, 53.17it/s]\n"
     ]
    },
    {
     "name": "stdout",
     "output_type": "stream",
     "text": [
      "            x  time   id\n",
      "0    5.735722     0  467\n",
      "1    5.739214     1  467\n",
      "2    5.764462     2  467\n",
      "3    5.761375     3  467\n",
      "4    5.760774     4  467\n",
      "..        ...   ...  ...\n",
      "146  5.768451   146  467\n",
      "147  5.777064   147  467\n",
      "148  5.798507   148  467\n",
      "149  5.787764   149  467\n",
      "150  5.782828   150  467\n",
      "\n",
      "[151 rows x 3 columns]\n"
     ]
    },
    {
     "name": "stderr",
     "output_type": "stream",
     "text": [
      "Feature Extraction: 100%|██████████| 1/1 [00:00<00:00, 48.15it/s]"
     ]
    },
    {
     "name": "stdout",
     "output_type": "stream",
     "text": [
      "            x  time   id\n",
      "0    5.768480     0  468\n",
      "1    5.797050     1  468\n",
      "2    5.784600     2  468\n",
      "3    5.793841     3  468\n",
      "4    5.796593     4  468\n",
      "..        ...   ...  ...\n",
      "147  5.790716   147  468\n",
      "148  5.791683   148  468\n",
      "149  5.791948   149  468\n",
      "150  5.794262   150  468\n",
      "151  5.795412   151  468\n",
      "\n",
      "[152 rows x 3 columns]\n"
     ]
    },
    {
     "name": "stderr",
     "output_type": "stream",
     "text": [
      "\n",
      "Feature Extraction: 100%|██████████| 1/1 [00:00<00:00, 53.27it/s]\n"
     ]
    },
    {
     "name": "stdout",
     "output_type": "stream",
     "text": [
      "            x  time   id\n",
      "0    6.186599     0  469\n",
      "1    6.173730     1  469\n",
      "2    6.203174     2  469\n",
      "3    6.205191     3  469\n",
      "4    6.194712     4  469\n",
      "..        ...   ...  ...\n",
      "146  6.204889   146  469\n",
      "147  6.206525   147  469\n",
      "148  6.203005   148  469\n",
      "149  6.204152   149  469\n",
      "150  6.206241   150  469\n",
      "\n",
      "[151 rows x 3 columns]\n"
     ]
    },
    {
     "name": "stderr",
     "output_type": "stream",
     "text": [
      "Feature Extraction: 100%|██████████| 1/1 [00:00<00:00, 47.30it/s]"
     ]
    },
    {
     "name": "stdout",
     "output_type": "stream",
     "text": [
      "            x  time   id\n",
      "0    5.946633     0  470\n",
      "1    5.950119     1  470\n",
      "2    5.942504     2  470\n",
      "3    5.978957     3  470\n",
      "4    5.962312     4  470\n",
      "..        ...   ...  ...\n",
      "147  5.969426   147  470\n",
      "148  5.968208   148  470\n",
      "149  5.981055   149  470\n",
      "150  5.985006   150  470\n",
      "151  5.969722   151  470\n",
      "\n",
      "[152 rows x 3 columns]\n"
     ]
    },
    {
     "name": "stderr",
     "output_type": "stream",
     "text": [
      "\n",
      "Feature Extraction: 100%|██████████| 1/1 [00:00<00:00, 44.13it/s]\n"
     ]
    },
    {
     "name": "stdout",
     "output_type": "stream",
     "text": [
      "            x  time   id\n",
      "0    6.206102     0  471\n",
      "1    6.208240     1  471\n",
      "2    6.205941     2  471\n",
      "3    6.211505     3  471\n",
      "4    6.209736     4  471\n",
      "..        ...   ...  ...\n",
      "146  6.212620   146  471\n",
      "147  6.210365   147  471\n",
      "148  6.213427   148  471\n",
      "149  6.214704   149  471\n",
      "150  6.212851   150  471\n",
      "\n",
      "[151 rows x 3 columns]\n"
     ]
    },
    {
     "name": "stderr",
     "output_type": "stream",
     "text": [
      "Feature Extraction: 100%|██████████| 1/1 [00:00<00:00, 52.17it/s]\n"
     ]
    },
    {
     "name": "stdout",
     "output_type": "stream",
     "text": [
      "           x  time   id\n",
      "0   5.717157     0  472\n",
      "1   5.752917     1  472\n",
      "2   5.780473     2  472\n",
      "3   5.826015     3  472\n",
      "4   5.824676     4  472\n",
      "5   5.825448     5  472\n",
      "6   5.843932     6  472\n",
      "7   5.810188     7  472\n",
      "8   5.822964     8  472\n",
      "9   5.831384     9  472\n",
      "10  5.805308    10  472\n",
      "11  5.844501    11  472\n",
      "12  5.838839    12  472\n",
      "13  5.808968    13  472\n",
      "14  5.827691    14  472\n",
      "15  5.816292    15  472\n",
      "16  5.799993    16  472\n",
      "17  5.808103    17  472\n",
      "18  5.780957    18  472\n",
      "19  5.805720    19  472\n",
      "20  5.831841    20  472\n",
      "21  5.805673    21  472\n",
      "22  5.835593    22  472\n",
      "23  5.867685    23  472\n",
      "24  5.813596    24  472\n",
      "25  5.824229    25  472\n",
      "26  5.845836    26  472\n",
      "27  5.818776    27  472\n",
      "28  5.855560    28  472\n",
      "29  5.844034    29  472\n",
      "30  5.824352    30  472\n",
      "31  5.864349    31  472\n",
      "32  5.868842    32  472\n"
     ]
    },
    {
     "name": "stderr",
     "output_type": "stream",
     "text": [
      "Feature Extraction: 100%|██████████| 1/1 [00:00<00:00, 99.66it/s]"
     ]
    },
    {
     "name": "stdout",
     "output_type": "stream",
     "text": [
      "           x  time   id\n",
      "0   5.815530     0  473\n",
      "1   6.004519     1  473\n",
      "2   6.128818     2  473\n",
      "3   6.227002     3  473\n",
      "4   6.212965     4  473\n",
      "5   6.232004     5  473\n",
      "6   6.231740     6  473\n",
      "7   6.231924     7  473\n",
      "8   6.231827     8  473\n",
      "9   6.231926     9  473\n",
      "10  6.232336    10  473\n",
      "11  6.231551    11  473\n",
      "12  6.230088    12  473\n",
      "13  6.231389    13  473\n",
      "14  6.232279    14  473\n",
      "15  6.232001    15  473\n",
      "16  6.232771    16  473\n",
      "17  6.231631    17  473\n",
      "18  6.231923    18  473\n",
      "19  6.232779    19  473\n",
      "20  6.231863    20  473\n",
      "21  6.232077    21  473\n",
      "22  6.231811    22  473\n",
      "23  6.232139    23  473\n",
      "24  6.231712    24  473\n",
      "25  6.232023    25  473\n",
      "26  6.231995    26  473\n",
      "27  6.232042    27  473\n",
      "28  6.232040    28  473\n",
      "29  6.231965    29  473\n",
      "30  6.231748    30  473\n",
      "31  6.232260    31  473\n",
      "32  6.231969    32  473\n"
     ]
    },
    {
     "name": "stderr",
     "output_type": "stream",
     "text": [
      "\n",
      "Feature Extraction: 100%|██████████| 1/1 [00:00<00:00, 74.55it/s]\n"
     ]
    },
    {
     "name": "stdout",
     "output_type": "stream",
     "text": [
      "            x  time   id\n",
      "0    6.103609     0  474\n",
      "1    6.182135     1  474\n",
      "2    6.202840     2  474\n",
      "3    6.199273     3  474\n",
      "4    6.200059     4  474\n",
      "..        ...   ...  ...\n",
      "151  6.210405   151  474\n",
      "152  6.210806   152  474\n",
      "153  6.210313   153  474\n",
      "154  6.207331   154  474\n",
      "155  6.208315   155  474\n",
      "\n",
      "[156 rows x 3 columns]\n"
     ]
    },
    {
     "name": "stderr",
     "output_type": "stream",
     "text": [
      "Feature Extraction: 100%|██████████| 1/1 [00:00<00:00, 51.75it/s]\n"
     ]
    },
    {
     "name": "stdout",
     "output_type": "stream",
     "text": [
      "            x  time   id\n",
      "0    6.073221     0  475\n",
      "1    6.131653     1  475\n",
      "2    6.165191     2  475\n",
      "3    6.158630     3  475\n",
      "4    6.168335     4  475\n",
      "..        ...   ...  ...\n",
      "151  6.193263   151  475\n",
      "152  6.194733   152  475\n",
      "153  6.196222   153  475\n",
      "154  6.185910   154  475\n",
      "155  6.192640   155  475\n",
      "\n",
      "[156 rows x 3 columns]\n"
     ]
    },
    {
     "name": "stderr",
     "output_type": "stream",
     "text": [
      "Feature Extraction: 100%|██████████| 1/1 [00:00<00:00, 45.94it/s]\n"
     ]
    },
    {
     "name": "stdout",
     "output_type": "stream",
     "text": [
      "            x  time   id\n",
      "0    6.205735     0  476\n",
      "1    6.224893     1  476\n",
      "2    6.228784     2  476\n",
      "3    6.228757     3  476\n",
      "4    6.226230     4  476\n",
      "..        ...   ...  ...\n",
      "151  6.228870   151  476\n",
      "152  6.228814   152  476\n",
      "153  6.228900   153  476\n",
      "154  6.228905   154  476\n",
      "155  6.229078   155  476\n",
      "\n",
      "[156 rows x 3 columns]\n"
     ]
    },
    {
     "name": "stderr",
     "output_type": "stream",
     "text": [
      "Feature Extraction: 100%|██████████| 1/1 [00:00<00:00, 53.62it/s]"
     ]
    },
    {
     "name": "stdout",
     "output_type": "stream",
     "text": [
      "            x  time   id\n",
      "0    6.179113     0  477\n",
      "1    6.227819     1  477\n",
      "2    6.231349     2  477\n",
      "3    6.231995     3  477\n",
      "4    6.231080     4  477\n",
      "..        ...   ...  ...\n",
      "151  6.231987   151  477\n",
      "152  6.232037   152  477\n",
      "153  6.231677   153  477\n",
      "154  6.231760   154  477\n",
      "155  6.232116   155  477\n",
      "\n",
      "[156 rows x 3 columns]\n"
     ]
    },
    {
     "name": "stderr",
     "output_type": "stream",
     "text": [
      "\n",
      "Feature Extraction: 100%|██████████| 1/1 [00:00<00:00, 47.76it/s]"
     ]
    },
    {
     "name": "stdout",
     "output_type": "stream",
     "text": [
      "            x  time   id\n",
      "0    5.545581     0  478\n",
      "1    5.609481     1  478\n",
      "2    5.664147     2  478\n",
      "3    5.657895     3  478\n",
      "4    5.659347     4  478\n",
      "..        ...   ...  ...\n",
      "151  5.706897   151  478\n",
      "152  5.698063   152  478\n",
      "153  5.716240   153  478\n",
      "154  5.688834   154  478\n",
      "155  5.686078   155  478\n",
      "\n",
      "[156 rows x 3 columns]\n"
     ]
    },
    {
     "name": "stderr",
     "output_type": "stream",
     "text": [
      "\n",
      "Feature Extraction: 100%|██████████| 1/1 [00:00<00:00, 54.16it/s]"
     ]
    },
    {
     "name": "stdout",
     "output_type": "stream",
     "text": [
      "            x  time   id\n",
      "0    6.105032     0  479\n",
      "1    6.182700     1  479\n",
      "2    6.206037     2  479\n",
      "3    6.203786     3  479\n",
      "4    6.203872     4  479\n",
      "..        ...   ...  ...\n",
      "151  6.216829   151  479\n",
      "152  6.214672   152  479\n",
      "153  6.216921   153  479\n",
      "154  6.213727   154  479\n",
      "155  6.212764   155  479\n",
      "\n",
      "[156 rows x 3 columns]\n"
     ]
    },
    {
     "name": "stderr",
     "output_type": "stream",
     "text": [
      "\n",
      "Feature Extraction: 100%|██████████| 1/1 [00:00<00:00, 52.90it/s]"
     ]
    },
    {
     "name": "stdout",
     "output_type": "stream",
     "text": [
      "            x  time   id\n",
      "0    6.066188     0  480\n",
      "1    6.172240     1  480\n",
      "2    6.195376     2  480\n",
      "3    6.211823     3  480\n",
      "4    6.220605     4  480\n",
      "..        ...   ...  ...\n",
      "150  6.219867   150  480\n",
      "151  6.227062   151  480\n",
      "152  6.223021   152  480\n",
      "153  6.221218   153  480\n",
      "154  6.222013   154  480\n",
      "\n",
      "[155 rows x 3 columns]\n"
     ]
    },
    {
     "name": "stderr",
     "output_type": "stream",
     "text": [
      "\n",
      "Feature Extraction: 100%|██████████| 1/1 [00:00<00:00, 49.13it/s]"
     ]
    },
    {
     "name": "stdout",
     "output_type": "stream",
     "text": [
      "            x  time   id\n",
      "0    6.203937     0  481\n",
      "1    6.226886     1  481\n",
      "2    6.225759     2  481\n",
      "3    6.227943     3  481\n",
      "4    6.228927     4  481\n",
      "..        ...   ...  ...\n",
      "150  6.227955   150  481\n",
      "151  6.229902   151  481\n",
      "152  6.229515   152  481\n",
      "153  6.229027   153  481\n",
      "154  6.226706   154  481\n",
      "\n",
      "[155 rows x 3 columns]\n"
     ]
    },
    {
     "name": "stderr",
     "output_type": "stream",
     "text": [
      "\n",
      "Feature Extraction: 100%|██████████| 1/1 [00:00<00:00, 49.26it/s]"
     ]
    },
    {
     "name": "stdout",
     "output_type": "stream",
     "text": [
      "            x  time   id\n",
      "0    5.926394     0  482\n",
      "1    6.006644     1  482\n",
      "2    6.034391     2  482\n",
      "3    6.084281     3  482\n",
      "4    6.091012     4  482\n",
      "..        ...   ...  ...\n",
      "150  6.091282   150  482\n",
      "151  6.092953   151  482\n",
      "152  6.094970   152  482\n",
      "153  6.081504   153  482\n",
      "154  6.082097   154  482\n",
      "\n",
      "[155 rows x 3 columns]\n"
     ]
    },
    {
     "name": "stderr",
     "output_type": "stream",
     "text": [
      "\n",
      "Feature Extraction: 100%|██████████| 1/1 [00:00<00:00, 48.88it/s]"
     ]
    },
    {
     "name": "stdout",
     "output_type": "stream",
     "text": [
      "            x  time   id\n",
      "0    5.627238     0  483\n",
      "1    5.717145     1  483\n",
      "2    5.747210     2  483\n",
      "3    5.804590     3  483\n",
      "4    5.839573     4  483\n",
      "..        ...   ...  ...\n",
      "150  5.845521   150  483\n",
      "151  5.848758   151  483\n",
      "152  5.840285   152  483\n",
      "153  5.846682   153  483\n",
      "154  5.839327   154  483\n",
      "\n",
      "[155 rows x 3 columns]\n"
     ]
    },
    {
     "name": "stderr",
     "output_type": "stream",
     "text": [
      "\n",
      "Feature Extraction: 100%|██████████| 1/1 [00:00<00:00, 49.83it/s]\n"
     ]
    },
    {
     "name": "stdout",
     "output_type": "stream",
     "text": [
      "            x  time   id\n",
      "0    4.894843     0  484\n",
      "1    5.079874     1  484\n",
      "2    5.114896     2  484\n",
      "3    5.153821     3  484\n",
      "4    5.155511     4  484\n",
      "..        ...   ...  ...\n",
      "164  0.954260   164  484\n",
      "165  0.988869   165  484\n",
      "166  0.848626   166  484\n",
      "167  0.717121   167  484\n",
      "168  0.856331   168  484\n",
      "\n",
      "[169 rows x 3 columns]\n"
     ]
    },
    {
     "name": "stderr",
     "output_type": "stream",
     "text": [
      "Feature Extraction: 100%|██████████| 1/1 [00:00<00:00, 49.84it/s]\n"
     ]
    },
    {
     "name": "stdout",
     "output_type": "stream",
     "text": [
      "            x  time   id\n",
      "0    5.377888     0  485\n",
      "1    5.580567     1  485\n",
      "2    5.698159     2  485\n",
      "3    5.788422     3  485\n",
      "4    5.795853     4  485\n",
      "..        ...   ...  ...\n",
      "164  1.265770   164  485\n",
      "165  1.293332   165  485\n",
      "166  1.202924   166  485\n",
      "167  1.121586   167  485\n",
      "168  1.212933   168  485\n",
      "\n",
      "[169 rows x 3 columns]\n"
     ]
    },
    {
     "name": "stderr",
     "output_type": "stream",
     "text": [
      "Feature Extraction: 100%|██████████| 1/1 [00:00<00:00, 48.55it/s]"
     ]
    },
    {
     "name": "stdout",
     "output_type": "stream",
     "text": [
      "            x  time   id\n",
      "0    0.405316     0  486\n",
      "1    0.373912     1  486\n",
      "2    0.374497     2  486\n",
      "3    0.351483     3  486\n",
      "4    0.410841     4  486\n",
      "..        ...   ...  ...\n",
      "215  0.448411   215  486\n",
      "216  0.634987   216  486\n",
      "217  0.503089   217  486\n",
      "218  0.524824   218  486\n",
      "219  0.508135   219  486\n",
      "\n",
      "[220 rows x 3 columns]\n"
     ]
    },
    {
     "name": "stderr",
     "output_type": "stream",
     "text": [
      "\n",
      "Feature Extraction: 100%|██████████| 1/1 [00:00<00:00, 42.80it/s]"
     ]
    },
    {
     "name": "stdout",
     "output_type": "stream",
     "text": [
      "            x  time   id\n",
      "0    0.744827     0  487\n",
      "1    0.722438     1  487\n",
      "2    0.728014     2  487\n",
      "3    0.705372     3  487\n",
      "4    0.743730     4  487\n",
      "..        ...   ...  ...\n",
      "216  0.778669   216  487\n",
      "217  0.894775   217  487\n",
      "218  0.821050   218  487\n",
      "219  0.837498   219  487\n",
      "220  0.827319   220  487\n",
      "\n",
      "[221 rows x 3 columns]\n"
     ]
    },
    {
     "name": "stderr",
     "output_type": "stream",
     "text": [
      "\n",
      "Feature Extraction: 100%|██████████| 1/1 [00:00<00:00, 37.52it/s]\n"
     ]
    },
    {
     "name": "stdout",
     "output_type": "stream",
     "text": [
      "            x  time   id\n",
      "0    0.311843     0  488\n",
      "1    0.321350     1  488\n",
      "2    0.323624     2  488\n",
      "3    0.298542     3  488\n",
      "4    0.350110     4  488\n",
      "..        ...   ...  ...\n",
      "202  0.452108   202  488\n",
      "203  0.628504   203  488\n",
      "204  0.506426   204  488\n",
      "205  0.467244   205  488\n",
      "206  0.449067   206  488\n",
      "\n",
      "[207 rows x 3 columns]\n"
     ]
    },
    {
     "name": "stderr",
     "output_type": "stream",
     "text": [
      "Feature Extraction: 100%|██████████| 1/1 [00:00<00:00, 43.87it/s]\n"
     ]
    },
    {
     "name": "stdout",
     "output_type": "stream",
     "text": [
      "            x  time   id\n",
      "0    0.850725     0  489\n",
      "1    0.844929     1  489\n",
      "2    0.854215     2  489\n",
      "3    0.839244     3  489\n",
      "4    0.857514     4  489\n",
      "..        ...   ...  ...\n",
      "202  0.935705   202  489\n",
      "203  1.045364   203  489\n",
      "204  0.978115   204  489\n",
      "205  0.947118   205  489\n",
      "206  0.935539   206  489\n",
      "\n",
      "[207 rows x 3 columns]\n"
     ]
    },
    {
     "name": "stderr",
     "output_type": "stream",
     "text": [
      "Feature Extraction: 100%|██████████| 1/1 [00:00<00:00, 44.25it/s]"
     ]
    },
    {
     "name": "stdout",
     "output_type": "stream",
     "text": [
      "            x  time   id\n",
      "0    4.353211     0  490\n",
      "1    5.597362     1  490\n",
      "2    5.716003     2  490\n",
      "3    5.753180     3  490\n",
      "4    5.800859     4  490\n",
      "..        ...   ...  ...\n",
      "105  3.635141   105  490\n",
      "106  3.636010   106  490\n",
      "107  3.638529   107  490\n",
      "108  3.629068   108  490\n",
      "109  3.633527   109  490\n",
      "\n",
      "[110 rows x 3 columns]\n"
     ]
    },
    {
     "name": "stderr",
     "output_type": "stream",
     "text": [
      "\n",
      "Feature Extraction: 100%|██████████| 1/1 [00:00<00:00, 68.07it/s]\n"
     ]
    },
    {
     "name": "stdout",
     "output_type": "stream",
     "text": [
      "            x  time   id\n",
      "0    4.779613     0  491\n",
      "1    5.955308     1  491\n",
      "2    6.150359     2  491\n",
      "3    6.219043     3  491\n",
      "4    6.231702     4  491\n",
      "..        ...   ...  ...\n",
      "105  4.319139   105  491\n",
      "106  4.318521   106  491\n",
      "107  4.319685   107  491\n",
      "108  4.319063   108  491\n",
      "109  4.317555   109  491\n",
      "\n",
      "[110 rows x 3 columns]\n"
     ]
    },
    {
     "name": "stderr",
     "output_type": "stream",
     "text": [
      "Feature Extraction: 100%|██████████| 1/1 [00:00<00:00, 65.61it/s]"
     ]
    },
    {
     "name": "stdout",
     "output_type": "stream",
     "text": [
      "           x  time   id\n",
      "0   0.433006     0  492\n",
      "1   0.373747     1  492\n",
      "2   0.332190     2  492\n",
      "3   0.325520     3  492\n",
      "4   0.336760     4  492\n",
      "..       ...   ...  ...\n",
      "65  0.354121    65  492\n",
      "66  0.372015    66  492\n",
      "67  0.371550    67  492\n",
      "68  0.338924    68  492\n",
      "69  0.571840    69  492\n",
      "\n",
      "[70 rows x 3 columns]\n"
     ]
    },
    {
     "name": "stderr",
     "output_type": "stream",
     "text": [
      "\n",
      "Feature Extraction: 100%|██████████| 1/1 [00:00<00:00, 85.10it/s]"
     ]
    },
    {
     "name": "stdout",
     "output_type": "stream",
     "text": [
      "           x  time   id\n",
      "0   1.366341     0  493\n",
      "1   1.225809     1  493\n",
      "2   1.125679     2  493\n",
      "3   1.075199     3  493\n",
      "4   1.075046     4  493\n",
      "..       ...   ...  ...\n",
      "65  1.017938    65  493\n",
      "66  1.026176    66  493\n",
      "67  1.024265    67  493\n",
      "68  1.004496    68  493\n",
      "69  1.132526    69  493\n",
      "\n",
      "[70 rows x 3 columns]\n"
     ]
    },
    {
     "name": "stderr",
     "output_type": "stream",
     "text": [
      "\n",
      "Feature Extraction: 100%|██████████| 1/1 [00:00<00:00, 73.67it/s]\n"
     ]
    },
    {
     "name": "stdout",
     "output_type": "stream",
     "text": [
      "           x  time   id\n",
      "0   0.370243     0  494\n",
      "1   0.372662     1  494\n",
      "2   0.444869     2  494\n",
      "3   0.402065     3  494\n",
      "4   0.405844     4  494\n",
      "..       ...   ...  ...\n",
      "72  0.319463    72  494\n",
      "73  0.382863    73  494\n",
      "74  0.361921    74  494\n",
      "75  0.396307    75  494\n",
      "76  0.533383    76  494\n",
      "\n",
      "[77 rows x 3 columns]\n"
     ]
    },
    {
     "name": "stderr",
     "output_type": "stream",
     "text": [
      "Feature Extraction: 100%|██████████| 1/1 [00:00<00:00, 70.83it/s]\n"
     ]
    },
    {
     "name": "stdout",
     "output_type": "stream",
     "text": [
      "           x  time   id\n",
      "0   0.945372     0  495\n",
      "1   0.953500     1  495\n",
      "2   1.001914     2  495\n",
      "3   0.968082     3  495\n",
      "4   0.977204     4  495\n",
      "..       ...   ...  ...\n",
      "72  0.959067    72  495\n",
      "73  1.000498    73  495\n",
      "74  0.982534    74  495\n",
      "75  1.007402    75  495\n",
      "76  1.091969    76  495\n",
      "\n",
      "[77 rows x 3 columns]\n"
     ]
    },
    {
     "name": "stderr",
     "output_type": "stream",
     "text": [
      "Feature Extraction: 100%|██████████| 1/1 [00:00<00:00, 71.86it/s]\n"
     ]
    },
    {
     "name": "stdout",
     "output_type": "stream",
     "text": [
      "             x  time   id\n",
      "0     5.361201     0  496\n",
      "1     5.349839     1  496\n",
      "2     5.324277     2  496\n",
      "3     5.361879     3  496\n",
      "4     5.330486     4  496\n",
      "...        ...   ...  ...\n",
      "1763  5.293410  1763  496\n",
      "1764  5.270763  1764  496\n",
      "1765  5.290702  1765  496\n",
      "1766  5.291646  1766  496\n",
      "1767  5.292588  1767  496\n",
      "\n",
      "[1768 rows x 3 columns]\n"
     ]
    },
    {
     "name": "stderr",
     "output_type": "stream",
     "text": [
      "Feature Extraction: 100%|██████████| 1/1 [00:00<00:00,  3.21it/s]"
     ]
    },
    {
     "name": "stdout",
     "output_type": "stream",
     "text": [
      "             x  time   id\n",
      "0     6.232152     0  497\n",
      "1     6.232092     1  497\n",
      "2     6.232088     2  497\n",
      "3     6.232223     3  497\n",
      "4     6.232023     4  497\n",
      "...        ...   ...  ...\n",
      "1761  6.231097  1761  497\n",
      "1762  6.226718  1762  497\n",
      "1763  6.229883  1763  497\n",
      "1764  6.230723  1764  497\n",
      "1765  6.226739  1765  497\n",
      "\n",
      "[1766 rows x 3 columns]\n"
     ]
    },
    {
     "name": "stderr",
     "output_type": "stream",
     "text": [
      "\n",
      "Feature Extraction: 100%|██████████| 1/1 [00:00<00:00,  3.05it/s]"
     ]
    },
    {
     "name": "stdout",
     "output_type": "stream",
     "text": [
      "             x  time   id\n",
      "0     5.633180     0  498\n",
      "1     5.665613     1  498\n",
      "2     5.644890     2  498\n",
      "3     5.636282     3  498\n",
      "4     5.656993     4  498\n",
      "...        ...   ...  ...\n",
      "2764  5.204407  2764  498\n",
      "2765  5.275631  2765  498\n",
      "2766  5.212131  2766  498\n",
      "2767  5.167935  2767  498\n",
      "2768  5.220980  2768  498\n",
      "\n",
      "[2769 rows x 3 columns]\n"
     ]
    },
    {
     "name": "stderr",
     "output_type": "stream",
     "text": [
      "\n",
      "Feature Extraction: 100%|██████████| 1/1 [00:00<00:00,  1.69it/s]"
     ]
    },
    {
     "name": "stdout",
     "output_type": "stream",
     "text": [
      "             x  time   id\n",
      "0     5.970831     0  499\n",
      "1     6.057569     1  499\n",
      "2     5.993469     2  499\n",
      "3     5.974089     3  499\n",
      "4     6.039779     4  499\n",
      "...        ...   ...  ...\n",
      "2764  5.677269  2764  499\n",
      "2765  5.753801  2765  499\n",
      "2766  5.686135  2766  499\n",
      "2767  5.668325  2767  499\n",
      "2768  5.712809  2768  499\n",
      "\n",
      "[2769 rows x 3 columns]\n"
     ]
    },
    {
     "name": "stderr",
     "output_type": "stream",
     "text": [
      "\n",
      "Feature Extraction: 100%|██████████| 1/1 [00:00<00:00,  1.72it/s]"
     ]
    },
    {
     "name": "stdout",
     "output_type": "stream",
     "text": [
      "             x  time   id\n",
      "0     5.669551     0  500\n",
      "1     5.683416     1  500\n",
      "2     5.670700     2  500\n",
      "3     5.669966     3  500\n",
      "4     5.676330     4  500\n",
      "...        ...   ...  ...\n",
      "2754  5.104574  2754  500\n",
      "2755  5.169223  2755  500\n",
      "2756  5.108026  2756  500\n",
      "2757  5.092908  2757  500\n",
      "2758  5.133307  2758  500\n",
      "\n",
      "[2759 rows x 3 columns]\n"
     ]
    },
    {
     "name": "stderr",
     "output_type": "stream",
     "text": [
      "\n",
      "Feature Extraction: 100%|██████████| 1/1 [00:00<00:00,  1.70it/s]"
     ]
    },
    {
     "name": "stdout",
     "output_type": "stream",
     "text": [
      "             x  time   id\n",
      "0     5.709264     0  501\n",
      "1     5.722492     1  501\n",
      "2     5.706533     2  501\n",
      "3     5.715094     3  501\n",
      "4     5.712222     4  501\n",
      "...        ...   ...  ...\n",
      "2752  5.013659  2752  501\n",
      "2753  5.054991  2753  501\n",
      "2754  4.940997  2754  501\n",
      "2755  5.032908  2755  501\n",
      "2756  5.025485  2756  501\n",
      "\n",
      "[2757 rows x 3 columns]\n"
     ]
    },
    {
     "name": "stderr",
     "output_type": "stream",
     "text": [
      "\n",
      "Feature Extraction: 100%|██████████| 1/1 [00:00<00:00,  1.71it/s]"
     ]
    },
    {
     "name": "stdout",
     "output_type": "stream",
     "text": [
      "             x  time   id\n",
      "0     6.192923     0  502\n",
      "1     5.771025     1  502\n",
      "2     6.004904     2  502\n",
      "3     6.220358     3  502\n",
      "4     6.184962     4  502\n",
      "...        ...   ...  ...\n",
      "1850  6.231902  1850  502\n",
      "1851  6.231538  1851  502\n",
      "1852  6.231950  1852  502\n",
      "1853  6.231623  1853  502\n",
      "1854  6.232169  1854  502\n",
      "\n",
      "[1855 rows x 3 columns]\n"
     ]
    },
    {
     "name": "stderr",
     "output_type": "stream",
     "text": [
      "\n",
      "Feature Extraction: 100%|██████████| 1/1 [00:00<00:00,  2.91it/s]"
     ]
    },
    {
     "name": "stdout",
     "output_type": "stream",
     "text": [
      "             x  time   id\n",
      "0     6.179691     0  503\n",
      "1     5.894854     1  503\n",
      "2     6.053259     2  503\n",
      "3     6.123508     3  503\n",
      "4     6.062705     4  503\n",
      "...        ...   ...  ...\n",
      "1850  6.231951  1850  503\n",
      "1851  6.231547  1851  503\n",
      "1852  6.231922  1852  503\n",
      "1853  6.230929  1853  503\n",
      "1854  6.232254  1854  503\n",
      "\n",
      "[1855 rows x 3 columns]\n"
     ]
    },
    {
     "name": "stderr",
     "output_type": "stream",
     "text": [
      "\n",
      "Feature Extraction: 100%|██████████| 1/1 [00:00<00:00,  2.98it/s]"
     ]
    },
    {
     "name": "stdout",
     "output_type": "stream",
     "text": [
      "             x  time   id\n",
      "0     0.449927     0  504\n",
      "1     0.345616     1  504\n",
      "2     0.540437     2  504\n",
      "3     0.439234     3  504\n",
      "4     0.306961     4  504\n",
      "...        ...   ...  ...\n",
      "1836  0.391797  1836  504\n",
      "1837  0.340072  1837  504\n",
      "1838  0.396665  1838  504\n",
      "1839  0.335593  1839  504\n",
      "1840  0.369658  1840  504\n",
      "\n",
      "[1841 rows x 3 columns]\n"
     ]
    },
    {
     "name": "stderr",
     "output_type": "stream",
     "text": [
      "\n",
      "Feature Extraction: 100%|██████████| 1/1 [00:00<00:00,  3.05it/s]"
     ]
    },
    {
     "name": "stdout",
     "output_type": "stream",
     "text": [
      "             x  time   id\n",
      "0     0.976846     0  505\n",
      "1     0.917398     1  505\n",
      "2     1.026538     2  505\n",
      "3     0.970467     3  505\n",
      "4     0.895400     4  505\n",
      "...        ...   ...  ...\n",
      "1841  0.930754  1841  505\n",
      "1842  0.898158  1842  505\n",
      "1843  0.938043  1843  505\n",
      "1844  0.897005  1844  505\n",
      "1845  0.922096  1845  505\n",
      "\n",
      "[1846 rows x 3 columns]\n"
     ]
    },
    {
     "name": "stderr",
     "output_type": "stream",
     "text": [
      "\n",
      "Feature Extraction: 100%|██████████| 1/1 [00:00<00:00,  3.01it/s]"
     ]
    },
    {
     "name": "stdout",
     "output_type": "stream",
     "text": [
      "             x  time   id\n",
      "0     0.511829     0  506\n",
      "1     0.401210     1  506\n",
      "2     0.315325     2  506\n",
      "3     0.318152     3  506\n",
      "4     0.331045     4  506\n",
      "...        ...   ...  ...\n",
      "1837  0.392901  1837  506\n",
      "1838  0.398173  1838  506\n",
      "1839  0.449091  1839  506\n",
      "1840  0.379545  1840  506\n",
      "1841  0.322105  1841  506\n",
      "\n",
      "[1842 rows x 3 columns]\n"
     ]
    },
    {
     "name": "stderr",
     "output_type": "stream",
     "text": [
      "\n",
      "Feature Extraction: 100%|██████████| 1/1 [00:00<00:00,  2.80it/s]"
     ]
    },
    {
     "name": "stdout",
     "output_type": "stream",
     "text": [
      "             x  time   id\n",
      "0     1.017397     0  507\n",
      "1     0.953702     1  507\n",
      "2     0.906067     2  507\n",
      "3     0.908054     3  507\n",
      "4     0.915813     4  507\n",
      "...        ...   ...  ...\n",
      "1838  0.948107  1838  507\n",
      "1839  0.949912  1839  507\n",
      "1840  0.978756  1840  507\n",
      "1841  0.938681  1841  507\n",
      "1842  0.905730  1842  507\n",
      "\n",
      "[1843 rows x 3 columns]\n"
     ]
    },
    {
     "name": "stderr",
     "output_type": "stream",
     "text": [
      "\n",
      "Feature Extraction: 100%|██████████| 1/1 [00:00<00:00,  3.00it/s]"
     ]
    },
    {
     "name": "stdout",
     "output_type": "stream",
     "text": [
      "            x  time   id\n",
      "0    6.096390     0  508\n",
      "1    6.116552     1  508\n",
      "2    6.174739     2  508\n",
      "3    6.231892     3  508\n",
      "4    6.179206     4  508\n",
      "..        ...   ...  ...\n",
      "472  6.231876   472  508\n",
      "473  6.118253   473  508\n",
      "474  6.107226   474  508\n",
      "475  6.144237   475  508\n",
      "476  6.176163   476  508\n",
      "\n",
      "[477 rows x 3 columns]\n"
     ]
    },
    {
     "name": "stderr",
     "output_type": "stream",
     "text": [
      "\n",
      "Feature Extraction: 100%|██████████| 1/1 [00:00<00:00, 13.62it/s]"
     ]
    },
    {
     "name": "stdout",
     "output_type": "stream",
     "text": [
      "            x  time   id\n",
      "0    6.232024     0  509\n",
      "1    6.231862     1  509\n",
      "2    6.207023     2  509\n",
      "3    6.231929     3  509\n",
      "4    6.231736     4  509\n",
      "..        ...   ...  ...\n",
      "472  6.232000   472  509\n",
      "473  6.208554   473  509\n",
      "474  6.231812   474  509\n",
      "475  6.231993   475  509\n",
      "476  6.211593   476  509\n",
      "\n",
      "[477 rows x 3 columns]\n"
     ]
    },
    {
     "name": "stderr",
     "output_type": "stream",
     "text": [
      "\n",
      "Feature Extraction: 100%|██████████| 1/1 [00:00<00:00, 13.66it/s]\n"
     ]
    },
    {
     "name": "stdout",
     "output_type": "stream",
     "text": [
      "            x  time   id\n",
      "0    6.231580     0  510\n",
      "1    6.232080     1  510\n",
      "2    6.142837     2  510\n",
      "3    6.231755     3  510\n",
      "4    6.231746     4  510\n",
      "..        ...   ...  ...\n",
      "472  6.231955   472  510\n",
      "473  6.181011   473  510\n",
      "474  6.231764   474  510\n",
      "475  6.232065   475  510\n",
      "476  6.144388   476  510\n",
      "\n",
      "[477 rows x 3 columns]\n"
     ]
    },
    {
     "name": "stderr",
     "output_type": "stream",
     "text": [
      "Feature Extraction: 100%|██████████| 1/1 [00:00<00:00, 13.27it/s]\n"
     ]
    },
    {
     "name": "stdout",
     "output_type": "stream",
     "text": [
      "            x  time   id\n",
      "0    6.232001     0  511\n",
      "1    6.231963     1  511\n",
      "2    6.196415     2  511\n",
      "3    6.231715     3  511\n",
      "4    6.231731     4  511\n",
      "..        ...   ...  ...\n",
      "472  6.231975   472  511\n",
      "473  6.223400   473  511\n",
      "474  6.231774   474  511\n",
      "475  6.232070   475  511\n",
      "476  6.199842   476  511\n",
      "\n",
      "[477 rows x 3 columns]\n"
     ]
    },
    {
     "name": "stderr",
     "output_type": "stream",
     "text": [
      "Feature Extraction: 100%|██████████| 1/1 [00:00<00:00, 14.31it/s]"
     ]
    },
    {
     "name": "stdout",
     "output_type": "stream",
     "text": [
      "            x  time   id\n",
      "0    6.232171     0  512\n",
      "1    6.232180     1  512\n",
      "2    6.156074     2  512\n",
      "3    6.231883     3  512\n",
      "4    6.231699     4  512\n",
      "..        ...   ...  ...\n",
      "472  6.231930   472  512\n",
      "473  6.189010   473  512\n",
      "474  6.231745   474  512\n",
      "475  6.232020   475  512\n",
      "476  6.157773   476  512\n",
      "\n",
      "[477 rows x 3 columns]\n"
     ]
    },
    {
     "name": "stderr",
     "output_type": "stream",
     "text": [
      "\n",
      "Feature Extraction: 100%|██████████| 1/1 [00:00<00:00, 14.87it/s]"
     ]
    },
    {
     "name": "stdout",
     "output_type": "stream",
     "text": [
      "            x  time   id\n",
      "0    6.232547     0  513\n",
      "1    6.232245     1  513\n",
      "2    6.181256     2  513\n",
      "3    6.231895     3  513\n",
      "4    6.231672     4  513\n",
      "..        ...   ...  ...\n",
      "472  6.231845   472  513\n",
      "473  6.212404   473  513\n",
      "474  6.231769   474  513\n",
      "475  6.232006   475  513\n",
      "476  6.182560   476  513\n",
      "\n",
      "[477 rows x 3 columns]\n"
     ]
    },
    {
     "name": "stderr",
     "output_type": "stream",
     "text": [
      "\n",
      "Feature Extraction: 100%|██████████| 1/1 [00:00<00:00, 12.68it/s]\n"
     ]
    },
    {
     "name": "stdout",
     "output_type": "stream",
     "text": [
      "            x  time   id\n",
      "0    6.231936     0  514\n",
      "1    6.232238     1  514\n",
      "2    6.154842     2  514\n",
      "3    6.232147     3  514\n",
      "4    6.231501     4  514\n",
      "..        ...   ...  ...\n",
      "472  6.231902   472  514\n",
      "473  6.190986   473  514\n",
      "474  6.231700   474  514\n",
      "475  6.232027   475  514\n",
      "476  6.150248   476  514\n",
      "\n",
      "[477 rows x 3 columns]\n"
     ]
    },
    {
     "name": "stderr",
     "output_type": "stream",
     "text": [
      "Feature Extraction: 100%|██████████| 1/1 [00:00<00:00, 13.70it/s]\n"
     ]
    },
    {
     "name": "stdout",
     "output_type": "stream",
     "text": [
      "            x  time   id\n",
      "0    6.231933     0  515\n",
      "1    6.232152     1  515\n",
      "2    6.165760     2  515\n",
      "3    6.232118     3  515\n",
      "4    6.231524     4  515\n",
      "..        ...   ...  ...\n",
      "472  6.231818   472  515\n",
      "473  6.203070   473  515\n",
      "474  6.231717   474  515\n",
      "475  6.232042   475  515\n",
      "476  6.161897   476  515\n",
      "\n",
      "[477 rows x 3 columns]\n"
     ]
    },
    {
     "name": "stderr",
     "output_type": "stream",
     "text": [
      "Feature Extraction: 100%|██████████| 1/1 [00:00<00:00, 10.23it/s]"
     ]
    },
    {
     "name": "stdout",
     "output_type": "stream",
     "text": [
      "            x  time   id\n",
      "0    5.884118     0  516\n",
      "1    5.902641     1  516\n",
      "2    5.983473     2  516\n",
      "3    6.136350     3  516\n",
      "4    6.024910     4  516\n",
      "..        ...   ...  ...\n",
      "472  6.115642   472  516\n",
      "473  5.953302   473  516\n",
      "474  5.888905   474  516\n",
      "475  5.888527   475  516\n",
      "476  5.978909   476  516\n",
      "\n",
      "[477 rows x 3 columns]\n"
     ]
    },
    {
     "name": "stderr",
     "output_type": "stream",
     "text": [
      "\n",
      "Feature Extraction: 100%|██████████| 1/1 [00:00<00:00, 14.64it/s]"
     ]
    },
    {
     "name": "stdout",
     "output_type": "stream",
     "text": [
      "            x  time   id\n",
      "0    6.231982     0  517\n",
      "1    6.231854     1  517\n",
      "2    6.178661     2  517\n",
      "3    6.231941     3  517\n",
      "4    6.231691     4  517\n",
      "..        ...   ...  ...\n",
      "472  6.231889   472  517\n",
      "473  6.206021   473  517\n",
      "474  6.231786   474  517\n",
      "475  6.231892   475  517\n",
      "476  6.176771   476  517\n",
      "\n",
      "[477 rows x 3 columns]\n"
     ]
    },
    {
     "name": "stderr",
     "output_type": "stream",
     "text": [
      "\n",
      "Feature Extraction: 100%|██████████| 1/1 [00:00<00:00, 13.57it/s]\n"
     ]
    },
    {
     "name": "stdout",
     "output_type": "stream",
     "text": [
      "            x  time   id\n",
      "0    6.224429     0  518\n",
      "1    6.232034     1  518\n",
      "2    6.156387     2  518\n",
      "3    6.231840     3  518\n",
      "4    6.231711     4  518\n",
      "..        ...   ...  ...\n",
      "472  6.231927   472  518\n",
      "473  6.187650   473  518\n",
      "474  6.229013   474  518\n",
      "475  6.230926   475  518\n",
      "476  6.158469   476  518\n",
      "\n",
      "[477 rows x 3 columns]\n"
     ]
    },
    {
     "name": "stderr",
     "output_type": "stream",
     "text": [
      "Feature Extraction: 100%|██████████| 1/1 [00:00<00:00,  7.26it/s]"
     ]
    },
    {
     "name": "stdout",
     "output_type": "stream",
     "text": [
      "            x  time   id\n",
      "0    5.883840     0  519\n",
      "1    5.948382     1  519\n",
      "2    6.029982     2  519\n",
      "3    6.166462     3  519\n",
      "4    6.082376     4  519\n",
      "..        ...   ...  ...\n",
      "472  6.134855   472  519\n",
      "473  5.992491   473  519\n",
      "474  5.922226   474  519\n",
      "475  5.920755   475  519\n",
      "476  6.025185   476  519\n",
      "\n",
      "[477 rows x 3 columns]\n"
     ]
    },
    {
     "name": "stderr",
     "output_type": "stream",
     "text": [
      "\n",
      "Feature Extraction: 100%|██████████| 1/1 [00:00<00:00, 11.65it/s]"
     ]
    },
    {
     "name": "stdout",
     "output_type": "stream",
     "text": [
      "            x  time   id\n",
      "0    6.162233     0  520\n",
      "1    6.187667     1  520\n",
      "2    6.137086     2  520\n",
      "3    6.231886     3  520\n",
      "4    6.221660     4  520\n",
      "..        ...   ...  ...\n",
      "472  6.231920   472  520\n",
      "473  6.177490   473  520\n",
      "474  6.159961   474  520\n",
      "475  6.162505   475  520\n",
      "476  6.132730   476  520\n",
      "\n",
      "[477 rows x 3 columns]\n"
     ]
    },
    {
     "name": "stderr",
     "output_type": "stream",
     "text": [
      "\n",
      "Feature Extraction: 100%|██████████| 1/1 [00:00<00:00,  9.70it/s]"
     ]
    },
    {
     "name": "stdout",
     "output_type": "stream",
     "text": [
      "            x  time   id\n",
      "0    5.934893     0  521\n",
      "1    5.976206     1  521\n",
      "2    6.056126     2  521\n",
      "3    6.190826     3  521\n",
      "4    6.084064     4  521\n",
      "..        ...   ...  ...\n",
      "472  6.158146   472  521\n",
      "473  6.047571   473  521\n",
      "474  5.934554   474  521\n",
      "475  5.936292   475  521\n",
      "476  6.033163   476  521\n",
      "\n",
      "[477 rows x 3 columns]\n"
     ]
    },
    {
     "name": "stderr",
     "output_type": "stream",
     "text": [
      "\n",
      "Feature Extraction: 100%|██████████| 1/1 [00:00<00:00, 14.56it/s]"
     ]
    },
    {
     "name": "stdout",
     "output_type": "stream",
     "text": [
      "            x  time   id\n",
      "0    6.102281     0  522\n",
      "1    6.107147     1  522\n",
      "2    6.232723     2  522\n",
      "3    6.217844     3  522\n",
      "4    6.110432     4  522\n",
      "..        ...   ...  ...\n",
      "935  6.099300   935  522\n",
      "936  6.117498   936  522\n",
      "937  6.153908   937  522\n",
      "938  6.231825   938  522\n",
      "939  6.207705   939  522\n",
      "\n",
      "[940 rows x 3 columns]\n"
     ]
    },
    {
     "name": "stderr",
     "output_type": "stream",
     "text": [
      "\n",
      "Feature Extraction: 100%|██████████| 1/1 [00:00<00:00,  6.48it/s]\n"
     ]
    },
    {
     "name": "stdout",
     "output_type": "stream",
     "text": [
      "            x  time   id\n",
      "0    6.231820     0  523\n",
      "1    6.216709     1  523\n",
      "2    6.232796     2  523\n",
      "3    6.230853     3  523\n",
      "4    6.232003     4  523\n",
      "..        ...   ...  ...\n",
      "934  6.231819   934  523\n",
      "935  6.232013   935  523\n",
      "936  6.217757   936  523\n",
      "937  6.231946   937  523\n",
      "938  6.232091   938  523\n",
      "\n",
      "[939 rows x 3 columns]\n"
     ]
    },
    {
     "name": "stderr",
     "output_type": "stream",
     "text": [
      "Feature Extraction: 100%|██████████| 1/1 [00:00<00:00,  6.27it/s]\n"
     ]
    },
    {
     "name": "stdout",
     "output_type": "stream",
     "text": [
      "            x  time   id\n",
      "0    6.231487     0  524\n",
      "1    6.171803     1  524\n",
      "2    6.231602     2  524\n",
      "3    6.232161     3  524\n",
      "4    6.231717     4  524\n",
      "..        ...   ...  ...\n",
      "932  6.231505   932  524\n",
      "933  6.232056   933  524\n",
      "934  6.172980   934  524\n",
      "935  6.232063   935  524\n",
      "936  6.231773   936  524\n",
      "\n",
      "[937 rows x 3 columns]\n"
     ]
    },
    {
     "name": "stderr",
     "output_type": "stream",
     "text": [
      "Feature Extraction: 100%|██████████| 1/1 [00:00<00:00,  6.14it/s]\n"
     ]
    },
    {
     "name": "stdout",
     "output_type": "stream",
     "text": [
      "            x  time   id\n",
      "0    6.231518     0  525\n",
      "1    6.211141     1  525\n",
      "2    6.231674     2  525\n",
      "3    6.232076     3  525\n",
      "4    6.231866     4  525\n",
      "..        ...   ...  ...\n",
      "934  6.231403   934  525\n",
      "935  6.232181   935  525\n",
      "936  6.212630   936  525\n",
      "937  6.231946   937  525\n",
      "938  6.231797   938  525\n",
      "\n",
      "[939 rows x 3 columns]\n"
     ]
    },
    {
     "name": "stderr",
     "output_type": "stream",
     "text": [
      "Feature Extraction: 100%|██████████| 1/1 [00:00<00:00,  6.02it/s]\n"
     ]
    },
    {
     "name": "stdout",
     "output_type": "stream",
     "text": [
      "            x  time   id\n",
      "0    6.232112     0  526\n",
      "1    6.180728     1  526\n",
      "2    6.232537     2  526\n",
      "3    6.231522     3  526\n",
      "4    6.231828     4  526\n",
      "..        ...   ...  ...\n",
      "933  6.231815   933  526\n",
      "934  6.231956   934  526\n",
      "935  6.182142   935  526\n",
      "936  6.232016   936  526\n",
      "937  6.231985   937  526\n",
      "\n",
      "[938 rows x 3 columns]\n"
     ]
    },
    {
     "name": "stderr",
     "output_type": "stream",
     "text": [
      "Feature Extraction: 100%|██████████| 1/1 [00:00<00:00,  6.47it/s]\n"
     ]
    },
    {
     "name": "stdout",
     "output_type": "stream",
     "text": [
      "            x  time   id\n",
      "0    6.232066     0  527\n",
      "1    6.198467     1  527\n",
      "2    6.232479     2  527\n",
      "3    6.231504     3  527\n",
      "4    6.231863     4  527\n",
      "..        ...   ...  ...\n",
      "933  6.231775   933  527\n",
      "934  6.231942   934  527\n",
      "935  6.200245   935  527\n",
      "936  6.231972   936  527\n",
      "937  6.232008   937  527\n",
      "\n",
      "[938 rows x 3 columns]\n"
     ]
    },
    {
     "name": "stderr",
     "output_type": "stream",
     "text": [
      "Feature Extraction: 100%|██████████| 1/1 [00:00<00:00,  6.38it/s]\n"
     ]
    },
    {
     "name": "stdout",
     "output_type": "stream",
     "text": [
      "            x  time   id\n",
      "0    6.231445     0  528\n",
      "1    6.176024     1  528\n",
      "2    6.231964     2  528\n",
      "3    6.232044     3  528\n",
      "4    6.231808     4  528\n",
      "..        ...   ...  ...\n",
      "933  6.231747   933  528\n",
      "934  6.231956   934  528\n",
      "935  6.183011   935  528\n",
      "936  6.231790   936  528\n",
      "937  6.231935   937  528\n",
      "\n",
      "[938 rows x 3 columns]\n"
     ]
    },
    {
     "name": "stderr",
     "output_type": "stream",
     "text": [
      "Feature Extraction: 100%|██████████| 1/1 [00:00<00:00,  6.13it/s]\n"
     ]
    },
    {
     "name": "stdout",
     "output_type": "stream",
     "text": [
      "            x  time   id\n",
      "0    6.231458     0  529\n",
      "1    6.184687     1  529\n",
      "2    6.231894     2  529\n",
      "3    6.232036     3  529\n",
      "4    6.231746     4  529\n",
      "..        ...   ...  ...\n",
      "933  6.231837   933  529\n",
      "934  6.231916   934  529\n",
      "935  6.190213   935  529\n",
      "936  6.231769   936  529\n",
      "937  6.231926   937  529\n",
      "\n",
      "[938 rows x 3 columns]\n"
     ]
    },
    {
     "name": "stderr",
     "output_type": "stream",
     "text": [
      "Feature Extraction: 100%|██████████| 1/1 [00:00<00:00,  5.41it/s]\n"
     ]
    },
    {
     "name": "stdout",
     "output_type": "stream",
     "text": [
      "            x  time   id\n",
      "0    5.879084     0  530\n",
      "1    5.901264     1  530\n",
      "2    6.160460     2  530\n",
      "3    6.108309     3  530\n",
      "4    5.928491     4  530\n",
      "..        ...   ...  ...\n",
      "935  5.877855   935  530\n",
      "936  5.876768   936  530\n",
      "937  5.908929   937  530\n",
      "938  6.122741   938  530\n",
      "939  6.057893   939  530\n",
      "\n",
      "[940 rows x 3 columns]\n"
     ]
    },
    {
     "name": "stderr",
     "output_type": "stream",
     "text": [
      "Feature Extraction: 100%|██████████| 1/1 [00:00<00:00,  6.53it/s]\n"
     ]
    },
    {
     "name": "stdout",
     "output_type": "stream",
     "text": [
      "            x  time   id\n",
      "0    6.231798     0  531\n",
      "1    6.200564     1  531\n",
      "2    6.232090     2  531\n",
      "3    6.231657     3  531\n",
      "4    6.231134     4  531\n",
      "..        ...   ...  ...\n",
      "933  6.231788   933  531\n",
      "934  6.231614   934  531\n",
      "935  6.193315   935  531\n",
      "936  6.232089   936  531\n",
      "937  6.231829   937  531\n",
      "\n",
      "[938 rows x 3 columns]\n"
     ]
    },
    {
     "name": "stderr",
     "output_type": "stream",
     "text": [
      "Feature Extraction: 100%|██████████| 1/1 [00:00<00:00,  6.34it/s]\n"
     ]
    },
    {
     "name": "stdout",
     "output_type": "stream",
     "text": [
      "            x  time   id\n",
      "0    6.228773     0  532\n",
      "1    6.181805     1  532\n",
      "2    6.231971     2  532\n",
      "3    6.231759     3  532\n",
      "4    6.231622     4  532\n",
      "..        ...   ...  ...\n",
      "932  6.220192   932  532\n",
      "933  6.216404   933  532\n",
      "934  6.176905   934  532\n",
      "935  6.232167   935  532\n",
      "936  6.230493   936  532\n",
      "\n",
      "[937 rows x 3 columns]\n"
     ]
    },
    {
     "name": "stderr",
     "output_type": "stream",
     "text": [
      "Feature Extraction: 100%|██████████| 1/1 [00:00<00:00,  6.54it/s]"
     ]
    },
    {
     "name": "stdout",
     "output_type": "stream",
     "text": [
      "            x  time   id\n",
      "0    5.919841     0  533\n",
      "1    5.954522     1  533\n",
      "2    6.214131     2  533\n",
      "3    6.145852     3  533\n",
      "4    5.983994     4  533\n",
      "..        ...   ...  ...\n",
      "937  5.911264   937  533\n",
      "938  5.902302   938  533\n",
      "939  5.951858   939  533\n",
      "940  6.155515   940  533\n",
      "941  6.089333   941  533\n",
      "\n",
      "[942 rows x 3 columns]\n"
     ]
    },
    {
     "name": "stderr",
     "output_type": "stream",
     "text": [
      "\n",
      "Feature Extraction: 100%|██████████| 1/1 [00:00<00:00,  6.17it/s]\n"
     ]
    },
    {
     "name": "stdout",
     "output_type": "stream",
     "text": [
      "            x  time   id\n",
      "0    6.146578     0  534\n",
      "1    6.126687     1  534\n",
      "2    6.232220     2  534\n",
      "3    6.223614     3  534\n",
      "4    6.187599     4  534\n",
      "..        ...   ...  ...\n",
      "935  6.156802   935  534\n",
      "936  6.151876   936  534\n",
      "937  6.134413   937  534\n",
      "938  6.231961   938  534\n",
      "939  6.212644   939  534\n",
      "\n",
      "[940 rows x 3 columns]\n"
     ]
    },
    {
     "name": "stderr",
     "output_type": "stream",
     "text": [
      "Feature Extraction: 100%|██████████| 1/1 [00:00<00:00,  6.18it/s]\n"
     ]
    },
    {
     "name": "stdout",
     "output_type": "stream",
     "text": [
      "            x  time   id\n",
      "0    5.930894     0  535\n",
      "1    5.952903     1  535\n",
      "2    6.198534     2  535\n",
      "3    6.152462     3  535\n",
      "4    5.983813     4  535\n",
      "..        ...   ...  ...\n",
      "935  5.932109   935  535\n",
      "936  5.922030   936  535\n",
      "937  5.959267   937  535\n",
      "938  6.161024   938  535\n",
      "939  6.101044   939  535\n",
      "\n",
      "[940 rows x 3 columns]\n"
     ]
    },
    {
     "name": "stderr",
     "output_type": "stream",
     "text": [
      "Feature Extraction: 100%|██████████| 1/1 [00:00<00:00,  6.41it/s]\n"
     ]
    },
    {
     "name": "stdout",
     "output_type": "stream",
     "text": [
      "            x  time   id\n",
      "0    5.949064     0  536\n",
      "1    5.961107     1  536\n",
      "2    5.994564     2  536\n",
      "3    6.033513     3  536\n",
      "4    5.935352     4  536\n",
      "..        ...   ...  ...\n",
      "174  5.063860   174  536\n",
      "175  5.064784   175  536\n",
      "176  5.063367   176  536\n",
      "177  5.064344   177  536\n",
      "178  5.065110   178  536\n",
      "\n",
      "[179 rows x 3 columns]\n"
     ]
    },
    {
     "name": "stderr",
     "output_type": "stream",
     "text": [
      "Feature Extraction: 100%|██████████| 1/1 [00:00<00:00, 52.96it/s]"
     ]
    },
    {
     "name": "stdout",
     "output_type": "stream",
     "text": [
      "            x  time   id\n",
      "0    6.109650     0  537\n",
      "1    6.187975     1  537\n",
      "2    6.073759     2  537\n",
      "3    6.193897     3  537\n",
      "4    6.013290     4  537\n",
      "..        ...   ...  ...\n",
      "174  5.474779   174  537\n",
      "175  5.508308   175  537\n",
      "176  5.426729   176  537\n",
      "177  5.483917   177  537\n",
      "178  5.495031   178  537\n",
      "\n",
      "[179 rows x 3 columns]\n"
     ]
    },
    {
     "name": "stderr",
     "output_type": "stream",
     "text": [
      "\n",
      "Feature Extraction: 100%|██████████| 1/1 [00:00<00:00, 45.52it/s]"
     ]
    },
    {
     "name": "stdout",
     "output_type": "stream",
     "text": [
      "            x  time   id\n",
      "0    6.138878     0  538\n",
      "1    6.186920     1  538\n",
      "2    6.192617     2  538\n",
      "3    6.185859     3  538\n",
      "4    6.204659     4  538\n",
      "..        ...   ...  ...\n",
      "174  5.491325   174  538\n",
      "175  5.558261   175  538\n",
      "176  5.491670   176  538\n",
      "177  5.503214   177  538\n",
      "178  5.550692   178  538\n",
      "\n",
      "[179 rows x 3 columns]\n"
     ]
    },
    {
     "name": "stderr",
     "output_type": "stream",
     "text": [
      "\n",
      "Feature Extraction: 100%|██████████| 1/1 [00:00<00:00, 50.52it/s]"
     ]
    },
    {
     "name": "stdout",
     "output_type": "stream",
     "text": [
      "            x  time   id\n",
      "0    6.145560     0  539\n",
      "1    6.190581     1  539\n",
      "2    6.196443     2  539\n",
      "3    6.195223     3  539\n",
      "4    6.212494     4  539\n",
      "..        ...   ...  ...\n",
      "174  5.735693   174  539\n",
      "175  5.792739   175  539\n",
      "176  5.728158   176  539\n",
      "177  5.744636   177  539\n",
      "178  5.792190   178  539\n",
      "\n",
      "[179 rows x 3 columns]\n"
     ]
    },
    {
     "name": "stderr",
     "output_type": "stream",
     "text": [
      "\n",
      "Feature Extraction: 100%|██████████| 1/1 [00:00<00:00, 50.30it/s]"
     ]
    },
    {
     "name": "stdout",
     "output_type": "stream",
     "text": [
      "            x  time   id\n",
      "0    5.845843     0  540\n",
      "1    5.912149     1  540\n",
      "2    6.092500     2  540\n",
      "3    5.978772     3  540\n",
      "4    6.111029     4  540\n",
      "..        ...   ...  ...\n",
      "174  5.170414   174  540\n",
      "175  5.215983   175  540\n",
      "176  5.161200   176  540\n",
      "177  5.188032   177  540\n",
      "178  5.215911   178  540\n",
      "\n",
      "[179 rows x 3 columns]\n"
     ]
    },
    {
     "name": "stderr",
     "output_type": "stream",
     "text": [
      "\n",
      "Feature Extraction: 100%|██████████| 1/1 [00:00<00:00, 41.29it/s]\n"
     ]
    },
    {
     "name": "stdout",
     "output_type": "stream",
     "text": [
      "            x  time   id\n",
      "0    6.091033     0  541\n",
      "1    6.173804     1  541\n",
      "2    6.206134     2  541\n",
      "3    6.179466     3  541\n",
      "4    6.199223     4  541\n",
      "..        ...   ...  ...\n",
      "174  5.403126   174  541\n",
      "175  5.471382   175  541\n",
      "176  5.407833   176  541\n",
      "177  5.410741   177  541\n",
      "178  5.470170   178  541\n",
      "\n",
      "[179 rows x 3 columns]\n"
     ]
    },
    {
     "name": "stderr",
     "output_type": "stream",
     "text": [
      "Feature Extraction: 100%|██████████| 1/1 [00:00<00:00, 43.91it/s]\n"
     ]
    },
    {
     "name": "stdout",
     "output_type": "stream",
     "text": [
      "            x  time   id\n",
      "0    5.184603     0  542\n",
      "1    5.219755     1  542\n",
      "2    5.217255     2  542\n",
      "3    5.237458     3  542\n",
      "4    5.286424     4  542\n",
      "..        ...   ...  ...\n",
      "174  4.714475   174  542\n",
      "175  4.714238   175  542\n",
      "176  4.714171   176  542\n",
      "177  4.714384   177  542\n",
      "178  4.713999   178  542\n",
      "\n",
      "[179 rows x 3 columns]\n"
     ]
    },
    {
     "name": "stderr",
     "output_type": "stream",
     "text": [
      "Feature Extraction: 100%|██████████| 1/1 [00:00<00:00, 44.99it/s]"
     ]
    },
    {
     "name": "stdout",
     "output_type": "stream",
     "text": [
      "            x  time   id\n",
      "0    5.383537     0  543\n",
      "1    5.463320     1  543\n",
      "2    5.528810     2  543\n",
      "3    5.558524     3  543\n",
      "4    5.641630     4  543\n",
      "..        ...   ...  ...\n",
      "174  5.060566   174  543\n",
      "175  5.062945   175  543\n",
      "176  5.062698   176  543\n",
      "177  5.062096   177  543\n",
      "178  5.063604   178  543\n",
      "\n",
      "[179 rows x 3 columns]\n"
     ]
    },
    {
     "name": "stderr",
     "output_type": "stream",
     "text": [
      "\n",
      "Feature Extraction: 100%|██████████| 1/1 [00:00<00:00, 51.20it/s]\n"
     ]
    },
    {
     "name": "stdout",
     "output_type": "stream",
     "text": [
      "           x  time   id\n",
      "0   5.619357     0  544\n",
      "1   5.678100     1  544\n",
      "2   5.717048     2  544\n",
      "3   5.703469     3  544\n",
      "4   5.747778     4  544\n",
      "..       ...   ...  ...\n",
      "82  5.780678    82  544\n",
      "83  5.776269    83  544\n",
      "84  5.775609    84  544\n",
      "85  5.776085    85  544\n",
      "86  5.776596    86  544\n",
      "\n",
      "[87 rows x 3 columns]\n"
     ]
    },
    {
     "name": "stderr",
     "output_type": "stream",
     "text": [
      "Feature Extraction: 100%|██████████| 1/1 [00:00<00:00, 67.29it/s]\n"
     ]
    },
    {
     "name": "stdout",
     "output_type": "stream",
     "text": [
      "           x  time   id\n",
      "0   5.535812     0  545\n",
      "1   5.659284     1  545\n",
      "2   5.730708     2  545\n",
      "3   5.739187     3  545\n",
      "4   5.816690     4  545\n",
      "..       ...   ...  ...\n",
      "82  5.928294    82  545\n",
      "83  5.909311    83  545\n",
      "84  5.907679    84  545\n",
      "85  5.919756    85  545\n",
      "86  5.921069    86  545\n",
      "\n",
      "[87 rows x 3 columns]\n"
     ]
    },
    {
     "name": "stderr",
     "output_type": "stream",
     "text": [
      "Feature Extraction: 100%|██████████| 1/1 [00:00<00:00, 71.98it/s]"
     ]
    },
    {
     "name": "stdout",
     "output_type": "stream",
     "text": [
      "           x  time   id\n",
      "0   5.965290     0  546\n",
      "1   6.059666     1  546\n",
      "2   6.102833     2  546\n",
      "3   6.115658     3  546\n",
      "4   6.158850     4  546\n",
      "..       ...   ...  ...\n",
      "82  6.183460    82  546\n",
      "83  6.186308    83  546\n",
      "84  6.184896    84  546\n",
      "85  6.186184    85  546\n",
      "86  6.186873    86  546\n",
      "\n",
      "[87 rows x 3 columns]\n"
     ]
    },
    {
     "name": "stderr",
     "output_type": "stream",
     "text": [
      "\n",
      "Feature Extraction: 100%|██████████| 1/1 [00:00<00:00, 65.95it/s]"
     ]
    },
    {
     "name": "stdout",
     "output_type": "stream",
     "text": [
      "           x  time   id\n",
      "0   5.647062     0  547\n",
      "1   5.736884     1  547\n",
      "2   5.788267     2  547\n",
      "3   5.808715     3  547\n",
      "4   5.871388     4  547\n",
      "..       ...   ...  ...\n",
      "82  5.926946    82  547\n",
      "83  5.936472    83  547\n",
      "84  5.934694    84  547\n",
      "85  5.930168    85  547\n",
      "86  5.934532    86  547\n",
      "\n",
      "[87 rows x 3 columns]\n"
     ]
    },
    {
     "name": "stderr",
     "output_type": "stream",
     "text": [
      "\n",
      "Feature Extraction: 100%|██████████| 1/1 [00:00<00:00, 65.38it/s]"
     ]
    },
    {
     "name": "stdout",
     "output_type": "stream",
     "text": [
      "           x  time   id\n",
      "0   5.712824     0  548\n",
      "1   5.807933     1  548\n",
      "2   5.837445     2  548\n",
      "3   5.826413     3  548\n",
      "4   5.866176     4  548\n",
      "..       ...   ...  ...\n",
      "82  5.918845    82  548\n",
      "83  5.893332    83  548\n",
      "84  5.902583    84  548\n",
      "85  5.917877    85  548\n",
      "86  5.917696    86  548\n",
      "\n",
      "[87 rows x 3 columns]\n"
     ]
    },
    {
     "name": "stderr",
     "output_type": "stream",
     "text": [
      "\n",
      "Feature Extraction: 100%|██████████| 1/1 [00:00<00:00, 64.54it/s]"
     ]
    },
    {
     "name": "stdout",
     "output_type": "stream",
     "text": [
      "           x  time   id\n",
      "0   5.693822     0  549\n",
      "1   5.780779     1  549\n",
      "2   5.828589     2  549\n",
      "3   5.834144     3  549\n",
      "4   5.876064     4  549\n",
      "..       ...   ...  ...\n",
      "82  5.945533    82  549\n",
      "83  5.939447    83  549\n",
      "84  5.939126    84  549\n",
      "85  5.942071    85  549\n",
      "86  5.941961    86  549\n",
      "\n",
      "[87 rows x 3 columns]\n"
     ]
    },
    {
     "name": "stderr",
     "output_type": "stream",
     "text": [
      "\n",
      "Feature Extraction: 100%|██████████| 1/1 [00:00<00:00, 57.54it/s]\n"
     ]
    },
    {
     "name": "stdout",
     "output_type": "stream",
     "text": [
      "           x  time   id\n",
      "0   5.907384     0  550\n",
      "1   5.889589     1  550\n",
      "2   5.892909     2  550\n",
      "3   5.923041     3  550\n",
      "4   5.926647     4  550\n",
      "..       ...   ...  ...\n",
      "79  5.948965    79  550\n",
      "80  5.948587    80  550\n",
      "81  5.943619    81  550\n",
      "82  5.943556    82  550\n",
      "83  5.915715    83  550\n",
      "\n",
      "[84 rows x 3 columns]\n"
     ]
    },
    {
     "name": "stderr",
     "output_type": "stream",
     "text": [
      "Feature Extraction: 100%|██████████| 1/1 [00:00<00:00, 71.74it/s]\n"
     ]
    },
    {
     "name": "stdout",
     "output_type": "stream",
     "text": [
      "           x  time   id\n",
      "0   6.143687     0  551\n",
      "1   6.121941     1  551\n",
      "2   6.104439     2  551\n",
      "3   6.126178     3  551\n",
      "4   6.150326     4  551\n",
      "..       ...   ...  ...\n",
      "79  6.178759    79  551\n",
      "80  6.176988    80  551\n",
      "81  6.173711    81  551\n",
      "82  6.166257    82  551\n",
      "83  6.144687    83  551\n",
      "\n",
      "[84 rows x 3 columns]\n"
     ]
    },
    {
     "name": "stderr",
     "output_type": "stream",
     "text": [
      "Feature Extraction: 100%|██████████| 1/1 [00:00<00:00, 66.20it/s]\n"
     ]
    },
    {
     "name": "stdout",
     "output_type": "stream",
     "text": [
      "           x  time   id\n",
      "0   5.726861     0  552\n",
      "1   5.716976     1  552\n",
      "2   5.727878     2  552\n",
      "3   5.756524     3  552\n",
      "4   5.750721     4  552\n",
      "..       ...   ...  ...\n",
      "79  5.772832    79  552\n",
      "80  5.770803    80  552\n",
      "81  5.769735    81  552\n",
      "82  5.773569    82  552\n",
      "83  5.745750    83  552\n",
      "\n",
      "[84 rows x 3 columns]\n"
     ]
    },
    {
     "name": "stderr",
     "output_type": "stream",
     "text": [
      "Feature Extraction: 100%|██████████| 1/1 [00:00<00:00, 68.81it/s]"
     ]
    },
    {
     "name": "stdout",
     "output_type": "stream",
     "text": [
      "           x  time   id\n",
      "0   5.817642     0  553\n",
      "1   5.830863     1  553\n",
      "2   5.846871     2  553\n",
      "3   5.868796     3  553\n",
      "4   5.866628     4  553\n",
      "..       ...   ...  ...\n",
      "79  5.901499    79  553\n",
      "80  5.903111    80  553\n",
      "81  5.904003    81  553\n",
      "82  5.906741    82  553\n",
      "83  5.875801    83  553\n",
      "\n",
      "[84 rows x 3 columns]\n"
     ]
    },
    {
     "name": "stderr",
     "output_type": "stream",
     "text": [
      "\n",
      "Feature Extraction: 100%|██████████| 1/1 [00:00<00:00, 63.28it/s]"
     ]
    },
    {
     "name": "stdout",
     "output_type": "stream",
     "text": [
      "           x  time   id\n",
      "0   5.341218     0  554\n",
      "1   5.328560     1  554\n",
      "2   5.275918     2  554\n",
      "3   5.329902     3  554\n",
      "4   5.342389     4  554\n",
      "..       ...   ...  ...\n",
      "79  5.364056    79  554\n",
      "80  5.358639    80  554\n",
      "81  5.352219    81  554\n",
      "82  5.348086    82  554\n",
      "83  5.364610    83  554\n",
      "\n",
      "[84 rows x 3 columns]\n"
     ]
    },
    {
     "name": "stderr",
     "output_type": "stream",
     "text": [
      "\n",
      "Feature Extraction: 100%|██████████| 1/1 [00:00<00:00, 70.42it/s]"
     ]
    },
    {
     "name": "stdout",
     "output_type": "stream",
     "text": [
      "           x  time   id\n",
      "0   6.079253     0  555\n",
      "1   6.107060     1  555\n",
      "2   6.102941     2  555\n",
      "3   6.144496     3  555\n",
      "4   6.142108     4  555\n",
      "..       ...   ...  ...\n",
      "79  6.173936    79  555\n",
      "80  6.176213    80  555\n",
      "81  6.177746    81  555\n",
      "82  6.180202    82  555\n",
      "83  6.180810    83  555\n",
      "\n",
      "[84 rows x 3 columns]\n"
     ]
    },
    {
     "name": "stderr",
     "output_type": "stream",
     "text": [
      "\n",
      "Feature Extraction: 100%|██████████| 1/1 [00:00<00:00, 64.99it/s]"
     ]
    },
    {
     "name": "stdout",
     "output_type": "stream",
     "text": [
      "             x  time   id\n",
      "0     6.232047     0  556\n",
      "1     6.231989     1  556\n",
      "2     6.231746     2  556\n",
      "3     6.231897     3  556\n",
      "4     6.232174     4  556\n",
      "...        ...   ...  ...\n",
      "1878  6.231600  1878  556\n",
      "1879  6.232156  1879  556\n",
      "1880  6.231826  1880  556\n",
      "1881  6.231980  1881  556\n",
      "1882  6.231653  1882  556\n",
      "\n",
      "[1883 rows x 3 columns]\n"
     ]
    },
    {
     "name": "stderr",
     "output_type": "stream",
     "text": [
      "\n",
      "Feature Extraction: 100%|██████████| 1/1 [00:00<00:00,  2.54it/s]"
     ]
    },
    {
     "name": "stdout",
     "output_type": "stream",
     "text": [
      "             x  time   id\n",
      "0     6.232060     0  557\n",
      "1     6.231923     1  557\n",
      "2     6.231784     2  557\n",
      "3     6.231939     3  557\n",
      "4     6.232166     4  557\n",
      "...        ...   ...  ...\n",
      "1878  6.231625  1878  557\n",
      "1879  6.232140  1879  557\n",
      "1880  6.231831  1880  557\n",
      "1881  6.231959  1881  557\n",
      "1882  6.231749  1882  557\n",
      "\n",
      "[1883 rows x 3 columns]\n"
     ]
    },
    {
     "name": "stderr",
     "output_type": "stream",
     "text": [
      "\n",
      "Feature Extraction: 100%|██████████| 1/1 [00:00<00:00,  2.80it/s]"
     ]
    },
    {
     "name": "stdout",
     "output_type": "stream",
     "text": [
      "             x  time   id\n",
      "0     6.231439     0  558\n",
      "1     6.231811     1  558\n",
      "2     6.231835     2  558\n",
      "3     6.232112     3  558\n",
      "4     6.232141     4  558\n",
      "...        ...   ...  ...\n",
      "1878  6.231588  1878  558\n",
      "1879  6.232257  1879  558\n",
      "1880  6.232132  1880  558\n",
      "1881  6.231583  1881  558\n",
      "1882  6.231993  1882  558\n",
      "\n",
      "[1883 rows x 3 columns]\n"
     ]
    },
    {
     "name": "stderr",
     "output_type": "stream",
     "text": [
      "\n",
      "Feature Extraction: 100%|██████████| 1/1 [00:00<00:00,  2.91it/s]"
     ]
    },
    {
     "name": "stdout",
     "output_type": "stream",
     "text": [
      "             x  time   id\n",
      "0     6.231323     0  559\n",
      "1     6.231886     1  559\n",
      "2     6.231800     2  559\n",
      "3     6.232077     3  559\n",
      "4     6.232190     4  559\n",
      "...        ...   ...  ...\n",
      "1878  6.231633  1878  559\n",
      "1879  6.232183  1879  559\n",
      "1880  6.232254  1880  559\n",
      "1881  6.231508  1881  559\n",
      "1882  6.232066  1882  559\n",
      "\n",
      "[1883 rows x 3 columns]\n"
     ]
    },
    {
     "name": "stderr",
     "output_type": "stream",
     "text": [
      "\n",
      "Feature Extraction: 100%|██████████| 1/1 [00:00<00:00,  2.93it/s]"
     ]
    },
    {
     "name": "stdout",
     "output_type": "stream",
     "text": [
      "             x  time   id\n",
      "0     6.231817     0  560\n",
      "1     6.231818     1  560\n",
      "2     6.232150     2  560\n",
      "3     6.231892     3  560\n",
      "4     6.231543     4  560\n",
      "...        ...   ...  ...\n",
      "1877  6.232082  1877  560\n",
      "1878  6.231971  1878  560\n",
      "1879  6.231779  1879  560\n",
      "1880  6.231816  1880  560\n",
      "1881  6.231740  1881  560\n",
      "\n",
      "[1882 rows x 3 columns]\n"
     ]
    },
    {
     "name": "stderr",
     "output_type": "stream",
     "text": [
      "\n",
      "Feature Extraction: 100%|██████████| 1/1 [00:00<00:00,  2.66it/s]"
     ]
    },
    {
     "name": "stdout",
     "output_type": "stream",
     "text": [
      "             x  time   id\n",
      "0     6.231795     0  561\n",
      "1     6.232033     1  561\n",
      "2     6.232238     2  561\n",
      "3     6.231862     3  561\n",
      "4     6.231649     4  561\n",
      "...        ...   ...  ...\n",
      "1878  6.232042  1878  561\n",
      "1879  6.231931  1879  561\n",
      "1880  6.231885  1880  561\n",
      "1881  6.231879  1881  561\n",
      "1882  6.231793  1882  561\n",
      "\n",
      "[1883 rows x 3 columns]\n"
     ]
    },
    {
     "name": "stderr",
     "output_type": "stream",
     "text": [
      "\n",
      "Feature Extraction: 100%|██████████| 1/1 [00:00<00:00,  2.33it/s]"
     ]
    },
    {
     "name": "stdout",
     "output_type": "stream",
     "text": [
      "             x  time   id\n",
      "0     6.005139     0  562\n",
      "1     6.003102     1  562\n",
      "2     6.005837     2  562\n",
      "3     6.002611     3  562\n",
      "4     6.009517     4  562\n",
      "...        ...   ...  ...\n",
      "1871  6.000563  1871  562\n",
      "1872  6.002113  1872  562\n",
      "1873  6.001073  1873  562\n",
      "1874  5.996679  1874  562\n",
      "1875  6.000685  1875  562\n",
      "\n",
      "[1876 rows x 3 columns]\n"
     ]
    },
    {
     "name": "stderr",
     "output_type": "stream",
     "text": [
      "\n",
      "Feature Extraction: 100%|██████████| 1/1 [00:00<00:00,  2.50it/s]"
     ]
    },
    {
     "name": "stdout",
     "output_type": "stream",
     "text": [
      "             x  time   id\n",
      "0     6.231994     0  563\n",
      "1     6.231959     1  563\n",
      "2     6.232221     2  563\n",
      "3     6.231900     3  563\n",
      "4     6.231538     4  563\n",
      "...        ...   ...  ...\n",
      "1878  6.232046  1878  563\n",
      "1879  6.231845  1879  563\n",
      "1880  6.232752  1880  563\n",
      "1881  6.231311  1881  563\n",
      "1882  6.232105  1882  563\n",
      "\n",
      "[1883 rows x 3 columns]\n"
     ]
    },
    {
     "name": "stderr",
     "output_type": "stream",
     "text": [
      "\n",
      "Feature Extraction: 100%|██████████| 1/1 [00:00<00:00,  2.56it/s]"
     ]
    },
    {
     "name": "stdout",
     "output_type": "stream",
     "text": [
      "            x  time   id\n",
      "0    6.033628     0  564\n",
      "1    6.150952     1  564\n",
      "2    6.147222     2  564\n",
      "3    6.160560     3  564\n",
      "4    6.151849     4  564\n",
      "..        ...   ...  ...\n",
      "151  6.161125   151  564\n",
      "152  6.160517   152  564\n",
      "153  6.161262   153  564\n",
      "154  6.159752   154  564\n",
      "155  6.160836   155  564\n",
      "\n",
      "[156 rows x 3 columns]\n"
     ]
    },
    {
     "name": "stderr",
     "output_type": "stream",
     "text": [
      "\n",
      "Feature Extraction: 100%|██████████| 1/1 [00:00<00:00, 55.51it/s]"
     ]
    },
    {
     "name": "stdout",
     "output_type": "stream",
     "text": [
      "            x  time   id\n",
      "0    5.696528     0  565\n",
      "1    5.799078     1  565\n",
      "2    5.799417     2  565\n",
      "3    5.831552     3  565\n",
      "4    5.821829     4  565\n",
      "..        ...   ...  ...\n",
      "151  5.841629   151  565\n",
      "152  5.850881   152  565\n",
      "153  5.851307   153  565\n",
      "154  5.837458   154  565\n",
      "155  5.842178   155  565\n",
      "\n",
      "[156 rows x 3 columns]\n"
     ]
    },
    {
     "name": "stderr",
     "output_type": "stream",
     "text": [
      "\n",
      "Feature Extraction: 100%|██████████| 1/1 [00:00<00:00, 53.69it/s]"
     ]
    },
    {
     "name": "stdout",
     "output_type": "stream",
     "text": [
      "            x  time   id\n",
      "0    5.911064     0  566\n",
      "1    6.027529     1  566\n",
      "2    6.023918     2  566\n",
      "3    6.035553     3  566\n",
      "4    6.034597     4  566\n",
      "..        ...   ...  ...\n",
      "151  6.030069   151  566\n",
      "152  6.026163   152  566\n",
      "153  6.024991   153  566\n",
      "154  6.027325   154  566\n",
      "155  6.025090   155  566\n",
      "\n",
      "[156 rows x 3 columns]\n"
     ]
    },
    {
     "name": "stderr",
     "output_type": "stream",
     "text": [
      "\n",
      "Feature Extraction: 100%|██████████| 1/1 [00:00<00:00, 53.29it/s]\n"
     ]
    },
    {
     "name": "stdout",
     "output_type": "stream",
     "text": [
      "            x  time   id\n",
      "0    5.871668     0  567\n",
      "1    5.983865     1  567\n",
      "2    5.990357     2  567\n",
      "3    5.998196     3  567\n",
      "4    5.998475     4  567\n",
      "..        ...   ...  ...\n",
      "151  5.993350   151  567\n",
      "152  5.991178   152  567\n",
      "153  5.992087   153  567\n",
      "154  5.992637   154  567\n",
      "155  5.991494   155  567\n",
      "\n",
      "[156 rows x 3 columns]\n"
     ]
    },
    {
     "name": "stderr",
     "output_type": "stream",
     "text": [
      "Feature Extraction: 100%|██████████| 1/1 [00:00<00:00, 51.84it/s]\n"
     ]
    },
    {
     "name": "stdout",
     "output_type": "stream",
     "text": [
      "            x  time   id\n",
      "0    6.150905     0  568\n",
      "1    6.164272     1  568\n",
      "2    6.180199     2  568\n",
      "3    6.185443     3  568\n",
      "4    6.174458     4  568\n",
      "..        ...   ...  ...\n",
      "150  6.192386   150  568\n",
      "151  6.188309   151  568\n",
      "152  6.191189   152  568\n",
      "153  6.185155   153  568\n",
      "154  6.185971   154  568\n",
      "\n",
      "[155 rows x 3 columns]\n"
     ]
    },
    {
     "name": "stderr",
     "output_type": "stream",
     "text": [
      "Feature Extraction: 100%|██████████| 1/1 [00:00<00:00, 47.99it/s]\n"
     ]
    },
    {
     "name": "stdout",
     "output_type": "stream",
     "text": [
      "            x  time   id\n",
      "0    6.009703     0  569\n",
      "1    6.056991     1  569\n",
      "2    6.104380     2  569\n",
      "3    6.127765     3  569\n",
      "4    6.104920     4  569\n",
      "..        ...   ...  ...\n",
      "150  6.159463   150  569\n",
      "151  6.154273   151  569\n",
      "152  6.156002   152  569\n",
      "153  6.148023   153  569\n",
      "154  6.146729   154  569\n",
      "\n",
      "[155 rows x 3 columns]\n"
     ]
    },
    {
     "name": "stderr",
     "output_type": "stream",
     "text": [
      "Feature Extraction: 100%|██████████| 1/1 [00:00<00:00, 52.40it/s]\n"
     ]
    },
    {
     "name": "stdout",
     "output_type": "stream",
     "text": [
      "            x  time   id\n",
      "0    6.210954     0  570\n",
      "1    6.229726     1  570\n",
      "2    6.230681     2  570\n",
      "3    6.230992     3  570\n",
      "4    6.230859     4  570\n",
      "..        ...   ...  ...\n",
      "150  6.230901   150  570\n",
      "151  6.231091   151  570\n",
      "152  6.230911   152  570\n",
      "153  6.231097   153  570\n",
      "154  6.230591   154  570\n",
      "\n",
      "[155 rows x 3 columns]\n"
     ]
    },
    {
     "name": "stderr",
     "output_type": "stream",
     "text": [
      "Feature Extraction: 100%|██████████| 1/1 [00:00<00:00, 48.00it/s]\n"
     ]
    },
    {
     "name": "stdout",
     "output_type": "stream",
     "text": [
      "            x  time   id\n",
      "0    6.223126     0  571\n",
      "1    6.231206     1  571\n",
      "2    6.230991     2  571\n",
      "3    6.231029     3  571\n",
      "4    6.230803     4  571\n",
      "..        ...   ...  ...\n",
      "150  6.231662   150  571\n",
      "151  6.231675   151  571\n",
      "152  6.231669   152  571\n",
      "153  6.231588   153  571\n",
      "154  6.231421   154  571\n",
      "\n",
      "[155 rows x 3 columns]\n"
     ]
    },
    {
     "name": "stderr",
     "output_type": "stream",
     "text": [
      "Feature Extraction: 100%|██████████| 1/1 [00:00<00:00, 43.24it/s]\n"
     ]
    },
    {
     "name": "stdout",
     "output_type": "stream",
     "text": [
      "            x  time   id\n",
      "0    6.232401     0  572\n",
      "1    6.232042     1  572\n",
      "2    6.232044     2  572\n",
      "3    6.232059     3  572\n",
      "4    6.087291     4  572\n",
      "..        ...   ...  ...\n",
      "350  5.561740   350  572\n",
      "351  5.563297   351  572\n",
      "352  5.556154   352  572\n",
      "353  5.562644   353  572\n",
      "354  5.563465   354  572\n",
      "\n",
      "[355 rows x 3 columns]\n"
     ]
    },
    {
     "name": "stderr",
     "output_type": "stream",
     "text": [
      "Feature Extraction: 100%|██████████| 1/1 [00:00<00:00, 24.77it/s]"
     ]
    },
    {
     "name": "stdout",
     "output_type": "stream",
     "text": [
      "            x  time   id\n",
      "0    6.232559     0  573\n",
      "1    6.231957     1  573\n",
      "2    6.232057     2  573\n",
      "3    6.232035     3  573\n",
      "4    6.152336     4  573\n",
      "..        ...   ...  ...\n",
      "350  5.797467   350  573\n",
      "351  5.841550   351  573\n",
      "352  5.773125   352  573\n",
      "353  5.820461   353  573\n",
      "354  5.840211   354  573\n",
      "\n",
      "[355 rows x 3 columns]\n"
     ]
    },
    {
     "name": "stderr",
     "output_type": "stream",
     "text": [
      "\n",
      "Feature Extraction: 100%|██████████| 1/1 [00:00<00:00, 23.46it/s]"
     ]
    },
    {
     "name": "stdout",
     "output_type": "stream",
     "text": [
      "            x  time   id\n",
      "0    6.231024     0  574\n",
      "1    6.232814     1  574\n",
      "2    6.232021     2  574\n",
      "3    6.231831     3  574\n",
      "4    6.025904     4  574\n",
      "..        ...   ...  ...\n",
      "350  5.283725   350  574\n",
      "351  5.295183   351  574\n",
      "352  5.248867   352  574\n",
      "353  5.289884   353  574\n",
      "354  5.293543   354  574\n",
      "\n",
      "[355 rows x 3 columns]\n"
     ]
    },
    {
     "name": "stderr",
     "output_type": "stream",
     "text": [
      "\n",
      "Feature Extraction: 100%|██████████| 1/1 [00:00<00:00, 23.67it/s]\n"
     ]
    },
    {
     "name": "stdout",
     "output_type": "stream",
     "text": [
      "            x  time   id\n",
      "0    6.231291     0  575\n",
      "1    6.232733     1  575\n",
      "2    6.232041     2  575\n",
      "3    6.231892     3  575\n",
      "4    6.070140     4  575\n",
      "..        ...   ...  ...\n",
      "350  5.489025   350  575\n",
      "351  5.523335   351  575\n",
      "352  5.488281   352  575\n",
      "353  5.495243   353  575\n",
      "354  5.534883   354  575\n",
      "\n",
      "[355 rows x 3 columns]\n"
     ]
    },
    {
     "name": "stderr",
     "output_type": "stream",
     "text": [
      "Feature Extraction: 100%|██████████| 1/1 [00:00<00:00, 23.99it/s]\n"
     ]
    },
    {
     "name": "stdout",
     "output_type": "stream",
     "text": [
      "            x  time   id\n",
      "0    5.725948     0  576\n",
      "1    5.679956     1  576\n",
      "2    5.698169     2  576\n",
      "3    5.699118     3  576\n",
      "4    5.580684     4  576\n",
      "..        ...   ...  ...\n",
      "350  4.797477   350  576\n",
      "351  4.797611   351  576\n",
      "352  4.797470   352  576\n",
      "353  4.797704   353  576\n",
      "354  4.798819   354  576\n",
      "\n",
      "[355 rows x 3 columns]\n"
     ]
    },
    {
     "name": "stderr",
     "output_type": "stream",
     "text": [
      "Feature Extraction: 100%|██████████| 1/1 [00:00<00:00, 25.74it/s]\n"
     ]
    },
    {
     "name": "stdout",
     "output_type": "stream",
     "text": [
      "            x  time   id\n",
      "0    6.226961     0  577\n",
      "1    6.230345     1  577\n",
      "2    6.232393     2  577\n",
      "3    6.231343     3  577\n",
      "4    6.023365     4  577\n",
      "..        ...   ...  ...\n",
      "350  5.395606   350  577\n",
      "351  5.395718   351  577\n",
      "352  5.395901   352  577\n",
      "353  5.395728   353  577\n",
      "354  5.396013   354  577\n",
      "\n",
      "[355 rows x 3 columns]\n"
     ]
    },
    {
     "name": "stderr",
     "output_type": "stream",
     "text": [
      "Feature Extraction: 100%|██████████| 1/1 [00:00<00:00, 28.54it/s]\n"
     ]
    },
    {
     "name": "stdout",
     "output_type": "stream",
     "text": [
      "            x  time   id\n",
      "0    5.461590     0  578\n",
      "1    5.473445     1  578\n",
      "2    5.491608     2  578\n",
      "3    5.500072     3  578\n",
      "4    5.304339     4  578\n",
      "..        ...   ...  ...\n",
      "350  4.846688   350  578\n",
      "351  4.852643   351  578\n",
      "352  4.833758   352  578\n",
      "353  4.833757   353  578\n",
      "354  4.834014   354  578\n",
      "\n",
      "[355 rows x 3 columns]\n"
     ]
    },
    {
     "name": "stderr",
     "output_type": "stream",
     "text": [
      "Feature Extraction: 100%|██████████| 1/1 [00:00<00:00, 28.02it/s]\n"
     ]
    },
    {
     "name": "stdout",
     "output_type": "stream",
     "text": [
      "            x  time   id\n",
      "0    5.874065     0  579\n",
      "1    5.949367     1  579\n",
      "2    6.030008     2  579\n",
      "3    6.079970     3  579\n",
      "4    5.824046     4  579\n",
      "..        ...   ...  ...\n",
      "350  5.516897   350  579\n",
      "351  5.576965   351  579\n",
      "352  5.471045   352  579\n",
      "353  5.452005   353  579\n",
      "354  5.451906   354  579\n",
      "\n",
      "[355 rows x 3 columns]\n"
     ]
    },
    {
     "name": "stderr",
     "output_type": "stream",
     "text": [
      "Feature Extraction: 100%|██████████| 1/1 [00:00<00:00, 26.70it/s]"
     ]
    },
    {
     "name": "stdout",
     "output_type": "stream",
     "text": [
      "            x  time   id\n",
      "0    6.105440     0  580\n",
      "1    4.993699     1  580\n",
      "2    5.836699     2  580\n",
      "3    6.010340     3  580\n",
      "4    6.023712     4  580\n",
      "..        ...   ...  ...\n",
      "938  5.690466   938  580\n",
      "939  5.990503   939  580\n",
      "940  5.977110   940  580\n",
      "941  6.218425   941  580\n",
      "942  6.231862   942  580\n",
      "\n",
      "[943 rows x 3 columns]\n"
     ]
    },
    {
     "name": "stderr",
     "output_type": "stream",
     "text": [
      "\n",
      "Feature Extraction: 100%|██████████| 1/1 [00:00<00:00,  3.20it/s]"
     ]
    },
    {
     "name": "stdout",
     "output_type": "stream",
     "text": [
      "            x  time   id\n",
      "0    6.163750     0  581\n",
      "1    5.521846     1  581\n",
      "2    6.147880     2  581\n",
      "3    6.231650     3  581\n",
      "4    6.228681     4  581\n",
      "..        ...   ...  ...\n",
      "938  6.039777   938  581\n",
      "939  6.232172   939  581\n",
      "940  6.231360   940  581\n",
      "941  6.229035   941  581\n",
      "942  6.232033   942  581\n",
      "\n",
      "[943 rows x 3 columns]\n"
     ]
    },
    {
     "name": "stderr",
     "output_type": "stream",
     "text": [
      "\n",
      "Feature Extraction: 100%|██████████| 1/1 [00:00<00:00,  6.24it/s]\n"
     ]
    },
    {
     "name": "stdout",
     "output_type": "stream",
     "text": [
      "            x  time   id\n",
      "0    6.138459     0  582\n",
      "1    5.234493     1  582\n",
      "2    6.113569     2  582\n",
      "3    6.232429     3  582\n",
      "4    6.190777     4  582\n",
      "..        ...   ...  ...\n",
      "939  5.961327   939  582\n",
      "940  6.232393   940  582\n",
      "941  6.205388   941  582\n",
      "942  6.222738   942  582\n",
      "943  6.231409   943  582\n",
      "\n",
      "[944 rows x 3 columns]\n"
     ]
    },
    {
     "name": "stderr",
     "output_type": "stream",
     "text": [
      "Feature Extraction: 100%|██████████| 1/1 [00:00<00:00,  5.38it/s]\n"
     ]
    },
    {
     "name": "stdout",
     "output_type": "stream",
     "text": [
      "            x  time   id\n",
      "0    6.122269     0  583\n",
      "1    5.140935     1  583\n",
      "2    5.878182     2  583\n",
      "3    6.055133     3  583\n",
      "4    6.034886     4  583\n",
      "..        ...   ...  ...\n",
      "939  5.729003   939  583\n",
      "940  5.972253   940  583\n",
      "941  5.964873   941  583\n",
      "942  6.173240   942  583\n",
      "943  6.223476   943  583\n",
      "\n",
      "[944 rows x 3 columns]\n"
     ]
    },
    {
     "name": "stderr",
     "output_type": "stream",
     "text": [
      "Feature Extraction: 100%|██████████| 1/1 [00:00<00:00,  5.32it/s]\n"
     ]
    },
    {
     "name": "stdout",
     "output_type": "stream",
     "text": [
      "            x  time   id\n",
      "0    6.110784     0  584\n",
      "1    5.061356     1  584\n",
      "2    5.951752     2  584\n",
      "3    6.104105     3  584\n",
      "4    6.028721     4  584\n",
      "..        ...   ...  ...\n",
      "939  5.798037   939  584\n",
      "940  6.083696   940  584\n",
      "941  6.007974   941  584\n",
      "942  6.215815   942  584\n",
      "943  6.231912   943  584\n",
      "\n",
      "[944 rows x 3 columns]\n"
     ]
    },
    {
     "name": "stderr",
     "output_type": "stream",
     "text": [
      "Feature Extraction: 100%|██████████| 1/1 [00:00<00:00,  6.05it/s]"
     ]
    },
    {
     "name": "stdout",
     "output_type": "stream",
     "text": [
      "            x  time   id\n",
      "0    6.117010     0  585\n",
      "1    5.157202     1  585\n",
      "2    5.909774     2  585\n",
      "3    6.061364     3  585\n",
      "4    5.995505     4  585\n",
      "..        ...   ...  ...\n",
      "939  5.794032   939  585\n",
      "940  6.043202   940  585\n",
      "941  5.969740   941  585\n",
      "942  6.213970   942  585\n",
      "943  6.231753   943  585\n",
      "\n",
      "[944 rows x 3 columns]\n"
     ]
    },
    {
     "name": "stderr",
     "output_type": "stream",
     "text": [
      "\n",
      "Feature Extraction: 100%|██████████| 1/1 [00:00<00:00,  5.80it/s]"
     ]
    },
    {
     "name": "stdout",
     "output_type": "stream",
     "text": [
      "            x  time   id\n",
      "0    6.121138     0  586\n",
      "1    5.214244     1  586\n",
      "2    6.118797     2  586\n",
      "3    6.232312     3  586\n",
      "4    6.146261     4  586\n",
      "..        ...   ...  ...\n",
      "939  5.964189   939  586\n",
      "940  6.231880   940  586\n",
      "941  6.146795   941  586\n",
      "942  6.223685   942  586\n",
      "943  6.231279   943  586\n",
      "\n",
      "[944 rows x 3 columns]\n"
     ]
    },
    {
     "name": "stderr",
     "output_type": "stream",
     "text": [
      "\n",
      "Feature Extraction: 100%|██████████| 1/1 [00:00<00:00,  4.69it/s]"
     ]
    },
    {
     "name": "stdout",
     "output_type": "stream",
     "text": [
      "            x  time   id\n",
      "0    6.150490     0  587\n",
      "1    5.470381     1  587\n",
      "2    6.148847     2  587\n",
      "3    6.232287     3  587\n",
      "4    6.163077     4  587\n",
      "..        ...   ...  ...\n",
      "939  6.035125   939  587\n",
      "940  6.232050   940  587\n",
      "941  6.162614   941  587\n",
      "942  6.226573   942  587\n",
      "943  6.231251   943  587\n",
      "\n",
      "[944 rows x 3 columns]\n"
     ]
    },
    {
     "name": "stderr",
     "output_type": "stream",
     "text": [
      "\n",
      "Feature Extraction: 100%|██████████| 1/1 [00:00<00:00,  6.12it/s]\n"
     ]
    },
    {
     "name": "stdout",
     "output_type": "stream",
     "text": [
      "            x  time   id\n",
      "0    6.129398     0  588\n",
      "1    5.257142     1  588\n",
      "2    6.120495     2  588\n",
      "3    6.232852     3  588\n",
      "4    6.153404     4  588\n",
      "..        ...   ...  ...\n",
      "939  5.968298   939  588\n",
      "940  6.232353   940  588\n",
      "941  6.159217   941  588\n",
      "942  6.224713   942  588\n",
      "943  6.231602   943  588\n",
      "\n",
      "[944 rows x 3 columns]\n"
     ]
    },
    {
     "name": "stderr",
     "output_type": "stream",
     "text": [
      "Feature Extraction: 100%|██████████| 1/1 [00:00<00:00,  5.34it/s]\n"
     ]
    },
    {
     "name": "stdout",
     "output_type": "stream",
     "text": [
      "            x  time   id\n",
      "0    6.168636     0  589\n",
      "1    5.626831     1  589\n",
      "2    6.164612     2  589\n",
      "3    6.232867     3  589\n",
      "4    6.178447     4  589\n",
      "..        ...   ...  ...\n",
      "939  6.076077   939  589\n",
      "940  6.232439   940  589\n",
      "941  6.180488   941  589\n",
      "942  6.228831   942  589\n",
      "943  6.231467   943  589\n",
      "\n",
      "[944 rows x 3 columns]\n"
     ]
    },
    {
     "name": "stderr",
     "output_type": "stream",
     "text": [
      "Feature Extraction: 100%|██████████| 1/1 [00:00<00:00,  4.95it/s]"
     ]
    },
    {
     "name": "stdout",
     "output_type": "stream",
     "text": [
      "            x  time   id\n",
      "0    5.962401     0  590\n",
      "1    4.822492     1  590\n",
      "2    5.735192     2  590\n",
      "3    5.864591     3  590\n",
      "4    5.791419     4  590\n",
      "..        ...   ...  ...\n",
      "939  5.558082   939  590\n",
      "940  5.856252   940  590\n",
      "941  5.779164   941  590\n",
      "942  6.070303   942  590\n",
      "943  6.100682   943  590\n",
      "\n",
      "[944 rows x 3 columns]\n"
     ]
    },
    {
     "name": "stderr",
     "output_type": "stream",
     "text": [
      "\n",
      "Feature Extraction: 100%|██████████| 1/1 [00:00<00:00,  6.26it/s]\n"
     ]
    },
    {
     "name": "stdout",
     "output_type": "stream",
     "text": [
      "            x  time   id\n",
      "0    6.146452     0  591\n",
      "1    5.421532     1  591\n",
      "2    6.140417     2  591\n",
      "3    6.232398     3  591\n",
      "4    6.160060     4  591\n",
      "..        ...   ...  ...\n",
      "939  6.008271   939  591\n",
      "940  6.231142   940  591\n",
      "941  6.163870   941  591\n",
      "942  6.223247   942  591\n",
      "943  6.232068   943  591\n",
      "\n",
      "[944 rows x 3 columns]\n"
     ]
    },
    {
     "name": "stderr",
     "output_type": "stream",
     "text": [
      "Feature Extraction: 100%|██████████| 1/1 [00:00<00:00,  6.41it/s]\n"
     ]
    },
    {
     "name": "stdout",
     "output_type": "stream",
     "text": [
      "            x  time   id\n",
      "0    6.111330     0  592\n",
      "1    6.123930     1  592\n",
      "2    6.091827     2  592\n",
      "3    6.113232     3  592\n",
      "4    6.126428     4  592\n",
      "..        ...   ...  ...\n",
      "702  5.506222   702  592\n",
      "703  5.841942   703  592\n",
      "704  6.090082   704  592\n",
      "705  6.102043   705  592\n",
      "706  6.091521   706  592\n",
      "\n",
      "[707 rows x 3 columns]\n"
     ]
    },
    {
     "name": "stderr",
     "output_type": "stream",
     "text": [
      "Feature Extraction: 100%|██████████| 1/1 [00:00<00:00,  7.32it/s]"
     ]
    },
    {
     "name": "stdout",
     "output_type": "stream",
     "text": [
      "            x  time   id\n",
      "0    5.974979     0  593\n",
      "1    6.008605     1  593\n",
      "2    5.890389     2  593\n",
      "3    5.888911     3  593\n",
      "4    5.910565     4  593\n",
      "..        ...   ...  ...\n",
      "702  5.397573   702  593\n",
      "703  5.727647   703  593\n",
      "704  5.878556   704  593\n",
      "705  5.875735   705  593\n",
      "706  5.873186   706  593\n",
      "\n",
      "[707 rows x 3 columns]\n"
     ]
    },
    {
     "name": "stderr",
     "output_type": "stream",
     "text": [
      "\n",
      "Feature Extraction: 100%|██████████| 1/1 [00:00<00:00,  8.22it/s]"
     ]
    },
    {
     "name": "stdout",
     "output_type": "stream",
     "text": [
      "            x  time   id\n",
      "0    6.132179     0  594\n",
      "1    6.131843     1  594\n",
      "2    6.100655     2  594\n",
      "3    6.123481     3  594\n",
      "4    6.130613     4  594\n",
      "..        ...   ...  ...\n",
      "702  6.013564   702  594\n",
      "703  6.090821   703  594\n",
      "704  6.143196   704  594\n",
      "705  6.147031   705  594\n",
      "706  6.149528   706  594\n",
      "\n",
      "[707 rows x 3 columns]\n"
     ]
    },
    {
     "name": "stderr",
     "output_type": "stream",
     "text": [
      "\n",
      "Feature Extraction: 100%|██████████| 1/1 [00:00<00:00,  7.88it/s]"
     ]
    },
    {
     "name": "stdout",
     "output_type": "stream",
     "text": [
      "            x  time   id\n",
      "0    6.015212     0  595\n",
      "1    6.016447     1  595\n",
      "2    5.931381     2  595\n",
      "3    5.939942     3  595\n",
      "4    5.944783     4  595\n",
      "..        ...   ...  ...\n",
      "702  5.943853   702  595\n",
      "703  6.034865   703  595\n",
      "704  5.964769   704  595\n",
      "705  5.954578   705  595\n",
      "706  5.957014   706  595\n",
      "\n",
      "[707 rows x 3 columns]\n"
     ]
    },
    {
     "name": "stderr",
     "output_type": "stream",
     "text": [
      "\n",
      "Feature Extraction: 100%|██████████| 1/1 [00:00<00:00,  8.38it/s]"
     ]
    },
    {
     "name": "stdout",
     "output_type": "stream",
     "text": [
      "            x  time   id\n",
      "0    5.739766     0  596\n",
      "1    5.743751     1  596\n",
      "2    5.676219     2  596\n",
      "3    5.682676     3  596\n",
      "4    5.688257     4  596\n",
      "..        ...   ...  ...\n",
      "702  5.595534   702  596\n",
      "703  5.728822   703  596\n",
      "704  5.684748   704  596\n",
      "705  5.671218   705  596\n",
      "706  5.672532   706  596\n",
      "\n",
      "[707 rows x 3 columns]\n"
     ]
    },
    {
     "name": "stderr",
     "output_type": "stream",
     "text": [
      "\n",
      "Feature Extraction: 100%|██████████| 1/1 [00:00<00:00,  8.85it/s]"
     ]
    },
    {
     "name": "stdout",
     "output_type": "stream",
     "text": [
      "            x  time   id\n",
      "0    6.155452     0  597\n",
      "1    6.156446     1  597\n",
      "2    6.188216     2  597\n",
      "3    6.217803     3  597\n",
      "4    6.214987     4  597\n",
      "..        ...   ...  ...\n",
      "703  5.969829   703  597\n",
      "704  6.101925   704  597\n",
      "705  6.214684   705  597\n",
      "706  6.217382   706  597\n",
      "707  6.219173   707  597\n",
      "\n",
      "[708 rows x 3 columns]\n"
     ]
    },
    {
     "name": "stderr",
     "output_type": "stream",
     "text": [
      "\n",
      "Feature Extraction: 100%|██████████| 1/1 [00:00<00:00,  9.00it/s]"
     ]
    },
    {
     "name": "stdout",
     "output_type": "stream",
     "text": [
      "            x  time   id\n",
      "0    5.612520     0  598\n",
      "1    5.612336     1  598\n",
      "2    5.556029     2  598\n",
      "3    5.556182     3  598\n",
      "4    5.556488     4  598\n",
      "..        ...   ...  ...\n",
      "702  5.562171   702  598\n",
      "703  5.616099   703  598\n",
      "704  5.552155   704  598\n",
      "705  5.547850   705  598\n",
      "706  5.550138   706  598\n",
      "\n",
      "[707 rows x 3 columns]\n"
     ]
    },
    {
     "name": "stderr",
     "output_type": "stream",
     "text": [
      "\n",
      "Feature Extraction: 100%|██████████| 1/1 [00:00<00:00,  8.49it/s]"
     ]
    },
    {
     "name": "stdout",
     "output_type": "stream",
     "text": [
      "            x  time   id\n",
      "0    5.904898     0  599\n",
      "1    5.908098     1  599\n",
      "2    5.858199     2  599\n",
      "3    5.862567     3  599\n",
      "4    5.862213     4  599\n",
      "..        ...   ...  ...\n",
      "702  5.871812   702  599\n",
      "703  5.925395   703  599\n",
      "704  5.863235   704  599\n",
      "705  5.856829   705  599\n",
      "706  5.856904   706  599\n",
      "\n",
      "[707 rows x 3 columns]\n"
     ]
    },
    {
     "name": "stderr",
     "output_type": "stream",
     "text": [
      "\n",
      "Feature Extraction: 100%|██████████| 1/1 [00:00<00:00,  7.70it/s]\n"
     ]
    },
    {
     "name": "stdout",
     "output_type": "stream",
     "text": [
      "            x  time   id\n",
      "0    5.634114     0  600\n",
      "1    5.644566     1  600\n",
      "2    5.632748     2  600\n",
      "3    5.663570     3  600\n",
      "4    5.652449     4  600\n",
      "..        ...   ...  ...\n",
      "180  5.666639   180  600\n",
      "181  5.671452   181  600\n",
      "182  5.697956   182  600\n",
      "183  5.651546   183  600\n",
      "184  5.678627   184  600\n",
      "\n",
      "[185 rows x 3 columns]\n"
     ]
    },
    {
     "name": "stderr",
     "output_type": "stream",
     "text": [
      "Feature Extraction: 100%|██████████| 1/1 [00:00<00:00, 46.12it/s]"
     ]
    },
    {
     "name": "stdout",
     "output_type": "stream",
     "text": [
      "            x  time   id\n",
      "0    5.919820     0  601\n",
      "1    5.937094     1  601\n",
      "2    5.940220     2  601\n",
      "3    5.980670     3  601\n",
      "4    5.969196     4  601\n",
      "..        ...   ...  ...\n",
      "182  5.978060   182  601\n",
      "183  5.972881   183  601\n",
      "184  6.012966   184  601\n",
      "185  5.962895   185  601\n",
      "186  5.985590   186  601\n",
      "\n",
      "[187 rows x 3 columns]\n"
     ]
    },
    {
     "name": "stderr",
     "output_type": "stream",
     "text": [
      "\n",
      "Feature Extraction: 100%|██████████| 1/1 [00:00<00:00, 47.12it/s]"
     ]
    },
    {
     "name": "stdout",
     "output_type": "stream",
     "text": [
      "            x  time   id\n",
      "0    5.270688     0  602\n",
      "1    5.286936     1  602\n",
      "2    5.300242     2  602\n",
      "3    5.294861     3  602\n",
      "4    5.301842     4  602\n",
      "..        ...   ...  ...\n",
      "182  5.338431   182  602\n",
      "183  5.325603   183  602\n",
      "184  5.329069   184  602\n",
      "185  5.332513   185  602\n",
      "186  5.315735   186  602\n",
      "\n",
      "[187 rows x 3 columns]\n"
     ]
    },
    {
     "name": "stderr",
     "output_type": "stream",
     "text": [
      "\n",
      "Feature Extraction: 100%|██████████| 1/1 [00:00<00:00, 45.30it/s]"
     ]
    },
    {
     "name": "stdout",
     "output_type": "stream",
     "text": [
      "            x  time   id\n",
      "0    5.699096     0  603\n",
      "1    5.729942     1  603\n",
      "2    5.791159     2  603\n",
      "3    5.782372     3  603\n",
      "4    5.781202     4  603\n",
      "..        ...   ...  ...\n",
      "182  5.885760   182  603\n",
      "183  5.843355   183  603\n",
      "184  5.850388   184  603\n",
      "185  5.881755   185  603\n",
      "186  5.826115   186  603\n",
      "\n",
      "[187 rows x 3 columns]\n"
     ]
    },
    {
     "name": "stderr",
     "output_type": "stream",
     "text": [
      "\n",
      "Feature Extraction: 100%|██████████| 1/1 [00:00<00:00, 43.43it/s]\n"
     ]
    },
    {
     "name": "stdout",
     "output_type": "stream",
     "text": [
      "            x  time   id\n",
      "0    5.595510     0  604\n",
      "1    5.626218     1  604\n",
      "2    5.648241     2  604\n",
      "3    5.642220     3  604\n",
      "4    5.648943     4  604\n",
      "..        ...   ...  ...\n",
      "182  5.705364   182  604\n",
      "183  5.674956   183  604\n",
      "184  5.681200   184  604\n",
      "185  5.695299   185  604\n",
      "186  5.667043   186  604\n",
      "\n",
      "[187 rows x 3 columns]\n"
     ]
    },
    {
     "name": "stderr",
     "output_type": "stream",
     "text": [
      "Feature Extraction: 100%|██████████| 1/1 [00:00<00:00, 43.75it/s]\n"
     ]
    },
    {
     "name": "stdout",
     "output_type": "stream",
     "text": [
      "            x  time   id\n",
      "0    5.324488     0  605\n",
      "1    5.338945     1  605\n",
      "2    5.360319     2  605\n",
      "3    5.360250     3  605\n",
      "4    5.361830     4  605\n",
      "..        ...   ...  ...\n",
      "182  5.429627   182  605\n",
      "183  5.397687   183  605\n",
      "184  5.406764   184  605\n",
      "185  5.424944   185  605\n",
      "186  5.384921   186  605\n",
      "\n",
      "[187 rows x 3 columns]\n"
     ]
    },
    {
     "name": "stderr",
     "output_type": "stream",
     "text": [
      "Feature Extraction: 100%|██████████| 1/1 [00:00<00:00, 36.10it/s]\n"
     ]
    },
    {
     "name": "stdout",
     "output_type": "stream",
     "text": [
      "            x  time   id\n",
      "0    5.107542     0  606\n",
      "1    5.119074     1  606\n",
      "2    5.114238     2  606\n",
      "3    5.116577     3  606\n",
      "4    5.122663     4  606\n",
      "..        ...   ...  ...\n",
      "181  5.146284   181  606\n",
      "182  5.139177   182  606\n",
      "183  5.136115   183  606\n",
      "184  5.141178   184  606\n",
      "185  5.131713   185  606\n",
      "\n",
      "[186 rows x 3 columns]\n"
     ]
    },
    {
     "name": "stderr",
     "output_type": "stream",
     "text": [
      "Feature Extraction: 100%|██████████| 1/1 [00:00<00:00, 37.63it/s]\n"
     ]
    },
    {
     "name": "stdout",
     "output_type": "stream",
     "text": [
      "            x  time   id\n",
      "0    5.505912     0  607\n",
      "1    5.529019     1  607\n",
      "2    5.573678     2  607\n",
      "3    5.564097     3  607\n",
      "4    5.567532     4  607\n",
      "..        ...   ...  ...\n",
      "182  5.635306   182  607\n",
      "183  5.612009   183  607\n",
      "184  5.615409   184  607\n",
      "185  5.633330   185  607\n",
      "186  5.601718   186  607\n",
      "\n",
      "[187 rows x 3 columns]\n"
     ]
    },
    {
     "name": "stderr",
     "output_type": "stream",
     "text": [
      "Feature Extraction: 100%|██████████| 1/1 [00:00<00:00, 39.09it/s]"
     ]
    },
    {
     "name": "stdout",
     "output_type": "stream",
     "text": [
      "             x  time   id\n",
      "0     5.172029     0  608\n",
      "1     5.129156     1  608\n",
      "2     5.097206     2  608\n",
      "3     5.109829     3  608\n",
      "4     5.128098     4  608\n",
      "...        ...   ...  ...\n",
      "2738  5.519254  2738  608\n",
      "2739  5.547384  2739  608\n",
      "2740  5.514297  2740  608\n",
      "2741  5.522354  2741  608\n",
      "2742  5.493593  2742  608\n",
      "\n",
      "[2743 rows x 3 columns]\n"
     ]
    },
    {
     "name": "stderr",
     "output_type": "stream",
     "text": [
      "\n",
      "Feature Extraction: 100%|██████████| 1/1 [00:00<00:00,  1.53it/s]"
     ]
    },
    {
     "name": "stdout",
     "output_type": "stream",
     "text": [
      "             x  time   id\n",
      "0     4.922246     0  609\n",
      "1     4.890921     1  609\n",
      "2     4.859320     2  609\n",
      "3     4.860225     3  609\n",
      "4     4.889487     4  609\n",
      "...        ...   ...  ...\n",
      "2747  5.370505  2747  609\n",
      "2748  5.396985  2748  609\n",
      "2749  5.371711  2749  609\n",
      "2750  5.371994  2750  609\n",
      "2751  5.332198  2751  609\n",
      "\n",
      "[2752 rows x 3 columns]\n"
     ]
    },
    {
     "name": "stderr",
     "output_type": "stream",
     "text": [
      "\n",
      "Feature Extraction: 100%|██████████| 1/1 [00:00<00:00,  1.58it/s]"
     ]
    },
    {
     "name": "stdout",
     "output_type": "stream",
     "text": [
      "             x  time   id\n",
      "0     4.988223     0  610\n",
      "1     4.962772     1  610\n",
      "2     4.914402     2  610\n",
      "3     4.943449     3  610\n",
      "4     4.958123     4  610\n",
      "...        ...   ...  ...\n",
      "2739  5.365555  2739  610\n",
      "2740  5.380521  2740  610\n",
      "2741  5.349031  2741  610\n",
      "2742  5.366570  2742  610\n",
      "2743  5.316925  2743  610\n",
      "\n",
      "[2744 rows x 3 columns]\n"
     ]
    },
    {
     "name": "stderr",
     "output_type": "stream",
     "text": [
      "\n",
      "Feature Extraction: 100%|██████████| 1/1 [00:00<00:00,  1.62it/s]"
     ]
    },
    {
     "name": "stdout",
     "output_type": "stream",
     "text": [
      "             x  time   id\n",
      "0     4.935142     0  611\n",
      "1     4.915861     1  611\n",
      "2     4.872018     2  611\n",
      "3     4.893583     3  611\n",
      "4     4.910438     4  611\n",
      "...        ...   ...  ...\n",
      "2744  5.366829  2744  611\n",
      "2745  5.379884  2745  611\n",
      "2746  5.350012  2746  611\n",
      "2747  5.368413  2747  611\n",
      "2748  5.327024  2748  611\n",
      "\n",
      "[2749 rows x 3 columns]\n"
     ]
    },
    {
     "name": "stderr",
     "output_type": "stream",
     "text": [
      "\n",
      "Feature Extraction: 100%|██████████| 1/1 [00:00<00:00,  1.65it/s]"
     ]
    },
    {
     "name": "stdout",
     "output_type": "stream",
     "text": [
      "             x  time   id\n",
      "0     5.935967     0  612\n",
      "1     5.921328     1  612\n",
      "2     5.893246     2  612\n",
      "3     5.952626     3  612\n",
      "4     5.906634     4  612\n",
      "...        ...   ...  ...\n",
      "1879  5.871096  1879  612\n",
      "1880  5.860273  1880  612\n",
      "1881  5.869302  1881  612\n",
      "1882  5.868433  1882  612\n",
      "1883  5.860254  1883  612\n",
      "\n",
      "[1884 rows x 3 columns]\n"
     ]
    },
    {
     "name": "stderr",
     "output_type": "stream",
     "text": [
      "\n",
      "Feature Extraction: 100%|██████████| 1/1 [00:00<00:00,  2.79it/s]"
     ]
    },
    {
     "name": "stdout",
     "output_type": "stream",
     "text": [
      "             x  time   id\n",
      "0     6.228221     0  613\n",
      "1     6.219760     1  613\n",
      "2     6.198724     2  613\n",
      "3     6.231495     3  613\n",
      "4     6.207202     4  613\n",
      "...        ...   ...  ...\n",
      "1879  6.173257  1879  613\n",
      "1880  6.154172  1880  613\n",
      "1881  6.150620  1881  613\n",
      "1882  6.161571  1882  613\n",
      "1883  6.143484  1883  613\n",
      "\n",
      "[1884 rows x 3 columns]\n"
     ]
    },
    {
     "name": "stderr",
     "output_type": "stream",
     "text": [
      "\n",
      "Feature Extraction: 100%|██████████| 1/1 [00:00<00:00,  2.30it/s]"
     ]
    },
    {
     "name": "stdout",
     "output_type": "stream",
     "text": [
      "             x  time   id\n",
      "0     5.557265     0  614\n",
      "1     5.565696     1  614\n",
      "2     5.545483     2  614\n",
      "3     5.575451     3  614\n",
      "4     5.565246     4  614\n",
      "...        ...   ...  ...\n",
      "1879  5.532925  1879  614\n",
      "1880  5.532862  1880  614\n",
      "1881  5.559993  1881  614\n",
      "1882  5.581247  1882  614\n",
      "1883  5.552349  1883  614\n",
      "\n",
      "[1884 rows x 3 columns]\n"
     ]
    },
    {
     "name": "stderr",
     "output_type": "stream",
     "text": [
      "\n",
      "Feature Extraction: 100%|██████████| 1/1 [00:00<00:00,  2.70it/s]"
     ]
    },
    {
     "name": "stdout",
     "output_type": "stream",
     "text": [
      "             x  time   id\n",
      "0     6.080750     0  615\n",
      "1     6.117641     1  615\n",
      "2     6.048661     2  615\n",
      "3     6.138216     3  615\n",
      "4     6.110377     4  615\n",
      "...        ...   ...  ...\n",
      "1879  6.012944  1879  615\n",
      "1880  6.012258  1880  615\n",
      "1881  6.083405  1881  615\n",
      "1882  6.189276  1882  615\n",
      "1883  6.100127  1883  615\n",
      "\n",
      "[1884 rows x 3 columns]\n"
     ]
    },
    {
     "name": "stderr",
     "output_type": "stream",
     "text": [
      "\n",
      "Feature Extraction: 100%|██████████| 1/1 [00:00<00:00,  1.84it/s]"
     ]
    },
    {
     "name": "stdout",
     "output_type": "stream",
     "text": [
      "             x  time   id\n",
      "0     5.808454     0  616\n",
      "1     6.005747     1  616\n",
      "2     6.043676     2  616\n",
      "3     5.891886     3  616\n",
      "4     6.043113     4  616\n",
      "...        ...   ...  ...\n",
      "2820  0.371505  2820  616\n",
      "2821  0.321193  2821  616\n",
      "2822  0.294672  2822  616\n",
      "2823  0.300956  2823  616\n",
      "2824  0.366968  2824  616\n",
      "\n",
      "[2825 rows x 3 columns]\n"
     ]
    },
    {
     "name": "stderr",
     "output_type": "stream",
     "text": [
      "\n",
      "Feature Extraction: 100%|██████████| 1/1 [00:00<00:00,  1.44it/s]"
     ]
    },
    {
     "name": "stdout",
     "output_type": "stream",
     "text": [
      "             x  time   id\n",
      "0     5.511235     0  617\n",
      "1     5.613755     1  617\n",
      "2     5.717533     2  617\n",
      "3     5.517157     3  617\n",
      "4     5.639347     4  617\n",
      "...        ...   ...  ...\n",
      "2820  0.825263  2820  617\n",
      "2821  0.798952  2821  617\n",
      "2822  0.786238  2822  617\n",
      "2823  0.788522  2823  617\n",
      "2824  0.823573  2824  617\n",
      "\n",
      "[2825 rows x 3 columns]\n"
     ]
    },
    {
     "name": "stderr",
     "output_type": "stream",
     "text": [
      "\n",
      "Feature Extraction: 100%|██████████| 1/1 [00:00<00:00,  1.53it/s]"
     ]
    },
    {
     "name": "stdout",
     "output_type": "stream",
     "text": [
      "             x  time   id\n",
      "0     6.232218     0  618\n",
      "1     6.231807     1  618\n",
      "2     6.231979     2  618\n",
      "3     6.232286     3  618\n",
      "4     6.231521     4  618\n",
      "...        ...   ...  ...\n",
      "2821  6.232183  2821  618\n",
      "2822  6.231626  2822  618\n",
      "2823  6.232336  2823  618\n",
      "2824  6.231491  2824  618\n",
      "2825  6.231826  2825  618\n",
      "\n",
      "[2826 rows x 3 columns]\n"
     ]
    },
    {
     "name": "stderr",
     "output_type": "stream",
     "text": [
      "\n",
      "Feature Extraction: 100%|██████████| 1/1 [00:00<00:00,  1.29it/s]"
     ]
    },
    {
     "name": "stdout",
     "output_type": "stream",
     "text": [
      "             x  time   id\n",
      "0     6.232354     0  619\n",
      "1     6.231975     1  619\n",
      "2     6.231902     2  619\n",
      "3     6.232313     3  619\n",
      "4     6.231493     4  619\n",
      "...        ...   ...  ...\n",
      "2821  6.232188  2821  619\n",
      "2822  6.231493  2822  619\n",
      "2823  6.232686  2823  619\n",
      "2824  6.231476  2824  619\n",
      "2825  6.231965  2825  619\n",
      "\n",
      "[2826 rows x 3 columns]\n"
     ]
    },
    {
     "name": "stderr",
     "output_type": "stream",
     "text": [
      "\n",
      "Feature Extraction: 100%|██████████| 1/1 [00:00<00:00,  1.50it/s]"
     ]
    },
    {
     "name": "stdout",
     "output_type": "stream",
     "text": [
      "             x  time   id\n",
      "0     6.232041     0  620\n",
      "1     6.231528     1  620\n",
      "2     6.232368     2  620\n",
      "3     6.232042     3  620\n",
      "4     6.231429     4  620\n",
      "...        ...   ...  ...\n",
      "2820  6.231598  2820  620\n",
      "2821  6.232707  2821  620\n",
      "2822  6.231516  2822  620\n",
      "2823  6.231449  2823  620\n",
      "2824  6.232508  2824  620\n",
      "\n",
      "[2825 rows x 3 columns]\n"
     ]
    },
    {
     "name": "stderr",
     "output_type": "stream",
     "text": [
      "\n",
      "Feature Extraction: 100%|██████████| 1/1 [00:00<00:00,  1.43it/s]"
     ]
    },
    {
     "name": "stdout",
     "output_type": "stream",
     "text": [
      "             x  time   id\n",
      "0     6.232012     0  621\n",
      "1     6.231496     1  621\n",
      "2     6.232385     2  621\n",
      "3     6.231978     3  621\n",
      "4     6.231519     4  621\n",
      "...        ...   ...  ...\n",
      "2820  6.231597  2820  621\n",
      "2821  6.232724  2821  621\n",
      "2822  6.231607  2822  621\n",
      "2823  6.231424  2823  621\n",
      "2824  6.232435  2824  621\n",
      "\n",
      "[2825 rows x 3 columns]\n"
     ]
    },
    {
     "name": "stderr",
     "output_type": "stream",
     "text": [
      "\n",
      "Feature Extraction: 100%|██████████| 1/1 [00:00<00:00,  1.38it/s]"
     ]
    },
    {
     "name": "stdout",
     "output_type": "stream",
     "text": [
      "           x  time   id\n",
      "0   2.779596     0  622\n",
      "1   2.933465     1  622\n",
      "2   2.943829     2  622\n",
      "3   2.949615     3  622\n",
      "4   2.950804     4  622\n",
      "5   2.988924     5  622\n",
      "6   2.960561     6  622\n",
      "7   2.979448     7  622\n",
      "8   3.000697     8  622\n",
      "9   2.956618     9  622\n",
      "10  2.970245    10  622\n",
      "11  4.469123    11  622\n",
      "12  6.095309    12  622\n",
      "13  3.308947    13  622\n",
      "14  6.157626    14  622\n",
      "15  4.625317    15  622\n",
      "16  3.865406    16  622\n",
      "17  5.673200    17  622\n",
      "18  4.709256    18  622\n",
      "19  5.189871    19  622\n",
      "20  5.219555    20  622\n",
      "21  5.989690    21  622\n",
      "22  5.266902    22  622\n",
      "23  3.690375    23  622\n",
      "24  5.093541    24  622\n",
      "25  5.600301    25  622\n",
      "26  6.156384    26  622\n",
      "27  3.925819    27  622\n",
      "28  3.264922    28  622\n",
      "29  3.263006    29  622\n",
      "30  3.554786    30  622\n",
      "31  5.474663    31  622\n"
     ]
    },
    {
     "name": "stderr",
     "output_type": "stream",
     "text": [
      "\n",
      "Feature Extraction: 100%|██████████| 1/1 [00:00<00:00, 97.29it/s]"
     ]
    },
    {
     "name": "stdout",
     "output_type": "stream",
     "text": [
      "           x  time   id\n",
      "0   3.355407     0  623\n",
      "1   3.390958     1  623\n",
      "2   3.395783     2  623\n",
      "3   3.400711     3  623\n",
      "4   3.402187     4  623\n",
      "5   3.401715     5  623\n",
      "6   3.401506     6  623\n",
      "7   3.408592     7  623\n",
      "8   3.380097     8  623\n",
      "9   3.190844     9  623\n",
      "10  3.364876    10  623\n",
      "11  3.215034    11  623\n",
      "12  3.217952    12  623\n",
      "13  3.219937    13  623\n",
      "14  3.221741    14  623\n",
      "15  3.229746    15  623\n",
      "16  3.222521    16  623\n",
      "17  3.226609    17  623\n",
      "18  3.230933    18  623\n",
      "19  3.230184    19  623\n",
      "20  3.238440    20  623\n",
      "21  3.261494    21  623\n",
      "22  3.226453    22  623\n",
      "23  3.222413    23  623\n",
      "24  3.226514    24  623\n",
      "25  3.226474    25  623\n",
      "26  3.254034    26  623\n",
      "27  3.221081    27  623\n",
      "28  3.213955    28  623\n",
      "29  3.219035    29  623\n",
      "30  3.262459    30  623\n"
     ]
    },
    {
     "name": "stderr",
     "output_type": "stream",
     "text": [
      "\n",
      "Feature Extraction: 100%|██████████| 1/1 [00:00<00:00, 100.35it/s]"
     ]
    },
    {
     "name": "stdout",
     "output_type": "stream",
     "text": [
      "           x  time   id\n",
      "0   2.631319     0  624\n",
      "1   2.760709     1  624\n",
      "2   2.758609     2  624\n",
      "3   2.758623     3  624\n",
      "4   2.759076     4  624\n",
      "5   2.758801     5  624\n",
      "6   2.758736     6  624\n",
      "7   2.758374     7  624\n",
      "8   2.758620     8  624\n",
      "9   2.758412     9  624\n",
      "10  2.778484    10  624\n",
      "11  4.269177    11  624\n",
      "12  6.029190    12  624\n",
      "13  6.110062    13  624\n",
      "14  3.413156    14  624\n",
      "15  5.243058    15  624\n",
      "16  4.185506    16  624\n",
      "17  4.192634    17  624\n",
      "18  3.836980    18  624\n",
      "19  4.006630    19  624\n",
      "20  3.115304    20  624\n",
      "21  5.884840    21  624\n",
      "22  3.776466    22  624\n",
      "23  5.457392    23  624\n",
      "24  3.206689    24  624\n",
      "25  3.005849    25  624\n",
      "26  3.004835    26  624\n",
      "27  3.987873    27  624\n",
      "28  4.845045    28  624\n",
      "29  5.535951    29  624\n",
      "30  5.219956    30  624\n",
      "31  5.152646    31  624\n"
     ]
    },
    {
     "name": "stderr",
     "output_type": "stream",
     "text": [
      "\n",
      "Feature Extraction: 100%|██████████| 1/1 [00:00<00:00, 99.22it/s]"
     ]
    },
    {
     "name": "stdout",
     "output_type": "stream",
     "text": [
      "           x  time   id\n",
      "0   3.070344     0  625\n",
      "1   3.151460     1  625\n",
      "2   3.110592     2  625\n",
      "3   3.107750     3  625\n",
      "4   3.105098     4  625\n",
      "5   3.102295     5  625\n",
      "6   3.090761     6  625\n",
      "7   3.060470     7  625\n",
      "8   3.077429     8  625\n",
      "9   3.066916     9  625\n",
      "10  3.045942    10  625\n",
      "11  4.451619    11  625\n",
      "12  6.113236    12  625\n",
      "13  6.133011    13  625\n",
      "14  6.140579    14  625\n",
      "15  5.626347    15  625\n",
      "16  3.288005    16  625\n",
      "17  3.557714    17  625\n",
      "18  3.828930    18  625\n",
      "19  3.323983    19  625\n",
      "20  3.263700    20  625\n",
      "21  6.170498    21  625\n",
      "22  3.931254    22  625\n",
      "23  5.847056    23  625\n",
      "24  3.625318    24  625\n",
      "25  3.195137    25  625\n",
      "26  3.183491    26  625\n",
      "27  4.400794    27  625\n",
      "28  4.987670    28  625\n",
      "29  5.657458    29  625\n",
      "30  5.467406    30  625\n",
      "31  5.502052    31  625\n"
     ]
    },
    {
     "name": "stderr",
     "output_type": "stream",
     "text": [
      "\n",
      "Feature Extraction: 100%|██████████| 1/1 [00:00<00:00, 92.80it/s]"
     ]
    },
    {
     "name": "stdout",
     "output_type": "stream",
     "text": [
      "           x  time   id\n",
      "0   2.524311     0  626\n",
      "1   2.703705     1  626\n",
      "2   2.705724     2  626\n",
      "3   2.715597     3  626\n",
      "4   2.733027     4  626\n",
      "5   2.744057     5  626\n",
      "6   2.757753     6  626\n",
      "7   2.761525     7  626\n",
      "8   2.765444     8  626\n",
      "9   2.755009     9  626\n",
      "10  2.782207    10  626\n",
      "11  4.294217    11  626\n",
      "12  6.088346    12  626\n",
      "13  6.048826    13  626\n",
      "14  6.178471    14  626\n",
      "15  4.489264    15  626\n",
      "16  5.708790    16  626\n",
      "17  4.252914    17  626\n",
      "18  3.335786    18  626\n",
      "19  4.226114    19  626\n",
      "20  6.222395    20  626\n",
      "21  4.194149    21  626\n",
      "22  3.205743    22  626\n",
      "23  3.004542    23  626\n",
      "24  2.970936    24  626\n",
      "25  2.957291    25  626\n",
      "26  2.958030    26  626\n",
      "27  4.182032    27  626\n",
      "28  4.698838    28  626\n",
      "29  5.474663    29  626\n",
      "30  5.147401    30  626\n",
      "31  5.260970    31  626\n"
     ]
    },
    {
     "name": "stderr",
     "output_type": "stream",
     "text": [
      "\n",
      "Feature Extraction: 100%|██████████| 1/1 [00:00<00:00, 106.31it/s]\n"
     ]
    },
    {
     "name": "stdout",
     "output_type": "stream",
     "text": [
      "           x  time   id\n",
      "0   2.717434     0  627\n",
      "1   2.910140     1  627\n",
      "2   2.935205     2  627\n",
      "3   2.989156     3  627\n",
      "4   2.996082     4  627\n",
      "5   2.997329     5  627\n",
      "6   2.998099     6  627\n",
      "7   2.998063     7  627\n",
      "8   2.997331     8  627\n",
      "9   2.997479     9  627\n",
      "10  2.996631    10  627\n",
      "11  4.406733    11  627\n",
      "12  6.164405    12  627\n",
      "13  5.826630    13  627\n",
      "14  3.736311    14  627\n",
      "15  5.261835    15  627\n",
      "16  3.730845    16  627\n",
      "17  3.645770    17  627\n",
      "18  4.024898    18  627\n",
      "19  4.180026    19  627\n",
      "20  3.292537    20  627\n",
      "21  5.912377    21  627\n",
      "22  5.690137    22  627\n",
      "23  5.696715    23  627\n",
      "24  3.502872    24  627\n",
      "25  3.183621    25  627\n",
      "26  3.160427    26  627\n",
      "27  5.336588    27  627\n",
      "28  6.219640    28  627\n",
      "29  6.218452    29  627\n",
      "30  4.862117    30  627\n",
      "31  5.681407    31  627\n"
     ]
    },
    {
     "name": "stderr",
     "output_type": "stream",
     "text": [
      "Feature Extraction: 100%|██████████| 1/1 [00:00<00:00, 109.27it/s]"
     ]
    },
    {
     "name": "stdout",
     "output_type": "stream",
     "text": [
      "           x  time   id\n",
      "0   2.812094     0  628\n",
      "1   3.017529     1  628\n",
      "2   3.020861     2  628\n",
      "3   3.021217     3  628\n",
      "4   3.021508     4  628\n",
      "5   3.021614     5  628\n",
      "6   3.022027     6  628\n",
      "7   3.021924     7  628\n",
      "8   3.022239     8  628\n",
      "9   3.021992     9  628\n",
      "10  3.047727    10  628\n",
      "11  4.546727    11  628\n",
      "12  6.194229    12  628\n",
      "13  3.939159    13  628\n",
      "14  5.017169    14  628\n",
      "15  6.164347    15  628\n",
      "16  5.016749    16  628\n",
      "17  5.466509    17  628\n",
      "18  6.031207    18  628\n",
      "19  4.868782    19  628\n",
      "20  5.816097    20  628\n",
      "21  3.997687    21  628\n",
      "22  3.508437    22  628\n",
      "23  6.008160    23  628\n",
      "24  4.967917    24  628\n",
      "25  4.910774    25  628\n",
      "26  5.628492    26  628\n",
      "27  4.025113    27  628\n",
      "28  3.343396    28  628\n",
      "29  3.311541    29  628\n",
      "30  3.584202    30  628\n",
      "31  5.584329    31  628\n"
     ]
    },
    {
     "name": "stderr",
     "output_type": "stream",
     "text": [
      "\n",
      "Feature Extraction: 100%|██████████| 1/1 [00:00<00:00, 109.41it/s]"
     ]
    },
    {
     "name": "stdout",
     "output_type": "stream",
     "text": [
      "           x  time   id\n",
      "0   2.895907     0  629\n",
      "1   3.098347     1  629\n",
      "2   3.113618     2  629\n",
      "3   3.114352     3  629\n",
      "4   3.116657     4  629\n",
      "5   3.118146     5  629\n",
      "6   3.118090     6  629\n",
      "7   3.118611     7  629\n",
      "8   3.120928     8  629\n",
      "9   3.129689     9  629\n",
      "10  3.119994    10  629\n",
      "11  4.515677    11  629\n",
      "12  6.175244    12  629\n",
      "13  6.177955    13  629\n",
      "14  3.796268    14  629\n",
      "15  6.190950    15  629\n",
      "16  4.118560    16  629\n",
      "17  5.542611    17  629\n",
      "18  3.748397    18  629\n",
      "19  4.868734    19  629\n",
      "20  6.215870    20  629\n",
      "21  4.520103    21  629\n",
      "22  3.549474    22  629\n",
      "23  6.134209    23  629\n",
      "24  5.054470    24  629\n",
      "25  4.984366    25  629\n",
      "26  5.686398    26  629\n",
      "27  3.826654    27  629\n",
      "28  3.337316    28  629\n",
      "29  3.292246    29  629\n",
      "30  3.587322    30  629\n",
      "31  5.603207    31  629\n"
     ]
    },
    {
     "name": "stderr",
     "output_type": "stream",
     "text": [
      "\n",
      "Feature Extraction: 100%|██████████| 1/1 [00:00<00:00, 105.55it/s]"
     ]
    },
    {
     "name": "stdout",
     "output_type": "stream",
     "text": [
      "           x  time   id\n",
      "0   2.505882     0  630\n",
      "1   2.774573     1  630\n",
      "2   2.779229     2  630\n",
      "3   2.779591     3  630\n",
      "4   2.779783     4  630\n",
      "5   2.779802     5  630\n",
      "6   2.779442     6  630\n",
      "7   2.779782     7  630\n",
      "8   2.779302     8  630\n",
      "9   2.779464     9  630\n",
      "10  2.805456    10  630\n",
      "11  4.359685    11  630\n",
      "12  6.000392    12  630\n",
      "13  5.998385    13  630\n",
      "14  3.291426    14  630\n",
      "15  6.003678    15  630\n",
      "16  4.033245    16  630\n",
      "17  5.610259    17  630\n",
      "18  4.618718    18  630\n",
      "19  4.525656    19  630\n",
      "20  5.090618    20  630\n",
      "21  3.855950    21  630\n",
      "22  5.963082    22  630\n",
      "23  5.066861    23  630\n",
      "24  6.203036    24  630\n",
      "25  6.200023    25  630\n",
      "26  5.880845    26  630\n",
      "27  3.235276    27  630\n",
      "28  3.030470    28  630\n",
      "29  3.026266    29  630\n",
      "30  3.331288    30  630\n",
      "31  5.131764    31  630\n"
     ]
    },
    {
     "name": "stderr",
     "output_type": "stream",
     "text": [
      "\n",
      "Feature Extraction: 100%|██████████| 1/1 [00:00<00:00, 100.94it/s]"
     ]
    },
    {
     "name": "stdout",
     "output_type": "stream",
     "text": [
      "           x  time   id\n",
      "0   2.732928     0  631\n",
      "1   2.905869     1  631\n",
      "2   2.959337     2  631\n",
      "3   2.967450     3  631\n",
      "4   2.968079     4  631\n",
      "5   2.970814     5  631\n",
      "6   2.971109     6  631\n",
      "7   2.970475     7  631\n",
      "8   2.969779     8  631\n",
      "9   2.970496     9  631\n",
      "10  2.972323    10  631\n",
      "11  4.421933    11  631\n",
      "12  6.151954    12  631\n",
      "13  4.055854    13  631\n",
      "14  3.712048    14  631\n",
      "15  5.433369    15  631\n",
      "16  5.847152    16  631\n",
      "17  5.255164    17  631\n",
      "18  5.544454    18  631\n",
      "19  4.931394    19  631\n",
      "20  6.227255    20  631\n",
      "21  4.249845    21  631\n",
      "22  3.556214    22  631\n",
      "23  5.605582    23  631\n",
      "24  4.817184    24  631\n",
      "25  5.246431    25  631\n",
      "26  6.006830    26  631\n",
      "27  4.620419    27  631\n",
      "28  4.973381    28  631\n",
      "29  5.647120    29  631\n",
      "30  4.915679    30  631\n",
      "31  5.497028    31  631\n"
     ]
    },
    {
     "name": "stderr",
     "output_type": "stream",
     "text": [
      "\n",
      "Feature Extraction: 100%|██████████| 1/1 [00:00<00:00, 104.07it/s]"
     ]
    },
    {
     "name": "stdout",
     "output_type": "stream",
     "text": [
      "           x  time   id\n",
      "0   2.822253     0  632\n",
      "1   3.026199     1  632\n",
      "2   3.026889     2  632\n",
      "3   3.027220     3  632\n",
      "4   3.026466     4  632\n",
      "5   3.027174     5  632\n",
      "6   3.027367     6  632\n",
      "7   3.027943     7  632\n",
      "8   3.028006     8  632\n",
      "9   3.028401     9  632\n",
      "10  3.056284    10  632\n",
      "11  4.585583    11  632\n",
      "12  5.655552    12  632\n",
      "13  3.408247    13  632\n",
      "14  4.176623    14  632\n",
      "15  6.165681    15  632\n",
      "16  4.427112    16  632\n",
      "17  4.940464    17  632\n",
      "18  4.476118    18  632\n",
      "19  4.965815    19  632\n",
      "20  5.316617    20  632\n",
      "21  6.046981    21  632\n",
      "22  5.460613    22  632\n",
      "23  3.786374    23  632\n",
      "24  5.198561    24  632\n",
      "25  5.687883    25  632\n",
      "26  6.170095    26  632\n",
      "27  3.971666    27  632\n",
      "28  3.357063    28  632\n",
      "29  3.355444    29  632\n",
      "30  3.984843    30  632\n",
      "31  5.658615    31  632\n"
     ]
    },
    {
     "name": "stderr",
     "output_type": "stream",
     "text": [
      "\n",
      "Feature Extraction: 100%|██████████| 1/1 [00:00<00:00, 105.44it/s]"
     ]
    },
    {
     "name": "stdout",
     "output_type": "stream",
     "text": [
      "           x  time   id\n",
      "0   2.854279     0  633\n",
      "1   3.041679     1  633\n",
      "2   3.081259     2  633\n",
      "3   3.115228     3  633\n",
      "4   3.116787     4  633\n",
      "5   3.118360     5  633\n",
      "6   3.120583     6  633\n",
      "7   3.118246     7  633\n",
      "8   3.118241     8  633\n",
      "9   3.118704     9  633\n",
      "10  3.119277    10  633\n",
      "11  4.509629    11  633\n",
      "12  6.164203    12  633\n",
      "13  6.158962    13  633\n",
      "14  4.242801    14  633\n",
      "15  5.390228    15  633\n",
      "16  4.155437    16  633\n",
      "17  5.738711    17  633\n",
      "18  4.374377    18  633\n",
      "19  5.316033    19  633\n",
      "20  5.265305    20  633\n",
      "21  3.829698    21  633\n",
      "22  6.071964    22  633\n",
      "23  3.764248    23  633\n",
      "24  5.193897    24  633\n",
      "25  5.709557    25  633\n",
      "26  6.179990    26  633\n",
      "27  3.843704    27  633\n",
      "28  3.313804    28  633\n",
      "29  3.283733    29  633\n",
      "30  3.918575    30  633\n",
      "31  5.549110    31  633\n"
     ]
    },
    {
     "name": "stderr",
     "output_type": "stream",
     "text": [
      "\n",
      "Feature Extraction: 100%|██████████| 1/1 [00:00<00:00, 102.33it/s]"
     ]
    },
    {
     "name": "stdout",
     "output_type": "stream",
     "text": [
      "            x  time   id\n",
      "0    5.758757     0  634\n",
      "1    5.407999     1  634\n",
      "2    6.214219     2  634\n",
      "3    6.203369     3  634\n",
      "4    6.215853     4  634\n",
      "..        ...   ...  ...\n",
      "938  5.630342   938  634\n",
      "939  6.203374   939  634\n",
      "940  6.204439   940  634\n",
      "941  6.223979   941  634\n",
      "942  6.231719   942  634\n",
      "\n",
      "[943 rows x 3 columns]\n"
     ]
    },
    {
     "name": "stderr",
     "output_type": "stream",
     "text": [
      "\n",
      "Feature Extraction: 100%|██████████| 1/1 [00:00<00:00,  6.56it/s]\n"
     ]
    },
    {
     "name": "stdout",
     "output_type": "stream",
     "text": [
      "            x  time   id\n",
      "0    5.932095     0  635\n",
      "1    5.698959     1  635\n",
      "2    6.231959     2  635\n",
      "3    6.231855     3  635\n",
      "4    6.231964     4  635\n",
      "..        ...   ...  ...\n",
      "938  5.866162   938  635\n",
      "939  6.232087   939  635\n",
      "940  6.232244   940  635\n",
      "941  6.230144   941  635\n",
      "942  6.231783   942  635\n",
      "\n",
      "[943 rows x 3 columns]\n"
     ]
    },
    {
     "name": "stderr",
     "output_type": "stream",
     "text": [
      "Feature Extraction: 100%|██████████| 1/1 [00:00<00:00,  6.01it/s]\n"
     ]
    },
    {
     "name": "stdout",
     "output_type": "stream",
     "text": [
      "            x  time   id\n",
      "0    5.452390     0  636\n",
      "1    4.931592     1  636\n",
      "2    5.768336     2  636\n",
      "3    5.795270     3  636\n",
      "4    5.883884     4  636\n",
      "..        ...   ...  ...\n",
      "938  5.160878   938  636\n",
      "939  5.776203   939  636\n",
      "940  5.780609   940  636\n",
      "941  5.911267   941  636\n",
      "942  6.007562   942  636\n",
      "\n",
      "[943 rows x 3 columns]\n"
     ]
    },
    {
     "name": "stderr",
     "output_type": "stream",
     "text": [
      "Feature Extraction: 100%|██████████| 1/1 [00:00<00:00,  5.92it/s]\n"
     ]
    },
    {
     "name": "stdout",
     "output_type": "stream",
     "text": [
      "            x  time   id\n",
      "0    5.788125     0  637\n",
      "1    5.400955     1  637\n",
      "2    6.135789     2  637\n",
      "3    6.180189     3  637\n",
      "4    6.182270     4  637\n",
      "..        ...   ...  ...\n",
      "938  5.615453   938  637\n",
      "939  6.156962   939  637\n",
      "940  6.151398   940  637\n",
      "941  6.182485   941  637\n",
      "942  6.232030   942  637\n",
      "\n",
      "[943 rows x 3 columns]\n"
     ]
    },
    {
     "name": "stderr",
     "output_type": "stream",
     "text": [
      "Feature Extraction: 100%|██████████| 1/1 [00:00<00:00,  5.94it/s]"
     ]
    },
    {
     "name": "stdout",
     "output_type": "stream",
     "text": [
      "            x  time   id\n",
      "0    5.721581     0  638\n",
      "1    5.284163     1  638\n",
      "2    6.139884     2  638\n",
      "3    6.167760     3  638\n",
      "4    6.147053     4  638\n",
      "..        ...   ...  ...\n",
      "938  5.524295   938  638\n",
      "939  6.154676   939  638\n",
      "940  6.160770   940  638\n",
      "941  6.141616   941  638\n",
      "942  6.232363   942  638\n",
      "\n",
      "[943 rows x 3 columns]\n"
     ]
    },
    {
     "name": "stderr",
     "output_type": "stream",
     "text": [
      "\n",
      "Feature Extraction: 100%|██████████| 1/1 [00:00<00:00,  5.55it/s]\n"
     ]
    },
    {
     "name": "stdout",
     "output_type": "stream",
     "text": [
      "            x  time   id\n",
      "0    5.662364     0  639\n",
      "1    5.182289     1  639\n",
      "2    5.913035     2  639\n",
      "3    5.948126     3  639\n",
      "4    5.981587     4  639\n",
      "..        ...   ...  ...\n",
      "938  5.410596   938  639\n",
      "939  5.938054   939  639\n",
      "940  5.936613   940  639\n",
      "941  6.012421   941  639\n",
      "942  6.164058   942  639\n",
      "\n",
      "[943 rows x 3 columns]\n"
     ]
    },
    {
     "name": "stderr",
     "output_type": "stream",
     "text": [
      "Feature Extraction: 100%|██████████| 1/1 [00:00<00:00,  5.34it/s]\n"
     ]
    },
    {
     "name": "stdout",
     "output_type": "stream",
     "text": [
      "            x  time   id\n",
      "0    5.646765     0  640\n",
      "1    5.118346     1  640\n",
      "2    5.968716     2  640\n",
      "3    6.014419     3  640\n",
      "4    6.026903     4  640\n",
      "..        ...   ...  ...\n",
      "938  5.345929   938  640\n",
      "939  5.987271   939  640\n",
      "940  6.012706   940  640\n",
      "941  6.060029   941  640\n",
      "942  6.217696   942  640\n",
      "\n",
      "[943 rows x 3 columns]\n"
     ]
    },
    {
     "name": "stderr",
     "output_type": "stream",
     "text": [
      "Feature Extraction: 100%|██████████| 1/1 [00:00<00:00,  6.06it/s]"
     ]
    },
    {
     "name": "stdout",
     "output_type": "stream",
     "text": [
      "            x  time   id\n",
      "0    5.996414     0  641\n",
      "1    5.791469     1  641\n",
      "2    6.232083     2  641\n",
      "3    6.231986     3  641\n",
      "4    6.210647     4  641\n",
      "..        ...   ...  ...\n",
      "938  5.938106   938  641\n",
      "939  6.232352   939  641\n",
      "940  6.231948   940  641\n",
      "941  6.205681   941  641\n",
      "942  6.231571   942  641\n",
      "\n",
      "[943 rows x 3 columns]\n"
     ]
    },
    {
     "name": "stderr",
     "output_type": "stream",
     "text": [
      "\n",
      "Feature Extraction: 100%|██████████| 1/1 [00:00<00:00,  6.06it/s]"
     ]
    },
    {
     "name": "stdout",
     "output_type": "stream",
     "text": [
      "            x  time   id\n",
      "0    5.748652     0  642\n",
      "1    5.341097     1  642\n",
      "2    6.196256     2  642\n",
      "3    6.227949     3  642\n",
      "4    6.179090     4  642\n",
      "..        ...   ...  ...\n",
      "938  5.571120   938  642\n",
      "939  6.212161   939  642\n",
      "940  6.227867   940  642\n",
      "941  6.170449   941  642\n",
      "942  6.232271   942  642\n",
      "\n",
      "[943 rows x 3 columns]\n"
     ]
    },
    {
     "name": "stderr",
     "output_type": "stream",
     "text": [
      "\n",
      "Feature Extraction: 100%|██████████| 1/1 [00:00<00:00,  5.86it/s]\n"
     ]
    },
    {
     "name": "stdout",
     "output_type": "stream",
     "text": [
      "            x  time   id\n",
      "0    5.726247     0  643\n",
      "1    5.279855     1  643\n",
      "2    5.994913     2  643\n",
      "3    6.039472     3  643\n",
      "4    6.061888     4  643\n",
      "..        ...   ...  ...\n",
      "938  5.480068   938  643\n",
      "939  6.002715   939  643\n",
      "940  6.027866   940  643\n",
      "941  6.089799   941  643\n",
      "942  6.230551   942  643\n",
      "\n",
      "[943 rows x 3 columns]\n"
     ]
    },
    {
     "name": "stderr",
     "output_type": "stream",
     "text": [
      "Feature Extraction: 100%|██████████| 1/1 [00:00<00:00,  4.22it/s]"
     ]
    },
    {
     "name": "stdout",
     "output_type": "stream",
     "text": [
      "            x  time   id\n",
      "0    5.753979     0  644\n",
      "1    5.418410     1  644\n",
      "2    6.231986     2  644\n",
      "3    6.232308     3  644\n",
      "4    6.186023     4  644\n",
      "..        ...   ...  ...\n",
      "938  5.651089   938  644\n",
      "939  6.232675   939  644\n",
      "940  6.231894   940  644\n",
      "941  6.176214   941  644\n",
      "942  6.232325   942  644\n",
      "\n",
      "[943 rows x 3 columns]\n"
     ]
    },
    {
     "name": "stderr",
     "output_type": "stream",
     "text": [
      "\n",
      "Feature Extraction: 100%|██████████| 1/1 [00:00<00:00,  5.11it/s]\n"
     ]
    },
    {
     "name": "stdout",
     "output_type": "stream",
     "text": [
      "            x  time   id\n",
      "0    5.876409     0  645\n",
      "1    5.601322     1  645\n",
      "2    6.232110     2  645\n",
      "3    6.232274     3  645\n",
      "4    6.195157     4  645\n",
      "..        ...   ...  ...\n",
      "938  5.797851   938  645\n",
      "939  6.232534   939  645\n",
      "940  6.231973   940  645\n",
      "941  6.187032   941  645\n",
      "942  6.232355   942  645\n",
      "\n",
      "[943 rows x 3 columns]\n"
     ]
    },
    {
     "name": "stderr",
     "output_type": "stream",
     "text": [
      "Feature Extraction: 100%|██████████| 1/1 [00:00<00:00,  5.57it/s]"
     ]
    },
    {
     "name": "stdout",
     "output_type": "stream",
     "text": [
      "            x  time   id\n",
      "0    5.508201     0  646\n",
      "1    5.018644     1  646\n",
      "2    5.859743     2  646\n",
      "3    5.875189     3  646\n",
      "4    5.920659     4  646\n",
      "..        ...   ...  ...\n",
      "938  5.206140   938  646\n",
      "939  5.852345   939  646\n",
      "940  5.848612   940  646\n",
      "941  5.942864   941  646\n",
      "942  6.088084   942  646\n",
      "\n",
      "[943 rows x 3 columns]\n"
     ]
    },
    {
     "name": "stderr",
     "output_type": "stream",
     "text": [
      "\n",
      "Feature Extraction: 100%|██████████| 1/1 [00:00<00:00,  5.78it/s]"
     ]
    },
    {
     "name": "stdout",
     "output_type": "stream",
     "text": [
      "            x  time   id\n",
      "0    5.855369     0  647\n",
      "1    5.567995     1  647\n",
      "2    6.231929     2  647\n",
      "3    6.232329     3  647\n",
      "4    6.194979     4  647\n",
      "..        ...   ...  ...\n",
      "938  5.708387   938  647\n",
      "939  6.232714   939  647\n",
      "940  6.231964   940  647\n",
      "941  6.182491   941  647\n",
      "942  6.231905   942  647\n",
      "\n",
      "[943 rows x 3 columns]\n"
     ]
    },
    {
     "name": "stderr",
     "output_type": "stream",
     "text": [
      "\n",
      "Feature Extraction: 100%|██████████| 1/1 [00:00<00:00,  5.40it/s]\n"
     ]
    },
    {
     "name": "stdout",
     "output_type": "stream",
     "text": [
      "           x  time   id\n",
      "0   6.137382     0  648\n",
      "1   6.231871     1  648\n",
      "2   6.231584     2  648\n",
      "3   6.231685     3  648\n",
      "4   6.232259     4  648\n",
      "..       ...   ...  ...\n",
      "89  6.231728    89  648\n",
      "90  6.232658    90  648\n",
      "91  6.231182    91  648\n",
      "92  6.231879    92  648\n",
      "93  6.232157    93  648\n",
      "\n",
      "[94 rows x 3 columns]\n"
     ]
    },
    {
     "name": "stderr",
     "output_type": "stream",
     "text": [
      "Feature Extraction: 100%|██████████| 1/1 [00:00<00:00, 61.23it/s]"
     ]
    },
    {
     "name": "stdout",
     "output_type": "stream",
     "text": [
      "           x  time   id\n",
      "0   6.232241     0  649\n",
      "1   6.231695     1  649\n",
      "2   6.231936     2  649\n",
      "3   6.232198     3  649\n",
      "4   6.232000     4  649\n",
      "..       ...   ...  ...\n",
      "88  6.231731    88  649\n",
      "89  6.232685    89  649\n",
      "90  6.231202    90  649\n",
      "91  6.231917    91  649\n",
      "92  6.232086    92  649\n",
      "\n",
      "[93 rows x 3 columns]\n"
     ]
    },
    {
     "name": "stderr",
     "output_type": "stream",
     "text": [
      "\n",
      "Feature Extraction: 100%|██████████| 1/1 [00:00<00:00, 58.72it/s]"
     ]
    },
    {
     "name": "stdout",
     "output_type": "stream",
     "text": [
      "             x  time   id\n",
      "0     6.227553     0  650\n",
      "1     6.227362     1  650\n",
      "2     6.187573     2  650\n",
      "3     6.122896     3  650\n",
      "4     6.122834     4  650\n",
      "...        ...   ...  ...\n",
      "1409  5.236965  1409  650\n",
      "1410  5.253700  1410  650\n",
      "1411  5.269032  1411  650\n",
      "1412  5.655919  1412  650\n",
      "1413  5.577969  1413  650\n",
      "\n",
      "[1414 rows x 3 columns]\n"
     ]
    },
    {
     "name": "stderr",
     "output_type": "stream",
     "text": [
      "\n",
      "Feature Extraction: 100%|██████████| 1/1 [00:00<00:00,  3.59it/s]"
     ]
    },
    {
     "name": "stdout",
     "output_type": "stream",
     "text": [
      "             x  time   id\n",
      "0     6.230766     0  651\n",
      "1     6.231732     1  651\n",
      "2     6.228168     2  651\n",
      "3     6.230263     3  651\n",
      "4     6.230935     4  651\n",
      "...        ...   ...  ...\n",
      "1409  5.414075  1409  651\n",
      "1410  5.421977  1410  651\n",
      "1411  5.434958  1411  651\n",
      "1412  5.778557  1412  651\n",
      "1413  5.916784  1413  651\n",
      "\n",
      "[1414 rows x 3 columns]\n"
     ]
    },
    {
     "name": "stderr",
     "output_type": "stream",
     "text": [
      "\n",
      "Feature Extraction: 100%|██████████| 1/1 [00:00<00:00,  4.38it/s]"
     ]
    },
    {
     "name": "stdout",
     "output_type": "stream",
     "text": [
      "             x  time   id\n",
      "0     6.231546     0  652\n",
      "1     6.230844     1  652\n",
      "2     6.230283     2  652\n",
      "3     6.229669     3  652\n",
      "4     6.231157     4  652\n",
      "...        ...   ...  ...\n",
      "1409  5.488395  1409  652\n",
      "1410  5.491147  1410  652\n",
      "1411  5.538963  1411  652\n",
      "1412  5.821627  1412  652\n",
      "1413  5.812731  1413  652\n",
      "\n",
      "[1414 rows x 3 columns]\n"
     ]
    },
    {
     "name": "stderr",
     "output_type": "stream",
     "text": [
      "\n",
      "Feature Extraction: 100%|██████████| 1/1 [00:00<00:00,  3.89it/s]"
     ]
    },
    {
     "name": "stdout",
     "output_type": "stream",
     "text": [
      "             x  time   id\n",
      "0     6.232102     0  653\n",
      "1     6.231112     1  653\n",
      "2     6.231805     2  653\n",
      "3     6.231643     3  653\n",
      "4     6.232237     4  653\n",
      "...        ...   ...  ...\n",
      "1409  5.596749  1409  653\n",
      "1410  5.594197  1410  653\n",
      "1411  5.642331  1411  653\n",
      "1412  5.892864  1412  653\n",
      "1413  5.948048  1413  653\n",
      "\n",
      "[1414 rows x 3 columns]\n"
     ]
    },
    {
     "name": "stderr",
     "output_type": "stream",
     "text": [
      "\n",
      "Feature Extraction: 100%|██████████| 1/1 [00:00<00:00,  3.96it/s]"
     ]
    },
    {
     "name": "stdout",
     "output_type": "stream",
     "text": [
      "             x  time   id\n",
      "0     6.078733     0  654\n",
      "1     6.081946     1  654\n",
      "2     6.046417     2  654\n",
      "3     6.004657     3  654\n",
      "4     6.006049     4  654\n",
      "...        ...   ...  ...\n",
      "1409  5.349575  1409  654\n",
      "1410  5.350857  1410  654\n",
      "1411  5.342863  1411  654\n",
      "1412  5.727217  1412  654\n",
      "1413  5.615736  1413  654\n",
      "\n",
      "[1414 rows x 3 columns]\n"
     ]
    },
    {
     "name": "stderr",
     "output_type": "stream",
     "text": [
      "\n",
      "Feature Extraction: 100%|██████████| 1/1 [00:00<00:00,  4.21it/s]"
     ]
    },
    {
     "name": "stdout",
     "output_type": "stream",
     "text": [
      "             x  time   id\n",
      "0     6.231764     0  655\n",
      "1     6.232020     1  655\n",
      "2     6.230570     2  655\n",
      "3     6.231754     3  655\n",
      "4     6.231447     4  655\n",
      "...        ...   ...  ...\n",
      "1409  5.683619  1409  655\n",
      "1410  5.691504  1410  655\n",
      "1411  5.690822  1411  655\n",
      "1412  5.926478  1412  655\n",
      "1413  5.825929  1413  655\n",
      "\n",
      "[1414 rows x 3 columns]\n"
     ]
    },
    {
     "name": "stderr",
     "output_type": "stream",
     "text": [
      "\n",
      "Feature Extraction: 100%|██████████| 1/1 [00:00<00:00,  3.80it/s]"
     ]
    },
    {
     "name": "stdout",
     "output_type": "stream",
     "text": [
      "             x  time   id\n",
      "0     5.576759     0  656\n",
      "1     5.573202     1  656\n",
      "2     5.542825     2  656\n",
      "3     5.472422     3  656\n",
      "4     5.451336     4  656\n",
      "...        ...   ...  ...\n",
      "1397  5.436323  1397  656\n",
      "1398  5.435110  1398  656\n",
      "1399  5.441440  1399  656\n",
      "1400  5.499777  1400  656\n",
      "1401  5.320792  1401  656\n",
      "\n",
      "[1402 rows x 3 columns]\n"
     ]
    },
    {
     "name": "stderr",
     "output_type": "stream",
     "text": [
      "\n",
      "Feature Extraction: 100%|██████████| 1/1 [00:00<00:00,  3.73it/s]"
     ]
    },
    {
     "name": "stdout",
     "output_type": "stream",
     "text": [
      "             x  time   id\n",
      "0     6.231894     0  657\n",
      "1     6.231455     1  657\n",
      "2     6.231457     2  657\n",
      "3     6.231051     3  657\n",
      "4     6.229972     4  657\n",
      "...        ...   ...  ...\n",
      "1409  5.729931  1409  657\n",
      "1410  5.727364  1410  657\n",
      "1411  5.726937  1411  657\n",
      "1412  5.675946  1412  657\n",
      "1413  5.823913  1413  657\n",
      "\n",
      "[1414 rows x 3 columns]\n"
     ]
    },
    {
     "name": "stderr",
     "output_type": "stream",
     "text": [
      "\n",
      "Feature Extraction: 100%|██████████| 1/1 [00:00<00:00,  4.27it/s]"
     ]
    },
    {
     "name": "stdout",
     "output_type": "stream",
     "text": [
      "            x  time   id\n",
      "0    6.231917     0  658\n",
      "1    6.232004     1  658\n",
      "2    6.231983     2  658\n",
      "3    6.226566     3  658\n",
      "4    6.231172     4  658\n",
      "..        ...   ...  ...\n",
      "102  6.232665   102  658\n",
      "103  6.231689   103  658\n",
      "104  6.232285   104  658\n",
      "105  6.231756   105  658\n",
      "106  6.231671   106  658\n",
      "\n",
      "[107 rows x 3 columns]\n"
     ]
    },
    {
     "name": "stderr",
     "output_type": "stream",
     "text": [
      "\n",
      "Feature Extraction: 100%|██████████| 1/1 [00:00<00:00, 51.74it/s]"
     ]
    },
    {
     "name": "stdout",
     "output_type": "stream",
     "text": [
      "            x  time   id\n",
      "0    6.231883     0  659\n",
      "1    6.231974     1  659\n",
      "2    6.232003     2  659\n",
      "3    6.231739     3  659\n",
      "4    6.232350     4  659\n",
      "..        ...   ...  ...\n",
      "102  6.232629   102  659\n",
      "103  6.231772   103  659\n",
      "104  6.232275   104  659\n",
      "105  6.231805   105  659\n",
      "106  6.231559   106  659\n",
      "\n",
      "[107 rows x 3 columns]\n"
     ]
    },
    {
     "name": "stderr",
     "output_type": "stream",
     "text": [
      "\n",
      "Feature Extraction: 100%|██████████| 1/1 [00:00<00:00, 64.45it/s]"
     ]
    },
    {
     "name": "stdout",
     "output_type": "stream",
     "text": [
      "            x  time   id\n",
      "0    6.125717     0  660\n",
      "1    6.231863     1  660\n",
      "2    6.231972     2  660\n",
      "3    6.231838     3  660\n",
      "4    6.231897     4  660\n",
      "..        ...   ...  ...\n",
      "102  6.231920   102  660\n",
      "103  6.231879   103  660\n",
      "104  6.232061   104  660\n",
      "105  6.231661   105  660\n",
      "106  6.232170   106  660\n",
      "\n",
      "[107 rows x 3 columns]\n"
     ]
    },
    {
     "name": "stderr",
     "output_type": "stream",
     "text": [
      "\n",
      "Feature Extraction: 100%|██████████| 1/1 [00:00<00:00, 68.18it/s]"
     ]
    },
    {
     "name": "stdout",
     "output_type": "stream",
     "text": [
      "            x  time   id\n",
      "0    6.145969     0  661\n",
      "1    6.231818     1  661\n",
      "2    6.231908     2  661\n",
      "3    6.232004     3  661\n",
      "4    6.231939     4  661\n",
      "..        ...   ...  ...\n",
      "102  6.231909   102  661\n",
      "103  6.231899   103  661\n",
      "104  6.232086   104  661\n",
      "105  6.231604   105  661\n",
      "106  6.232156   106  661\n",
      "\n",
      "[107 rows x 3 columns]\n"
     ]
    },
    {
     "name": "stderr",
     "output_type": "stream",
     "text": [
      "\n",
      "Feature Extraction: 100%|██████████| 1/1 [00:00<00:00, 59.62it/s]"
     ]
    },
    {
     "name": "stdout",
     "output_type": "stream",
     "text": [
      "            x  time   id\n",
      "0    6.231869     0  662\n",
      "1    6.231579     1  662\n",
      "2    6.231685     2  662\n",
      "3    6.232607     3  662\n",
      "4    6.231530     4  662\n",
      "..        ...   ...  ...\n",
      "151  6.232029   151  662\n",
      "152  6.231589   152  662\n",
      "153  6.232119   153  662\n",
      "154  6.231437   154  662\n",
      "155  6.232188   155  662\n",
      "\n",
      "[156 rows x 3 columns]\n"
     ]
    },
    {
     "name": "stderr",
     "output_type": "stream",
     "text": [
      "\n",
      "Feature Extraction: 100%|██████████| 1/1 [00:00<00:00, 51.97it/s]"
     ]
    },
    {
     "name": "stdout",
     "output_type": "stream",
     "text": [
      "            x  time   id\n",
      "0    6.231821     0  663\n",
      "1    6.231594     1  663\n",
      "2    6.231732     2  663\n",
      "3    6.232664     3  663\n",
      "4    6.231460     4  663\n",
      "..        ...   ...  ...\n",
      "151  6.232038   151  663\n",
      "152  6.231584   152  663\n",
      "153  6.232122   153  663\n",
      "154  6.231397   154  663\n",
      "155  6.232244   155  663\n",
      "\n",
      "[156 rows x 3 columns]\n"
     ]
    },
    {
     "name": "stderr",
     "output_type": "stream",
     "text": [
      "\n",
      "Feature Extraction: 100%|██████████| 1/1 [00:00<00:00, 51.93it/s]"
     ]
    },
    {
     "name": "stdout",
     "output_type": "stream",
     "text": [
      "            x  time   id\n",
      "0    6.221871     0  664\n",
      "1    6.227425     1  664\n",
      "2    6.224462     2  664\n",
      "3    6.226094     3  664\n",
      "4    6.227928     4  664\n",
      "..        ...   ...  ...\n",
      "350  6.222264   350  664\n",
      "351  6.226368   351  664\n",
      "352  6.226078   352  664\n",
      "353  6.223627   353  664\n",
      "354  6.227322   354  664\n",
      "\n",
      "[355 rows x 3 columns]\n"
     ]
    },
    {
     "name": "stderr",
     "output_type": "stream",
     "text": [
      "\n",
      "Feature Extraction: 100%|██████████| 1/1 [00:00<00:00, 26.73it/s]\n"
     ]
    },
    {
     "name": "stdout",
     "output_type": "stream",
     "text": [
      "            x  time   id\n",
      "0    6.231582     0  665\n",
      "1    6.232360     1  665\n",
      "2    6.231696     2  665\n",
      "3    6.231677     3  665\n",
      "4    6.232299     4  665\n",
      "..        ...   ...  ...\n",
      "350  6.232131   350  665\n",
      "351  6.231683   351  665\n",
      "352  6.231889   352  665\n",
      "353  6.231803   353  665\n",
      "354  6.231911   354  665\n",
      "\n",
      "[355 rows x 3 columns]\n"
     ]
    },
    {
     "name": "stderr",
     "output_type": "stream",
     "text": [
      "Feature Extraction: 100%|██████████| 1/1 [00:00<00:00, 26.93it/s]\n"
     ]
    },
    {
     "name": "stdout",
     "output_type": "stream",
     "text": [
      "            x  time   id\n",
      "0    6.230006     0  666\n",
      "1    6.227598     1  666\n",
      "2    6.227965     2  666\n",
      "3    6.230224     3  666\n",
      "4    6.228025     4  666\n",
      "..        ...   ...  ...\n",
      "399  6.228682   399  666\n",
      "400  6.231350   400  666\n",
      "401  6.228608   401  666\n",
      "402  6.229308   402  666\n",
      "403  6.230786   403  666\n",
      "\n",
      "[404 rows x 3 columns]\n"
     ]
    },
    {
     "name": "stderr",
     "output_type": "stream",
     "text": [
      "Feature Extraction: 100%|██████████| 1/1 [00:00<00:00, 24.06it/s]\n"
     ]
    },
    {
     "name": "stdout",
     "output_type": "stream",
     "text": [
      "            x  time   id\n",
      "0    6.232542     0  667\n",
      "1    6.231785     1  667\n",
      "2    6.231891     2  667\n",
      "3    6.231887     3  667\n",
      "4    6.231803     4  667\n",
      "..        ...   ...  ...\n",
      "399  6.231492   399  667\n",
      "400  6.232623   400  667\n",
      "401  6.231781   401  667\n",
      "402  6.231319   402  667\n",
      "403  6.231870   403  667\n",
      "\n",
      "[404 rows x 3 columns]\n"
     ]
    },
    {
     "name": "stderr",
     "output_type": "stream",
     "text": [
      "Feature Extraction: 100%|██████████| 1/1 [00:00<00:00, 22.41it/s]\n"
     ]
    },
    {
     "name": "stdout",
     "output_type": "stream",
     "text": [
      "            x  time   id\n",
      "0    6.231989     0  668\n",
      "1    6.231364     1  668\n",
      "2    6.231582     2  668\n",
      "3    6.232815     3  668\n",
      "4    6.231934     4  668\n",
      "..        ...   ...  ...\n",
      "394  6.232245   394  668\n",
      "395  6.231943   395  668\n",
      "396  6.231512   396  668\n",
      "397  6.231429   397  668\n",
      "398  6.232263   398  668\n",
      "\n",
      "[399 rows x 3 columns]\n"
     ]
    },
    {
     "name": "stderr",
     "output_type": "stream",
     "text": [
      "Feature Extraction: 100%|██████████| 1/1 [00:00<00:00, 22.82it/s]"
     ]
    },
    {
     "name": "stdout",
     "output_type": "stream",
     "text": [
      "            x  time   id\n",
      "0    6.226652     0  669\n",
      "1    6.227100     1  669\n",
      "2    6.225958     2  669\n",
      "3    6.230785     3  669\n",
      "4    6.226681     4  669\n",
      "..        ...   ...  ...\n",
      "394  6.227467   394  669\n",
      "395  6.230474   395  669\n",
      "396  6.228521   396  669\n",
      "397  6.227453   397  669\n",
      "398  6.231116   398  669\n",
      "\n",
      "[399 rows x 3 columns]\n"
     ]
    },
    {
     "name": "stderr",
     "output_type": "stream",
     "text": [
      "\n",
      "Feature Extraction: 100%|██████████| 1/1 [00:00<00:00, 23.33it/s]"
     ]
    },
    {
     "name": "stdout",
     "output_type": "stream",
     "text": [
      "            x  time   id\n",
      "0    6.230956     0  670\n",
      "1    6.231508     1  670\n",
      "2    6.232159     2  670\n",
      "3    6.231723     3  670\n",
      "4    6.231899     4  670\n",
      "..        ...   ...  ...\n",
      "157  6.231905   157  670\n",
      "158  6.232238   158  670\n",
      "159  6.231151   159  670\n",
      "160  6.231820   160  670\n",
      "161  6.232666   161  670\n",
      "\n",
      "[162 rows x 3 columns]\n"
     ]
    },
    {
     "name": "stderr",
     "output_type": "stream",
     "text": [
      "\n",
      "Feature Extraction: 100%|██████████| 1/1 [00:00<00:00, 46.37it/s]"
     ]
    },
    {
     "name": "stdout",
     "output_type": "stream",
     "text": [
      "            x  time   id\n",
      "0    6.232754     0  671\n",
      "1    6.231575     1  671\n",
      "2    6.231963     2  671\n",
      "3    6.231835     3  671\n",
      "4    6.232008     4  671\n",
      "..        ...   ...  ...\n",
      "157  6.231931   157  671\n",
      "158  6.232303   158  671\n",
      "159  6.231215   159  671\n",
      "160  6.232080   160  671\n",
      "161  6.232350   161  671\n",
      "\n",
      "[162 rows x 3 columns]\n"
     ]
    },
    {
     "name": "stderr",
     "output_type": "stream",
     "text": [
      "\n",
      "Feature Extraction: 100%|██████████| 1/1 [00:00<00:00, 43.34it/s]\n"
     ]
    },
    {
     "name": "stdout",
     "output_type": "stream",
     "text": [
      "           x  time   id\n",
      "0   2.931732     0  672\n",
      "1   2.932580     1  672\n",
      "2   2.937796     2  672\n",
      "3   2.936267     3  672\n",
      "4   2.936036     4  672\n",
      "5   2.946171     5  672\n",
      "6   2.936786     6  672\n",
      "7   2.937994     7  672\n",
      "8   2.947445     8  672\n",
      "9   2.936089     9  672\n",
      "10  2.939754    10  672\n",
      "11  2.944295    11  672\n",
      "12  2.935165    12  672\n",
      "13  2.943260    13  672\n",
      "14  2.938890    14  672\n",
      "15  2.937186    15  672\n",
      "16  2.957719    16  672\n",
      "17  2.940122    17  672\n",
      "18  2.936744    18  672\n",
      "19  2.953410    19  672\n",
      "20  2.937811    20  672\n",
      "21  2.945415    21  672\n",
      "22  2.962451    22  672\n",
      "23  2.938772    23  672\n",
      "24  2.970683    24  672\n",
      "25  2.957312    25  672\n",
      "26  2.938537    26  672\n",
      "27  2.981969    27  672\n",
      "28  2.947608    28  672\n",
      "29  2.944468    29  672\n",
      "30  2.945728    30  672\n",
      "31  2.935648    31  672\n",
      "32  2.941979    32  672\n",
      "33  2.933923    33  672\n"
     ]
    },
    {
     "name": "stderr",
     "output_type": "stream",
     "text": [
      "Feature Extraction: 100%|██████████| 1/1 [00:00<00:00, 90.21it/s]"
     ]
    },
    {
     "name": "stdout",
     "output_type": "stream",
     "text": [
      "           x  time   id\n",
      "0   2.939118     0  673\n",
      "1   3.114802     1  673\n",
      "2   3.129260     2  673\n",
      "3   3.134948     3  673\n",
      "4   3.137122     4  673\n",
      "5   3.133550     5  673\n",
      "6   3.132988     6  673\n",
      "7   3.135805     7  673\n",
      "8   3.133629     8  673\n",
      "9   3.133940     9  673\n",
      "10  3.138415    10  673\n",
      "11  3.134776    11  673\n",
      "12  3.134477    12  673\n",
      "13  3.134921    13  673\n",
      "14  3.134466    14  673\n",
      "15  3.135265    15  673\n",
      "16  3.134098    16  673\n",
      "17  3.133913    17  673\n",
      "18  3.171363    18  673\n",
      "19  3.658334    19  673\n",
      "20  3.717131    20  673\n",
      "21  3.735424    21  673\n",
      "22  3.688444    22  673\n",
      "23  3.740911    23  673\n",
      "24  3.692439    24  673\n",
      "25  3.720274    25  673\n",
      "26  3.723074    26  673\n",
      "27  3.703413    27  673\n",
      "28  3.721132    28  673\n",
      "29  3.716159    29  673\n",
      "30  3.708835    30  673\n",
      "31  3.713256    31  673\n",
      "32  3.689642    32  673\n",
      "33  3.709872    33  673\n",
      "34  3.670054    34  673\n"
     ]
    },
    {
     "name": "stderr",
     "output_type": "stream",
     "text": [
      "\n",
      "Feature Extraction: 100%|██████████| 1/1 [00:00<00:00, 96.07it/s]"
     ]
    },
    {
     "name": "stdout",
     "output_type": "stream",
     "text": [
      "           x  time   id\n",
      "0   2.964421     0  674\n",
      "1   3.003197     1  674\n",
      "2   2.973233     2  674\n",
      "3   2.989120     3  674\n",
      "4   3.008573     4  674\n",
      "5   2.970847     5  674\n",
      "6   3.000597     6  674\n",
      "7   3.007133     7  674\n",
      "8   2.971280     8  674\n",
      "9   3.008167     9  674\n",
      "10  3.002969    10  674\n",
      "11  2.988438    11  674\n",
      "12  3.010241    12  674\n",
      "13  2.993996    13  674\n",
      "14  2.983490    14  674\n",
      "15  3.013872    15  674\n",
      "16  2.988735    16  674\n",
      "17  2.994726    17  674\n",
      "18  3.011569    18  674\n",
      "19  2.983377    19  674\n",
      "20  3.000255    20  674\n",
      "21  3.006505    21  674\n",
      "22  2.984597    22  674\n",
      "23  3.008418    23  674\n",
      "24  3.008199    24  674\n",
      "25  2.989411    25  674\n",
      "26  3.012274    26  674\n",
      "27  2.998111    27  674\n",
      "28  2.987138    28  674\n",
      "29  3.016131    29  674\n",
      "30  2.993185    30  674\n",
      "31  2.994738    31  674\n",
      "32  3.012187    32  674\n",
      "33  2.985449    33  674\n"
     ]
    },
    {
     "name": "stderr",
     "output_type": "stream",
     "text": [
      "\n",
      "Feature Extraction: 100%|██████████| 1/1 [00:00<00:00, 87.45it/s]"
     ]
    },
    {
     "name": "stdout",
     "output_type": "stream",
     "text": [
      "           x  time   id\n",
      "0   3.139833     0  675\n",
      "1   3.202433     1  675\n",
      "2   3.163276     2  675\n",
      "3   3.183995     3  675\n",
      "4   3.203685     4  675\n",
      "5   3.161575     5  675\n",
      "6   3.196789     6  675\n",
      "7   3.203060     7  675\n",
      "8   3.163860     8  675\n",
      "9   3.202479     9  675\n",
      "10  3.198314    10  675\n",
      "11  3.169972    11  675\n",
      "12  3.204061    12  675\n",
      "13  3.196759    13  675\n",
      "14  3.179652    14  675\n",
      "15  3.204219    15  675\n",
      "16  3.181641    16  675\n",
      "17  3.184324    17  675\n",
      "18  3.203961    18  675\n",
      "19  3.165783    19  675\n",
      "20  3.192056    20  675\n",
      "21  3.202810    21  675\n",
      "22  3.159790    22  675\n",
      "23  3.201959    23  675\n",
      "24  3.198320    24  675\n",
      "25  3.169713    25  675\n",
      "26  3.204512    26  675\n",
      "27  3.195653    27  675\n",
      "28  3.177714    28  675\n",
      "29  3.204339    29  675\n",
      "30  3.179163    30  675\n",
      "31  3.186458    31  675\n",
      "32  3.203995    32  675\n",
      "33  3.174030    33  675\n"
     ]
    },
    {
     "name": "stderr",
     "output_type": "stream",
     "text": [
      "\n",
      "Feature Extraction: 100%|██████████| 1/1 [00:00<00:00, 96.04it/s]\n"
     ]
    },
    {
     "name": "stdout",
     "output_type": "stream",
     "text": [
      "           x  time   id\n",
      "0   2.933807     0  676\n",
      "1   2.960633     1  676\n",
      "2   2.969791     2  676\n",
      "3   2.966964     3  676\n",
      "4   3.005425     4  676\n",
      "5   2.992246     5  676\n",
      "6   2.991223     6  676\n",
      "7   3.015024     7  676\n",
      "8   2.995411     8  676\n",
      "9   2.999043     9  676\n",
      "10  3.011271    10  676\n",
      "11  2.987002    11  676\n",
      "12  3.002903    12  676\n",
      "13  3.009148    13  676\n",
      "14  2.993416    14  676\n",
      "15  3.014493    15  676\n",
      "16  3.009017    16  676\n",
      "17  3.003420    17  676\n",
      "18  3.015214    18  676\n",
      "19  3.002289    19  676\n",
      "20  3.006333    20  676\n",
      "21  3.015207    21  676\n",
      "22  2.998233    22  676\n",
      "23  3.008001    23  676\n",
      "24  3.014022    24  676\n",
      "25  3.004081    25  676\n",
      "26  3.014424    26  676\n",
      "27  3.011289    27  676\n",
      "28  2.996138    28  676\n",
      "29  3.013485    29  676\n",
      "30  3.004259    30  676\n",
      "31  2.996172    31  676\n",
      "32  3.015742    32  676\n",
      "33  3.001661    33  676\n"
     ]
    },
    {
     "name": "stderr",
     "output_type": "stream",
     "text": [
      "Feature Extraction: 100%|██████████| 1/1 [00:00<00:00, 84.10it/s]\n"
     ]
    },
    {
     "name": "stdout",
     "output_type": "stream",
     "text": [
      "           x  time   id\n",
      "0   3.275920     0  677\n",
      "1   3.295240     1  677\n",
      "2   3.295956     2  677\n",
      "3   3.296852     3  677\n",
      "4   3.300870     4  677\n",
      "5   3.301442     5  677\n",
      "6   3.301459     6  677\n",
      "7   3.306500     7  677\n",
      "8   3.303645     8  677\n",
      "9   3.301570     9  677\n",
      "10  3.304828    10  677\n",
      "11  3.302751    11  677\n",
      "12  3.302309    12  677\n",
      "13  3.304002    13  677\n",
      "14  3.301741    14  677\n",
      "15  3.302440    15  677\n",
      "16  3.300654    16  677\n",
      "17  3.301238    17  677\n",
      "18  3.308909    18  677\n",
      "19  3.299901    19  677\n",
      "20  3.299487    20  677\n",
      "21  3.307929    21  677\n",
      "22  3.299468    22  677\n",
      "23  3.301321    23  677\n",
      "24  3.306377    24  677\n",
      "25  3.300598    25  677\n",
      "26  3.304060    26  677\n",
      "27  3.303334    27  677\n",
      "28  3.300326    28  677\n",
      "29  3.306575    29  677\n",
      "30  3.300098    30  677\n",
      "31  3.299375    31  677\n",
      "32  3.306403    32  677\n",
      "33  3.300136    33  677\n"
     ]
    },
    {
     "name": "stderr",
     "output_type": "stream",
     "text": [
      "Feature Extraction: 100%|██████████| 1/1 [00:00<00:00, 105.21it/s]\n"
     ]
    },
    {
     "name": "stdout",
     "output_type": "stream",
     "text": [
      "           x  time   id\n",
      "0   2.768779     0  678\n",
      "1   2.809056     1  678\n",
      "2   2.790364     2  678\n",
      "3   2.792651     3  678\n",
      "4   2.791880     4  678\n",
      "5   2.791790     5  678\n",
      "6   2.794598     6  678\n",
      "7   2.791375     7  678\n",
      "8   2.791098     8  678\n",
      "9   2.791228     9  678\n",
      "10  2.790693    10  678\n",
      "11  2.790740    11  678\n",
      "12  2.791209    12  678\n",
      "13  2.791454    13  678\n",
      "14  2.791180    14  678\n",
      "15  2.791389    15  678\n",
      "16  2.791044    16  678\n",
      "17  2.790347    17  678\n",
      "18  2.789987    18  678\n",
      "19  2.789827    19  678\n",
      "20  2.789948    20  678\n",
      "21  2.790224    21  678\n",
      "22  2.790189    22  678\n",
      "23  2.790117    23  678\n",
      "24  2.790218    24  678\n",
      "25  2.790508    25  678\n",
      "26  2.790471    26  678\n",
      "27  2.790882    27  678\n",
      "28  2.790435    28  678\n",
      "29  2.790563    29  678\n",
      "30  2.789922    30  678\n",
      "31  2.790734    31  678\n",
      "32  2.790227    32  678\n",
      "33  2.789978    33  678\n"
     ]
    },
    {
     "name": "stderr",
     "output_type": "stream",
     "text": [
      "Feature Extraction: 100%|██████████| 1/1 [00:00<00:00, 85.10it/s]"
     ]
    },
    {
     "name": "stdout",
     "output_type": "stream",
     "text": [
      "           x  time   id\n",
      "0   3.262299     0  679\n",
      "1   3.213334     1  679\n",
      "2   3.177739     2  679\n",
      "3   3.165650     3  679\n",
      "4   3.176297     4  679\n",
      "5   3.162637     5  679\n",
      "6   3.161344     6  679\n",
      "7   3.151605     7  679\n",
      "8   3.144567     8  679\n",
      "9   3.134595     9  679\n",
      "10  3.125057    10  679\n",
      "11  3.121038    11  679\n",
      "12  3.126364    12  679\n",
      "13  3.123049    13  679\n",
      "14  3.121151    14  679\n",
      "15  3.119816    15  679\n",
      "16  3.114889    16  679\n",
      "17  3.118242    17  679\n",
      "18  3.118319    18  679\n",
      "19  3.114119    19  679\n",
      "20  3.119984    20  679\n",
      "21  3.122303    21  679\n",
      "22  3.124852    22  679\n",
      "23  3.128159    23  679\n",
      "24  3.137061    24  679\n",
      "25  3.127448    25  679\n",
      "26  3.130606    26  679\n",
      "27  3.133833    27  679\n",
      "28  3.123530    28  679\n",
      "29  3.127755    29  679\n",
      "30  3.121554    30  679\n",
      "31  3.118845    31  679\n",
      "32  3.117354    32  679\n"
     ]
    },
    {
     "name": "stderr",
     "output_type": "stream",
     "text": [
      "\n",
      "Feature Extraction: 100%|██████████| 1/1 [00:00<00:00, 102.46it/s]\n"
     ]
    },
    {
     "name": "stdout",
     "output_type": "stream",
     "text": [
      "            x  time   id\n",
      "0    0.409319     0  680\n",
      "1    0.342598     1  680\n",
      "2    0.354102     2  680\n",
      "3    0.378727     3  680\n",
      "4    0.372116     4  680\n",
      "..        ...   ...  ...\n",
      "112  0.390404   112  680\n",
      "113  0.388289   113  680\n",
      "114  0.451392   114  680\n",
      "115  0.354402   115  680\n",
      "116  0.332273   116  680\n",
      "\n",
      "[117 rows x 3 columns]\n"
     ]
    },
    {
     "name": "stderr",
     "output_type": "stream",
     "text": [
      "Feature Extraction: 100%|██████████| 1/1 [00:00<00:00, 67.13it/s]\n"
     ]
    },
    {
     "name": "stdout",
     "output_type": "stream",
     "text": [
      "            x  time   id\n",
      "0    1.032878     0  681\n",
      "1    0.949760     1  681\n",
      "2    0.925674     2  681\n",
      "3    0.940255     3  681\n",
      "4    0.936599     4  681\n",
      "..        ...   ...  ...\n",
      "112  0.946969   112  681\n",
      "113  0.944572   113  681\n",
      "114  0.980429   114  681\n",
      "115  0.926636   115  681\n",
      "116  0.912842   116  681\n",
      "\n",
      "[117 rows x 3 columns]\n"
     ]
    },
    {
     "name": "stderr",
     "output_type": "stream",
     "text": [
      "Feature Extraction: 100%|██████████| 1/1 [00:00<00:00, 62.74it/s]\n"
     ]
    },
    {
     "name": "stdout",
     "output_type": "stream",
     "text": [
      "            x  time   id\n",
      "0    4.657243     0  682\n",
      "1    6.035359     1  682\n",
      "2    5.397016     2  682\n",
      "3    5.135254     3  682\n",
      "4    5.843606     4  682\n",
      "..        ...   ...  ...\n",
      "128  6.127170   128  682\n",
      "129  6.162816   129  682\n",
      "130  5.115730   130  682\n",
      "131  5.405628   131  682\n",
      "132  5.864295   132  682\n",
      "\n",
      "[133 rows x 3 columns]\n"
     ]
    },
    {
     "name": "stderr",
     "output_type": "stream",
     "text": [
      "Feature Extraction: 100%|██████████| 1/1 [00:00<00:00, 50.63it/s]\n"
     ]
    },
    {
     "name": "stdout",
     "output_type": "stream",
     "text": [
      "            x  time   id\n",
      "0    6.231510     0  683\n",
      "1    5.781581     1  683\n",
      "2    5.670779     2  683\n",
      "3    6.231680     3  683\n",
      "4    6.231465     4  683\n",
      "..        ...   ...  ...\n",
      "127  6.230979   127  683\n",
      "128  6.231787   128  683\n",
      "129  5.647568   129  683\n",
      "130  5.923467   130  683\n",
      "131  6.231856   131  683\n",
      "\n",
      "[132 rows x 3 columns]\n"
     ]
    },
    {
     "name": "stderr",
     "output_type": "stream",
     "text": [
      "Feature Extraction: 100%|██████████| 1/1 [00:00<00:00, 43.96it/s]"
     ]
    },
    {
     "name": "stdout",
     "output_type": "stream",
     "text": [
      "            x  time   id\n",
      "0    4.568797     0  684\n",
      "1    5.970518     1  684\n",
      "2    5.310292     2  684\n",
      "3    4.995513     3  684\n",
      "4    5.788665     4  684\n",
      "..        ...   ...  ...\n",
      "128  6.003166   128  684\n",
      "129  6.048838   129  684\n",
      "130  5.013612   130  684\n",
      "131  5.336928   131  684\n",
      "132  5.799832   132  684\n",
      "\n",
      "[133 rows x 3 columns]\n"
     ]
    },
    {
     "name": "stderr",
     "output_type": "stream",
     "text": [
      "\n",
      "Feature Extraction: 100%|██████████| 1/1 [00:00<00:00, 47.45it/s]\n"
     ]
    },
    {
     "name": "stdout",
     "output_type": "stream",
     "text": [
      "            x  time   id\n",
      "0    6.207032     0  685\n",
      "1    5.654636     1  685\n",
      "2    5.408494     2  685\n",
      "3    6.174713     3  685\n",
      "4    6.212286     4  685\n",
      "..        ...   ...  ...\n",
      "127  6.210676   127  685\n",
      "128  6.231833   128  685\n",
      "129  5.460299   129  685\n",
      "130  5.782201   130  685\n",
      "131  6.225358   131  685\n",
      "\n",
      "[132 rows x 3 columns]\n"
     ]
    },
    {
     "name": "stderr",
     "output_type": "stream",
     "text": [
      "Feature Extraction: 100%|██████████| 1/1 [00:00<00:00, 40.72it/s]\n"
     ]
    },
    {
     "name": "stdout",
     "output_type": "stream",
     "text": [
      "            x  time   id\n",
      "0    6.231250     0  686\n",
      "1    5.614244     1  686\n",
      "2    5.401938     2  686\n",
      "3    6.180325     3  686\n",
      "4    6.192801     4  686\n",
      "..        ...   ...  ...\n",
      "127  6.178599   127  686\n",
      "128  6.231901   128  686\n",
      "129  5.339823   129  686\n",
      "130  5.710233   130  686\n",
      "131  6.201785   131  686\n",
      "\n",
      "[132 rows x 3 columns]\n"
     ]
    },
    {
     "name": "stderr",
     "output_type": "stream",
     "text": [
      "Feature Extraction: 100%|██████████| 1/1 [00:00<00:00, 39.55it/s]"
     ]
    },
    {
     "name": "stdout",
     "output_type": "stream",
     "text": [
      "            x  time   id\n",
      "0    6.096069     0  687\n",
      "1    5.518398     1  687\n",
      "2    5.279569     2  687\n",
      "3    5.952813     3  687\n",
      "4    5.970470     4  687\n",
      "..        ...   ...  ...\n",
      "127  6.122448   127  687\n",
      "128  6.216625   128  687\n",
      "129  5.277683   129  687\n",
      "130  5.562200   130  687\n",
      "131  5.986055   131  687\n",
      "\n",
      "[132 rows x 3 columns]\n"
     ]
    },
    {
     "name": "stderr",
     "output_type": "stream",
     "text": [
      "\n",
      "Feature Extraction: 100%|██████████| 1/1 [00:00<00:00, 42.60it/s]\n"
     ]
    },
    {
     "name": "stdout",
     "output_type": "stream",
     "text": [
      "            x  time   id\n",
      "0    5.180950     0  688\n",
      "1    6.231919     1  688\n",
      "2    5.651260     2  688\n",
      "3    5.513475     3  688\n",
      "4    6.231743     4  688\n",
      "..        ...   ...  ...\n",
      "128  6.185651   128  688\n",
      "129  6.231529   129  688\n",
      "130  5.411722   130  688\n",
      "131  5.814368   131  688\n",
      "132  6.231785   132  688\n",
      "\n",
      "[133 rows x 3 columns]\n"
     ]
    },
    {
     "name": "stderr",
     "output_type": "stream",
     "text": [
      "Feature Extraction: 100%|██████████| 1/1 [00:00<00:00, 49.31it/s]"
     ]
    },
    {
     "name": "stdout",
     "output_type": "stream",
     "text": [
      "            x  time   id\n",
      "0    6.231966     0  689\n",
      "1    5.757699     1  689\n",
      "2    5.650602     2  689\n",
      "3    6.231844     3  689\n",
      "4    6.231145     4  689\n",
      "..        ...   ...  ...\n",
      "127  6.194808   127  689\n",
      "128  6.231678   128  689\n",
      "129  5.620848   129  689\n",
      "130  5.910287   130  689\n",
      "131  6.231844   131  689\n",
      "\n",
      "[132 rows x 3 columns]\n"
     ]
    },
    {
     "name": "stderr",
     "output_type": "stream",
     "text": [
      "\n",
      "Feature Extraction: 100%|██████████| 1/1 [00:00<00:00, 49.76it/s]"
     ]
    },
    {
     "name": "stdout",
     "output_type": "stream",
     "text": [
      "            x  time   id\n",
      "0    4.662083     0  690\n",
      "1    6.142412     1  690\n",
      "2    5.490186     2  690\n",
      "3    5.202646     3  690\n",
      "4    5.953734     4  690\n",
      "..        ...   ...  ...\n",
      "128  6.150161   128  690\n",
      "129  6.229477   129  690\n",
      "130  5.175602   130  690\n",
      "131  5.510478   131  690\n",
      "132  5.984461   132  690\n",
      "\n",
      "[133 rows x 3 columns]\n"
     ]
    },
    {
     "name": "stderr",
     "output_type": "stream",
     "text": [
      "\n",
      "Feature Extraction: 100%|██████████| 1/1 [00:00<00:00, 47.52it/s]\n"
     ]
    },
    {
     "name": "stdout",
     "output_type": "stream",
     "text": [
      "            x  time   id\n",
      "0    6.232050     0  691\n",
      "1    5.717371     1  691\n",
      "2    5.549404     2  691\n",
      "3    6.228639     3  691\n",
      "4    6.230789     4  691\n",
      "..        ...   ...  ...\n",
      "127  6.189965   127  691\n",
      "128  6.231738   128  691\n",
      "129  5.537887   129  691\n",
      "130  5.856824   130  691\n",
      "131  6.231765   131  691\n",
      "\n",
      "[132 rows x 3 columns]\n"
     ]
    },
    {
     "name": "stderr",
     "output_type": "stream",
     "text": [
      "Feature Extraction: 100%|██████████| 1/1 [00:00<00:00, 59.86it/s]\n"
     ]
    },
    {
     "name": "stdout",
     "output_type": "stream",
     "text": [
      "            x  time   id\n",
      "0    4.601234     0  692\n",
      "1    6.049824     1  692\n",
      "2    5.377437     2  692\n",
      "3    5.074397     3  692\n",
      "4    5.844805     4  692\n",
      "..        ...   ...  ...\n",
      "128  6.037972   128  692\n",
      "129  6.124117   129  692\n",
      "130  5.066382   130  692\n",
      "131  5.442420   131  692\n",
      "132  5.852876   132  692\n",
      "\n",
      "[133 rows x 3 columns]\n"
     ]
    },
    {
     "name": "stderr",
     "output_type": "stream",
     "text": [
      "Feature Extraction: 100%|██████████| 1/1 [00:00<00:00, 53.44it/s]\n"
     ]
    },
    {
     "name": "stdout",
     "output_type": "stream",
     "text": [
      "            x  time   id\n",
      "0    6.231425     0  693\n",
      "1    5.704054     1  693\n",
      "2    5.513971     2  693\n",
      "3    6.220728     3  693\n",
      "4    6.231840     4  693\n",
      "..        ...   ...  ...\n",
      "127  6.190408   127  693\n",
      "128  6.231785   128  693\n",
      "129  5.533622   129  693\n",
      "130  5.889433   130  693\n",
      "131  6.231549   131  693\n",
      "\n",
      "[132 rows x 3 columns]\n"
     ]
    },
    {
     "name": "stderr",
     "output_type": "stream",
     "text": [
      "Feature Extraction: 100%|██████████| 1/1 [00:00<00:00, 41.10it/s]\n"
     ]
    },
    {
     "name": "stdout",
     "output_type": "stream",
     "text": [
      "            x  time   id\n",
      "0    6.231991     0  694\n",
      "1    5.647563     1  694\n",
      "2    5.385403     2  694\n",
      "3    6.142468     3  694\n",
      "4    6.167053     4  694\n",
      "..        ...   ...  ...\n",
      "127  6.177395   127  694\n",
      "128  6.231544   128  694\n",
      "129  5.306515   129  694\n",
      "130  5.686877   130  694\n",
      "131  6.166825   131  694\n",
      "\n",
      "[132 rows x 3 columns]\n"
     ]
    },
    {
     "name": "stderr",
     "output_type": "stream",
     "text": [
      "Feature Extraction: 100%|██████████| 1/1 [00:00<00:00, 46.12it/s]\n"
     ]
    },
    {
     "name": "stdout",
     "output_type": "stream",
     "text": [
      "            x  time   id\n",
      "0    6.231931     0  695\n",
      "1    5.790134     1  695\n",
      "2    5.622442     2  695\n",
      "3    6.231992     3  695\n",
      "4    6.231162     4  695\n",
      "..        ...   ...  ...\n",
      "127  6.194011   127  695\n",
      "128  6.231618   128  695\n",
      "129  5.578900   129  695\n",
      "130  5.891215   130  695\n",
      "131  6.231735   131  695\n",
      "\n",
      "[132 rows x 3 columns]\n"
     ]
    },
    {
     "name": "stderr",
     "output_type": "stream",
     "text": [
      "Feature Extraction: 100%|██████████| 1/1 [00:00<00:00, 54.67it/s]\n"
     ]
    },
    {
     "name": "stdout",
     "output_type": "stream",
     "text": [
      "            x  time   id\n",
      "0    6.232019     0  696\n",
      "1    5.730111     1  696\n",
      "2    5.527644     2  696\n",
      "3    6.231548     3  696\n",
      "4    6.231444     4  696\n",
      "..        ...   ...  ...\n",
      "127  6.192273   127  696\n",
      "128  6.231872   128  696\n",
      "129  5.495082   129  696\n",
      "130  5.852261   130  696\n",
      "131  6.231880   131  696\n",
      "\n",
      "[132 rows x 3 columns]\n"
     ]
    },
    {
     "name": "stderr",
     "output_type": "stream",
     "text": [
      "Feature Extraction: 100%|██████████| 1/1 [00:00<00:00, 48.94it/s]"
     ]
    },
    {
     "name": "stdout",
     "output_type": "stream",
     "text": [
      "            x  time   id\n",
      "0    6.231830     0  697\n",
      "1    5.724019     1  697\n",
      "2    5.507231     2  697\n",
      "3    6.231163     3  697\n",
      "4    6.231350     4  697\n",
      "..        ...   ...  ...\n",
      "127  6.189823   127  697\n",
      "128  6.231821   128  697\n",
      "129  5.528730   129  697\n",
      "130  5.858073   130  697\n",
      "131  6.231784   131  697\n",
      "\n",
      "[132 rows x 3 columns]\n"
     ]
    },
    {
     "name": "stderr",
     "output_type": "stream",
     "text": [
      "\n",
      "Feature Extraction: 100%|██████████| 1/1 [00:00<00:00, 47.17it/s]"
     ]
    },
    {
     "name": "stdout",
     "output_type": "stream",
     "text": [
      "            x  time   id\n",
      "0    0.547503     0  698\n",
      "1    0.465090     1  698\n",
      "2    0.777017     2  698\n",
      "3    0.901266     3  698\n",
      "4    0.671073     4  698\n",
      "..        ...   ...  ...\n",
      "165  0.396787   165  698\n",
      "166  0.440136   166  698\n",
      "167  0.465537   167  698\n",
      "168  0.371267   168  698\n",
      "169  0.412416   169  698\n",
      "\n",
      "[170 rows x 3 columns]\n"
     ]
    },
    {
     "name": "stderr",
     "output_type": "stream",
     "text": [
      "\n",
      "Feature Extraction: 100%|██████████| 1/1 [00:00<00:00, 40.78it/s]\n"
     ]
    },
    {
     "name": "stdout",
     "output_type": "stream",
     "text": [
      "            x  time   id\n",
      "0    0.755138     0  699\n",
      "1    0.702138     1  699\n",
      "2    0.892230     2  699\n",
      "3    0.987630     3  699\n",
      "4    0.832959     4  699\n",
      "..        ...   ...  ...\n",
      "164  0.662787   164  699\n",
      "165  0.689993   165  699\n",
      "166  0.706946   166  699\n",
      "167  0.641889   167  699\n",
      "168  0.669950   168  699\n",
      "\n",
      "[169 rows x 3 columns]\n"
     ]
    },
    {
     "name": "stderr",
     "output_type": "stream",
     "text": [
      "Feature Extraction: 100%|██████████| 1/1 [00:00<00:00, 44.67it/s]\n"
     ]
    },
    {
     "name": "stdout",
     "output_type": "stream",
     "text": [
      "           x  time   id\n",
      "0   4.747036     0  700\n",
      "1   4.839331     1  700\n",
      "2   4.849440     2  700\n",
      "3   4.919014     3  700\n",
      "4   4.866874     4  700\n",
      "5   4.921260     5  700\n",
      "6   4.869659     6  700\n",
      "7   4.846413     7  700\n",
      "8   4.917377     8  700\n",
      "9   4.908787     9  700\n",
      "10  4.883952    10  700\n",
      "11  4.875927    11  700\n",
      "12  4.996143    12  700\n",
      "13  4.963875    13  700\n",
      "14  4.975057    14  700\n",
      "15  4.942825    15  700\n",
      "16  5.180351    16  700\n",
      "17  4.930683    17  700\n",
      "18  4.984017    18  700\n",
      "19  4.763629    19  700\n",
      "20  4.456235    20  700\n",
      "21  4.495488    21  700\n",
      "22  4.552596    22  700\n",
      "23  4.585816    23  700\n",
      "24  4.697818    24  700\n",
      "25  4.653000    25  700\n",
      "26  4.619844    26  700\n",
      "27  4.680777    27  700\n",
      "28  4.653266    28  700\n",
      "29  4.214307    29  700\n"
     ]
    },
    {
     "name": "stderr",
     "output_type": "stream",
     "text": [
      "Feature Extraction: 100%|██████████| 1/1 [00:00<00:00, 110.01it/s]\n"
     ]
    },
    {
     "name": "stdout",
     "output_type": "stream",
     "text": [
      "           x  time   id\n",
      "0   4.846208     0  701\n",
      "1   4.902285     1  701\n",
      "2   4.938965     2  701\n",
      "3   5.021774     3  701\n",
      "4   4.990300     4  701\n",
      "5   5.098761     5  701\n",
      "6   5.027060     6  701\n",
      "7   5.037092     7  701\n",
      "8   5.087186     8  701\n",
      "9   5.065224     9  701\n",
      "10  5.088911    10  701\n",
      "11  5.077661    11  701\n",
      "12  5.157622    12  701\n",
      "13  5.151445    13  701\n",
      "14  5.207743    14  701\n",
      "15  5.106772    15  701\n",
      "16  5.325646    16  701\n",
      "17  5.108641    17  701\n",
      "18  5.173440    18  701\n",
      "19  5.026072    19  701\n",
      "20  4.613622    20  701\n",
      "21  4.679940    21  701\n",
      "22  4.751502    22  701\n",
      "23  4.709900    23  701\n",
      "24  4.867995    24  701\n",
      "25  4.828082    25  701\n",
      "26  4.740664    26  701\n",
      "27  4.815190    27  701\n",
      "28  4.770884    28  701\n",
      "29  4.358688    29  701\n"
     ]
    },
    {
     "name": "stderr",
     "output_type": "stream",
     "text": [
      "Feature Extraction: 100%|██████████| 1/1 [00:00<00:00, 93.56it/s]"
     ]
    },
    {
     "name": "stdout",
     "output_type": "stream",
     "text": [
      "            x  time   id\n",
      "0    5.794489     0  702\n",
      "1    5.800034     1  702\n",
      "2    5.804962     2  702\n",
      "3    5.803063     3  702\n",
      "4    5.810089     4  702\n",
      "..        ...   ...  ...\n",
      "190  5.822985   190  702\n",
      "191  5.818028   191  702\n",
      "192  5.818783   192  702\n",
      "193  5.818707   193  702\n",
      "194  5.793445   194  702\n",
      "\n",
      "[195 rows x 3 columns]\n"
     ]
    },
    {
     "name": "stderr",
     "output_type": "stream",
     "text": [
      "\n",
      "Feature Extraction: 100%|██████████| 1/1 [00:00<00:00, 43.65it/s]"
     ]
    },
    {
     "name": "stdout",
     "output_type": "stream",
     "text": [
      "            x  time   id\n",
      "0    6.144471     0  703\n",
      "1    6.162606     1  703\n",
      "2    6.167160     2  703\n",
      "3    6.149110     3  703\n",
      "4    6.189043     4  703\n",
      "..        ...   ...  ...\n",
      "191  6.171401   191  703\n",
      "192  6.164125   192  703\n",
      "193  6.171548   193  703\n",
      "194  6.159921   194  703\n",
      "195  6.149677   195  703\n",
      "\n",
      "[196 rows x 3 columns]\n"
     ]
    },
    {
     "name": "stderr",
     "output_type": "stream",
     "text": [
      "\n",
      "Feature Extraction: 100%|██████████| 1/1 [00:00<00:00, 44.34it/s]"
     ]
    },
    {
     "name": "stdout",
     "output_type": "stream",
     "text": [
      "            x  time   id\n",
      "0    6.210648     0  704\n",
      "1    6.228241     1  704\n",
      "2    6.226046     2  704\n",
      "3    6.229526     3  704\n",
      "4    6.229213     4  704\n",
      "..        ...   ...  ...\n",
      "191  6.231303   191  704\n",
      "192  6.219492   192  704\n",
      "193  6.223990   193  704\n",
      "194  6.231296   194  704\n",
      "195  6.195750   195  704\n",
      "\n",
      "[196 rows x 3 columns]\n"
     ]
    },
    {
     "name": "stderr",
     "output_type": "stream",
     "text": [
      "\n",
      "Feature Extraction: 100%|██████████| 1/1 [00:00<00:00, 42.10it/s]"
     ]
    },
    {
     "name": "stdout",
     "output_type": "stream",
     "text": [
      "            x  time   id\n",
      "0    5.889249     0  705\n",
      "1    5.925516     1  705\n",
      "2    5.918672     2  705\n",
      "3    5.930615     3  705\n",
      "4    5.936212     4  705\n",
      "..        ...   ...  ...\n",
      "191  5.935069   191  705\n",
      "192  5.913170   192  705\n",
      "193  5.912134   193  705\n",
      "194  5.937876   194  705\n",
      "195  5.884957   195  705\n",
      "\n",
      "[196 rows x 3 columns]\n"
     ]
    },
    {
     "name": "stderr",
     "output_type": "stream",
     "text": [
      "\n",
      "Feature Extraction: 100%|██████████| 1/1 [00:00<00:00, 41.47it/s]\n"
     ]
    },
    {
     "name": "stdout",
     "output_type": "stream",
     "text": [
      "            x  time   id\n",
      "0    5.974219     0  706\n",
      "1    5.989337     1  706\n",
      "2    6.001714     2  706\n",
      "3    5.976958     3  706\n",
      "4    6.004529     4  706\n",
      "..        ...   ...  ...\n",
      "191  5.997787   191  706\n",
      "192  5.985235   192  706\n",
      "193  6.011826   193  706\n",
      "194  5.983943   194  706\n",
      "195  5.969313   195  706\n",
      "\n",
      "[196 rows x 3 columns]\n"
     ]
    },
    {
     "name": "stderr",
     "output_type": "stream",
     "text": [
      "Feature Extraction: 100%|██████████| 1/1 [00:00<00:00, 48.09it/s]\n"
     ]
    },
    {
     "name": "stdout",
     "output_type": "stream",
     "text": [
      "            x  time   id\n",
      "0    5.868192     0  707\n",
      "1    5.881012     1  707\n",
      "2    5.882354     2  707\n",
      "3    5.882034     3  707\n",
      "4    5.890456     4  707\n",
      "..        ...   ...  ...\n",
      "191  5.884731   191  707\n",
      "192  5.871495   192  707\n",
      "193  5.880466   193  707\n",
      "194  5.884770   194  707\n",
      "195  5.850656   195  707\n",
      "\n",
      "[196 rows x 3 columns]\n"
     ]
    },
    {
     "name": "stderr",
     "output_type": "stream",
     "text": [
      "Feature Extraction: 100%|██████████| 1/1 [00:00<00:00, 45.12it/s]\n"
     ]
    },
    {
     "name": "stdout",
     "output_type": "stream",
     "text": [
      "             x  time   id\n",
      "0     5.258371     0  708\n",
      "1     5.190436     1  708\n",
      "2     5.190386     2  708\n",
      "3     5.196066     3  708\n",
      "4     5.225186     4  708\n",
      "...        ...   ...  ...\n",
      "1412  5.185929  1412  708\n",
      "1413  5.193477  1413  708\n",
      "1414  5.208854  1414  708\n",
      "1415  5.199986  1415  708\n",
      "1416  5.237282  1416  708\n",
      "\n",
      "[1417 rows x 3 columns]\n"
     ]
    },
    {
     "name": "stderr",
     "output_type": "stream",
     "text": [
      "Feature Extraction: 100%|██████████| 1/1 [00:00<00:00,  3.88it/s]"
     ]
    },
    {
     "name": "stdout",
     "output_type": "stream",
     "text": [
      "             x  time   id\n",
      "0     5.510255     0  709\n",
      "1     5.463065     1  709\n",
      "2     5.461716     2  709\n",
      "3     5.460180     3  709\n",
      "4     5.487621     4  709\n",
      "...        ...   ...  ...\n",
      "1412  5.470660  1412  709\n",
      "1413  5.481060  1413  709\n",
      "1414  5.490200  1414  709\n",
      "1415  5.479309  1415  709\n",
      "1416  5.508570  1416  709\n",
      "\n",
      "[1417 rows x 3 columns]\n"
     ]
    },
    {
     "name": "stderr",
     "output_type": "stream",
     "text": [
      "\n",
      "Feature Extraction: 100%|██████████| 1/1 [00:00<00:00,  3.67it/s]"
     ]
    },
    {
     "name": "stdout",
     "output_type": "stream",
     "text": [
      "             x  time   id\n",
      "0     4.989008     0  710\n",
      "1     4.925535     1  710\n",
      "2     4.926733     2  710\n",
      "3     4.932929     3  710\n",
      "4     4.962875     4  710\n",
      "...        ...   ...  ...\n",
      "1412  4.921987  1412  710\n",
      "1413  4.936643  1413  710\n",
      "1414  4.944797  1414  710\n",
      "1415  4.937272  1415  710\n",
      "1416  4.968239  1416  710\n",
      "\n",
      "[1417 rows x 3 columns]\n"
     ]
    },
    {
     "name": "stderr",
     "output_type": "stream",
     "text": [
      "\n",
      "Feature Extraction: 100%|██████████| 1/1 [00:00<00:00,  4.39it/s]"
     ]
    },
    {
     "name": "stdout",
     "output_type": "stream",
     "text": [
      "             x  time   id\n",
      "0     5.798074     0  711\n",
      "1     5.733840     1  711\n",
      "2     5.732964     2  711\n",
      "3     5.735938     3  711\n",
      "4     5.768404     4  711\n",
      "...        ...   ...  ...\n",
      "1412  5.746888  1412  711\n",
      "1413  5.757505  1413  711\n",
      "1414  5.767838  1414  711\n",
      "1415  5.757443  1415  711\n",
      "1416  5.787995  1416  711\n",
      "\n",
      "[1417 rows x 3 columns]\n"
     ]
    },
    {
     "name": "stderr",
     "output_type": "stream",
     "text": [
      "\n",
      "Feature Extraction: 100%|██████████| 1/1 [00:00<00:00,  4.26it/s]"
     ]
    },
    {
     "name": "stdout",
     "output_type": "stream",
     "text": [
      "             x  time   id\n",
      "0     5.635813     0  712\n",
      "1     5.541818     1  712\n",
      "2     5.523785     2  712\n",
      "3     5.578375     3  712\n",
      "4     5.568197     4  712\n",
      "...        ...   ...  ...\n",
      "1412  5.506746  1412  712\n",
      "1413  5.548314  1413  712\n",
      "1414  5.543875  1414  712\n",
      "1415  5.521031  1415  712\n",
      "1416  5.592458  1416  712\n",
      "\n",
      "[1417 rows x 3 columns]\n"
     ]
    },
    {
     "name": "stderr",
     "output_type": "stream",
     "text": [
      "\n",
      "Feature Extraction: 100%|██████████| 1/1 [00:00<00:00,  3.91it/s]"
     ]
    },
    {
     "name": "stdout",
     "output_type": "stream",
     "text": [
      "             x  time   id\n",
      "0     5.584495     0  713\n",
      "1     5.514011     1  713\n",
      "2     5.495442     2  713\n",
      "3     5.544383     3  713\n",
      "4     5.534866     4  713\n",
      "...        ...   ...  ...\n",
      "1412  5.468084  1412  713\n",
      "1413  5.507348  1413  713\n",
      "1414  5.504519  1414  713\n",
      "1415  5.479749  1415  713\n",
      "1416  5.540349  1416  713\n",
      "\n",
      "[1417 rows x 3 columns]\n"
     ]
    },
    {
     "name": "stderr",
     "output_type": "stream",
     "text": [
      "\n",
      "Feature Extraction: 100%|██████████| 1/1 [00:00<00:00,  3.98it/s]"
     ]
    },
    {
     "name": "stdout",
     "output_type": "stream",
     "text": [
      "             x  time   id\n",
      "0     5.705769     0  714\n",
      "1     5.637093     1  714\n",
      "2     5.637472     2  714\n",
      "3     5.644952     3  714\n",
      "4     5.673971     4  714\n",
      "...        ...   ...  ...\n",
      "1412  5.624627  1412  714\n",
      "1413  5.635550  1413  714\n",
      "1414  5.645722  1414  714\n",
      "1415  5.634790  1415  714\n",
      "1416  5.668413  1416  714\n",
      "\n",
      "[1417 rows x 3 columns]\n"
     ]
    },
    {
     "name": "stderr",
     "output_type": "stream",
     "text": [
      "\n",
      "Feature Extraction: 100%|██████████| 1/1 [00:00<00:00,  3.88it/s]"
     ]
    },
    {
     "name": "stdout",
     "output_type": "stream",
     "text": [
      "             x  time   id\n",
      "0     5.928325     0  715\n",
      "1     5.877451     1  715\n",
      "2     5.873908     2  715\n",
      "3     5.878100     3  715\n",
      "4     5.902416     4  715\n",
      "...        ...   ...  ...\n",
      "1412  5.850750  1412  715\n",
      "1413  5.858840  1413  715\n",
      "1414  5.868317  1414  715\n",
      "1415  5.858562  1415  715\n",
      "1416  5.886077  1416  715\n",
      "\n",
      "[1417 rows x 3 columns]\n"
     ]
    },
    {
     "name": "stderr",
     "output_type": "stream",
     "text": [
      "\n",
      "Feature Extraction: 100%|██████████| 1/1 [00:00<00:00,  4.26it/s]"
     ]
    },
    {
     "name": "stdout",
     "output_type": "stream",
     "text": [
      "            x  time   id\n",
      "0    0.403841     0  716\n",
      "1    0.419000     1  716\n",
      "2    0.397079     2  716\n",
      "3    0.495091     3  716\n",
      "4    0.348854     4  716\n",
      "..        ...   ...  ...\n",
      "173  0.364651   173  716\n",
      "174  0.352022   174  716\n",
      "175  0.378550   175  716\n",
      "176  0.422150   176  716\n",
      "177  0.340871   177  716\n",
      "\n",
      "[178 rows x 3 columns]\n"
     ]
    },
    {
     "name": "stderr",
     "output_type": "stream",
     "text": [
      "\n",
      "Feature Extraction: 100%|██████████| 1/1 [00:00<00:00, 47.20it/s]"
     ]
    },
    {
     "name": "stdout",
     "output_type": "stream",
     "text": [
      "            x  time   id\n",
      "0    0.865973     0  717\n",
      "1    0.887241     1  717\n",
      "2    0.869185     2  717\n",
      "3    0.927540     3  717\n",
      "4    0.842347     4  717\n",
      "..        ...   ...  ...\n",
      "173  0.878891   173  717\n",
      "174  0.872922   174  717\n",
      "175  0.877284   175  717\n",
      "176  0.907470   176  717\n",
      "177  0.871529   177  717\n",
      "\n",
      "[178 rows x 3 columns]\n"
     ]
    },
    {
     "name": "stderr",
     "output_type": "stream",
     "text": [
      "\n",
      "Feature Extraction: 100%|██████████| 1/1 [00:00<00:00, 43.64it/s]"
     ]
    },
    {
     "name": "stdout",
     "output_type": "stream",
     "text": [
      "            x  time   id\n",
      "0    5.869812     0  718\n",
      "1    5.894225     1  718\n",
      "2    5.909385     2  718\n",
      "3    5.913630     3  718\n",
      "4    5.911639     4  718\n",
      "..        ...   ...  ...\n",
      "158  5.937833   158  718\n",
      "159  5.916009   159  718\n",
      "160  5.940359   160  718\n",
      "161  5.932377   161  718\n",
      "162  5.929823   162  718\n",
      "\n",
      "[163 rows x 3 columns]\n"
     ]
    },
    {
     "name": "stderr",
     "output_type": "stream",
     "text": [
      "\n",
      "Feature Extraction: 100%|██████████| 1/1 [00:00<00:00, 45.59it/s]\n"
     ]
    },
    {
     "name": "stdout",
     "output_type": "stream",
     "text": [
      "            x  time   id\n",
      "0    6.072029     0  719\n",
      "1    6.099923     1  719\n",
      "2    6.137200     2  719\n",
      "3    6.145409     3  719\n",
      "4    6.127252     4  719\n",
      "..        ...   ...  ...\n",
      "158  6.161838   158  719\n",
      "159  6.146281   159  719\n",
      "160  6.177826   160  719\n",
      "161  6.164048   161  719\n",
      "162  6.156576   162  719\n",
      "\n",
      "[163 rows x 3 columns]\n"
     ]
    },
    {
     "name": "stderr",
     "output_type": "stream",
     "text": [
      "Feature Extraction: 100%|██████████| 1/1 [00:00<00:00, 50.67it/s]"
     ]
    },
    {
     "name": "stdout",
     "output_type": "stream",
     "text": [
      "            x  time   id\n",
      "0    6.113312     0  720\n",
      "1    6.172854     1  720\n",
      "2    6.191073     2  720\n",
      "3    6.215761     3  720\n",
      "4    6.221963     4  720\n",
      "..        ...   ...  ...\n",
      "158  6.219816   158  720\n",
      "159  6.205958   159  720\n",
      "160  6.226435   160  720\n",
      "161  6.213714   161  720\n",
      "162  6.219455   162  720\n",
      "\n",
      "[163 rows x 3 columns]\n"
     ]
    },
    {
     "name": "stderr",
     "output_type": "stream",
     "text": [
      "\n",
      "Feature Extraction: 100%|██████████| 1/1 [00:00<00:00, 51.22it/s]"
     ]
    },
    {
     "name": "stdout",
     "output_type": "stream",
     "text": [
      "            x  time   id\n",
      "0    6.231796     0  721\n",
      "1    6.231857     1  721\n",
      "2    6.231915     2  721\n",
      "3    6.232098     3  721\n",
      "4    6.231971     4  721\n",
      "..        ...   ...  ...\n",
      "158  6.230958   158  721\n",
      "159  6.225849   159  721\n",
      "160  6.231878   160  721\n",
      "161  6.229094   161  721\n",
      "162  6.230962   162  721\n",
      "\n",
      "[163 rows x 3 columns]\n"
     ]
    },
    {
     "name": "stderr",
     "output_type": "stream",
     "text": [
      "\n",
      "Feature Extraction: 100%|██████████| 1/1 [00:00<00:00, 49.26it/s]"
     ]
    },
    {
     "name": "stdout",
     "output_type": "stream",
     "text": [
      "            x  time   id\n",
      "0    5.659367     0  722\n",
      "1    5.670693     1  722\n",
      "2    5.698948     2  722\n",
      "3    5.722461     3  722\n",
      "4    5.704036     4  722\n",
      "..        ...   ...  ...\n",
      "158  5.751549   158  722\n",
      "159  5.736070   159  722\n",
      "160  5.768946   160  722\n",
      "161  5.757654   161  722\n",
      "162  5.747613   162  722\n",
      "\n",
      "[163 rows x 3 columns]\n"
     ]
    },
    {
     "name": "stderr",
     "output_type": "stream",
     "text": [
      "\n",
      "Feature Extraction: 100%|██████████| 1/1 [00:00<00:00, 50.71it/s]"
     ]
    },
    {
     "name": "stdout",
     "output_type": "stream",
     "text": [
      "            x  time   id\n",
      "0    6.098789     0  723\n",
      "1    6.186449     1  723\n",
      "2    6.206254     2  723\n",
      "3    6.210611     3  723\n",
      "4    6.204345     4  723\n",
      "..        ...   ...  ...\n",
      "158  6.216217   158  723\n",
      "159  6.201858   159  723\n",
      "160  6.222529   160  723\n",
      "161  6.212915   161  723\n",
      "162  6.211227   162  723\n",
      "\n",
      "[163 rows x 3 columns]\n"
     ]
    },
    {
     "name": "stderr",
     "output_type": "stream",
     "text": [
      "\n",
      "Feature Extraction: 100%|██████████| 1/1 [00:00<00:00, 48.74it/s]"
     ]
    },
    {
     "name": "stdout",
     "output_type": "stream",
     "text": [
      "            x  time   id\n",
      "0    5.685574     0  724\n",
      "1    5.709118     1  724\n",
      "2    5.722312     2  724\n",
      "3    5.725976     3  724\n",
      "4    5.742207     4  724\n",
      "..        ...   ...  ...\n",
      "155  5.752875   155  724\n",
      "156  5.754793   156  724\n",
      "157  5.746611   157  724\n",
      "158  5.723587   158  724\n",
      "159  5.755627   159  724\n",
      "\n",
      "[160 rows x 3 columns]\n"
     ]
    },
    {
     "name": "stderr",
     "output_type": "stream",
     "text": [
      "\n",
      "Feature Extraction: 100%|██████████| 1/1 [00:00<00:00, 45.45it/s]"
     ]
    },
    {
     "name": "stdout",
     "output_type": "stream",
     "text": [
      "            x  time   id\n",
      "0    5.824938     0  725\n",
      "1    5.922424     1  725\n",
      "2    5.964699     2  725\n",
      "3    5.975057     3  725\n",
      "4    6.021584     4  725\n",
      "..        ...   ...  ...\n",
      "155  6.109519   155  725\n",
      "156  6.118640   156  725\n",
      "157  6.096710   157  725\n",
      "158  6.088477   158  725\n",
      "159  6.118643   159  725\n",
      "\n",
      "[160 rows x 3 columns]\n"
     ]
    },
    {
     "name": "stderr",
     "output_type": "stream",
     "text": [
      "\n",
      "Feature Extraction: 100%|██████████| 1/1 [00:00<00:00, 47.23it/s]\n"
     ]
    },
    {
     "name": "stdout",
     "output_type": "stream",
     "text": [
      "            x  time   id\n",
      "0    6.003796     0  726\n",
      "1    6.054977     1  726\n",
      "2    6.064594     2  726\n",
      "3    6.074442     3  726\n",
      "4    6.085286     4  726\n",
      "..        ...   ...  ...\n",
      "155  6.094896   155  726\n",
      "156  6.096614   156  726\n",
      "157  6.093023   157  726\n",
      "158  6.068225   158  726\n",
      "159  6.090527   159  726\n",
      "\n",
      "[160 rows x 3 columns]\n"
     ]
    },
    {
     "name": "stderr",
     "output_type": "stream",
     "text": [
      "Feature Extraction: 100%|██████████| 1/1 [00:00<00:00, 47.77it/s]\n"
     ]
    },
    {
     "name": "stdout",
     "output_type": "stream",
     "text": [
      "            x  time   id\n",
      "0    6.208055     0  727\n",
      "1    6.230429     1  727\n",
      "2    6.231953     2  727\n",
      "3    6.231566     3  727\n",
      "4    6.231982     4  727\n",
      "..        ...   ...  ...\n",
      "155  6.231987   155  727\n",
      "156  6.231972   156  727\n",
      "157  6.231481   157  727\n",
      "158  6.214749   158  727\n",
      "159  6.231839   159  727\n",
      "\n",
      "[160 rows x 3 columns]\n"
     ]
    },
    {
     "name": "stderr",
     "output_type": "stream",
     "text": [
      "Feature Extraction: 100%|██████████| 1/1 [00:00<00:00, 47.32it/s]\n"
     ]
    },
    {
     "name": "stdout",
     "output_type": "stream",
     "text": [
      "            x  time   id\n",
      "0    6.109736     0  728\n",
      "1    6.143426     1  728\n",
      "2    6.142135     2  728\n",
      "3    6.127003     3  728\n",
      "4    6.151420     4  728\n",
      "..        ...   ...  ...\n",
      "155  6.176141   155  728\n",
      "156  6.175667   156  728\n",
      "157  6.159741   157  728\n",
      "158  6.153809   158  728\n",
      "159  6.179482   159  728\n",
      "\n",
      "[160 rows x 3 columns]\n"
     ]
    },
    {
     "name": "stderr",
     "output_type": "stream",
     "text": [
      "Feature Extraction: 100%|██████████| 1/1 [00:00<00:00, 50.36it/s]\n"
     ]
    },
    {
     "name": "stdout",
     "output_type": "stream",
     "text": [
      "            x  time   id\n",
      "0    6.043181     0  729\n",
      "1    6.122512     1  729\n",
      "2    6.156708     2  729\n",
      "3    6.173393     3  729\n",
      "4    6.186578     4  729\n",
      "..        ...   ...  ...\n",
      "155  6.211538   155  729\n",
      "156  6.212049   156  729\n",
      "157  6.206301   157  729\n",
      "158  6.186366   158  729\n",
      "159  6.212815   159  729\n",
      "\n",
      "[160 rows x 3 columns]\n"
     ]
    },
    {
     "name": "stderr",
     "output_type": "stream",
     "text": [
      "Feature Extraction: 100%|██████████| 1/1 [00:00<00:00, 51.96it/s]\n"
     ]
    },
    {
     "name": "stdout",
     "output_type": "stream",
     "text": [
      "            x  time   id\n",
      "0    5.783533     0  730\n",
      "1    5.827236     1  730\n",
      "2    5.807283     2  730\n",
      "3    5.799694     3  730\n",
      "4    5.788347     4  730\n",
      "..        ...   ...  ...\n",
      "158  5.792728   158  730\n",
      "159  5.789212   159  730\n",
      "160  5.782306   160  730\n",
      "161  5.795591   161  730\n",
      "162  5.791809   162  730\n",
      "\n",
      "[163 rows x 3 columns]\n"
     ]
    },
    {
     "name": "stderr",
     "output_type": "stream",
     "text": [
      "Feature Extraction: 100%|██████████| 1/1 [00:00<00:00, 52.52it/s]\n"
     ]
    },
    {
     "name": "stdout",
     "output_type": "stream",
     "text": [
      "            x  time   id\n",
      "0    6.171060     0  731\n",
      "1    6.186787     1  731\n",
      "2    6.173832     2  731\n",
      "3    6.159262     3  731\n",
      "4    6.146348     4  731\n",
      "..        ...   ...  ...\n",
      "158  6.163854   158  731\n",
      "159  6.145894   159  731\n",
      "160  6.149395   160  731\n",
      "161  6.164087   161  731\n",
      "162  6.159945   162  731\n",
      "\n",
      "[163 rows x 3 columns]\n"
     ]
    },
    {
     "name": "stderr",
     "output_type": "stream",
     "text": [
      "Feature Extraction: 100%|██████████| 1/1 [00:00<00:00, 44.84it/s]\n"
     ]
    },
    {
     "name": "stdout",
     "output_type": "stream",
     "text": [
      "            x  time   id\n",
      "0    5.992463     0  732\n",
      "1    6.145369     1  732\n",
      "2    6.182930     2  732\n",
      "3    6.184058     3  732\n",
      "4    6.198467     4  732\n",
      "..        ...   ...  ...\n",
      "158  6.187986   158  732\n",
      "159  6.192000   159  732\n",
      "160  6.186507   160  732\n",
      "161  6.197931   161  732\n",
      "162  6.195673   162  732\n",
      "\n",
      "[163 rows x 3 columns]\n"
     ]
    },
    {
     "name": "stderr",
     "output_type": "stream",
     "text": [
      "Feature Extraction: 100%|██████████| 1/1 [00:00<00:00, 40.48it/s]\n"
     ]
    },
    {
     "name": "stdout",
     "output_type": "stream",
     "text": [
      "            x  time   id\n",
      "0    5.649339     0  733\n",
      "1    5.769394     1  733\n",
      "2    5.812386     2  733\n",
      "3    5.817107     3  733\n",
      "4    5.861303     4  733\n",
      "..        ...   ...  ...\n",
      "158  5.857356   158  733\n",
      "159  5.849215   159  733\n",
      "160  5.840653   160  733\n",
      "161  5.864022   161  733\n",
      "162  5.852948   162  733\n",
      "\n",
      "[163 rows x 3 columns]\n"
     ]
    },
    {
     "name": "stderr",
     "output_type": "stream",
     "text": [
      "Feature Extraction: 100%|██████████| 1/1 [00:00<00:00, 38.16it/s]\n"
     ]
    },
    {
     "name": "stdout",
     "output_type": "stream",
     "text": [
      "            x  time   id\n",
      "0    5.827693     0  734\n",
      "1    5.943712     1  734\n",
      "2    5.964957     2  734\n",
      "3    5.967447     3  734\n",
      "4    5.956394     4  734\n",
      "..        ...   ...  ...\n",
      "158  5.986510   158  734\n",
      "159  5.982053   159  734\n",
      "160  5.971285   160  734\n",
      "161  5.991586   161  734\n",
      "162  5.992457   162  734\n",
      "\n",
      "[163 rows x 3 columns]\n"
     ]
    },
    {
     "name": "stderr",
     "output_type": "stream",
     "text": [
      "Feature Extraction: 100%|██████████| 1/1 [00:00<00:00, 40.91it/s]\n"
     ]
    },
    {
     "name": "stdout",
     "output_type": "stream",
     "text": [
      "            x  time   id\n",
      "0    5.735736     0  735\n",
      "1    5.804029     1  735\n",
      "2    5.831407     2  735\n",
      "3    5.834837     3  735\n",
      "4    5.840035     4  735\n",
      "..        ...   ...  ...\n",
      "158  5.849713   158  735\n",
      "159  5.848001   159  735\n",
      "160  5.836843   160  735\n",
      "161  5.855797   161  735\n",
      "162  5.851674   162  735\n",
      "\n",
      "[163 rows x 3 columns]\n"
     ]
    },
    {
     "name": "stderr",
     "output_type": "stream",
     "text": [
      "Feature Extraction: 100%|██████████| 1/1 [00:00<00:00, 43.58it/s]\n"
     ]
    },
    {
     "name": "stdout",
     "output_type": "stream",
     "text": [
      "            x  time   id\n",
      "0    5.741577     0  736\n",
      "1    5.748159     1  736\n",
      "2    5.726249     2  736\n",
      "3    5.734447     3  736\n",
      "4    5.748365     4  736\n",
      "..        ...   ...  ...\n",
      "157  5.748070   157  736\n",
      "158  5.730704   158  736\n",
      "159  5.751898   159  736\n",
      "160  5.748312   160  736\n",
      "161  5.734819   161  736\n",
      "\n",
      "[162 rows x 3 columns]\n"
     ]
    },
    {
     "name": "stderr",
     "output_type": "stream",
     "text": [
      "Feature Extraction: 100%|██████████| 1/1 [00:00<00:00, 38.38it/s]"
     ]
    },
    {
     "name": "stdout",
     "output_type": "stream",
     "text": [
      "            x  time   id\n",
      "0    6.066464     0  737\n",
      "1    6.114965     1  737\n",
      "2    6.059820     2  737\n",
      "3    6.063460     3  737\n",
      "4    6.099858     4  737\n",
      "..        ...   ...  ...\n",
      "157  6.090403   157  737\n",
      "158  6.054318   158  737\n",
      "159  6.095278   159  737\n",
      "160  6.097830   160  737\n",
      "161  6.049056   161  737\n",
      "\n",
      "[162 rows x 3 columns]\n"
     ]
    },
    {
     "name": "stderr",
     "output_type": "stream",
     "text": [
      "\n",
      "Feature Extraction: 100%|██████████| 1/1 [00:00<00:00, 42.03it/s]\n"
     ]
    },
    {
     "name": "stdout",
     "output_type": "stream",
     "text": [
      "            x  time   id\n",
      "0    6.085952     0  738\n",
      "1    6.107929     1  738\n",
      "2    6.084007     2  738\n",
      "3    6.085404     3  738\n",
      "4    6.094675     4  738\n",
      "..        ...   ...  ...\n",
      "157  6.090012   157  738\n",
      "158  6.073883   158  738\n",
      "159  6.084675   159  738\n",
      "160  6.084287   160  738\n",
      "161  6.067653   161  738\n",
      "\n",
      "[162 rows x 3 columns]\n"
     ]
    },
    {
     "name": "stderr",
     "output_type": "stream",
     "text": [
      "Feature Extraction: 100%|██████████| 1/1 [00:00<00:00, 47.07it/s]\n"
     ]
    },
    {
     "name": "stdout",
     "output_type": "stream",
     "text": [
      "            x  time   id\n",
      "0    6.231762     0  739\n",
      "1    6.230792     1  739\n",
      "2    6.229474     2  739\n",
      "3    6.231983     3  739\n",
      "4    6.231959     4  739\n",
      "..        ...   ...  ...\n",
      "157  6.231268   157  739\n",
      "158  6.232574   158  739\n",
      "159  6.231991   159  739\n",
      "160  6.231857   160  739\n",
      "161  6.231753   161  739\n",
      "\n",
      "[162 rows x 3 columns]\n"
     ]
    },
    {
     "name": "stderr",
     "output_type": "stream",
     "text": [
      "Feature Extraction: 100%|██████████| 1/1 [00:00<00:00, 41.61it/s]\n"
     ]
    },
    {
     "name": "stdout",
     "output_type": "stream",
     "text": [
      "            x  time   id\n",
      "0    6.140617     0  740\n",
      "1    6.158345     1  740\n",
      "2    6.142714     2  740\n",
      "3    6.158032     3  740\n",
      "4    6.161495     4  740\n",
      "..        ...   ...  ...\n",
      "157  6.169758   157  740\n",
      "158  6.166503   158  740\n",
      "159  6.171650   159  740\n",
      "160  6.168602   160  740\n",
      "161  6.162977   161  740\n",
      "\n",
      "[162 rows x 3 columns]\n"
     ]
    },
    {
     "name": "stderr",
     "output_type": "stream",
     "text": [
      "Feature Extraction: 100%|██████████| 1/1 [00:00<00:00, 49.14it/s]\n"
     ]
    },
    {
     "name": "stdout",
     "output_type": "stream",
     "text": [
      "            x  time   id\n",
      "0    6.198786     0  741\n",
      "1    6.208341     1  741\n",
      "2    6.191666     2  741\n",
      "3    6.192436     3  741\n",
      "4    6.204611     4  741\n",
      "..        ...   ...  ...\n",
      "157  6.205003   157  741\n",
      "158  6.189355   158  741\n",
      "159  6.200311   159  741\n",
      "160  6.199704   160  741\n",
      "161  6.187298   161  741\n",
      "\n",
      "[162 rows x 3 columns]\n"
     ]
    },
    {
     "name": "stderr",
     "output_type": "stream",
     "text": [
      "Feature Extraction: 100%|██████████| 1/1 [00:00<00:00, 46.07it/s]\n"
     ]
    },
    {
     "name": "stdout",
     "output_type": "stream",
     "text": [
      "            x  time   id\n",
      "0    2.393494     0  742\n",
      "1    2.394307     1  742\n",
      "2    2.395029     2  742\n",
      "3    2.395062     3  742\n",
      "4    2.394627     4  742\n",
      "..        ...   ...  ...\n",
      "128  2.394171   128  742\n",
      "129  2.393775   129  742\n",
      "130  2.393622   130  742\n",
      "131  2.393939   131  742\n",
      "132  2.396210   132  742\n",
      "\n",
      "[133 rows x 3 columns]\n"
     ]
    },
    {
     "name": "stderr",
     "output_type": "stream",
     "text": [
      "Feature Extraction: 100%|██████████| 1/1 [00:00<00:00, 51.77it/s]"
     ]
    },
    {
     "name": "stdout",
     "output_type": "stream",
     "text": [
      "            x  time   id\n",
      "0    3.160040     0  743\n",
      "1    3.161450     1  743\n",
      "2    3.163470     2  743\n",
      "3    3.167431     3  743\n",
      "4    3.167985     4  743\n",
      "..        ...   ...  ...\n",
      "128  3.163473   128  743\n",
      "129  3.163063   129  743\n",
      "130  3.162879   130  743\n",
      "131  3.162879   131  743\n",
      "132  3.162653   132  743\n",
      "\n",
      "[133 rows x 3 columns]\n"
     ]
    },
    {
     "name": "stderr",
     "output_type": "stream",
     "text": [
      "\n",
      "Feature Extraction: 100%|██████████| 1/1 [00:00<00:00, 53.83it/s]\n"
     ]
    },
    {
     "name": "stdout",
     "output_type": "stream",
     "text": [
      "            x  time   id\n",
      "0    4.422943     0  744\n",
      "1    3.323797     1  744\n",
      "2    4.245662     2  744\n",
      "3    4.386188     3  744\n",
      "4    4.376384     4  744\n",
      "..        ...   ...  ...\n",
      "244  4.746399   244  744\n",
      "245  4.175925   245  744\n",
      "246  4.593416   246  744\n",
      "247  4.621905   247  744\n",
      "248  4.124236   248  744\n",
      "\n",
      "[249 rows x 3 columns]\n"
     ]
    },
    {
     "name": "stderr",
     "output_type": "stream",
     "text": [
      "Feature Extraction: 100%|██████████| 1/1 [00:00<00:00, 20.60it/s]\n"
     ]
    },
    {
     "name": "stdout",
     "output_type": "stream",
     "text": [
      "            x  time   id\n",
      "0    4.731464     0  745\n",
      "1    3.644228     1  745\n",
      "2    4.513919     2  745\n",
      "3    4.749704     3  745\n",
      "4    4.792908     4  745\n",
      "..        ...   ...  ...\n",
      "244  5.264027   244  745\n",
      "245  4.622435   245  745\n",
      "246  5.060698   246  745\n",
      "247  5.090094   247  745\n",
      "248  4.567199   248  745\n",
      "\n",
      "[249 rows x 3 columns]\n"
     ]
    },
    {
     "name": "stderr",
     "output_type": "stream",
     "text": [
      "Feature Extraction: 100%|██████████| 1/1 [00:00<00:00, 31.93it/s]\n"
     ]
    },
    {
     "name": "stdout",
     "output_type": "stream",
     "text": [
      "            x  time   id\n",
      "0    4.553960     0  746\n",
      "1    3.801095     1  746\n",
      "2    4.340940     2  746\n",
      "3    4.577531     3  746\n",
      "4    4.671375     4  746\n",
      "..        ...   ...  ...\n",
      "244  4.978476   244  746\n",
      "245  4.435073   245  746\n",
      "246  4.818677   246  746\n",
      "247  4.979487   247  746\n",
      "248  4.153215   248  746\n",
      "\n",
      "[249 rows x 3 columns]\n"
     ]
    },
    {
     "name": "stderr",
     "output_type": "stream",
     "text": [
      "Feature Extraction: 100%|██████████| 1/1 [00:00<00:00, 34.61it/s]\n"
     ]
    },
    {
     "name": "stdout",
     "output_type": "stream",
     "text": [
      "            x  time   id\n",
      "0    4.689520     0  747\n",
      "1    4.080723     1  747\n",
      "2    4.641379     2  747\n",
      "3    4.866899     3  747\n",
      "4    4.947816     4  747\n",
      "..        ...   ...  ...\n",
      "244  5.309787   244  747\n",
      "245  4.800771   245  747\n",
      "246  5.160411   246  747\n",
      "247  5.293880   247  747\n",
      "248  4.572624   248  747\n",
      "\n",
      "[249 rows x 3 columns]\n"
     ]
    },
    {
     "name": "stderr",
     "output_type": "stream",
     "text": [
      "Feature Extraction: 100%|██████████| 1/1 [00:00<00:00, 38.00it/s]"
     ]
    },
    {
     "name": "stdout",
     "output_type": "stream",
     "text": [
      "            x  time   id\n",
      "0    6.230724     0  748\n",
      "1    6.221948     1  748\n",
      "2    6.231441     2  748\n",
      "3    6.232055     3  748\n",
      "4    6.231370     4  748\n",
      "..        ...   ...  ...\n",
      "287  5.355016   287  748\n",
      "288  5.337806   288  748\n",
      "289  5.389396   289  748\n",
      "290  5.340471   290  748\n",
      "291  5.351372   291  748\n",
      "\n",
      "[292 rows x 3 columns]\n"
     ]
    },
    {
     "name": "stderr",
     "output_type": "stream",
     "text": [
      "\n",
      "Feature Extraction: 100%|██████████| 1/1 [00:00<00:00, 30.54it/s]"
     ]
    },
    {
     "name": "stdout",
     "output_type": "stream",
     "text": [
      "            x  time   id\n",
      "0    6.231917     0  749\n",
      "1    6.226750     1  749\n",
      "2    6.232275     2  749\n",
      "3    6.232129     3  749\n",
      "4    6.231373     4  749\n",
      "..        ...   ...  ...\n",
      "287  5.896099   287  749\n",
      "288  5.853659   288  749\n",
      "289  5.965424   289  749\n",
      "290  5.875013   290  749\n",
      "291  5.877960   291  749\n",
      "\n",
      "[292 rows x 3 columns]\n"
     ]
    },
    {
     "name": "stderr",
     "output_type": "stream",
     "text": [
      "\n",
      "Feature Extraction: 100%|██████████| 1/1 [00:00<00:00, 32.72it/s]\n"
     ]
    },
    {
     "name": "stdout",
     "output_type": "stream",
     "text": [
      "            x  time   id\n",
      "0    6.231896     0  750\n",
      "1    6.220883     1  750\n",
      "2    6.231832     2  750\n",
      "3    6.232323     3  750\n",
      "4    6.230951     4  750\n",
      "..        ...   ...  ...\n",
      "287  5.212611   287  750\n",
      "288  5.212113   288  750\n",
      "289  5.213225   289  750\n",
      "290  5.212550   290  750\n",
      "291  5.212518   291  750\n",
      "\n",
      "[292 rows x 3 columns]\n"
     ]
    },
    {
     "name": "stderr",
     "output_type": "stream",
     "text": [
      "Feature Extraction: 100%|██████████| 1/1 [00:00<00:00, 32.54it/s]\n"
     ]
    },
    {
     "name": "stdout",
     "output_type": "stream",
     "text": [
      "            x  time   id\n",
      "0    6.232322     0  751\n",
      "1    6.223907     1  751\n",
      "2    6.232283     2  751\n",
      "3    6.232314     3  751\n",
      "4    6.230900     4  751\n",
      "..        ...   ...  ...\n",
      "287  5.463255   287  751\n",
      "288  5.437292   288  751\n",
      "289  5.500218   289  751\n",
      "290  5.450599   290  751\n",
      "291  5.461890   291  751\n",
      "\n",
      "[292 rows x 3 columns]\n"
     ]
    },
    {
     "name": "stderr",
     "output_type": "stream",
     "text": [
      "Feature Extraction: 100%|██████████| 1/1 [00:00<00:00, 32.43it/s]\n"
     ]
    },
    {
     "name": "stdout",
     "output_type": "stream",
     "text": [
      "            x  time   id\n",
      "0    5.761295     0  752\n",
      "1    5.798197     1  752\n",
      "2    5.783307     2  752\n",
      "3    5.805129     3  752\n",
      "4    5.802490     4  752\n",
      "..        ...   ...  ...\n",
      "287  4.873165   287  752\n",
      "288  4.873713   288  752\n",
      "289  4.873181   289  752\n",
      "290  4.873617   290  752\n",
      "291  4.873651   291  752\n",
      "\n",
      "[292 rows x 3 columns]\n"
     ]
    },
    {
     "name": "stderr",
     "output_type": "stream",
     "text": [
      "Feature Extraction: 100%|██████████| 1/1 [00:00<00:00, 31.90it/s]"
     ]
    },
    {
     "name": "stdout",
     "output_type": "stream",
     "text": [
      "            x  time   id\n",
      "0    6.231237     0  753\n",
      "1    6.222039     1  753\n",
      "2    6.231356     2  753\n",
      "3    6.231820     3  753\n",
      "4    6.231481     4  753\n",
      "..        ...   ...  ...\n",
      "287  5.657474   287  753\n",
      "288  5.624227   288  753\n",
      "289  5.610137   289  753\n",
      "290  5.658010   290  753\n",
      "291  5.607715   291  753\n",
      "\n",
      "[292 rows x 3 columns]\n"
     ]
    },
    {
     "name": "stderr",
     "output_type": "stream",
     "text": [
      "\n",
      "Feature Extraction: 100%|██████████| 1/1 [00:00<00:00, 33.01it/s]"
     ]
    },
    {
     "name": "stdout",
     "output_type": "stream",
     "text": [
      "            x  time   id\n",
      "0    5.369266     0  754\n",
      "1    5.393042     1  754\n",
      "2    5.393548     2  754\n",
      "3    5.420471     3  754\n",
      "4    5.422610     4  754\n",
      "..        ...   ...  ...\n",
      "287  4.744054   287  754\n",
      "288  4.746807   288  754\n",
      "289  4.757463   289  754\n",
      "290  4.766409   290  754\n",
      "291  4.767941   291  754\n",
      "\n",
      "[292 rows x 3 columns]\n"
     ]
    },
    {
     "name": "stderr",
     "output_type": "stream",
     "text": [
      "\n",
      "Feature Extraction: 100%|██████████| 1/1 [00:00<00:00, 33.93it/s]\n"
     ]
    },
    {
     "name": "stdout",
     "output_type": "stream",
     "text": [
      "            x  time   id\n",
      "0    5.426037     0  755\n",
      "1    5.511753     1  755\n",
      "2    5.538894     2  755\n",
      "3    5.603369     3  755\n",
      "4    5.643183     4  755\n",
      "..        ...   ...  ...\n",
      "287  5.070043   287  755\n",
      "288  5.051906   288  755\n",
      "289  5.041138   289  755\n",
      "290  5.036683   290  755\n",
      "291  5.045786   291  755\n",
      "\n",
      "[292 rows x 3 columns]\n"
     ]
    },
    {
     "name": "stderr",
     "output_type": "stream",
     "text": [
      "Feature Extraction: 100%|██████████| 1/1 [00:00<00:00, 29.87it/s]\n"
     ]
    },
    {
     "name": "stdout",
     "output_type": "stream",
     "text": [
      "             x  time   id\n",
      "0     4.456137     0  756\n",
      "1     4.033995     1  756\n",
      "2     4.161478     2  756\n",
      "3     5.035764     3  756\n",
      "4     5.214484     4  756\n",
      "...        ...   ...  ...\n",
      "2692  5.305837  2692  756\n",
      "2693  5.274400  2693  756\n",
      "2694  5.280687  2694  756\n",
      "2695  5.271476  2695  756\n",
      "2696  5.278609  2696  756\n",
      "\n",
      "[2697 rows x 3 columns]\n"
     ]
    },
    {
     "name": "stderr",
     "output_type": "stream",
     "text": [
      "Feature Extraction: 100%|██████████| 1/1 [00:00<00:00,  1.68it/s]"
     ]
    },
    {
     "name": "stdout",
     "output_type": "stream",
     "text": [
      "             x  time   id\n",
      "0     4.513927     0  757\n",
      "1     4.108586     1  757\n",
      "2     4.239038     2  757\n",
      "3     5.007717     3  757\n",
      "4     5.170447     4  757\n",
      "...        ...   ...  ...\n",
      "2694  5.323139  2694  757\n",
      "2695  5.291256  2695  757\n",
      "2696  5.299043  2696  757\n",
      "2697  5.286925  2697  757\n",
      "2698  5.298460  2698  757\n",
      "\n",
      "[2699 rows x 3 columns]\n"
     ]
    },
    {
     "name": "stderr",
     "output_type": "stream",
     "text": [
      "\n",
      "Feature Extraction: 100%|██████████| 1/1 [00:00<00:00,  1.80it/s]"
     ]
    },
    {
     "name": "stdout",
     "output_type": "stream",
     "text": [
      "             x  time   id\n",
      "0     4.683560     0  758\n",
      "1     4.796521     1  758\n",
      "2     4.671990     2  758\n",
      "3     4.894032     3  758\n",
      "4     4.843470     4  758\n",
      "...        ...   ...  ...\n",
      "2711  5.037731  2711  758\n",
      "2712  5.028697  2712  758\n",
      "2713  4.989576  2713  758\n",
      "2714  5.023193  2714  758\n",
      "2715  5.021096  2715  758\n",
      "\n",
      "[2716 rows x 3 columns]\n"
     ]
    },
    {
     "name": "stderr",
     "output_type": "stream",
     "text": [
      "\n",
      "Feature Extraction: 100%|██████████| 1/1 [00:00<00:00,  1.73it/s]"
     ]
    },
    {
     "name": "stdout",
     "output_type": "stream",
     "text": [
      "             x  time   id\n",
      "0     5.167392     0  759\n",
      "1     5.366237     1  759\n",
      "2     5.205606     2  759\n",
      "3     5.436395     3  759\n",
      "4     5.410605     4  759\n",
      "...        ...   ...  ...\n",
      "2709  5.510032  2709  759\n",
      "2710  5.502202  2710  759\n",
      "2711  5.437036  2711  759\n",
      "2712  5.487460  2712  759\n",
      "2713  5.485405  2713  759\n",
      "\n",
      "[2714 rows x 3 columns]\n"
     ]
    },
    {
     "name": "stderr",
     "output_type": "stream",
     "text": [
      "\n",
      "Feature Extraction: 100%|██████████| 1/1 [00:00<00:00,  1.59it/s]"
     ]
    },
    {
     "name": "stdout",
     "output_type": "stream",
     "text": [
      "             x  time   id\n",
      "0     4.907998     0  760\n",
      "1     4.625031     1  760\n",
      "2     4.411342     2  760\n",
      "3     4.974964     3  760\n",
      "4     4.989508     4  760\n",
      "...        ...   ...  ...\n",
      "2727  5.345335  2727  760\n",
      "2728  5.337598  2728  760\n",
      "2729  5.294030  2729  760\n",
      "2730  5.330625  2730  760\n",
      "2731  5.325183  2731  760\n",
      "\n",
      "[2732 rows x 3 columns]\n"
     ]
    },
    {
     "name": "stderr",
     "output_type": "stream",
     "text": [
      "\n",
      "Feature Extraction: 100%|██████████| 1/1 [00:00<00:00,  1.68it/s]"
     ]
    },
    {
     "name": "stdout",
     "output_type": "stream",
     "text": [
      "             x  time   id\n",
      "0     5.201190     0  761\n",
      "1     4.999231     1  761\n",
      "2     4.797568     2  761\n",
      "3     5.286195     3  761\n",
      "4     5.290595     4  761\n",
      "...        ...   ...  ...\n",
      "2725  5.630502  2725  761\n",
      "2726  5.621480  2726  761\n",
      "2727  5.574418  2727  761\n",
      "2728  5.617267  2728  761\n",
      "2729  5.614020  2729  761\n",
      "\n",
      "[2730 rows x 3 columns]\n"
     ]
    },
    {
     "name": "stderr",
     "output_type": "stream",
     "text": [
      "\n",
      "Feature Extraction: 100%|██████████| 1/1 [00:00<00:00,  1.62it/s]"
     ]
    },
    {
     "name": "stdout",
     "output_type": "stream",
     "text": [
      "             x  time   id\n",
      "0     5.131671     0  762\n",
      "1     4.842249     1  762\n",
      "2     4.972884     2  762\n",
      "3     4.787339     3  762\n",
      "4     4.788489     4  762\n",
      "...        ...   ...  ...\n",
      "2744  5.110386  2744  762\n",
      "2745  5.120138  2745  762\n",
      "2746  5.093624  2746  762\n",
      "2747  5.134161  2747  762\n",
      "2748  5.118242  2748  762\n",
      "\n",
      "[2749 rows x 3 columns]\n"
     ]
    },
    {
     "name": "stderr",
     "output_type": "stream",
     "text": [
      "\n",
      "Feature Extraction: 100%|██████████| 1/1 [00:00<00:00,  1.72it/s]"
     ]
    },
    {
     "name": "stdout",
     "output_type": "stream",
     "text": [
      "             x  time   id\n",
      "0     5.451783     0  763\n",
      "1     5.115331     1  763\n",
      "2     5.060412     2  763\n",
      "3     4.998639     3  763\n",
      "4     4.979595     4  763\n",
      "...        ...   ...  ...\n",
      "2771  5.304902  2771  763\n",
      "2772  5.327353  2772  763\n",
      "2773  5.282925  2773  763\n",
      "2774  5.366381  2774  763\n",
      "2775  5.350042  2775  763\n",
      "\n",
      "[2776 rows x 3 columns]\n"
     ]
    },
    {
     "name": "stderr",
     "output_type": "stream",
     "text": [
      "\n",
      "Feature Extraction: 100%|██████████| 1/1 [00:00<00:00,  1.68it/s]"
     ]
    },
    {
     "name": "stdout",
     "output_type": "stream",
     "text": [
      "             x  time   id\n",
      "0     5.086386     0  764\n",
      "1     5.124446     1  764\n",
      "2     5.292690     2  764\n",
      "3     5.054556     3  764\n",
      "4     5.168275     4  764\n",
      "...        ...   ...  ...\n",
      "2731  5.298334  2731  764\n",
      "2732  5.310784  2732  764\n",
      "2733  5.327598  2733  764\n",
      "2734  5.338030  2734  764\n",
      "2735  5.343093  2735  764\n",
      "\n",
      "[2736 rows x 3 columns]\n"
     ]
    },
    {
     "name": "stderr",
     "output_type": "stream",
     "text": [
      "\n",
      "Feature Extraction: 100%|██████████| 1/1 [00:00<00:00,  1.71it/s]"
     ]
    },
    {
     "name": "stdout",
     "output_type": "stream",
     "text": [
      "             x  time   id\n",
      "0     5.213233     0  765\n",
      "1     5.080849     1  765\n",
      "2     5.245627     2  765\n",
      "3     5.327308     3  765\n",
      "4     5.446318     4  765\n",
      "...        ...   ...  ...\n",
      "2736  5.288466  2736  765\n",
      "2737  5.284955  2737  765\n",
      "2738  5.344898  2738  765\n",
      "2739  5.358112  2739  765\n",
      "2740  5.366800  2740  765\n",
      "\n",
      "[2741 rows x 3 columns]\n"
     ]
    },
    {
     "name": "stderr",
     "output_type": "stream",
     "text": [
      "\n",
      "Feature Extraction: 100%|██████████| 1/1 [00:00<00:00,  1.25it/s]"
     ]
    },
    {
     "name": "stdout",
     "output_type": "stream",
     "text": [
      "            x  time   id\n",
      "0    6.220585     0  766\n",
      "1    6.224527     1  766\n",
      "2    6.213105     2  766\n",
      "3    6.191708     3  766\n",
      "4    6.206515     4  766\n",
      "..        ...   ...  ...\n",
      "702  6.023586   702  766\n",
      "703  6.200625   703  766\n",
      "704  6.206194   704  766\n",
      "705  6.212931   705  766\n",
      "706  6.200148   706  766\n",
      "\n",
      "[707 rows x 3 columns]\n"
     ]
    },
    {
     "name": "stderr",
     "output_type": "stream",
     "text": [
      "\n",
      "Feature Extraction: 100%|██████████| 1/1 [00:00<00:00,  8.92it/s]"
     ]
    },
    {
     "name": "stdout",
     "output_type": "stream",
     "text": [
      "            x  time   id\n",
      "0    6.228020     0  767\n",
      "1    6.229142     1  767\n",
      "2    6.231310     2  767\n",
      "3    6.231818     3  767\n",
      "4    6.232429     4  767\n",
      "..        ...   ...  ...\n",
      "702  6.094066   702  767\n",
      "703  6.231050   703  767\n",
      "704  6.232353   704  767\n",
      "705  6.231943   705  767\n",
      "706  6.231279   706  767\n",
      "\n",
      "[707 rows x 3 columns]\n"
     ]
    },
    {
     "name": "stderr",
     "output_type": "stream",
     "text": [
      "\n",
      "Feature Extraction: 100%|██████████| 1/1 [00:00<00:00,  8.78it/s]"
     ]
    },
    {
     "name": "stdout",
     "output_type": "stream",
     "text": [
      "            x  time   id\n",
      "0    6.196297     0  768\n",
      "1    6.210636     1  768\n",
      "2    6.125982     2  768\n",
      "3    6.002735     3  768\n",
      "4    6.007756     4  768\n",
      "..        ...   ...  ...\n",
      "702  5.929990   702  768\n",
      "703  5.999671   703  768\n",
      "704  6.000314   704  768\n",
      "705  5.996479   705  768\n",
      "706  5.999548   706  768\n",
      "\n",
      "[707 rows x 3 columns]\n"
     ]
    },
    {
     "name": "stderr",
     "output_type": "stream",
     "text": [
      "\n",
      "Feature Extraction: 100%|██████████| 1/1 [00:00<00:00,  8.70it/s]"
     ]
    },
    {
     "name": "stdout",
     "output_type": "stream",
     "text": [
      "            x  time   id\n",
      "0    6.226437     0  769\n",
      "1    6.229448     1  769\n",
      "2    6.229492     2  769\n",
      "3    6.229431     3  769\n",
      "4    6.232532     4  769\n",
      "..        ...   ...  ...\n",
      "702  6.155369   702  769\n",
      "703  6.230066   703  769\n",
      "704  6.231013   704  769\n",
      "705  6.229382   705  769\n",
      "706  6.230726   706  769\n",
      "\n",
      "[707 rows x 3 columns]\n"
     ]
    },
    {
     "name": "stderr",
     "output_type": "stream",
     "text": [
      "\n",
      "Feature Extraction: 100%|██████████| 1/1 [00:00<00:00,  8.54it/s]"
     ]
    },
    {
     "name": "stdout",
     "output_type": "stream",
     "text": [
      "            x  time   id\n",
      "0    6.024276     0  770\n",
      "1    6.035553     1  770\n",
      "2    5.985069     2  770\n",
      "3    5.879301     3  770\n",
      "4    5.879044     4  770\n",
      "..        ...   ...  ...\n",
      "703  5.701540   703  770\n",
      "704  5.899564   704  770\n",
      "705  5.850267   705  770\n",
      "706  5.878846   706  770\n",
      "707  5.898753   707  770\n",
      "\n",
      "[708 rows x 3 columns]\n"
     ]
    },
    {
     "name": "stderr",
     "output_type": "stream",
     "text": [
      "\n",
      "Feature Extraction: 100%|██████████| 1/1 [00:00<00:00,  8.44it/s]"
     ]
    },
    {
     "name": "stdout",
     "output_type": "stream",
     "text": [
      "            x  time   id\n",
      "0    6.083946     0  771\n",
      "1    6.099890     1  771\n",
      "2    6.035246     2  771\n",
      "3    5.925735     3  771\n",
      "4    5.924370     4  771\n",
      "..        ...   ...  ...\n",
      "703  5.742723   703  771\n",
      "704  5.933133   704  771\n",
      "705  5.883900   705  771\n",
      "706  5.904131   706  771\n",
      "707  5.929531   707  771\n",
      "\n",
      "[708 rows x 3 columns]\n"
     ]
    },
    {
     "name": "stderr",
     "output_type": "stream",
     "text": [
      "\n",
      "Feature Extraction: 100%|██████████| 1/1 [00:00<00:00,  8.13it/s]"
     ]
    },
    {
     "name": "stdout",
     "output_type": "stream",
     "text": [
      "            x  time   id\n",
      "0    5.788951     0  772\n",
      "1    5.797413     1  772\n",
      "2    5.748413     2  772\n",
      "3    5.682250     3  772\n",
      "4    5.683804     4  772\n",
      "..        ...   ...  ...\n",
      "702  5.668583   702  772\n",
      "703  5.685913   703  772\n",
      "704  5.685082   704  772\n",
      "705  5.685743   705  772\n",
      "706  5.686586   706  772\n",
      "\n",
      "[707 rows x 3 columns]\n"
     ]
    },
    {
     "name": "stderr",
     "output_type": "stream",
     "text": [
      "\n",
      "Feature Extraction: 100%|██████████| 1/1 [00:00<00:00,  7.71it/s]"
     ]
    },
    {
     "name": "stdout",
     "output_type": "stream",
     "text": [
      "            x  time   id\n",
      "0    6.156738     0  773\n",
      "1    6.185951     1  773\n",
      "2    6.145693     2  773\n",
      "3    6.069930     3  773\n",
      "4    6.077605     4  773\n",
      "..        ...   ...  ...\n",
      "702  6.102425   702  773\n",
      "703  6.125718   703  773\n",
      "704  6.129664   704  773\n",
      "705  6.132928   705  773\n",
      "706  6.134626   706  773\n",
      "\n",
      "[707 rows x 3 columns]\n"
     ]
    },
    {
     "name": "stderr",
     "output_type": "stream",
     "text": [
      "\n",
      "Feature Extraction: 100%|██████████| 1/1 [00:00<00:00,  7.83it/s]"
     ]
    },
    {
     "name": "stdout",
     "output_type": "stream",
     "text": [
      "            x  time   id\n",
      "0    6.106676     0  774\n",
      "1    6.169182     1  774\n",
      "2    6.192672     2  774\n",
      "3    6.194901     3  774\n",
      "4    6.199701     4  774\n",
      "..        ...   ...  ...\n",
      "156  6.207753   156  774\n",
      "157  6.204844   157  774\n",
      "158  6.201823   158  774\n",
      "159  6.211574   159  774\n",
      "160  6.204080   160  774\n",
      "\n",
      "[161 rows x 3 columns]\n"
     ]
    },
    {
     "name": "stderr",
     "output_type": "stream",
     "text": [
      "\n",
      "Feature Extraction: 100%|██████████| 1/1 [00:00<00:00, 50.52it/s]\n"
     ]
    },
    {
     "name": "stdout",
     "output_type": "stream",
     "text": [
      "            x  time   id\n",
      "0    6.142237     0  775\n",
      "1    6.163745     1  775\n",
      "2    6.166041     2  775\n",
      "3    6.156575     3  775\n",
      "4    6.161956     4  775\n",
      "..        ...   ...  ...\n",
      "156  6.182708   156  775\n",
      "157  6.179396   157  775\n",
      "158  6.168211   158  775\n",
      "159  6.187925   159  775\n",
      "160  6.174867   160  775\n",
      "\n",
      "[161 rows x 3 columns]\n"
     ]
    },
    {
     "name": "stderr",
     "output_type": "stream",
     "text": [
      "Feature Extraction: 100%|██████████| 1/1 [00:00<00:00, 44.79it/s]"
     ]
    },
    {
     "name": "stdout",
     "output_type": "stream",
     "text": [
      "            x  time   id\n",
      "0    5.771573     0  776\n",
      "1    5.826675     1  776\n",
      "2    5.830130     2  776\n",
      "3    5.856472     3  776\n",
      "4    5.863419     4  776\n",
      "..        ...   ...  ...\n",
      "156  5.846697   156  776\n",
      "157  5.852899   157  776\n",
      "158  5.858680   158  776\n",
      "159  5.855596   159  776\n",
      "160  5.852326   160  776\n",
      "\n",
      "[161 rows x 3 columns]\n"
     ]
    },
    {
     "name": "stderr",
     "output_type": "stream",
     "text": [
      "\n",
      "Feature Extraction: 100%|██████████| 1/1 [00:00<00:00, 49.99it/s]"
     ]
    },
    {
     "name": "stdout",
     "output_type": "stream",
     "text": [
      "            x  time   id\n",
      "0    6.142998     0  777\n",
      "1    6.229733     1  777\n",
      "2    6.230692     2  777\n",
      "3    6.232016     3  777\n",
      "4    6.231801     4  777\n",
      "..        ...   ...  ...\n",
      "156  6.231841   156  777\n",
      "157  6.231548   157  777\n",
      "158  6.232447   158  777\n",
      "159  6.231961   159  777\n",
      "160  6.230966   160  777\n",
      "\n",
      "[161 rows x 3 columns]\n"
     ]
    },
    {
     "name": "stderr",
     "output_type": "stream",
     "text": [
      "\n",
      "Feature Extraction: 100%|██████████| 1/1 [00:00<00:00, 46.41it/s]\n"
     ]
    },
    {
     "name": "stdout",
     "output_type": "stream",
     "text": [
      "            x  time   id\n",
      "0    5.926831     0  778\n",
      "1    5.989472     1  778\n",
      "2    5.991981     2  778\n",
      "3    5.989543     3  778\n",
      "4    6.004619     4  778\n",
      "..        ...   ...  ...\n",
      "156  6.002191   156  778\n",
      "157  6.003836   157  778\n",
      "158  5.988227   158  778\n",
      "159  6.005310   159  778\n",
      "160  5.992293   160  778\n",
      "\n",
      "[161 rows x 3 columns]\n"
     ]
    },
    {
     "name": "stderr",
     "output_type": "stream",
     "text": [
      "Feature Extraction: 100%|██████████| 1/1 [00:00<00:00, 53.19it/s]"
     ]
    },
    {
     "name": "stdout",
     "output_type": "stream",
     "text": [
      "            x  time   id\n",
      "0    5.816890     0  779\n",
      "1    5.862722     1  779\n",
      "2    5.860103     2  779\n",
      "3    5.881366     3  779\n",
      "4    5.900037     4  779\n",
      "..        ...   ...  ...\n",
      "156  5.865013   156  779\n",
      "157  5.868255   157  779\n",
      "158  5.871010   158  779\n",
      "159  5.870150   159  779\n",
      "160  5.863828   160  779\n",
      "\n",
      "[161 rows x 3 columns]\n"
     ]
    },
    {
     "name": "stderr",
     "output_type": "stream",
     "text": [
      "\n",
      "Feature Extraction: 100%|██████████| 1/1 [00:00<00:00, 52.62it/s]"
     ]
    },
    {
     "name": "stdout",
     "output_type": "stream",
     "text": [
      "            x  time   id\n",
      "0    5.731810     0  780\n",
      "1    5.747078     1  780\n",
      "2    5.742587     2  780\n",
      "3    5.754368     3  780\n",
      "4    5.759825     4  780\n",
      "..        ...   ...  ...\n",
      "158  5.758514   158  780\n",
      "159  5.769613   159  780\n",
      "160  5.764952   160  780\n",
      "161  5.766266   161  780\n",
      "162  5.770305   162  780\n",
      "\n",
      "[163 rows x 3 columns]\n"
     ]
    },
    {
     "name": "stderr",
     "output_type": "stream",
     "text": [
      "\n",
      "Feature Extraction: 100%|██████████| 1/1 [00:00<00:00, 44.86it/s]\n"
     ]
    },
    {
     "name": "stdout",
     "output_type": "stream",
     "text": [
      "            x  time   id\n",
      "0    5.833617     0  781\n",
      "1    5.872916     1  781\n",
      "2    5.850017     2  781\n",
      "3    5.887116     3  781\n",
      "4    5.919382     4  781\n",
      "..        ...   ...  ...\n",
      "158  5.942299   158  781\n",
      "159  5.949887   159  781\n",
      "160  5.948308   160  781\n",
      "161  5.946642   161  781\n",
      "162  5.949205   162  781\n",
      "\n",
      "[163 rows x 3 columns]\n"
     ]
    },
    {
     "name": "stderr",
     "output_type": "stream",
     "text": [
      "Feature Extraction: 100%|██████████| 1/1 [00:00<00:00, 50.40it/s]\n"
     ]
    },
    {
     "name": "stdout",
     "output_type": "stream",
     "text": [
      "            x  time   id\n",
      "0    5.958831     0  782\n",
      "1    5.969600     1  782\n",
      "2    5.976280     2  782\n",
      "3    5.988830     3  782\n",
      "4    5.986168     4  782\n",
      "..        ...   ...  ...\n",
      "158  5.978557   158  782\n",
      "159  5.983778   159  782\n",
      "160  5.983797   160  782\n",
      "161  5.979270   161  782\n",
      "162  5.981225   162  782\n",
      "\n",
      "[163 rows x 3 columns]\n"
     ]
    },
    {
     "name": "stderr",
     "output_type": "stream",
     "text": [
      "Feature Extraction: 100%|██████████| 1/1 [00:00<00:00, 51.67it/s]\n"
     ]
    },
    {
     "name": "stdout",
     "output_type": "stream",
     "text": [
      "            x  time   id\n",
      "0    6.231602     0  783\n",
      "1    6.230662     1  783\n",
      "2    6.230427     2  783\n",
      "3    6.230857     3  783\n",
      "4    6.230956     4  783\n",
      "..        ...   ...  ...\n",
      "158  6.228786   158  783\n",
      "159  6.230982   159  783\n",
      "160  6.231927   160  783\n",
      "161  6.229361   161  783\n",
      "162  6.230565   162  783\n",
      "\n",
      "[163 rows x 3 columns]\n"
     ]
    },
    {
     "name": "stderr",
     "output_type": "stream",
     "text": [
      "Feature Extraction: 100%|██████████| 1/1 [00:00<00:00, 44.89it/s]\n"
     ]
    },
    {
     "name": "stdout",
     "output_type": "stream",
     "text": [
      "            x  time   id\n",
      "0    5.631397     0  784\n",
      "1    5.628877     1  784\n",
      "2    5.613277     2  784\n",
      "3    5.620963     3  784\n",
      "4    5.642547     4  784\n",
      "..        ...   ...  ...\n",
      "158  5.665312   158  784\n",
      "159  5.663632   159  784\n",
      "160  5.662097   160  784\n",
      "161  5.664917   161  784\n",
      "162  5.660513   162  784\n",
      "\n",
      "[163 rows x 3 columns]\n"
     ]
    },
    {
     "name": "stderr",
     "output_type": "stream",
     "text": [
      "Feature Extraction: 100%|██████████| 1/1 [00:00<00:00, 44.51it/s]\n"
     ]
    },
    {
     "name": "stdout",
     "output_type": "stream",
     "text": [
      "            x  time   id\n",
      "0    5.799148     0  785\n",
      "1    5.829436     1  785\n",
      "2    5.834033     2  785\n",
      "3    5.852607     3  785\n",
      "4    5.860988     4  785\n",
      "..        ...   ...  ...\n",
      "158  5.877870   158  785\n",
      "159  5.881140   159  785\n",
      "160  5.879535   160  785\n",
      "161  5.878794   161  785\n",
      "162  5.881483   162  785\n",
      "\n",
      "[163 rows x 3 columns]\n"
     ]
    },
    {
     "name": "stderr",
     "output_type": "stream",
     "text": [
      "Feature Extraction: 100%|██████████| 1/1 [00:00<00:00, 49.93it/s]\n"
     ]
    },
    {
     "name": "stdout",
     "output_type": "stream",
     "text": [
      "           x  time   id\n",
      "0   0.495912     0  786\n",
      "1   0.495237     1  786\n",
      "2   1.675606     2  786\n",
      "3   1.495816     3  786\n",
      "4   1.146472     4  786\n",
      "5   0.831831     5  786\n",
      "6   0.826212     6  786\n",
      "7   1.326678     7  786\n",
      "8   2.102281     8  786\n",
      "9   0.944879     9  786\n",
      "10  1.302260    10  786\n",
      "11  1.181501    11  786\n",
      "12  2.394362    12  786\n",
      "13  2.396071    13  786\n",
      "14  1.986953    14  786\n",
      "15  3.764542    15  786\n",
      "16  6.138537    16  786\n",
      "17  6.186583    17  786\n",
      "18  6.228409    18  786\n",
      "19  6.231875    19  786\n",
      "20  6.231937    20  786\n",
      "21  6.231811    21  786\n",
      "22  6.231884    22  786\n",
      "23  6.231790    23  786\n",
      "24  6.231888    24  786\n",
      "25  6.231860    25  786\n",
      "26  6.231849    26  786\n",
      "27  6.231915    27  786\n",
      "28  6.231848    28  786\n",
      "29  6.231839    29  786\n",
      "30  6.231726    30  786\n",
      "31  6.231689    31  786\n",
      "32  6.231781    32  786\n",
      "33  6.231873    33  786\n",
      "34  5.718377    34  786\n",
      "35  6.232273    35  786\n",
      "36  5.686568    36  786\n",
      "37  0.454025    37  786\n",
      "38  2.576702    38  786\n",
      "39  4.816686    39  786\n",
      "40  3.872524    40  786\n",
      "41  0.866422    41  786\n",
      "42  3.115270    42  786\n",
      "43  3.169542    43  786\n",
      "44  3.171585    44  786\n",
      "45  1.224635    45  786\n",
      "46  0.318898    46  786\n",
      "47  0.327011    47  786\n",
      "48  0.349799    48  786\n",
      "49  0.338811    49  786\n",
      "50  0.391078    50  786\n",
      "51  0.335790    51  786\n",
      "52  0.339056    52  786\n",
      "53  0.386194    53  786\n",
      "54  0.340457    54  786\n",
      "55  0.343814    55  786\n",
      "56  0.353622    56  786\n",
      "57  0.399062    57  786\n",
      "58  0.347790    58  786\n"
     ]
    },
    {
     "name": "stderr",
     "output_type": "stream",
     "text": [
      "Feature Extraction: 100%|██████████| 1/1 [00:00<00:00, 79.97it/s]"
     ]
    },
    {
     "name": "stdout",
     "output_type": "stream",
     "text": [
      "           x  time   id\n",
      "0   0.877841     0  787\n",
      "1   0.847652     1  787\n",
      "2   1.726491     2  787\n",
      "3   1.517919     3  787\n",
      "4   1.310198     4  787\n",
      "5   1.068187     5  787\n",
      "6   1.059428     6  787\n",
      "7   1.418231     7  787\n",
      "8   1.730041     8  787\n",
      "9   1.249256     9  787\n",
      "10  1.622352    10  787\n",
      "11  1.571982    11  787\n",
      "12  2.789309    12  787\n",
      "13  2.804319    13  787\n",
      "14  2.406275    14  787\n",
      "15  3.750683    15  787\n",
      "16  5.820030    16  787\n",
      "17  5.866403    17  787\n",
      "18  5.919496    18  787\n",
      "19  5.966169    19  787\n",
      "20  5.962354    20  787\n",
      "21  5.999776    21  787\n",
      "22  6.012747    22  787\n",
      "23  6.004020    23  787\n",
      "24  6.023140    24  787\n",
      "25  6.017314    25  787\n",
      "26  6.022253    26  787\n",
      "27  6.032743    27  787\n",
      "28  6.018149    28  787\n",
      "29  6.029320    29  787\n",
      "30  6.033428    30  787\n",
      "31  6.010383    31  787\n",
      "32  6.027858    32  787\n",
      "33  6.024772    33  787\n",
      "34  5.556695    34  787\n",
      "35  6.144583    35  787\n",
      "36  5.611517    36  787\n",
      "37  0.938942    37  787\n",
      "38  2.699736    38  787\n",
      "39  4.519367    39  787\n",
      "40  3.740377    40  787\n",
      "41  1.109985    41  787\n",
      "42  2.317326    42  787\n",
      "43  2.319250    43  787\n",
      "44  2.320415    44  787\n",
      "45  1.275368    45  787\n",
      "46  0.778063    46  787\n",
      "47  0.740803    47  787\n",
      "48  0.730749    48  787\n",
      "49  0.718406    49  787\n",
      "50  0.735605    50  787\n",
      "51  0.698331    51  787\n",
      "52  0.699618    52  787\n",
      "53  0.725364    53  787\n",
      "54  0.696196    54  787\n",
      "55  0.698900    55  787\n",
      "56  0.705656    56  787\n",
      "57  0.747528    57  787\n",
      "58  0.699057    58  787\n"
     ]
    },
    {
     "name": "stderr",
     "output_type": "stream",
     "text": [
      "\n",
      "Feature Extraction: 100%|██████████| 1/1 [00:00<00:00, 88.53it/s]"
     ]
    },
    {
     "name": "stdout",
     "output_type": "stream",
     "text": [
      "           x  time   id\n",
      "0   2.409163     0  788\n",
      "1   2.303041     1  788\n",
      "2   2.432051     2  788\n",
      "3   2.375827     3  788\n",
      "4   2.346198     4  788\n",
      "5   2.405621     5  788\n",
      "6   2.408274     6  788\n",
      "7   2.396664     7  788\n",
      "8   2.375865     8  788\n",
      "9   2.354632     9  788\n",
      "10  2.410993    10  788\n",
      "11  2.411233    11  788\n",
      "12  2.343014    12  788\n",
      "13  2.376820    13  788\n",
      "14  2.445777    14  788\n",
      "15  2.399673    15  788\n",
      "16  2.435640    16  788\n",
      "17  2.468276    17  788\n",
      "18  2.406890    18  788\n",
      "19  2.394850    19  788\n",
      "20  2.374403    20  788\n",
      "21  2.397211    21  788\n",
      "22  2.387280    22  788\n",
      "23  2.490823    23  788\n",
      "24  2.439838    24  788\n",
      "25  2.470753    25  788\n",
      "26  2.330217    26  788\n",
      "27  2.346574    27  788\n",
      "28  2.450444    28  788\n",
      "29  2.428965    29  788\n",
      "30  2.429092    30  788\n",
      "31  2.380183    31  788\n",
      "32  2.415792    32  788\n",
      "33  2.357410    33  788\n",
      "34  2.462004    34  788\n",
      "35  2.448694    35  788\n",
      "36  2.368242    36  788\n",
      "37  2.395217    37  788\n",
      "38  2.404576    38  788\n",
      "39  2.430053    39  788\n"
     ]
    },
    {
     "name": "stderr",
     "output_type": "stream",
     "text": [
      "\n",
      "Feature Extraction: 100%|██████████| 1/1 [00:00<00:00, 89.91it/s]"
     ]
    },
    {
     "name": "stdout",
     "output_type": "stream",
     "text": [
      "           x  time   id\n",
      "0   2.458758     0  789\n",
      "1   2.493286     1  789\n",
      "2   2.381012     2  789\n",
      "3   2.412907     3  789\n",
      "4   2.444860     4  789\n",
      "5   2.367010     5  789\n",
      "6   2.390062     6  789\n",
      "7   2.378082     7  789\n",
      "8   2.385163     8  789\n",
      "9   2.422719     9  789\n",
      "10  2.404136    10  789\n",
      "11  2.418486    11  789\n",
      "12  2.377730    12  789\n",
      "13  2.445559    13  789\n",
      "14  2.375000    14  789\n",
      "15  2.387357    15  789\n",
      "16  2.440216    16  789\n",
      "17  2.428049    17  789\n",
      "18  2.425110    18  789\n",
      "19  2.427213    19  789\n",
      "20  2.370766    20  789\n",
      "21  2.386864    21  789\n",
      "22  2.454870    22  789\n",
      "23  2.389488    23  789\n",
      "24  2.458997    24  789\n",
      "25  2.419402    25  789\n",
      "26  2.459617    26  789\n",
      "27  2.374708    27  789\n",
      "28  2.472762    28  789\n",
      "29  2.397153    29  789\n",
      "30  2.406103    30  789\n",
      "31  2.416251    31  789\n",
      "32  2.415638    32  789\n",
      "33  2.429887    33  789\n",
      "34  2.375728    34  789\n",
      "35  2.395013    35  789\n",
      "36  2.465688    36  789\n",
      "37  2.487025    37  789\n",
      "38  2.478256    38  789\n",
      "39  2.504145    39  789\n"
     ]
    },
    {
     "name": "stderr",
     "output_type": "stream",
     "text": [
      "\n",
      "Feature Extraction: 100%|██████████| 1/1 [00:00<00:00, 84.24it/s]\n"
     ]
    },
    {
     "name": "stdout",
     "output_type": "stream",
     "text": [
      "             x  time   id\n",
      "0     5.767395     0  790\n",
      "1     5.764921     1  790\n",
      "2     5.771112     2  790\n",
      "3     5.778924     3  790\n",
      "4     5.762153     4  790\n",
      "...        ...   ...  ...\n",
      "1023  5.734456  1023  790\n",
      "1024  5.727843  1024  790\n",
      "1025  5.769986  1025  790\n",
      "1026  5.735630  1026  790\n",
      "1027  5.723134  1027  790\n",
      "\n",
      "[1028 rows x 3 columns]\n"
     ]
    },
    {
     "name": "stderr",
     "output_type": "stream",
     "text": [
      "Feature Extraction: 100%|██████████| 1/1 [00:00<00:00,  5.93it/s]"
     ]
    },
    {
     "name": "stdout",
     "output_type": "stream",
     "text": [
      "             x  time   id\n",
      "0     5.666867     0  791\n",
      "1     5.670109     1  791\n",
      "2     5.653317     2  791\n",
      "3     5.685647     3  791\n",
      "4     5.666297     4  791\n",
      "...        ...   ...  ...\n",
      "1042  5.607086  1042  791\n",
      "1043  5.600674  1043  791\n",
      "1044  5.608756  1044  791\n",
      "1045  5.599974  1045  791\n",
      "1046  5.592847  1046  791\n",
      "\n",
      "[1047 rows x 3 columns]\n"
     ]
    },
    {
     "name": "stderr",
     "output_type": "stream",
     "text": [
      "\n",
      "Feature Extraction: 100%|██████████| 1/1 [00:00<00:00,  5.45it/s]\n"
     ]
    },
    {
     "name": "stdout",
     "output_type": "stream",
     "text": [
      "             x  time   id\n",
      "0     5.613311     0  792\n",
      "1     5.616486     1  792\n",
      "2     5.637142     2  792\n",
      "3     5.621681     3  792\n",
      "4     5.621882     4  792\n",
      "...        ...   ...  ...\n",
      "1027  5.622633  1027  792\n",
      "1028  5.612553  1028  792\n",
      "1029  5.655585  1029  792\n",
      "1030  5.628245  1030  792\n",
      "1031  5.613224  1031  792\n",
      "\n",
      "[1032 rows x 3 columns]\n"
     ]
    },
    {
     "name": "stderr",
     "output_type": "stream",
     "text": [
      "Feature Extraction: 100%|██████████| 1/1 [00:00<00:00,  5.72it/s]"
     ]
    },
    {
     "name": "stdout",
     "output_type": "stream",
     "text": [
      "             x  time   id\n",
      "0     6.109637     0  793\n",
      "1     6.112225     1  793\n",
      "2     6.121989     2  793\n",
      "3     6.119302     3  793\n",
      "4     6.120787     4  793\n",
      "...        ...   ...  ...\n",
      "1046  6.113101  1046  793\n",
      "1047  6.106343  1047  793\n",
      "1048  6.124561  1048  793\n",
      "1049  6.114277  1049  793\n",
      "1050  6.108716  1050  793\n",
      "\n",
      "[1051 rows x 3 columns]\n"
     ]
    },
    {
     "name": "stderr",
     "output_type": "stream",
     "text": [
      "\n",
      "Feature Extraction: 100%|██████████| 1/1 [00:00<00:00,  5.01it/s]"
     ]
    },
    {
     "name": "stdout",
     "output_type": "stream",
     "text": [
      "           x  time   id\n",
      "0   6.232380     0  794\n",
      "1   6.231901     1  794\n",
      "2   6.231719     2  794\n",
      "3   6.232106     3  794\n",
      "4   6.231638     4  794\n",
      "..       ...   ...  ...\n",
      "89  6.231595    89  794\n",
      "90  6.231854    90  794\n",
      "91  6.232343    91  794\n",
      "92  6.231996    92  794\n",
      "93  6.231421    93  794\n",
      "\n",
      "[94 rows x 3 columns]\n"
     ]
    },
    {
     "name": "stderr",
     "output_type": "stream",
     "text": [
      "\n",
      "Feature Extraction: 100%|██████████| 1/1 [00:00<00:00, 69.59it/s]"
     ]
    },
    {
     "name": "stdout",
     "output_type": "stream",
     "text": [
      "           x  time   id\n",
      "0   6.231941     0  795\n",
      "1   6.231699     1  795\n",
      "2   6.231883     2  795\n",
      "3   6.231664     3  795\n",
      "4   6.232266     4  795\n",
      "..       ...   ...  ...\n",
      "88  6.231634    88  795\n",
      "89  6.231874    89  795\n",
      "90  6.232298    90  795\n",
      "91  6.231940    91  795\n",
      "92  6.231377    92  795\n",
      "\n",
      "[93 rows x 3 columns]\n"
     ]
    },
    {
     "name": "stderr",
     "output_type": "stream",
     "text": [
      "\n",
      "Feature Extraction: 100%|██████████| 1/1 [00:00<00:00, 73.82it/s]"
     ]
    },
    {
     "name": "stdout",
     "output_type": "stream",
     "text": [
      "           x  time   id\n",
      "0   6.238163     0  796\n",
      "1   6.232001     1  796\n",
      "2   6.231818     2  796\n",
      "3   6.232323     3  796\n",
      "4   6.231925     4  796\n",
      "..       ...   ...  ...\n",
      "89  6.231824    89  796\n",
      "90  6.231940    90  796\n",
      "91  6.230835    91  796\n",
      "92  6.232159    92  796\n",
      "93  6.232090    93  796\n",
      "\n",
      "[94 rows x 3 columns]\n"
     ]
    },
    {
     "name": "stderr",
     "output_type": "stream",
     "text": [
      "\n",
      "Feature Extraction: 100%|██████████| 1/1 [00:00<00:00, 73.92it/s]\n"
     ]
    }
   ],
   "source": [
    "df=pd.DataFrame()\n",
    "for i in range(1,797):\n",
    "    x = pd.read_csv(str(i)+\".csv\")\n",
    "    x[\"time\"] = x.index\n",
    "    x[\"id\"] = [str(i)]*len(x)\n",
    "    print(x)\n",
    "    res = False\n",
    "    fc_parameters = {\n",
    "    \"length\": None,\n",
    "    \"mean\":None,\n",
    "    \"maximum\":None,\n",
    "    \"minimum\":None,\n",
    "    \"abs_energy\":None,\n",
    "    \"count_below_mean\":None,\n",
    "    \"augmented_dickey_fuller\":[{\"attr\":\"pvalue\",\"y\":\"AIC\"}],\n",
    "    \"number_cwt_peaks\":[{\"n\":15}],\n",
    "    \"number_peaks\":[{\"n\":30}],\n",
    "    \"range_count\":[{\"min\":6*10e8,\"max\":9*10e8}],\n",
    "    \"sample_entropy\":None,\n",
    "    \"first_location_of_minimum\":None,\n",
    "    \"first_location_of_maximum\":None,\n",
    "    \"mean_second_derivative_central\":None,\n",
    "    \"median\":None,\n",
    "    \"standard_deviation\":None,\n",
    "    \"sum_values\":None,\n",
    "    \"variance\":None,\n",
    "\n",
    "    }\n",
    "    settings = ComprehensiveFCParameters()\n",
    "    df = df.append(ts.extract_features(x,column_id=\"id\", column_sort=\"time\",default_fc_parameters=fc_parameters))"
   ]
  },
  {
   "cell_type": "code",
   "execution_count": 4,
   "metadata": {},
   "outputs": [],
   "source": [
    "#on enregistre le tableau de features\n",
    "df.to_csv(\"features.csv\")"
   ]
  },
  {
   "cell_type": "code",
   "execution_count": null,
   "metadata": {},
   "outputs": [],
   "source": []
  }
 ],
 "metadata": {
  "kernelspec": {
   "display_name": "Python 3",
   "language": "python",
   "name": "python3"
  },
  "language_info": {
   "codemirror_mode": {
    "name": "ipython",
    "version": 3
   },
   "file_extension": ".py",
   "mimetype": "text/x-python",
   "name": "python",
   "nbconvert_exporter": "python",
   "pygments_lexer": "ipython3",
   "version": "3.8.6"
  }
 },
 "nbformat": 4,
 "nbformat_minor": 4
}
