{
 "cells": [
  {
   "cell_type": "code",
   "execution_count": 40,
   "metadata": {},
   "outputs": [],
   "source": [
    "# on load les librairies \n",
    "import numpy as np \n",
    "import pandas as pd \n",
    "import matplotlib.pyplot as plt \n",
    "import os\n",
    "import itertools\n",
    "import sys\n",
    "import munkres\n",
    "import seaborn as sn \n"
   ]
  },
  {
   "cell_type": "code",
   "execution_count": 2,
   "metadata": {},
   "outputs": [],
   "source": [
    "# on load les données (resultats des clusters obtenues grace à R (voir clustering.Rmd) et sauvegardé sous le nom \"res.csv\")\n",
    "list_R  = np.array(pd.read_csv(\"res.csv\")[\"x\"])"
   ]
  },
  {
   "cell_type": "code",
   "execution_count": 4,
   "metadata": {},
   "outputs": [],
   "source": [
    "# on construie le dictionnaire avec clefs=classes et values = le numéro des images appartenant à cette classe \n",
    "elements = os.listdir(\"../classes\")\n",
    "Mat = {}\n",
    "for element in elements :\n",
    "    new_mat = []\n",
    "    dirs = os.listdir(\"../classes/\"+element)\n",
    "    for dir in dirs :\n",
    "        if dir[-3 :] == \"png\" :\n",
    "            try :\n",
    "                new_mat.append(int(dir.replace(\".png\",\"\")))\n",
    "            except Exception as e :\n",
    "                pass \n",
    "    Mat[int(element.replace(\"class_\",\"\"))] = new_mat\n"
   ]
  },
  {
   "cell_type": "code",
   "execution_count": 21,
   "metadata": {
    "scrolled": true
   },
   "outputs": [
    {
     "name": "stdout",
     "output_type": "stream",
     "text": [
      "Test succesfull\n"
     ]
    }
   ],
   "source": [
    "# on teste qu'il n'y a pas de classe supérieur à 18 ou inférieur à 0 ni d'élément non entier à l'intérieur du dictionnaire\n",
    "keys = [element for element in Mat.keys()]\n",
    "values = [element for element in Mat.values()]\n",
    "try :\n",
    "    assert np.max(keys) < 19\n",
    "    assert np.min(keys) > 0\n",
    "    sum = 0\n",
    "    for key in keys :\n",
    "        assert all(isinstance(x, int) for x in values[key-1])== True\n",
    "        sum += len(values[key-1])\n",
    "    assert sum == 779\n",
    "except Exception as e :\n",
    "    print(\"Test failed\")\n",
    "    raise e \n",
    "print(\"Test succesfull\")"
   ]
  },
  {
   "cell_type": "markdown",
   "metadata": {},
   "source": [
    "On fait l'hypothèse (fausse) que la classe i correspond au clusters i "
   ]
  },
  {
   "cell_type": "code",
   "execution_count": 24,
   "metadata": {},
   "outputs": [
    {
     "name": "stdout",
     "output_type": "stream",
     "text": [
      "[[ 1.  1. 12.  0.  2.  6.  2. 12.  3.  0.  0.  0.  0.  4.  0.  0.  0.  0.]\n",
      " [ 0.  7.  0.  0.  6. 13.  1. 14.  5.  0.  0.  1.  0.  0.  0.  2.  2.  2.]\n",
      " [ 6.  0.  3. 13. 12.  6. 11.  0.  0.  1.  0.  0.  6.  0.  0.  0.  0.  0.]\n",
      " [ 0.  4.  1.  0.  0.  3.  0. 15. 10.  3.  0.  0.  0.  0.  1.  4.  3.  2.]\n",
      " [ 0.  0.  0.  0.  0.  0.  0.  1.  6.  2. 30. 17.  0.  0.  9.  2.  7.  1.]\n",
      " [ 0.  0.  0.  0.  0.  0.  0.  3. 15.  8.  0.  1.  0.  0.  2.  5. 21. 40.]\n",
      " [14.  0.  0.  1.  0.  0.  1.  0.  0.  0.  0.  0.  0.  7.  0.  0.  0.  0.]\n",
      " [10.  1.  4. 22. 14.  0. 10.  1.  0.  0.  0.  0.  4.  1.  0.  0.  0.  0.]\n",
      " [ 1.  0.  0.  0.  0.  0.  0.  9.  1.  0.  0.  0.  0.  0.  0.  0.  2.  0.]\n",
      " [ 4.  0.  0.  0.  5.  2. 13.  5.  2.  2.  3.  3.  0.  0.  1.  2. 10.  9.]\n",
      " [25.  0.  0.  0.  0.  0.  0.  0.  0. 16.  0.  0.  0.  3.  0.  0.  0.  0.]\n",
      " [ 7. 12. 88.  1. 25. 19.  0.  4.  0.  0.  0.  0.  0.  0.  0.  0.  0.  0.]\n",
      " [ 0.  0.  0.  0.  0.  0.  2.  0.  0.  0.  0.  0.  0.  0.  0.  0.  0.  0.]\n",
      " [ 1.  0.  0.  1.  1.  0.  0.  2.  0.  0.  0.  0.  0.  0.  0.  0.  0.  0.]\n",
      " [ 0.  0.  0.  0.  0.  0.  0.  0.  0.  0. 13.  0.  0.  0.  0.  0.  0.  0.]\n",
      " [ 0.  0.  1.  3.  0.  0.  0.  0.  0.  0.  0.  0.  0.  0.  0.  0.  0.  0.]\n",
      " [ 0.  0.  0.  0.  0.  0.  0.  0.  0.  0.  0.  1.  0.  0.  1.  0.  0.  0.]\n",
      " [ 0.  1.  8.  0.  8.  0.  0.  2.  0.  0.  0.  0.  0.  0.  0.  0.  0.  0.]]\n"
     ]
    }
   ],
   "source": [
    "#on crée la matrice des prédictions croisées \n",
    "nb_class = len(keys)\n",
    "matrix= np.zeros((nb_class,nb_class))\n",
    "for key, value in Mat.items():\n",
    "    for num in value :\n",
    "        matrix[key-1,list_R[num-1]-1] = matrix[key-1,list_R[num-1]-1] + 1\n",
    "print(matrix)"
   ]
  },
  {
   "cell_type": "markdown",
   "metadata": {},
   "source": [
    "On va identifier classe et clusters identique en essayant de maximiser les individues identiques ce qui revient ici à permuter les lignes et les colonnes afin de maximiser la trace de la matrice "
   ]
  },
  {
   "cell_type": "code",
   "execution_count": 27,
   "metadata": {},
   "outputs": [],
   "source": [
    "def permute_columns(a, inds):\n",
    "    p = np.zeros_like(a)\n",
    "    for i in inds:\n",
    "        p[i] = 1\n",
    "    return np.dot(a, p)"
   ]
  },
  {
   "cell_type": "code",
   "execution_count": 48,
   "metadata": {},
   "outputs": [],
   "source": [
    "def maximize_trace(a):\n",
    "    assert a.shape[0] == a.shape[1]\n",
    "    d = np.zeros_like(a)\n",
    "    n = a.shape[0]\n",
    "    b = np.eye(n, dtype=int)\n",
    "    for i, j in itertools.product(range(0,n), range(0,n)):\n",
    "        d[j, i] = np.sum((b[j, :]-a[i, :])**2)\n",
    "    m = munkres.Munkres()\n",
    "    inds = m.compute(d)\n",
    "    return permute_columns(a, inds)"
   ]
  },
  {
   "cell_type": "code",
   "execution_count": 49,
   "metadata": {},
   "outputs": [
    {
     "data": {
      "image/png": "[encoded data removed]",
      "text/plain": [
       "<Figure size 720x504 with 2 Axes>"
      ]
     },
     "metadata": {
      "needs_background": "light"
     },
     "output_type": "display_data"
    }
   ],
   "source": [
    "#on peut maintenant appliquer nos deux fonctions\n",
    "new_m = maximize_trace(matrix)\n",
    "plt.figure(figsize = (10,7))\n",
    "sn.heatmap(new_m, annot=True)\n",
    "plt.show()"
   ]
  },
  {
   "cell_type": "code",
   "execution_count": 54,
   "metadata": {},
   "outputs": [
    {
     "name": "stdout",
     "output_type": "stream",
     "text": [
      "Accuracy =  0.355584082156611\n"
     ]
    }
   ],
   "source": [
    "# on calcule l'accuracy obtenue \n",
    "print(\"Accuracy = \",np.sum([new_m[i,i] for i in range(new_m.shape[0])])/sum)"
   ]
  }
 ],
 "metadata": {
  "kernelspec": {
   "display_name": "Python 3",
   "language": "python",
   "name": "python3"
  },
  "language_info": {
   "codemirror_mode": {
    "name": "ipython",
    "version": 3
   },
   "file_extension": ".py",
   "mimetype": "text/x-python",
   "name": "python",
   "nbconvert_exporter": "python",
   "pygments_lexer": "ipython3",
   "version": "3.8.6"
  }
 },
 "nbformat": 4,
 "nbformat_minor": 4
}
